{
 "cells": [
  {
   "cell_type": "code",
   "execution_count": 0,
   "metadata": {
    "application/vnd.databricks.v1+cell": {
     "cellMetadata": {
      "byteLimit": 2048000,
      "rowLimit": 10000
     },
     "inputWidgets": {},
     "nuid": "b56389b0-344e-4172-9eab-844af9e4b04d",
     "showTitle": false,
     "tableResultSettingsMap": {},
     "title": ""
    }
   },
   "outputs": [],
   "source": [
    "# Caminho dos arquivos Delta na Camada Silver\n",
    "silver_path_reviews = \"/FileStore/tables/airbnb_rj/silver/reviews.delta\"\n",
    "silver_path_calendar = \"/FileStore/tables/airbnb_rj/silver/calendar.delta\"\n",
    "silver_path_listings = \"/FileStore/tables/airbnb_rj/silver/listings.delta\"\n",
    "\n",
    "# Carregar os dados da Camada Silver para DataFrames\n",
    "df_reviews_silver = spark.read.format(\"delta\").load(silver_path_reviews)\n",
    "df_calendar_silver = spark.read.format(\"delta\").load(silver_path_calendar)\n",
    "df_listings_silver = spark.read.format(\"delta\").load(silver_path_listings)"
   ]
  },
  {
   "cell_type": "code",
   "execution_count": 0,
   "metadata": {
    "application/vnd.databricks.v1+cell": {
     "cellMetadata": {
      "byteLimit": 2048000,
      "rowLimit": 10000
     },
     "inputWidgets": {},
     "nuid": "d43c61e0-149a-4148-853c-6de6581336de",
     "showTitle": false,
     "tableResultSettingsMap": {},
     "title": ""
    }
   },
   "outputs": [],
   "source": [
    "# Registrar DataFrames da camada Silver como tabelas temporárias\n",
    "df_reviews_silver.createOrReplaceTempView(\"reviews_silver\")\n",
    "df_calendar_silver.createOrReplaceTempView(\"calendar_silver\")\n",
    "df_listings_silver.createOrReplaceTempView(\"listings_silver\")"
   ]
  },
  {
   "cell_type": "code",
   "execution_count": 0,
   "metadata": {
    "application/vnd.databricks.v1+cell": {
     "cellMetadata": {
      "byteLimit": 2048000,
      "rowLimit": 10000
     },
     "inputWidgets": {},
     "nuid": "4e68256e-bc05-4445-9898-424febd9cf94",
     "showTitle": false,
     "tableResultSettingsMap": {},
     "title": ""
    }
   },
   "outputs": [
    {
     "output_type": "display_data",
     "data": {
      "text/html": [
       "<style scoped>\n",
       "  .table-result-container {\n",
       "    max-height: 300px;\n",
       "    overflow: auto;\n",
       "  }\n",
       "  table, th, td {\n",
       "    border: 1px solid black;\n",
       "    border-collapse: collapse;\n",
       "  }\n",
       "  th, td {\n",
       "    padding: 5px;\n",
       "  }\n",
       "  th {\n",
       "    text-align: left;\n",
       "  }\n",
       "</style><div class='table-result-container'><table class='table-result'><thead style='background-color: white'><tr><th>id</th><th>source</th><th>name</th><th>description</th><th>host_id</th><th>host_name</th><th>host_since</th><th>host_about</th><th>host_acceptance_rate</th><th>host_is_superhost</th><th>host_listings_count</th><th>host_total_listings_count</th><th>latitude</th><th>longitude</th><th>property_type</th><th>room_type</th><th>accommodates</th><th>bathrooms_text</th><th>bedrooms</th><th>amenities</th><th>price</th><th>minimum_nights</th><th>maximum_nights</th><th>availability_30</th><th>availability_60</th><th>availability_90</th><th>availability_365</th><th>number_of_reviews</th><th>review_scores_rating</th></tr></thead><tbody><tr><td>130234</td><td>city scrape</td><td>excellent studio apartment</td><td>My space is good for couples, individual adventures, business travelers and families (with kids).</td><td>641519</td><td>Osvaldo</td><td>2011-05-30</td><td>ESTE APARTAMENTO NÃO ESTÁ MAS DISPONÍVEL PARA LOCAÇÃO DESDE A PANDEMIA. NÃO ACEITO RESERVAS.</td><td>100%</td><td>false</td><td>1</td><td>1</td><td>-22.97575</td><td>-43.18877</td><td>Entire rental unit</td><td>Entire home/apt</td><td>1</td><td>0 baths</td><td>0</td><td>\"[\"\"Host greets you\"\"]\"</td><td>180.0</td><td>3</td><td>720</td><td>0</td><td>0</td><td>0</td><td>0</td><td>1</td><td>5.0</td></tr><tr><td>589234</td><td>city scrape</td><td>ipanema 22 with queen bed internet</td><td>null</td><td>4307081</td><td>Nereu A</td><td>2012-12-02</td><td>30 anos de experiencia na area de turismo, idiomas ingles, espanhol e portugues</td><td>9%</td><td>true</td><td>56</td><td>86</td><td>-22.98322</td><td>-43.20498</td><td>Private room in rental unit</td><td>Private room</td><td>1</td><td>1 bath</td><td>1</td><td>[]</td><td>552.0</td><td>1</td><td>1125</td><td>30</td><td>60</td><td>90</td><td>365</td><td>2</td><td>5.0</td></tr><tr><td>669012</td><td>city scrape</td><td>COPA 53 close to the beach, studio</td><td>null</td><td>4307081</td><td>Nereu A</td><td>2012-12-02</td><td>30 anos de experiencia na area de turismo, idiomas ingles, espanhol e portugues</td><td>9%</td><td>true</td><td>56</td><td>86</td><td>-22.97436</td><td>-43.18951</td><td>Entire rental unit</td><td>Entire home/apt</td><td>2</td><td>1 bath</td><td>1</td><td>[]</td><td>442.0</td><td>3</td><td>1125</td><td>30</td><td>60</td><td>90</td><td>365</td><td>0</td><td>null</td></tr><tr><td>676983</td><td>city scrape</td><td>Penthouse ipanema</td><td>null</td><td>4307081</td><td>Nereu A</td><td>2012-12-02</td><td>30 anos de experiencia na area de turismo, idiomas ingles, espanhol e portugues</td><td>9%</td><td>true</td><td>56</td><td>86</td><td>-22.98399</td><td>-43.20804</td><td>Entire rental unit</td><td>Entire home/apt</td><td>3</td><td>null</td><td>1</td><td>[]</td><td>387.0</td><td>1</td><td>1125</td><td>30</td><td>60</td><td>86</td><td>354</td><td>12</td><td>4.75</td></tr><tr><td>896752</td><td>city scrape</td><td>bulhoes 204 near ipanema, metro</td><td>null</td><td>4307081</td><td>Nereu A</td><td>2012-12-02</td><td>30 anos de experiencia na area de turismo, idiomas ingles, espanhol e portugues</td><td>9%</td><td>true</td><td>56</td><td>86</td><td>-22.9836</td><td>-43.1923</td><td>Entire rental unit</td><td>Entire home/apt</td><td>2</td><td>1 bath</td><td>1</td><td>\"[\"\"TV with standard cable\"\"]\"</td><td>773.0</td><td>5</td><td>1125</td><td>30</td><td>60</td><td>90</td><td>365</td><td>0</td><td>null</td></tr><tr><td>1012156</td><td>city scrape</td><td>suite santa clara</td><td>null</td><td>4307081</td><td>Nereu A</td><td>2012-12-02</td><td>30 anos de experiencia na area de turismo, idiomas ingles, espanhol e portugues</td><td>9%</td><td>true</td><td>56</td><td>86</td><td>-22.96969</td><td>-43.18847</td><td>Private room in hostel</td><td>Private room</td><td>2</td><td>null</td><td>1</td><td>[]</td><td>442.0</td><td>1</td><td>1125</td><td>30</td><td>60</td><td>90</td><td>365</td><td>0</td><td>null</td></tr><tr><td>2330025</td><td>city scrape</td><td>wonderful view in Leblon</td><td>One-bedroom apartment, comfortable with a wonderful view to the sea. Fully equipped for four, possibly five, the best of Leblon. <br />Air conditioning in rooms, cable TV and wi fi. Close to Shopping and to sophisticated and trendy bars and restaurants. </td><td>8479954</td><td>Naira Beatriz</td><td>2013-08-27</td><td>null</td><td>9%</td><td>false</td><td>4</td><td>10</td><td>-22.98425</td><td>-43.21614</td><td>Entire rental unit</td><td>Entire home/apt</td><td>4</td><td>1 bath</td><td>1</td><td>[]</td><td>414.0</td><td>1</td><td>1125</td><td>30</td><td>60</td><td>88</td><td>363</td><td>0</td><td>null</td></tr><tr><td>2604279</td><td>city scrape</td><td>Alugo apto para copa / rent a flat</td><td>duplex living room, toilet, kitchen, 2 suites , sea view, 2 balconies, leisure area, swimming pool , sauna . restaurant, shopping mall next door. close to the best beaches of Rio de Janeiro surf and family  Prainha, direct bus to the maracanã . Housekeeper.</td><td>13338035</td><td>Cynthia</td><td>2014-03-20</td><td>null</td><td>N/A</td><td>false</td><td>1</td><td>2</td><td>-23.02245</td><td>-43.48829</td><td>Entire rental unit</td><td>Entire home/apt</td><td>6</td><td>3.5 baths</td><td>2</td><td>[]</td><td>800.0</td><td>7</td><td>30</td><td>30</td><td>60</td><td>90</td><td>365</td><td>0</td><td>null</td></tr><tr><td>2825740</td><td>city scrape</td><td>Apto para até 5 pessoas no Maracanã</td><td>Excellent 2 qts with complete facilities. Quiet building and very well located. Nearby metro, bus stop from all parts of RJ, vast commerce in the surroundings, restaurants, next to Maracanã. Furnished apartment.</td><td>13044752</td><td>Guilherme</td><td>2014-03-12</td><td>null</td><td>N/A</td><td>false</td><td>1</td><td>2</td><td>-22.91296</td><td>-43.20159</td><td>Entire rental unit</td><td>Entire home/apt</td><td>5</td><td>2 baths</td><td>2</td><td>[]</td><td>300.0</td><td>10</td><td>1125</td><td>30</td><td>60</td><td>90</td><td>365</td><td>0</td><td>null</td></tr><tr><td>2830938</td><td>city scrape</td><td>APT PARA A COPA DO MUNDO - RJ</td><td>APT with 2 rooms, 1 bathroom, 1 kitchen , nice place, beautiful view facing to forest, parking for a car, 40 min to Maracanã, next to the Barra´s beach <br /><br />Services - Amenities<br /><br />delivery for all  ( super market - taxi - drugstore - food - loundry )</td><td>2454477</td><td>Joselia</td><td>2012-05-24</td><td>Amigavel, mistress!</td><td>N/A</td><td>false</td><td>1</td><td>2</td><td>-22.97695</td><td>-43.32794</td><td>Entire rental unit</td><td>Entire home/apt</td><td>4</td><td>1 bath</td><td>2</td><td>[]</td><td>829.0</td><td>7</td><td>90</td><td>30</td><td>60</td><td>90</td><td>365</td><td>0</td><td>null</td></tr><tr><td>3027794</td><td>city scrape</td><td>Apartamento charmoso no Maracanã</td><td>Its a big, cozy appartment, quiet and safe neighborhood. Also some restaurants around. <br />Its really close to the metro and to maracanã stadium, about 10min walking. <br />Tips and advices of how to be carioca (brazilians own way) are our courtesy for you</td><td>14242270</td><td>Gus</td><td>2014-04-13</td><td>Love to travel, cook and meet people from different countries. Graduated in law and sport addicted.</td><td>N/A</td><td>false</td><td>1</td><td>2</td><td>-22.90943</td><td>-43.2427</td><td>Entire condo</td><td>Entire home/apt</td><td>8</td><td>2 baths</td><td>4</td><td>[]</td><td>354.0</td><td>10</td><td>180</td><td>29</td><td>59</td><td>89</td><td>364</td><td>0</td><td>null</td></tr><tr><td>6226336</td><td>city scrape</td><td>Quarto em Copacabana pra Morar!</td><td>null</td><td>10364397</td><td>Auciomar</td><td>2013-12-01</td><td>null</td><td>N/A</td><td>false</td><td>1</td><td>1</td><td>-22.90787</td><td>-43.17318</td><td>Private room in home</td><td>Private room</td><td>1</td><td>1 bath</td><td>1</td><td>\"[\"\"Lock on bedroom door\"\"]\"</td><td>376.0</td><td>15</td><td>365</td><td>24</td><td>54</td><td>84</td><td>263</td><td>0</td><td>null</td></tr><tr><td>9332721</td><td>city scrape</td><td>condo joaquim 510</td><td>null</td><td>4307081</td><td>Nereu A</td><td>2012-12-02</td><td>30 anos de experiencia na area de turismo, idiomas ingles, espanhol e portugues</td><td>9%</td><td>true</td><td>56</td><td>86</td><td>-22.9876</td><td>-43.19556</td><td>Entire rental unit</td><td>Entire home/apt</td><td>6</td><td>1 bath</td><td>1</td><td>[]</td><td>939.0</td><td>1</td><td>1125</td><td>30</td><td>60</td><td>90</td><td>365</td><td>6</td><td>4.83</td></tr><tr><td>10097705</td><td>city scrape</td><td>condo antopar</td><td>cool...wifi, cable, 2 double beds<br />near metro station<br />low season rate</td><td>4307081</td><td>Nereu A</td><td>2012-12-02</td><td>30 anos de experiencia na area de turismo, idiomas ingles, espanhol e portugues</td><td>9%</td><td>true</td><td>56</td><td>86</td><td>-22.98444</td><td>-43.19493</td><td>Entire rental unit</td><td>Entire home/apt</td><td>4</td><td>1 bath</td><td>2</td><td>[]</td><td>718.0</td><td>1</td><td>1125</td><td>30</td><td>60</td><td>90</td><td>365</td><td>3</td><td>4.33</td></tr><tr><td>11478823</td><td>city scrape</td><td>Casa aconchegante para olimpíadas</td><td>House with 2 bedrooms, 2 bathrooms, kitchen and service area and 2 balconies, close to Av Brazil and Olympic park of Deodoro, with the possibility of renting a car, structure to accommodate up to 8 people.  10 minutes from Deodoro and 30 minutes from Barra</td><td>60407393</td><td>Thiago</td><td>2016-02-25</td><td>null</td><td>N/A</td><td>false</td><td>1</td><td>1</td><td>-22.87152</td><td>-43.51926</td><td>Entire home</td><td>Entire home/apt</td><td>6</td><td>2 baths</td><td>2</td><td>[]</td><td>600.0</td><td>1</td><td>1125</td><td>30</td><td>60</td><td>90</td><td>365</td><td>0</td><td>null</td></tr></tbody></table></div>"
      ]
     },
     "metadata": {
      "application/vnd.databricks.v1+output": {
       "addedWidgets": {},
       "aggData": [],
       "aggError": "",
       "aggOverflow": false,
       "aggSchema": [],
       "aggSeriesLimitReached": false,
       "aggType": "",
       "arguments": {},
       "columnCustomDisplayInfos": {},
       "data": [
        [
         130234,
         "city scrape",
         "excellent studio apartment",
         "My space is good for couples, individual adventures, business travelers and families (with kids).",
         "641519",
         "Osvaldo",
         "2011-05-30",
         "ESTE APARTAMENTO NÃO ESTÁ MAS DISPONÍVEL PARA LOCAÇÃO DESDE A PANDEMIA. NÃO ACEITO RESERVAS.",
         "100%",
         false,
         1,
         1,
         -22.97575,
         -43.18877,
         "Entire rental unit",
         "Entire home/apt",
         1,
         "0 baths",
         0,
         "\"[\"\"Host greets you\"\"]\"",
         180.0,
         3,
         720,
         0,
         0,
         0,
         0,
         1,
         "5.0"
        ],
        [
         589234,
         "city scrape",
         "ipanema 22 with queen bed internet",
         null,
         "4307081",
         "Nereu A",
         "2012-12-02",
         "30 anos de experiencia na area de turismo, idiomas ingles, espanhol e portugues",
         "9%",
         true,
         56,
         86,
         -22.98322,
         -43.20498,
         "Private room in rental unit",
         "Private room",
         1,
         "1 bath",
         1,
         "[]",
         552.0,
         1,
         1125,
         30,
         60,
         90,
         365,
         2,
         "5.0"
        ],
        [
         669012,
         "city scrape",
         "COPA 53 close to the beach, studio",
         null,
         "4307081",
         "Nereu A",
         "2012-12-02",
         "30 anos de experiencia na area de turismo, idiomas ingles, espanhol e portugues",
         "9%",
         true,
         56,
         86,
         -22.97436,
         -43.18951,
         "Entire rental unit",
         "Entire home/apt",
         2,
         "1 bath",
         1,
         "[]",
         442.0,
         3,
         1125,
         30,
         60,
         90,
         365,
         0,
         null
        ],
        [
         676983,
         "city scrape",
         "Penthouse ipanema",
         null,
         "4307081",
         "Nereu A",
         "2012-12-02",
         "30 anos de experiencia na area de turismo, idiomas ingles, espanhol e portugues",
         "9%",
         true,
         56,
         86,
         -22.98399,
         -43.20804,
         "Entire rental unit",
         "Entire home/apt",
         3,
         null,
         1,
         "[]",
         387.0,
         1,
         1125,
         30,
         60,
         86,
         354,
         12,
         "4.75"
        ],
        [
         896752,
         "city scrape",
         "bulhoes 204 near ipanema, metro",
         null,
         "4307081",
         "Nereu A",
         "2012-12-02",
         "30 anos de experiencia na area de turismo, idiomas ingles, espanhol e portugues",
         "9%",
         true,
         56,
         86,
         -22.9836,
         -43.1923,
         "Entire rental unit",
         "Entire home/apt",
         2,
         "1 bath",
         1,
         "\"[\"\"TV with standard cable\"\"]\"",
         773.0,
         5,
         1125,
         30,
         60,
         90,
         365,
         0,
         null
        ],
        [
         1012156,
         "city scrape",
         "suite santa clara",
         null,
         "4307081",
         "Nereu A",
         "2012-12-02",
         "30 anos de experiencia na area de turismo, idiomas ingles, espanhol e portugues",
         "9%",
         true,
         56,
         86,
         -22.96969,
         -43.18847,
         "Private room in hostel",
         "Private room",
         2,
         null,
         1,
         "[]",
         442.0,
         1,
         1125,
         30,
         60,
         90,
         365,
         0,
         null
        ],
        [
         2330025,
         "city scrape",
         "wonderful view in Leblon",
         "One-bedroom apartment, comfortable with a wonderful view to the sea. Fully equipped for four, possibly five, the best of Leblon. <br />Air conditioning in rooms, cable TV and wi fi. Close to Shopping and to sophisticated and trendy bars and restaurants. ",
         "8479954",
         "Naira Beatriz",
         "2013-08-27",
         null,
         "9%",
         false,
         4,
         10,
         -22.98425,
         -43.21614,
         "Entire rental unit",
         "Entire home/apt",
         4,
         "1 bath",
         1,
         "[]",
         414.0,
         1,
         1125,
         30,
         60,
         88,
         363,
         0,
         null
        ],
        [
         2604279,
         "city scrape",
         "Alugo apto para copa / rent a flat",
         "duplex living room, toilet, kitchen, 2 suites , sea view, 2 balconies, leisure area, swimming pool , sauna . restaurant, shopping mall next door. close to the best beaches of Rio de Janeiro surf and family  Prainha, direct bus to the maracanã . Housekeeper.",
         "13338035",
         "Cynthia",
         "2014-03-20",
         null,
         "N/A",
         false,
         1,
         2,
         -23.02245,
         -43.48829,
         "Entire rental unit",
         "Entire home/apt",
         6,
         "3.5 baths",
         2,
         "[]",
         800.0,
         7,
         30,
         30,
         60,
         90,
         365,
         0,
         null
        ],
        [
         2825740,
         "city scrape",
         "Apto para até 5 pessoas no Maracanã",
         "Excellent 2 qts with complete facilities. Quiet building and very well located. Nearby metro, bus stop from all parts of RJ, vast commerce in the surroundings, restaurants, next to Maracanã. Furnished apartment.",
         "13044752",
         "Guilherme",
         "2014-03-12",
         null,
         "N/A",
         false,
         1,
         2,
         -22.91296,
         -43.20159,
         "Entire rental unit",
         "Entire home/apt",
         5,
         "2 baths",
         2,
         "[]",
         300.0,
         10,
         1125,
         30,
         60,
         90,
         365,
         0,
         null
        ],
        [
         2830938,
         "city scrape",
         "APT PARA A COPA DO MUNDO - RJ",
         "APT with 2 rooms, 1 bathroom, 1 kitchen , nice place, beautiful view facing to forest, parking for a car, 40 min to Maracanã, next to the Barra´s beach <br /><br />Services - Amenities<br /><br />delivery for all  ( super market - taxi - drugstore - food - loundry )",
         "2454477",
         "Joselia",
         "2012-05-24",
         "Amigavel, mistress!",
         "N/A",
         false,
         1,
         2,
         -22.97695,
         -43.32794,
         "Entire rental unit",
         "Entire home/apt",
         4,
         "1 bath",
         2,
         "[]",
         829.0,
         7,
         90,
         30,
         60,
         90,
         365,
         0,
         null
        ],
        [
         3027794,
         "city scrape",
         "Apartamento charmoso no Maracanã",
         "Its a big, cozy appartment, quiet and safe neighborhood. Also some restaurants around. <br />Its really close to the metro and to maracanã stadium, about 10min walking. <br />Tips and advices of how to be carioca (brazilians own way) are our courtesy for you",
         "14242270",
         "Gus",
         "2014-04-13",
         "Love to travel, cook and meet people from different countries. Graduated in law and sport addicted.",
         "N/A",
         false,
         1,
         2,
         -22.90943,
         -43.2427,
         "Entire condo",
         "Entire home/apt",
         8,
         "2 baths",
         4,
         "[]",
         354.0,
         10,
         180,
         29,
         59,
         89,
         364,
         0,
         null
        ],
        [
         6226336,
         "city scrape",
         "Quarto em Copacabana pra Morar!",
         null,
         "10364397",
         "Auciomar",
         "2013-12-01",
         null,
         "N/A",
         false,
         1,
         1,
         -22.90787,
         -43.17318,
         "Private room in home",
         "Private room",
         1,
         "1 bath",
         1,
         "\"[\"\"Lock on bedroom door\"\"]\"",
         376.0,
         15,
         365,
         24,
         54,
         84,
         263,
         0,
         null
        ],
        [
         9332721,
         "city scrape",
         "condo joaquim 510",
         null,
         "4307081",
         "Nereu A",
         "2012-12-02",
         "30 anos de experiencia na area de turismo, idiomas ingles, espanhol e portugues",
         "9%",
         true,
         56,
         86,
         -22.9876,
         -43.19556,
         "Entire rental unit",
         "Entire home/apt",
         6,
         "1 bath",
         1,
         "[]",
         939.0,
         1,
         1125,
         30,
         60,
         90,
         365,
         6,
         "4.83"
        ],
        [
         10097705,
         "city scrape",
         "condo antopar",
         "cool...wifi, cable, 2 double beds<br />near metro station<br />low season rate",
         "4307081",
         "Nereu A",
         "2012-12-02",
         "30 anos de experiencia na area de turismo, idiomas ingles, espanhol e portugues",
         "9%",
         true,
         56,
         86,
         -22.98444,
         -43.19493,
         "Entire rental unit",
         "Entire home/apt",
         4,
         "1 bath",
         2,
         "[]",
         718.0,
         1,
         1125,
         30,
         60,
         90,
         365,
         3,
         "4.33"
        ],
        [
         11478823,
         "city scrape",
         "Casa aconchegante para olimpíadas",
         "House with 2 bedrooms, 2 bathrooms, kitchen and service area and 2 balconies, close to Av Brazil and Olympic park of Deodoro, with the possibility of renting a car, structure to accommodate up to 8 people.  10 minutes from Deodoro and 30 minutes from Barra",
         "60407393",
         "Thiago",
         "2016-02-25",
         null,
         "N/A",
         false,
         1,
         1,
         -22.87152,
         -43.51926,
         "Entire home",
         "Entire home/apt",
         6,
         "2 baths",
         2,
         "[]",
         600.0,
         1,
         1125,
         30,
         60,
         90,
         365,
         0,
         null
        ]
       ],
       "datasetInfos": [],
       "dbfsResultPath": null,
       "isJsonSchema": true,
       "metadata": {},
       "overflow": false,
       "plotOptions": {
        "customPlotOptions": {},
        "displayType": "table",
        "pivotAggregation": null,
        "pivotColumns": null,
        "xColumns": null,
        "yColumns": null
       },
       "removedWidgets": [],
       "schema": [
        {
         "metadata": "{}",
         "name": "id",
         "type": "\"long\""
        },
        {
         "metadata": "{}",
         "name": "source",
         "type": "\"string\""
        },
        {
         "metadata": "{}",
         "name": "name",
         "type": "\"string\""
        },
        {
         "metadata": "{}",
         "name": "description",
         "type": "\"string\""
        },
        {
         "metadata": "{}",
         "name": "host_id",
         "type": "\"string\""
        },
        {
         "metadata": "{}",
         "name": "host_name",
         "type": "\"string\""
        },
        {
         "metadata": "{}",
         "name": "host_since",
         "type": "\"date\""
        },
        {
         "metadata": "{}",
         "name": "host_about",
         "type": "\"string\""
        },
        {
         "metadata": "{}",
         "name": "host_acceptance_rate",
         "type": "\"string\""
        },
        {
         "metadata": "{}",
         "name": "host_is_superhost",
         "type": "\"boolean\""
        },
        {
         "metadata": "{}",
         "name": "host_listings_count",
         "type": "\"integer\""
        },
        {
         "metadata": "{}",
         "name": "host_total_listings_count",
         "type": "\"integer\""
        },
        {
         "metadata": "{}",
         "name": "latitude",
         "type": "\"double\""
        },
        {
         "metadata": "{}",
         "name": "longitude",
         "type": "\"double\""
        },
        {
         "metadata": "{}",
         "name": "property_type",
         "type": "\"string\""
        },
        {
         "metadata": "{}",
         "name": "room_type",
         "type": "\"string\""
        },
        {
         "metadata": "{}",
         "name": "accommodates",
         "type": "\"integer\""
        },
        {
         "metadata": "{}",
         "name": "bathrooms_text",
         "type": "\"string\""
        },
        {
         "metadata": "{}",
         "name": "bedrooms",
         "type": "\"integer\""
        },
        {
         "metadata": "{}",
         "name": "amenities",
         "type": "\"string\""
        },
        {
         "metadata": "{}",
         "name": "price",
         "type": "\"float\""
        },
        {
         "metadata": "{}",
         "name": "minimum_nights",
         "type": "\"integer\""
        },
        {
         "metadata": "{}",
         "name": "maximum_nights",
         "type": "\"integer\""
        },
        {
         "metadata": "{}",
         "name": "availability_30",
         "type": "\"integer\""
        },
        {
         "metadata": "{}",
         "name": "availability_60",
         "type": "\"integer\""
        },
        {
         "metadata": "{}",
         "name": "availability_90",
         "type": "\"integer\""
        },
        {
         "metadata": "{}",
         "name": "availability_365",
         "type": "\"integer\""
        },
        {
         "metadata": "{}",
         "name": "number_of_reviews",
         "type": "\"integer\""
        },
        {
         "metadata": "{}",
         "name": "review_scores_rating",
         "type": "\"string\""
        }
       ],
       "type": "table"
      }
     },
     "output_type": "display_data"
    }
   ],
   "source": [
    "df_listings_silver.limit(15).display()"
   ]
  },
  {
   "cell_type": "code",
   "execution_count": 0,
   "metadata": {
    "application/vnd.databricks.v1+cell": {
     "cellMetadata": {
      "byteLimit": 2048000,
      "rowLimit": 10000
     },
     "inputWidgets": {},
     "nuid": "d3d76b7f-fb33-4918-9027-bafa9ce9d79d",
     "showTitle": false,
     "tableResultSettingsMap": {},
     "title": ""
    }
   },
   "outputs": [
    {
     "output_type": "display_data",
     "data": {
      "text/html": [
       "<style scoped>\n",
       "  .table-result-container {\n",
       "    max-height: 300px;\n",
       "    overflow: auto;\n",
       "  }\n",
       "  table, th, td {\n",
       "    border: 1px solid black;\n",
       "    border-collapse: collapse;\n",
       "  }\n",
       "  th, td {\n",
       "    padding: 5px;\n",
       "  }\n",
       "  th {\n",
       "    text-align: left;\n",
       "  }\n",
       "</style><div class='table-result-container'><table class='table-result'><thead style='background-color: white'><tr><th>listing_id</th><th>date</th><th>available</th><th>price</th><th>adjusted_price</th><th>minimum_nights</th><th>maximum_nights</th></tr></thead><tbody><tr><td>297908</td><td>2024-06-27</td><td>false</td><td>250.0</td><td>null</td><td>2</td><td>1125</td></tr><tr><td>17878</td><td>2024-06-28</td><td>false</td><td>350.0</td><td>null</td><td>5</td><td>28</td></tr><tr><td>17878</td><td>2024-06-29</td><td>false</td><td>350.0</td><td>null</td><td>5</td><td>28</td></tr><tr><td>17878</td><td>2024-06-30</td><td>false</td><td>350.0</td><td>null</td><td>5</td><td>28</td></tr><tr><td>17878</td><td>2024-07-01</td><td>false</td><td>350.0</td><td>null</td><td>5</td><td>28</td></tr><tr><td>17878</td><td>2024-07-02</td><td>false</td><td>350.0</td><td>null</td><td>5</td><td>28</td></tr><tr><td>17878</td><td>2024-07-03</td><td>false</td><td>350.0</td><td>null</td><td>5</td><td>28</td></tr><tr><td>17878</td><td>2024-07-04</td><td>false</td><td>350.0</td><td>null</td><td>5</td><td>28</td></tr><tr><td>17878</td><td>2024-07-05</td><td>false</td><td>350.0</td><td>null</td><td>5</td><td>28</td></tr><tr><td>17878</td><td>2024-07-06</td><td>false</td><td>350.0</td><td>null</td><td>5</td><td>28</td></tr><tr><td>17878</td><td>2024-07-07</td><td>false</td><td>350.0</td><td>null</td><td>5</td><td>28</td></tr><tr><td>17878</td><td>2024-07-08</td><td>false</td><td>350.0</td><td>null</td><td>5</td><td>28</td></tr><tr><td>17878</td><td>2024-07-09</td><td>false</td><td>350.0</td><td>null</td><td>5</td><td>28</td></tr><tr><td>17878</td><td>2024-07-10</td><td>true</td><td>350.0</td><td>null</td><td>5</td><td>28</td></tr><tr><td>17878</td><td>2024-07-11</td><td>true</td><td>350.0</td><td>null</td><td>5</td><td>28</td></tr></tbody></table></div>"
      ]
     },
     "metadata": {
      "application/vnd.databricks.v1+output": {
       "addedWidgets": {},
       "aggData": [],
       "aggError": "",
       "aggOverflow": false,
       "aggSchema": [],
       "aggSeriesLimitReached": false,
       "aggType": "",
       "arguments": {},
       "columnCustomDisplayInfos": {},
       "data": [
        [
         297908,
         "2024-06-27",
         false,
         250.0,
         null,
         2,
         1125
        ],
        [
         17878,
         "2024-06-28",
         false,
         350.0,
         null,
         5,
         28
        ],
        [
         17878,
         "2024-06-29",
         false,
         350.0,
         null,
         5,
         28
        ],
        [
         17878,
         "2024-06-30",
         false,
         350.0,
         null,
         5,
         28
        ],
        [
         17878,
         "2024-07-01",
         false,
         350.0,
         null,
         5,
         28
        ],
        [
         17878,
         "2024-07-02",
         false,
         350.0,
         null,
         5,
         28
        ],
        [
         17878,
         "2024-07-03",
         false,
         350.0,
         null,
         5,
         28
        ],
        [
         17878,
         "2024-07-04",
         false,
         350.0,
         null,
         5,
         28
        ],
        [
         17878,
         "2024-07-05",
         false,
         350.0,
         null,
         5,
         28
        ],
        [
         17878,
         "2024-07-06",
         false,
         350.0,
         null,
         5,
         28
        ],
        [
         17878,
         "2024-07-07",
         false,
         350.0,
         null,
         5,
         28
        ],
        [
         17878,
         "2024-07-08",
         false,
         350.0,
         null,
         5,
         28
        ],
        [
         17878,
         "2024-07-09",
         false,
         350.0,
         null,
         5,
         28
        ],
        [
         17878,
         "2024-07-10",
         true,
         350.0,
         null,
         5,
         28
        ],
        [
         17878,
         "2024-07-11",
         true,
         350.0,
         null,
         5,
         28
        ]
       ],
       "datasetInfos": [],
       "dbfsResultPath": null,
       "isJsonSchema": true,
       "metadata": {},
       "overflow": false,
       "plotOptions": {
        "customPlotOptions": {},
        "displayType": "table",
        "pivotAggregation": null,
        "pivotColumns": null,
        "xColumns": null,
        "yColumns": null
       },
       "removedWidgets": [],
       "schema": [
        {
         "metadata": "{}",
         "name": "listing_id",
         "type": "\"long\""
        },
        {
         "metadata": "{\"__detected_date_formats\":\"yyyy-M-d\"}",
         "name": "date",
         "type": "\"date\""
        },
        {
         "metadata": "{}",
         "name": "available",
         "type": "\"boolean\""
        },
        {
         "metadata": "{}",
         "name": "price",
         "type": "\"float\""
        },
        {
         "metadata": "{}",
         "name": "adjusted_price",
         "type": "\"string\""
        },
        {
         "metadata": "{}",
         "name": "minimum_nights",
         "type": "\"integer\""
        },
        {
         "metadata": "{}",
         "name": "maximum_nights",
         "type": "\"integer\""
        }
       ],
       "type": "table"
      }
     },
     "output_type": "display_data"
    }
   ],
   "source": [
    "df_calendar_silver.limit(15).display()\n"
   ]
  },
  {
   "cell_type": "code",
   "execution_count": 0,
   "metadata": {
    "application/vnd.databricks.v1+cell": {
     "cellMetadata": {
      "byteLimit": 2048000,
      "rowLimit": 10000
     },
     "inputWidgets": {},
     "nuid": "b4c5ad8b-6c72-4602-a11e-82a3467f4582",
     "showTitle": false,
     "tableResultSettingsMap": {},
     "title": ""
    }
   },
   "outputs": [
    {
     "output_type": "display_data",
     "data": {
      "text/html": [
       "<style scoped>\n",
       "  .table-result-container {\n",
       "    max-height: 300px;\n",
       "    overflow: auto;\n",
       "  }\n",
       "  table, th, td {\n",
       "    border: 1px solid black;\n",
       "    border-collapse: collapse;\n",
       "  }\n",
       "  th, td {\n",
       "    padding: 5px;\n",
       "  }\n",
       "  th {\n",
       "    text-align: left;\n",
       "  }\n",
       "</style><div class='table-result-container'><table class='table-result'><thead style='background-color: white'><tr><th>listing_id</th><th>id</th><th>date</th><th>reviewer_id</th><th>reviewer_name</th><th>comments</th></tr></thead><tbody><tr><td>17878</td><td>64852</td><td>2010-07-15</td><td>135370</td><td>Tia</td><td>This apartment is in a perfect location -- two blocks from the beach and two blocks from the Copacabana Palace (where anyone famous stays when they are in Rio), which means it´s a very safe neighborhood.  The pictures very accurately depict what the apartment is like, so you´ll have no surprises.  Max is very communicative and helpful.  The four of us that stayed here would highly recommend it.</td></tr><tr><td>17878</td><td>76744</td><td>2010-08-11</td><td>10206</td><td>Mimi</td><td>we had a really great experience staying in Max's apartment.  it was one block from copacabana beach with easy access to the local markets/shops.  Max was very helpful and went out of his way to send a list of suggestions on things to do.  I will refer friends to Max in the future if visiting Rio.  \n",
       "</td></tr><tr><td>17878</td><td>91074</td><td>2010-09-06</td><td>80253</td><td>Jan</td><td>Staying in Max appartment is like living in a cosy little French village and enyoing at te same time round the corner all the facilities that Rio has to offer (metro, bus, shops, restaurants, supermarkets, and of course Copa Cabana beach). Fantastic terrace, nicely decorated rooms, two spacious bedrooms, attentive doormen, and a host who really cares for his guests.  \n",
       "</td></tr><tr><td>17878</td><td>137528</td><td>2010-11-12</td><td>230449</td><td>Orene</td><td>In general very good and reasonable price.\n",
       "</td></tr><tr><td>17878</td><td>147594</td><td>2010-12-01</td><td>219338</td><td>David</td><td>The apt was nice and in a great location only a couple of blocks from the beach and shopping. Thanks for everything Max!</td></tr><tr><td>17878</td><td>152368</td><td>2010-12-12</td><td>266847</td><td>Armi</td><td>At Copacabana apartment is best the situation and BALCONY!\n",
       "</td></tr><tr><td>17878</td><td>155565</td><td>2010-12-19</td><td>243287</td><td>Jonathan</td><td>A great apartment in a great location. The close proximity to transportation, supermarkets and everyday needs was really helpful. Max was very helpful and accommodating. </td></tr><tr><td>17878</td><td>179219</td><td>2011-02-07</td><td>172558</td><td>Anna</td><td>Apartment is exactly as Max advertised. If we had any issues, he immediately solved them. In addition, the terrace was a welcome addition. However, the neighborhood is a bit dodgy. The neighbors would throw trash on the terrace which we had to toss out for them every day. Next time my friends and I will stay in Ipanema. </td></tr><tr><td>17878</td><td>186447</td><td>2011-02-22</td><td>353604</td><td>Remy</td><td>Great apartment, amazing price and location in a pedestrianised street with a great atmosphere and large bedrooms, living room and balcony. The only downside was the kitchen with two small electric hobs but we managed to get by and everything else more than made up for it. I would recommend this place to anyone!</td></tr><tr><td>220377</td><td>704349</td><td>2011-11-08</td><td>1271126</td><td>Brian</td><td>Staying at Taciana's was a GREAT experience! She is the perfect host for a stay in Rio. We stayed for a month and she was very helpful in every area. Her home is well located and is in a good neighborhood. The breakfast is also excellent. Thanks Taciana for making our stay in Rio a wonderful experience. Looking forward to visiting again. </td></tr><tr><td>220377</td><td>875049</td><td>2012-01-21</td><td>1578661</td><td>Amauri</td><td>Foi uma experiência formidável passar alguns dias hospedado com a Taciana, todos foram muito receptivos e camaradas, o apartamento é ótimo e a localização melhor ainda, nota 10 :)</td></tr><tr><td>220377</td><td>979376</td><td>2012-03-07</td><td>369312</td><td>Petr</td><td>\"Taciana is superb host. She is really nice and friendly, her apartment is really nice, very clean. She has cute dog (he is kind of lazy like Garfield cat). The room I stayed in has en-suite bathroom which makes your room like hotel room with all the privacy, but for marginal cost of hotel room in Rio de Janeiro. She serves huge breakfast with all possible options (ham, cheese, flakes, good orange juice, tea, coffee, milk, tropical fruits, etc.). Her place is in Zona Norte, about 10 minutes from Saens Pena metro station. You can have quite unique experience to get to know regular middle class brazilian lifestyle in Taciana's home and in  this neighbourhood  in general (and it is cheaper than Zona Sul and also much less \"\"artificial\"\").\"</td></tr><tr><td>220377</td><td>142096912</td><td>2017-04-06</td><td>8501984</td><td>Marilyn</td><td>Nossa experiência foi muito boa! O apartamento é seguro, limpo e tranquilo. Taciana nos ajudou com mapas e explicações, o que facilitou bastante na hora de nos aventurar pela cidade. Super indico!</td></tr><tr><td>220377</td><td>1122452741612760649</td><td>2024-03-28</td><td>74325704</td><td>Kayque</td><td>Taciana me fez sentir-se na minha própria casa. Que sorte eu tive de escolher este Airbnb no Rio de Janeiro! Além da recepção muito calorosa da anfitria, foi flexível com relação ao horário de chegada e saída. <br/>O apartamento é lindo, super limpo e bem decorado, exatamente como mostra no anúncio! Próximo a tudo que precisei, bem servido de restaurantes, academias, supermercados, academias, frutaria, etc. O bairro é bem tranquilo e acolhedor, com arredores bonito! <br/>Super recomendo, atendeu todas as expectativas! <br/>Custo x Benefício ótimo. E depois de dias fora de casa, o apto dela nos remeteu um pouco do nosso lar, onde meu filho se sentiu bem relaxado e a vontade. Pessoal recomendo, pois é um ambiente bem família.<br/>Priscila<br/>janeiro de</td></tr><tr><td>17878</td><td>191020</td><td>2011-03-01</td><td>122909</td><td>Cliff</td><td>Max was very organised and understanding to all our needs. He was very clear and honest with his apartment. The apartment was clean, safe and all the amenities was true. Very close to copacobana beach and local shops and metro station(2mins). Quiet at night when sleeping in a pretty safe neighbourhood. Strongly recommend Max's apartment and will stay here if I'm back in Rio again. Thanks Max!\n",
       "</td></tr></tbody></table></div>"
      ]
     },
     "metadata": {
      "application/vnd.databricks.v1+output": {
       "addedWidgets": {},
       "aggData": [],
       "aggError": "",
       "aggOverflow": false,
       "aggSchema": [],
       "aggSeriesLimitReached": false,
       "aggType": "",
       "arguments": {},
       "columnCustomDisplayInfos": {},
       "data": [
        [
         17878,
         64852,
         "2010-07-15",
         135370,
         "Tia",
         "This apartment is in a perfect location -- two blocks from the beach and two blocks from the Copacabana Palace (where anyone famous stays when they are in Rio), which means it´s a very safe neighborhood.  The pictures very accurately depict what the apartment is like, so you´ll have no surprises.  Max is very communicative and helpful.  The four of us that stayed here would highly recommend it."
        ],
        [
         17878,
         76744,
         "2010-08-11",
         10206,
         "Mimi",
         "we had a really great experience staying in Max's apartment.  it was one block from copacabana beach with easy access to the local markets/shops.  Max was very helpful and went out of his way to send a list of suggestions on things to do.  I will refer friends to Max in the future if visiting Rio.  \n"
        ],
        [
         17878,
         91074,
         "2010-09-06",
         80253,
         "Jan",
         "Staying in Max appartment is like living in a cosy little French village and enyoing at te same time round the corner all the facilities that Rio has to offer (metro, bus, shops, restaurants, supermarkets, and of course Copa Cabana beach). Fantastic terrace, nicely decorated rooms, two spacious bedrooms, attentive doormen, and a host who really cares for his guests.  \n"
        ],
        [
         17878,
         137528,
         "2010-11-12",
         230449,
         "Orene",
         "In general very good and reasonable price.\n"
        ],
        [
         17878,
         147594,
         "2010-12-01",
         219338,
         "David",
         "The apt was nice and in a great location only a couple of blocks from the beach and shopping. Thanks for everything Max!"
        ],
        [
         17878,
         152368,
         "2010-12-12",
         266847,
         "Armi",
         "At Copacabana apartment is best the situation and BALCONY!\n"
        ],
        [
         17878,
         155565,
         "2010-12-19",
         243287,
         "Jonathan",
         "A great apartment in a great location. The close proximity to transportation, supermarkets and everyday needs was really helpful. Max was very helpful and accommodating. "
        ],
        [
         17878,
         179219,
         "2011-02-07",
         172558,
         "Anna",
         "Apartment is exactly as Max advertised. If we had any issues, he immediately solved them. In addition, the terrace was a welcome addition. However, the neighborhood is a bit dodgy. The neighbors would throw trash on the terrace which we had to toss out for them every day. Next time my friends and I will stay in Ipanema. "
        ],
        [
         17878,
         186447,
         "2011-02-22",
         353604,
         "Remy",
         "Great apartment, amazing price and location in a pedestrianised street with a great atmosphere and large bedrooms, living room and balcony. The only downside was the kitchen with two small electric hobs but we managed to get by and everything else more than made up for it. I would recommend this place to anyone!"
        ],
        [
         220377,
         704349,
         "2011-11-08",
         1271126,
         "Brian",
         "Staying at Taciana's was a GREAT experience! She is the perfect host for a stay in Rio. We stayed for a month and she was very helpful in every area. Her home is well located and is in a good neighborhood. The breakfast is also excellent. Thanks Taciana for making our stay in Rio a wonderful experience. Looking forward to visiting again. "
        ],
        [
         220377,
         875049,
         "2012-01-21",
         1578661,
         "Amauri",
         "Foi uma experiência formidável passar alguns dias hospedado com a Taciana, todos foram muito receptivos e camaradas, o apartamento é ótimo e a localização melhor ainda, nota 10 :)"
        ],
        [
         220377,
         979376,
         "2012-03-07",
         369312,
         "Petr",
         "\"Taciana is superb host. She is really nice and friendly, her apartment is really nice, very clean. She has cute dog (he is kind of lazy like Garfield cat). The room I stayed in has en-suite bathroom which makes your room like hotel room with all the privacy, but for marginal cost of hotel room in Rio de Janeiro. She serves huge breakfast with all possible options (ham, cheese, flakes, good orange juice, tea, coffee, milk, tropical fruits, etc.). Her place is in Zona Norte, about 10 minutes from Saens Pena metro station. You can have quite unique experience to get to know regular middle class brazilian lifestyle in Taciana's home and in  this neighbourhood  in general (and it is cheaper than Zona Sul and also much less \"\"artificial\"\").\""
        ],
        [
         220377,
         142096912,
         "2017-04-06",
         8501984,
         "Marilyn",
         "Nossa experiência foi muito boa! O apartamento é seguro, limpo e tranquilo. Taciana nos ajudou com mapas e explicações, o que facilitou bastante na hora de nos aventurar pela cidade. Super indico!"
        ],
        [
         220377,
         1122452741612760649,
         "2024-03-28",
         74325704,
         "Kayque",
         "Taciana me fez sentir-se na minha própria casa. Que sorte eu tive de escolher este Airbnb no Rio de Janeiro! Além da recepção muito calorosa da anfitria, foi flexível com relação ao horário de chegada e saída. <br/>O apartamento é lindo, super limpo e bem decorado, exatamente como mostra no anúncio! Próximo a tudo que precisei, bem servido de restaurantes, academias, supermercados, academias, frutaria, etc. O bairro é bem tranquilo e acolhedor, com arredores bonito! <br/>Super recomendo, atendeu todas as expectativas! <br/>Custo x Benefício ótimo. E depois de dias fora de casa, o apto dela nos remeteu um pouco do nosso lar, onde meu filho se sentiu bem relaxado e a vontade. Pessoal recomendo, pois é um ambiente bem família.<br/>Priscila<br/>janeiro de"
        ],
        [
         17878,
         191020,
         "2011-03-01",
         122909,
         "Cliff",
         "Max was very organised and understanding to all our needs. He was very clear and honest with his apartment. The apartment was clean, safe and all the amenities was true. Very close to copacobana beach and local shops and metro station(2mins). Quiet at night when sleeping in a pretty safe neighbourhood. Strongly recommend Max's apartment and will stay here if I'm back in Rio again. Thanks Max!\n"
        ]
       ],
       "datasetInfos": [],
       "dbfsResultPath": null,
       "isJsonSchema": true,
       "metadata": {},
       "overflow": false,
       "plotOptions": {
        "customPlotOptions": {},
        "displayType": "table",
        "pivotAggregation": null,
        "pivotColumns": null,
        "xColumns": null,
        "yColumns": null
       },
       "removedWidgets": [],
       "schema": [
        {
         "metadata": "{}",
         "name": "listing_id",
         "type": "\"long\""
        },
        {
         "metadata": "{}",
         "name": "id",
         "type": "\"long\""
        },
        {
         "metadata": "{}",
         "name": "date",
         "type": "\"date\""
        },
        {
         "metadata": "{}",
         "name": "reviewer_id",
         "type": "\"integer\""
        },
        {
         "metadata": "{}",
         "name": "reviewer_name",
         "type": "\"string\""
        },
        {
         "metadata": "{}",
         "name": "comments",
         "type": "\"string\""
        }
       ],
       "type": "table"
      }
     },
     "output_type": "display_data"
    }
   ],
   "source": [
    "df_reviews_silver.limit(15).display()"
   ]
  },
  {
   "cell_type": "code",
   "execution_count": 0,
   "metadata": {
    "application/vnd.databricks.v1+cell": {
     "cellMetadata": {
      "byteLimit": 2048000,
      "rowLimit": 10000
     },
     "inputWidgets": {},
     "nuid": "81f53827-6792-4300-be8f-36c0dbd65c48",
     "showTitle": false,
     "tableResultSettingsMap": {},
     "title": ""
    }
   },
   "outputs": [],
   "source": [
    "# preço médio por propriedade com base na tabela calendar_silver\n",
    "avg_price_per_property = spark.sql(\"\"\"\n",
    "    SELECT \n",
    "        listing_id,\n",
    "        AVG(price) AS avg_price\n",
    "    FROM \n",
    "        calendar_silver\n",
    "    GROUP BY \n",
    "        listing_id\n",
    "\"\"\")"
   ]
  },
  {
   "cell_type": "code",
   "execution_count": 0,
   "metadata": {
    "application/vnd.databricks.v1+cell": {
     "cellMetadata": {
      "byteLimit": 2048000,
      "rowLimit": 10000
     },
     "inputWidgets": {},
     "nuid": "aacfcf77-0ffd-4bce-a721-c1b148ab4078",
     "showTitle": false,
     "tableResultSettingsMap": {},
     "title": ""
    }
   },
   "outputs": [
    {
     "output_type": "display_data",
     "data": {
      "text/html": [
       "<style scoped>\n",
       "  .table-result-container {\n",
       "    max-height: 300px;\n",
       "    overflow: auto;\n",
       "  }\n",
       "  table, th, td {\n",
       "    border: 1px solid black;\n",
       "    border-collapse: collapse;\n",
       "  }\n",
       "  th, td {\n",
       "    padding: 5px;\n",
       "  }\n",
       "  th {\n",
       "    text-align: left;\n",
       "  }\n",
       "</style><div class='table-result-container'><table class='table-result'><thead style='background-color: white'><tr><th>listing_id</th><th>avg_price</th></tr></thead><tbody><tr><td>676235</td><td>200.0</td></tr><tr><td>1078107</td><td>null</td></tr><tr><td>1280058</td><td>499.0</td></tr><tr><td>2811386</td><td>600.0</td></tr><tr><td>2685861</td><td>498.0</td></tr><tr><td>2948815</td><td>299.0</td></tr><tr><td>2728880</td><td>409.0</td></tr><tr><td>3079210</td><td>210.0</td></tr><tr><td>3180518</td><td>60.0</td></tr><tr><td>4793767</td><td>700.0</td></tr><tr><td>4658455</td><td>250.0</td></tr><tr><td>8381628</td><td>425.0</td></tr><tr><td>8904127</td><td>230.0</td></tr><tr><td>9763255</td><td>314.0</td></tr><tr><td>10098987</td><td>300.0</td></tr></tbody></table></div>"
      ]
     },
     "metadata": {
      "application/vnd.databricks.v1+output": {
       "addedWidgets": {},
       "aggData": [],
       "aggError": "",
       "aggOverflow": false,
       "aggSchema": [],
       "aggSeriesLimitReached": false,
       "aggType": "",
       "arguments": {},
       "columnCustomDisplayInfos": {},
       "data": [
        [
         676235,
         200.0
        ],
        [
         1078107,
         null
        ],
        [
         1280058,
         499.0
        ],
        [
         2811386,
         600.0
        ],
        [
         2685861,
         498.0
        ],
        [
         2948815,
         299.0
        ],
        [
         2728880,
         409.0
        ],
        [
         3079210,
         210.0
        ],
        [
         3180518,
         60.0
        ],
        [
         4793767,
         700.0
        ],
        [
         4658455,
         250.0
        ],
        [
         8381628,
         425.0
        ],
        [
         8904127,
         230.0
        ],
        [
         9763255,
         314.0
        ],
        [
         10098987,
         300.0
        ]
       ],
       "datasetInfos": [],
       "dbfsResultPath": null,
       "isJsonSchema": true,
       "metadata": {},
       "overflow": false,
       "plotOptions": {
        "customPlotOptions": {},
        "displayType": "table",
        "pivotAggregation": null,
        "pivotColumns": null,
        "xColumns": null,
        "yColumns": null
       },
       "removedWidgets": [],
       "schema": [
        {
         "metadata": "{}",
         "name": "listing_id",
         "type": "\"long\""
        },
        {
         "metadata": "{}",
         "name": "avg_price",
         "type": "\"double\""
        }
       ],
       "type": "table"
      }
     },
     "output_type": "display_data"
    }
   ],
   "source": [
    "display(avg_price_per_property.limit(15))"
   ]
  },
  {
   "cell_type": "code",
   "execution_count": 0,
   "metadata": {
    "application/vnd.databricks.v1+cell": {
     "cellMetadata": {
      "byteLimit": 2048000,
      "rowLimit": 10000
     },
     "inputWidgets": {},
     "nuid": "fe09e74c-5851-4c62-bfa5-dc80ff5dcce6",
     "showTitle": false,
     "tableResultSettingsMap": {},
     "title": ""
    }
   },
   "outputs": [],
   "source": [
    "#  média de preços por listing_id e por mês, extraindo o ano e o mês da coluna date.\n",
    "avg_price_per_month = spark.sql(\"\"\"\n",
    "    SELECT \n",
    "        listing_id,\n",
    "        YEAR(date) AS year,\n",
    "        MONTH(date) AS month,\n",
    "        AVG(price) AS avg_monthly_price\n",
    "    FROM \n",
    "        calendar_silver\n",
    "    GROUP BY \n",
    "        listing_id, \n",
    "        YEAR(date), \n",
    "        MONTH(date)\n",
    "    ORDER BY \n",
    "        year, month\n",
    "\"\"\")\n"
   ]
  },
  {
   "cell_type": "code",
   "execution_count": 0,
   "metadata": {
    "application/vnd.databricks.v1+cell": {
     "cellMetadata": {
      "byteLimit": 2048000,
      "rowLimit": 10000
     },
     "inputWidgets": {},
     "nuid": "59598148-6932-4412-9321-b52586da6c19",
     "showTitle": false,
     "tableResultSettingsMap": {},
     "title": ""
    }
   },
   "outputs": [
    {
     "output_type": "display_data",
     "data": {
      "text/html": [
       "<style scoped>\n",
       "  .table-result-container {\n",
       "    max-height: 300px;\n",
       "    overflow: auto;\n",
       "  }\n",
       "  table, th, td {\n",
       "    border: 1px solid black;\n",
       "    border-collapse: collapse;\n",
       "  }\n",
       "  th, td {\n",
       "    padding: 5px;\n",
       "  }\n",
       "  th {\n",
       "    text-align: left;\n",
       "  }\n",
       "</style><div class='table-result-container'><table class='table-result'><thead style='background-color: white'><tr><th>listing_id</th><th>year</th><th>month</th><th>avg_monthly_price</th></tr></thead><tbody><tr><td>4824307</td><td>2024</td><td>6</td><td>460.0</td></tr><tr><td>8780421</td><td>2024</td><td>6</td><td>400.0</td></tr><tr><td>8906882</td><td>2024</td><td>6</td><td>400.0</td></tr><tr><td>11185201</td><td>2024</td><td>6</td><td>199.0</td></tr><tr><td>2425933</td><td>2024</td><td>6</td><td>400.0</td></tr><tr><td>9004757</td><td>2024</td><td>6</td><td>600.0</td></tr><tr><td>14805065</td><td>2024</td><td>6</td><td>200.0</td></tr><tr><td>2671491</td><td>2024</td><td>6</td><td>null</td></tr><tr><td>2987615</td><td>2024</td><td>6</td><td>350.0</td></tr><tr><td>9730680</td><td>2024</td><td>6</td><td>800.0</td></tr><tr><td>10110618</td><td>2024</td><td>6</td><td>195.0</td></tr><tr><td>2105881</td><td>2024</td><td>6</td><td>160.0</td></tr><tr><td>10221645</td><td>2024</td><td>6</td><td>235.0</td></tr><tr><td>9985623</td><td>2024</td><td>6</td><td>300.0</td></tr><tr><td>1408720</td><td>2024</td><td>6</td><td>450.0</td></tr></tbody></table></div>"
      ]
     },
     "metadata": {
      "application/vnd.databricks.v1+output": {
       "addedWidgets": {},
       "aggData": [],
       "aggError": "",
       "aggOverflow": false,
       "aggSchema": [],
       "aggSeriesLimitReached": false,
       "aggType": "",
       "arguments": {},
       "columnCustomDisplayInfos": {},
       "data": [
        [
         4824307,
         2024,
         6,
         460.0
        ],
        [
         8780421,
         2024,
         6,
         400.0
        ],
        [
         8906882,
         2024,
         6,
         400.0
        ],
        [
         11185201,
         2024,
         6,
         199.0
        ],
        [
         2425933,
         2024,
         6,
         400.0
        ],
        [
         9004757,
         2024,
         6,
         600.0
        ],
        [
         14805065,
         2024,
         6,
         200.0
        ],
        [
         2671491,
         2024,
         6,
         null
        ],
        [
         2987615,
         2024,
         6,
         350.0
        ],
        [
         9730680,
         2024,
         6,
         800.0
        ],
        [
         10110618,
         2024,
         6,
         195.0
        ],
        [
         2105881,
         2024,
         6,
         160.0
        ],
        [
         10221645,
         2024,
         6,
         235.0
        ],
        [
         9985623,
         2024,
         6,
         300.0
        ],
        [
         1408720,
         2024,
         6,
         450.0
        ]
       ],
       "datasetInfos": [],
       "dbfsResultPath": null,
       "isJsonSchema": true,
       "metadata": {},
       "overflow": false,
       "plotOptions": {
        "customPlotOptions": {},
        "displayType": "table",
        "pivotAggregation": null,
        "pivotColumns": null,
        "xColumns": null,
        "yColumns": null
       },
       "removedWidgets": [],
       "schema": [
        {
         "metadata": "{}",
         "name": "listing_id",
         "type": "\"long\""
        },
        {
         "metadata": "{}",
         "name": "year",
         "type": "\"integer\""
        },
        {
         "metadata": "{}",
         "name": "month",
         "type": "\"integer\""
        },
        {
         "metadata": "{}",
         "name": "avg_monthly_price",
         "type": "\"double\""
        }
       ],
       "type": "table"
      }
     },
     "output_type": "display_data"
    }
   ],
   "source": [
    "display(avg_price_per_month.limit(15))"
   ]
  },
  {
   "cell_type": "code",
   "execution_count": 0,
   "metadata": {
    "application/vnd.databricks.v1+cell": {
     "cellMetadata": {
      "byteLimit": 2048000,
      "rowLimit": 10000
     },
     "inputWidgets": {},
     "nuid": "6ff6b4f7-2cd1-4ac8-9dc9-288a392542e2",
     "showTitle": false,
     "tableResultSettingsMap": {},
     "title": ""
    }
   },
   "outputs": [],
   "source": [
    "# número total de avaliações para cada propriedade na tabela reviews_silver\n",
    "total_reviews_per_property = spark.sql(\"\"\"\n",
    "    SELECT \n",
    "        listing_id,\n",
    "        COUNT(id) AS total_reviews\n",
    "    FROM \n",
    "        reviews_silver\n",
    "    GROUP BY \n",
    "        listing_id\n",
    "\"\"\")\n"
   ]
  },
  {
   "cell_type": "code",
   "execution_count": 0,
   "metadata": {
    "application/vnd.databricks.v1+cell": {
     "cellMetadata": {
      "byteLimit": 2048000,
      "rowLimit": 10000
     },
     "inputWidgets": {},
     "nuid": "f0c9bbfe-c251-4cd1-b113-b8908fd2462c",
     "showTitle": false,
     "tableResultSettingsMap": {},
     "title": ""
    }
   },
   "outputs": [
    {
     "output_type": "display_data",
     "data": {
      "text/html": [
       "<style scoped>\n",
       "  .table-result-container {\n",
       "    max-height: 300px;\n",
       "    overflow: auto;\n",
       "  }\n",
       "  table, th, td {\n",
       "    border: 1px solid black;\n",
       "    border-collapse: collapse;\n",
       "  }\n",
       "  th, td {\n",
       "    padding: 5px;\n",
       "  }\n",
       "  th {\n",
       "    text-align: left;\n",
       "  }\n",
       "</style><div class='table-result-container'><table class='table-result'><thead style='background-color: white'><tr><th>listing_id</th><th>total_reviews</th></tr></thead><tbody><tr><td>676235</td><td>152</td></tr><tr><td>1078107</td><td>2</td></tr><tr><td>1280058</td><td>404</td></tr><tr><td>2685861</td><td>12</td></tr><tr><td>2811386</td><td>2</td></tr><tr><td>2728880</td><td>5</td></tr><tr><td>2948815</td><td>43</td></tr><tr><td>3079210</td><td>346</td></tr><tr><td>3180518</td><td>7</td></tr><tr><td>4793767</td><td>22</td></tr><tr><td>4658455</td><td>36</td></tr><tr><td>8381628</td><td>34</td></tr><tr><td>8904127</td><td>20</td></tr><tr><td>10098987</td><td>187</td></tr><tr><td>13915871</td><td>45</td></tr></tbody></table></div>"
      ]
     },
     "metadata": {
      "application/vnd.databricks.v1+output": {
       "addedWidgets": {},
       "aggData": [],
       "aggError": "",
       "aggOverflow": false,
       "aggSchema": [],
       "aggSeriesLimitReached": false,
       "aggType": "",
       "arguments": {},
       "columnCustomDisplayInfos": {},
       "data": [
        [
         676235,
         152
        ],
        [
         1078107,
         2
        ],
        [
         1280058,
         404
        ],
        [
         2685861,
         12
        ],
        [
         2811386,
         2
        ],
        [
         2728880,
         5
        ],
        [
         2948815,
         43
        ],
        [
         3079210,
         346
        ],
        [
         3180518,
         7
        ],
        [
         4793767,
         22
        ],
        [
         4658455,
         36
        ],
        [
         8381628,
         34
        ],
        [
         8904127,
         20
        ],
        [
         10098987,
         187
        ],
        [
         13915871,
         45
        ]
       ],
       "datasetInfos": [],
       "dbfsResultPath": null,
       "isJsonSchema": true,
       "metadata": {},
       "overflow": false,
       "plotOptions": {
        "customPlotOptions": {},
        "displayType": "table",
        "pivotAggregation": null,
        "pivotColumns": null,
        "xColumns": null,
        "yColumns": null
       },
       "removedWidgets": [],
       "schema": [
        {
         "metadata": "{}",
         "name": "listing_id",
         "type": "\"long\""
        },
        {
         "metadata": "{}",
         "name": "total_reviews",
         "type": "\"long\""
        }
       ],
       "type": "table"
      }
     },
     "output_type": "display_data"
    }
   ],
   "source": [
    "display(total_reviews_per_property.limit(15))"
   ]
  },
  {
   "cell_type": "code",
   "execution_count": 0,
   "metadata": {
    "application/vnd.databricks.v1+cell": {
     "cellMetadata": {
      "byteLimit": 2048000,
      "rowLimit": 10000
     },
     "inputWidgets": {},
     "nuid": "8253416b-61d3-4972-89cd-352e961c8061",
     "showTitle": false,
     "tableResultSettingsMap": {},
     "title": ""
    }
   },
   "outputs": [],
   "source": [
    "avg_review_score_per_property = spark.sql(\"\"\"\n",
    "    SELECT \n",
    "        id AS listing_id,\n",
    "        AVG(review_scores_rating) AS avg_review_score\n",
    "    FROM \n",
    "        listings_silver\n",
    "    GROUP BY \n",
    "        id\n",
    "\"\"\")"
   ]
  },
  {
   "cell_type": "code",
   "execution_count": 0,
   "metadata": {
    "application/vnd.databricks.v1+cell": {
     "cellMetadata": {
      "byteLimit": 2048000,
      "rowLimit": 10000
     },
     "inputWidgets": {},
     "nuid": "a5229407-82bc-4a3b-8177-c2f905e42c68",
     "showTitle": false,
     "tableResultSettingsMap": {},
     "title": ""
    }
   },
   "outputs": [
    {
     "output_type": "display_data",
     "data": {
      "text/html": [
       "<style scoped>\n",
       "  .table-result-container {\n",
       "    max-height: 300px;\n",
       "    overflow: auto;\n",
       "  }\n",
       "  table, th, td {\n",
       "    border: 1px solid black;\n",
       "    border-collapse: collapse;\n",
       "  }\n",
       "  th, td {\n",
       "    padding: 5px;\n",
       "  }\n",
       "  th {\n",
       "    text-align: left;\n",
       "  }\n",
       "</style><div class='table-result-container'><table class='table-result'><thead style='background-color: white'><tr><th>listing_id</th><th>avg_review_score</th></tr></thead><tbody><tr><td>1060331760648842986</td><td>null</td></tr><tr><td>589234</td><td>5.0</td></tr><tr><td>673981961445645029</td><td>5.0</td></tr><tr><td>784241072375805745</td><td>5.0</td></tr><tr><td>10097705</td><td>4.33</td></tr><tr><td>799885003835538589</td><td>5.0</td></tr><tr><td>1096454279606079431</td><td>4.5</td></tr><tr><td>650020855611122186</td><td>5.0</td></tr><tr><td>1045060283749300526</td><td>3.0</td></tr><tr><td>1171252009682624686</td><td>null</td></tr><tr><td>1012156</td><td>null</td></tr><tr><td>2825740</td><td>null</td></tr><tr><td>9332721</td><td>4.83</td></tr><tr><td>565135731363650488</td><td>null</td></tr><tr><td>1101360141569054377</td><td>null</td></tr></tbody></table></div>"
      ]
     },
     "metadata": {
      "application/vnd.databricks.v1+output": {
       "addedWidgets": {},
       "aggData": [],
       "aggError": "",
       "aggOverflow": false,
       "aggSchema": [],
       "aggSeriesLimitReached": false,
       "aggType": "",
       "arguments": {},
       "columnCustomDisplayInfos": {},
       "data": [
        [
         1060331760648842986,
         null
        ],
        [
         589234,
         5.0
        ],
        [
         673981961445645029,
         5.0
        ],
        [
         784241072375805745,
         5.0
        ],
        [
         10097705,
         4.33
        ],
        [
         799885003835538589,
         5.0
        ],
        [
         1096454279606079431,
         4.5
        ],
        [
         650020855611122186,
         5.0
        ],
        [
         1045060283749300526,
         3.0
        ],
        [
         1171252009682624686,
         null
        ],
        [
         1012156,
         null
        ],
        [
         2825740,
         null
        ],
        [
         9332721,
         4.83
        ],
        [
         565135731363650488,
         null
        ],
        [
         1101360141569054377,
         null
        ]
       ],
       "datasetInfos": [],
       "dbfsResultPath": null,
       "isJsonSchema": true,
       "metadata": {},
       "overflow": false,
       "plotOptions": {
        "customPlotOptions": {},
        "displayType": "table",
        "pivotAggregation": null,
        "pivotColumns": null,
        "xColumns": null,
        "yColumns": null
       },
       "removedWidgets": [],
       "schema": [
        {
         "metadata": "{}",
         "name": "listing_id",
         "type": "\"long\""
        },
        {
         "metadata": "{}",
         "name": "avg_review_score",
         "type": "\"double\""
        }
       ],
       "type": "table"
      }
     },
     "output_type": "display_data"
    }
   ],
   "source": [
    "# Exibir os resultados\n",
    "display(avg_review_score_per_property.limit(15))"
   ]
  },
  {
   "cell_type": "code",
   "execution_count": 0,
   "metadata": {
    "application/vnd.databricks.v1+cell": {
     "cellMetadata": {
      "byteLimit": 2048000,
      "rowLimit": 10000
     },
     "inputWidgets": {},
     "nuid": "dc30e0e4-ed47-4c78-ac19-edc910827f33",
     "showTitle": false,
     "tableResultSettingsMap": {},
     "title": ""
    }
   },
   "outputs": [],
   "source": [
    "# média das pontuações de avaliação (review_scores_rating) para cada propriedade.\n",
    "avg_availability_per_room_type = spark.sql(\"\"\"\n",
    "    SELECT \n",
    "        room_type,\n",
    "        AVG(availability_365) AS avg_annual_availability\n",
    "    FROM \n",
    "        listings_silver\n",
    "    GROUP BY \n",
    "        room_type\n",
    "\"\"\")\n"
   ]
  },
  {
   "cell_type": "code",
   "execution_count": 0,
   "metadata": {
    "application/vnd.databricks.v1+cell": {
     "cellMetadata": {
      "byteLimit": 2048000,
      "rowLimit": 10000
     },
     "inputWidgets": {},
     "nuid": "70ec338a-1589-4231-8145-0ae7a0454189",
     "showTitle": false,
     "tableResultSettingsMap": {},
     "title": ""
    }
   },
   "outputs": [
    {
     "output_type": "display_data",
     "data": {
      "text/html": [
       "<style scoped>\n",
       "  .table-result-container {\n",
       "    max-height: 300px;\n",
       "    overflow: auto;\n",
       "  }\n",
       "  table, th, td {\n",
       "    border: 1px solid black;\n",
       "    border-collapse: collapse;\n",
       "  }\n",
       "  th, td {\n",
       "    padding: 5px;\n",
       "  }\n",
       "  th {\n",
       "    text-align: left;\n",
       "  }\n",
       "</style><div class='table-result-container'><table class='table-result'><thead style='background-color: white'><tr><th>room_type</th><th>avg_annual_availability</th></tr></thead><tbody><tr><td>Shared room</td><td>240.0</td></tr><tr><td>Entire home/apt</td><td>272.3243243243243</td></tr><tr><td>Private room</td><td>283.5945945945946</td></tr></tbody></table></div>"
      ]
     },
     "metadata": {
      "application/vnd.databricks.v1+output": {
       "addedWidgets": {},
       "aggData": [],
       "aggError": "",
       "aggOverflow": false,
       "aggSchema": [],
       "aggSeriesLimitReached": false,
       "aggType": "",
       "arguments": {},
       "columnCustomDisplayInfos": {},
       "data": [
        [
         "Shared room",
         240.0
        ],
        [
         "Entire home/apt",
         272.3243243243243
        ],
        [
         "Private room",
         283.5945945945946
        ]
       ],
       "datasetInfos": [],
       "dbfsResultPath": null,
       "isJsonSchema": true,
       "metadata": {},
       "overflow": false,
       "plotOptions": {
        "customPlotOptions": {},
        "displayType": "table",
        "pivotAggregation": null,
        "pivotColumns": null,
        "xColumns": null,
        "yColumns": null
       },
       "removedWidgets": [],
       "schema": [
        {
         "metadata": "{}",
         "name": "room_type",
         "type": "\"string\""
        },
        {
         "metadata": "{}",
         "name": "avg_annual_availability",
         "type": "\"double\""
        }
       ],
       "type": "table"
      }
     },
     "output_type": "display_data"
    }
   ],
   "source": [
    "display(avg_availability_per_room_type.limit(15))"
   ]
  },
  {
   "cell_type": "code",
   "execution_count": 0,
   "metadata": {
    "application/vnd.databricks.v1+cell": {
     "cellMetadata": {
      "byteLimit": 2048000,
      "rowLimit": 10000
     },
     "inputWidgets": {},
     "nuid": "e8960ec0-6215-4d0f-a966-970c4303923f",
     "showTitle": false,
     "tableResultSettingsMap": {},
     "title": ""
    }
   },
   "outputs": [],
   "source": [
    "# Caminhos para salvar as agregações na Camada Gold\n",
    "gold_path_avg_price_per_property = \"/FileStore/tables/airbnb_rj/gold/avg_price_per_property.parquet\"\n",
    "gold_path_avg_price_per_month = \"/FileStore/tables/airbnb_rj/gold/avg_price_per_month.parquet\"\n",
    "gold_path_total_reviews_per_property = \"/FileStore/tables/airbnb_rj/gold/total_reviews_per_property.parquet\"\n",
    "gold_path_avg_review_score_per_property = \"/FileStore/tables/airbnb_rj/gold/avg_review_score_per_property.parquet\"\n",
    "gold_path_avg_availability_per_room_type = \"/FileStore/tables/airbnb_rj/gold/avg_availability_per_room_type.parquet\"\n",
    "\n",
    "# Salvar as agregações no formato Parquet\n",
    "avg_price_per_property.write.format(\"parquet\").mode(\"overwrite\").save(gold_path_avg_price_per_property)\n",
    "avg_price_per_month.write.format(\"parquet\").mode(\"overwrite\").save(gold_path_avg_price_per_month)\n",
    "total_reviews_per_property.write.format(\"parquet\").mode(\"overwrite\").save(gold_path_total_reviews_per_property)\n",
    "avg_review_score_per_property.write.format(\"parquet\").mode(\"overwrite\").save(gold_path_avg_review_score_per_property)\n",
    "avg_availability_per_room_type.write.format(\"parquet\").mode(\"overwrite\").save(gold_path_avg_availability_per_room_type)\n"
   ]
  },
  {
   "cell_type": "code",
   "execution_count": 0,
   "metadata": {
    "application/vnd.databricks.v1+cell": {
     "cellMetadata": {
      "byteLimit": 2048000,
      "rowLimit": 10000
     },
     "inputWidgets": {},
     "nuid": "55df1f77-9aae-4c70-8b3a-0cd795e8aa3e",
     "showTitle": false,
     "tableResultSettingsMap": {},
     "title": ""
    }
   },
   "outputs": [
    {
     "output_type": "display_data",
     "data": {
      "text/html": [
       "<style scoped>\n",
       "  .table-result-container {\n",
       "    max-height: 300px;\n",
       "    overflow: auto;\n",
       "  }\n",
       "  table, th, td {\n",
       "    border: 1px solid black;\n",
       "    border-collapse: collapse;\n",
       "  }\n",
       "  th, td {\n",
       "    padding: 5px;\n",
       "  }\n",
       "  th {\n",
       "    text-align: left;\n",
       "  }\n",
       "</style><div class='table-result-container'><table class='table-result'><thead style='background-color: white'><tr><th>path</th><th>name</th><th>size</th><th>modificationTime</th></tr></thead><tbody><tr><td>dbfs:/FileStore/tables/airbnb_rj/gold/avg_availability_per_room_type.parquet/</td><td>avg_availability_per_room_type.parquet/</td><td>0</td><td>0</td></tr><tr><td>dbfs:/FileStore/tables/airbnb_rj/gold/avg_price_per_month.parquet/</td><td>avg_price_per_month.parquet/</td><td>0</td><td>0</td></tr><tr><td>dbfs:/FileStore/tables/airbnb_rj/gold/avg_price_per_property.parquet/</td><td>avg_price_per_property.parquet/</td><td>0</td><td>0</td></tr><tr><td>dbfs:/FileStore/tables/airbnb_rj/gold/avg_review_score_per_property.parquet/</td><td>avg_review_score_per_property.parquet/</td><td>0</td><td>0</td></tr><tr><td>dbfs:/FileStore/tables/airbnb_rj/gold/total_reviews_per_property.parquet/</td><td>total_reviews_per_property.parquet/</td><td>0</td><td>0</td></tr></tbody></table></div>"
      ]
     },
     "metadata": {
      "application/vnd.databricks.v1+output": {
       "addedWidgets": {},
       "aggData": [],
       "aggError": "",
       "aggOverflow": false,
       "aggSchema": [],
       "aggSeriesLimitReached": false,
       "aggType": "",
       "arguments": {},
       "columnCustomDisplayInfos": {},
       "data": [
        [
         "dbfs:/FileStore/tables/airbnb_rj/gold/avg_availability_per_room_type.parquet/",
         "avg_availability_per_room_type.parquet/",
         0,
         0
        ],
        [
         "dbfs:/FileStore/tables/airbnb_rj/gold/avg_price_per_month.parquet/",
         "avg_price_per_month.parquet/",
         0,
         0
        ],
        [
         "dbfs:/FileStore/tables/airbnb_rj/gold/avg_price_per_property.parquet/",
         "avg_price_per_property.parquet/",
         0,
         0
        ],
        [
         "dbfs:/FileStore/tables/airbnb_rj/gold/avg_review_score_per_property.parquet/",
         "avg_review_score_per_property.parquet/",
         0,
         0
        ],
        [
         "dbfs:/FileStore/tables/airbnb_rj/gold/total_reviews_per_property.parquet/",
         "total_reviews_per_property.parquet/",
         0,
         0
        ]
       ],
       "datasetInfos": [],
       "dbfsResultPath": null,
       "isJsonSchema": true,
       "metadata": {},
       "overflow": false,
       "plotOptions": {
        "customPlotOptions": {},
        "displayType": "table",
        "pivotAggregation": null,
        "pivotColumns": null,
        "xColumns": null,
        "yColumns": null
       },
       "removedWidgets": [],
       "schema": [
        {
         "metadata": "{}",
         "name": "path",
         "type": "\"string\""
        },
        {
         "metadata": "{}",
         "name": "name",
         "type": "\"string\""
        },
        {
         "metadata": "{}",
         "name": "size",
         "type": "\"long\""
        },
        {
         "metadata": "{}",
         "name": "modificationTime",
         "type": "\"long\""
        }
       ],
       "type": "table"
      }
     },
     "output_type": "display_data"
    }
   ],
   "source": [
    "# Listar os arquivos salvos na pasta 'gold'\n",
    "display(dbutils.fs.ls(\"/FileStore/tables/airbnb_rj/gold\"))"
   ]
  },
  {
   "cell_type": "code",
   "execution_count": 0,
   "metadata": {
    "application/vnd.databricks.v1+cell": {
     "cellMetadata": {
      "byteLimit": 2048000,
      "rowLimit": 10000
     },
     "inputWidgets": {},
     "nuid": "1792a47d-3ba4-412f-a60a-ed9a270dc38f",
     "showTitle": false,
     "tableResultSettingsMap": {},
     "title": ""
    }
   },
   "outputs": [
    {
     "output_type": "display_data",
     "data": {
      "text/html": [
       "<style scoped>\n",
       "  .table-result-container {\n",
       "    max-height: 300px;\n",
       "    overflow: auto;\n",
       "  }\n",
       "  table, th, td {\n",
       "    border: 1px solid black;\n",
       "    border-collapse: collapse;\n",
       "  }\n",
       "  th, td {\n",
       "    padding: 5px;\n",
       "  }\n",
       "  th {\n",
       "    text-align: left;\n",
       "  }\n",
       "</style><div class='table-result-container'><table class='table-result'><thead style='background-color: white'><tr><th>path</th><th>name</th><th>size</th><th>modificationTime</th></tr></thead><tbody><tr><td>dbfs:/FileStore/tables/airbnb_rj/gold/avg_price_per_property.parquet/_SUCCESS</td><td>_SUCCESS</td><td>0</td><td>1732147675000</td></tr><tr><td>dbfs:/FileStore/tables/airbnb_rj/gold/avg_price_per_property.parquet/_committed_409464328111896775</td><td>_committed_409464328111896775</td><td>230</td><td>1732147674000</td></tr><tr><td>dbfs:/FileStore/tables/airbnb_rj/gold/avg_price_per_property.parquet/_committed_652003563733919913</td><td>_committed_652003563733919913</td><td>122</td><td>1732146830000</td></tr><tr><td>dbfs:/FileStore/tables/airbnb_rj/gold/avg_price_per_property.parquet/_started_409464328111896775</td><td>_started_409464328111896775</td><td>0</td><td>1732147674000</td></tr><tr><td>dbfs:/FileStore/tables/airbnb_rj/gold/avg_price_per_property.parquet/_started_652003563733919913</td><td>_started_652003563733919913</td><td>0</td><td>1732146829000</td></tr><tr><td>dbfs:/FileStore/tables/airbnb_rj/gold/avg_price_per_property.parquet/part-00000-tid-409464328111896775-f5b4d0a2-d0b5-49b7-9c5f-a643e00307ab-71-1-c000.snappy.parquet</td><td>part-00000-tid-409464328111896775-f5b4d0a2-d0b5-49b7-9c5f-a643e00307ab-71-1-c000.snappy.parquet</td><td>301086</td><td>1732147674000</td></tr></tbody></table></div>"
      ]
     },
     "metadata": {
      "application/vnd.databricks.v1+output": {
       "addedWidgets": {},
       "aggData": [],
       "aggError": "",
       "aggOverflow": false,
       "aggSchema": [],
       "aggSeriesLimitReached": false,
       "aggType": "",
       "arguments": {},
       "columnCustomDisplayInfos": {},
       "data": [
        [
         "dbfs:/FileStore/tables/airbnb_rj/gold/avg_price_per_property.parquet/_SUCCESS",
         "_SUCCESS",
         0,
         1732147675000
        ],
        [
         "dbfs:/FileStore/tables/airbnb_rj/gold/avg_price_per_property.parquet/_committed_409464328111896775",
         "_committed_409464328111896775",
         230,
         1732147674000
        ],
        [
         "dbfs:/FileStore/tables/airbnb_rj/gold/avg_price_per_property.parquet/_committed_652003563733919913",
         "_committed_652003563733919913",
         122,
         1732146830000
        ],
        [
         "dbfs:/FileStore/tables/airbnb_rj/gold/avg_price_per_property.parquet/_started_409464328111896775",
         "_started_409464328111896775",
         0,
         1732147674000
        ],
        [
         "dbfs:/FileStore/tables/airbnb_rj/gold/avg_price_per_property.parquet/_started_652003563733919913",
         "_started_652003563733919913",
         0,
         1732146829000
        ],
        [
         "dbfs:/FileStore/tables/airbnb_rj/gold/avg_price_per_property.parquet/part-00000-tid-409464328111896775-f5b4d0a2-d0b5-49b7-9c5f-a643e00307ab-71-1-c000.snappy.parquet",
         "part-00000-tid-409464328111896775-f5b4d0a2-d0b5-49b7-9c5f-a643e00307ab-71-1-c000.snappy.parquet",
         301086,
         1732147674000
        ]
       ],
       "datasetInfos": [],
       "dbfsResultPath": null,
       "isJsonSchema": true,
       "metadata": {},
       "overflow": false,
       "plotOptions": {
        "customPlotOptions": {},
        "displayType": "table",
        "pivotAggregation": null,
        "pivotColumns": null,
        "xColumns": null,
        "yColumns": null
       },
       "removedWidgets": [],
       "schema": [
        {
         "metadata": "{}",
         "name": "path",
         "type": "\"string\""
        },
        {
         "metadata": "{}",
         "name": "name",
         "type": "\"string\""
        },
        {
         "metadata": "{}",
         "name": "size",
         "type": "\"long\""
        },
        {
         "metadata": "{}",
         "name": "modificationTime",
         "type": "\"long\""
        }
       ],
       "type": "table"
      }
     },
     "output_type": "display_data"
    }
   ],
   "source": [
    "# Consultando os arquivos salvos na pasta 'gold'\n",
    "display(dbutils.fs.ls(\"/FileStore/tables/airbnb_rj/gold/avg_price_per_property.parquet\"))"
   ]
  }
 ],
 "metadata": {
  "application/vnd.databricks.v1+notebook": {
   "dashboards": [],
   "environmentMetadata": null,
   "language": "python",
   "notebookMetadata": {
    "pythonIndentUnit": 2
   },
   "notebookName": "Ingestao_Gold_Airbnb",
   "widgets": {}
  }
 },
 "nbformat": 4,
 "nbformat_minor": 0
}
