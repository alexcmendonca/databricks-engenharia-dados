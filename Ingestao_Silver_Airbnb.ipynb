{
 "cells": [
  {
   "cell_type": "code",
   "execution_count": 0,
   "metadata": {
    "application/vnd.databricks.v1+cell": {
     "cellMetadata": {
      "byteLimit": 2048000,
      "rowLimit": 10000
     },
     "inputWidgets": {},
     "nuid": "3e305e9b-aedd-47bb-9a6b-842f19371866",
     "showTitle": false,
     "tableResultSettingsMap": {},
     "title": ""
    }
   },
   "outputs": [],
   "source": [
    "from pyspark.sql.functions import col, length, sum, to_date, regexp_replace, trim, when\n",
    "from pyspark.sql.types import IntegerType, LongType, DoubleType, FloatType"
   ]
  },
  {
   "cell_type": "code",
   "execution_count": 0,
   "metadata": {
    "application/vnd.databricks.v1+cell": {
     "cellMetadata": {
      "byteLimit": 2048000,
      "rowLimit": 10000
     },
     "inputWidgets": {},
     "nuid": "0739d66f-c660-48de-a5d5-037943538379",
     "showTitle": false,
     "tableResultSettingsMap": {},
     "title": ""
    }
   },
   "outputs": [
    {
     "output_type": "display_data",
     "data": {
      "text/html": [
       "<style scoped>\n",
       "  .table-result-container {\n",
       "    max-height: 300px;\n",
       "    overflow: auto;\n",
       "  }\n",
       "  table, th, td {\n",
       "    border: 1px solid black;\n",
       "    border-collapse: collapse;\n",
       "  }\n",
       "  th, td {\n",
       "    padding: 5px;\n",
       "  }\n",
       "  th {\n",
       "    text-align: left;\n",
       "  }\n",
       "</style><div class='table-result-container'><table class='table-result'><thead style='background-color: white'><tr><th>listing_id</th><th>id</th><th>date</th><th>reviewer_id</th><th>reviewer_name</th><th>comments</th></tr></thead><tbody><tr><td>17878</td><td>64852</td><td>2010-07-15</td><td>135370</td><td>Tia</td><td>This apartment is in a perfect location -- two blocks from the beach and two blocks from the Copacabana Palace (where anyone famous stays when they are in Rio), which means it´s a very safe neighborhood.  The pictures very accurately depict what the apartment is like, so you´ll have no surprises.  Max is very communicative and helpful.  The four of us that stayed here would highly recommend it.</td></tr><tr><td>17878</td><td>76744</td><td>2010-08-11</td><td>10206</td><td>Mimi</td><td>we had a really great experience staying in Max's apartment.  it was one block from copacabana beach with easy access to the local markets/shops.  Max was very helpful and went out of his way to send a list of suggestions on things to do.  I will refer friends to Max in the future if visiting Rio.  \n",
       "</td></tr><tr><td><br/></td><td>null</td><td>null</td><td>null</td><td>null</td><td>null</td></tr><tr><td><br/>Thanks for everything Max!\"</td><td>null</td><td>null</td><td>null</td><td>null</td><td>null</td></tr><tr><td>17878</td><td>91074</td><td>2010-09-06</td><td>80253</td><td>Jan</td><td>Staying in Max appartment is like living in a cosy little French village and enyoing at te same time round the corner all the facilities that Rio has to offer (metro, bus, shops, restaurants, supermarkets, and of course Copa Cabana beach). Fantastic terrace, nicely decorated rooms, two spacious bedrooms, attentive doormen, and a host who really cares for his guests.  \n",
       "</td></tr><tr><td><br/></td><td>null</td><td>null</td><td>null</td><td>null</td><td>null</td></tr><tr><td><br/>Jan & Iet    \"</td><td>null</td><td>null</td><td>null</td><td>null</td><td>null</td></tr><tr><td>17878</td><td>137528</td><td>2010-11-12</td><td>230449</td><td>Orene</td><td>In general very good and reasonable price.\n",
       "</td></tr><tr><td><br/></td><td>null</td><td>null</td><td>null</td><td>null</td><td>null</td></tr><tr><td><br/>It is really great having local calls for free.It give an extra service to the apartment and tourists in Rio.</td><td>null</td><td>null</td><td>null</td><td>null</td><td>null</td></tr><tr><td><br/></td><td>null</td><td>null</td><td>null</td><td>null</td><td>null</td></tr><tr><td><br/>Things that can be better:</td><td>null</td><td>null</td><td>null</td><td>null</td><td>null</td></tr><tr><td><br/>- towells in different colours</td><td> for differ the towels of each person (it is a bit silly...)</td><td>null</td><td>null</td><td>null</td><td>null</td></tr><tr><td><br/>- Air conditioning in the rooms</td><td>null</td><td>null</td><td>null</td><td>null</td><td>null</td></tr><tr><td><br/>- DVD device included to the TV</td><td>null</td><td>null</td><td>null</td><td>null</td><td>null</td></tr></tbody></table></div>"
      ]
     },
     "metadata": {
      "application/vnd.databricks.v1+output": {
       "addedWidgets": {},
       "aggData": [],
       "aggError": "",
       "aggOverflow": false,
       "aggSchema": [],
       "aggSeriesLimitReached": false,
       "aggType": "",
       "arguments": {},
       "columnCustomDisplayInfos": {},
       "data": [
        [
         "17878",
         "64852",
         "2010-07-15",
         "135370",
         "Tia",
         "This apartment is in a perfect location -- two blocks from the beach and two blocks from the Copacabana Palace (where anyone famous stays when they are in Rio), which means it´s a very safe neighborhood.  The pictures very accurately depict what the apartment is like, so you´ll have no surprises.  Max is very communicative and helpful.  The four of us that stayed here would highly recommend it."
        ],
        [
         "17878",
         "76744",
         "2010-08-11",
         "10206",
         "Mimi",
         "we had a really great experience staying in Max's apartment.  it was one block from copacabana beach with easy access to the local markets/shops.  Max was very helpful and went out of his way to send a list of suggestions on things to do.  I will refer friends to Max in the future if visiting Rio.  \n"
        ],
        [
         "<br/>",
         null,
         null,
         null,
         null,
         null
        ],
        [
         "<br/>Thanks for everything Max!\"",
         null,
         null,
         null,
         null,
         null
        ],
        [
         "17878",
         "91074",
         "2010-09-06",
         "80253",
         "Jan",
         "Staying in Max appartment is like living in a cosy little French village and enyoing at te same time round the corner all the facilities that Rio has to offer (metro, bus, shops, restaurants, supermarkets, and of course Copa Cabana beach). Fantastic terrace, nicely decorated rooms, two spacious bedrooms, attentive doormen, and a host who really cares for his guests.  \n"
        ],
        [
         "<br/>",
         null,
         null,
         null,
         null,
         null
        ],
        [
         "<br/>Jan & Iet    \"",
         null,
         null,
         null,
         null,
         null
        ],
        [
         "17878",
         "137528",
         "2010-11-12",
         "230449",
         "Orene",
         "In general very good and reasonable price.\n"
        ],
        [
         "<br/>",
         null,
         null,
         null,
         null,
         null
        ],
        [
         "<br/>It is really great having local calls for free.It give an extra service to the apartment and tourists in Rio.",
         null,
         null,
         null,
         null,
         null
        ],
        [
         "<br/>",
         null,
         null,
         null,
         null,
         null
        ],
        [
         "<br/>Things that can be better:",
         null,
         null,
         null,
         null,
         null
        ],
        [
         "<br/>- towells in different colours",
         " for differ the towels of each person (it is a bit silly...)",
         null,
         null,
         null,
         null
        ],
        [
         "<br/>- Air conditioning in the rooms",
         null,
         null,
         null,
         null,
         null
        ],
        [
         "<br/>- DVD device included to the TV",
         null,
         null,
         null,
         null,
         null
        ]
       ],
       "datasetInfos": [],
       "dbfsResultPath": null,
       "isJsonSchema": true,
       "metadata": {},
       "overflow": false,
       "plotOptions": {
        "customPlotOptions": {},
        "displayType": "table",
        "pivotAggregation": null,
        "pivotColumns": null,
        "xColumns": null,
        "yColumns": null
       },
       "removedWidgets": [],
       "schema": [
        {
         "metadata": "{}",
         "name": "listing_id",
         "type": "\"string\""
        },
        {
         "metadata": "{}",
         "name": "id",
         "type": "\"string\""
        },
        {
         "metadata": "{}",
         "name": "date",
         "type": "\"string\""
        },
        {
         "metadata": "{}",
         "name": "reviewer_id",
         "type": "\"string\""
        },
        {
         "metadata": "{}",
         "name": "reviewer_name",
         "type": "\"string\""
        },
        {
         "metadata": "{}",
         "name": "comments",
         "type": "\"string\""
        }
       ],
       "type": "table"
      }
     },
     "output_type": "display_data"
    }
   ],
   "source": [
    "# Caminho para o arquivo Delta da tabela reviews na Camada Bronze\n",
    "bronze_path_reviews = \"/FileStore/tables/airbnb_rj/bronze/reviews.delta\"\n",
    "\n",
    "# Carregar os dados da Camada Bronze para um DataFrame na Camada Silver\n",
    "df_reviews_silver = spark.read.format(\"delta\").load(bronze_path_reviews)\n",
    "\n",
    "# Exibir os dados carregados para verificar o conteúdo\n",
    "df_reviews_silver.limit(15).display()"
   ]
  },
  {
   "cell_type": "code",
   "execution_count": 0,
   "metadata": {
    "application/vnd.databricks.v1+cell": {
     "cellMetadata": {
      "byteLimit": 2048000,
      "rowLimit": 10000
     },
     "inputWidgets": {},
     "nuid": "4616948b-e008-486a-ae96-2bce18f8e902",
     "showTitle": false,
     "tableResultSettingsMap": {},
     "title": ""
    }
   },
   "outputs": [
    {
     "output_type": "execute_result",
     "data": {
      "text/plain": [
       "812060"
      ]
     },
     "execution_count": 183,
     "metadata": {},
     "output_type": "execute_result"
    }
   ],
   "source": [
    "df_reviews_silver.count()"
   ]
  },
  {
   "cell_type": "code",
   "execution_count": 0,
   "metadata": {
    "application/vnd.databricks.v1+cell": {
     "cellMetadata": {
      "byteLimit": 2048000,
      "rowLimit": 10000
     },
     "inputWidgets": {},
     "nuid": "586b58d9-b4b7-48a8-95cf-b3c04c611a13",
     "showTitle": false,
     "tableResultSettingsMap": {},
     "title": ""
    }
   },
   "outputs": [
    {
     "output_type": "display_data",
     "data": {
      "text/html": [
       "<style scoped>\n",
       "  .table-result-container {\n",
       "    max-height: 300px;\n",
       "    overflow: auto;\n",
       "  }\n",
       "  table, th, td {\n",
       "    border: 1px solid black;\n",
       "    border-collapse: collapse;\n",
       "  }\n",
       "  th, td {\n",
       "    padding: 5px;\n",
       "  }\n",
       "  th {\n",
       "    text-align: left;\n",
       "  }\n",
       "</style><div class='table-result-container'><table class='table-result'><thead style='background-color: white'><tr><th>listing_id</th><th>id</th><th>date</th><th>reviewer_id</th><th>reviewer_name</th><th>comments</th></tr></thead><tbody><tr><td>17878</td><td>64852</td><td>2010-07-15</td><td>135370</td><td>Tia</td><td>This apartment is in a perfect location -- two blocks from the beach and two blocks from the Copacabana Palace (where anyone famous stays when they are in Rio), which means it´s a very safe neighborhood.  The pictures very accurately depict what the apartment is like, so you´ll have no surprises.  Max is very communicative and helpful.  The four of us that stayed here would highly recommend it.</td></tr><tr><td>17878</td><td>76744</td><td>2010-08-11</td><td>10206</td><td>Mimi</td><td>we had a really great experience staying in Max's apartment.  it was one block from copacabana beach with easy access to the local markets/shops.  Max was very helpful and went out of his way to send a list of suggestions on things to do.  I will refer friends to Max in the future if visiting Rio.  \n",
       "</td></tr><tr><td>17878</td><td>91074</td><td>2010-09-06</td><td>80253</td><td>Jan</td><td>Staying in Max appartment is like living in a cosy little French village and enyoing at te same time round the corner all the facilities that Rio has to offer (metro, bus, shops, restaurants, supermarkets, and of course Copa Cabana beach). Fantastic terrace, nicely decorated rooms, two spacious bedrooms, attentive doormen, and a host who really cares for his guests.  \n",
       "</td></tr><tr><td>17878</td><td>137528</td><td>2010-11-12</td><td>230449</td><td>Orene</td><td>In general very good and reasonable price.\n",
       "</td></tr><tr><td><br/>- towells in different colours</td><td> for differ the towels of each person (it is a bit silly...)</td><td>null</td><td>null</td><td>null</td><td>null</td></tr><tr><td><br/>All the rest was correct</td><td> we will recommend the apart for other people.</td><td>null</td><td>null</td><td>null</td><td>null</td></tr><tr><td>17878</td><td>147594</td><td>2010-12-01</td><td>219338</td><td>David</td><td>The apt was nice and in a great location only a couple of blocks from the beach and shopping. Thanks for everything Max!</td></tr><tr><td>17878</td><td>152368</td><td>2010-12-12</td><td>266847</td><td>Armi</td><td>At Copacabana apartment is best the situation and BALCONY!\n",
       "</td></tr><tr><td>17878</td><td>155565</td><td>2010-12-19</td><td>243287</td><td>Jonathan</td><td>A great apartment in a great location. The close proximity to transportation, supermarkets and everyday needs was really helpful. Max was very helpful and accommodating. </td></tr><tr><td>17878</td><td>179219</td><td>2011-02-07</td><td>172558</td><td>Anna</td><td>Apartment is exactly as Max advertised. If we had any issues, he immediately solved them. In addition, the terrace was a welcome addition. However, the neighborhood is a bit dodgy. The neighbors would throw trash on the terrace which we had to toss out for them every day. Next time my friends and I will stay in Ipanema. </td></tr><tr><td>17878</td><td>186447</td><td>2011-02-22</td><td>353604</td><td>Remy</td><td>Great apartment, amazing price and location in a pedestrianised street with a great atmosphere and large bedrooms, living room and balcony. The only downside was the kitchen with two small electric hobs but we managed to get by and everything else more than made up for it. I would recommend this place to anyone!</td></tr><tr><td>220377</td><td>704349</td><td>2011-11-08</td><td>1271126</td><td>Brian</td><td>Staying at Taciana's was a GREAT experience! She is the perfect host for a stay in Rio. We stayed for a month and she was very helpful in every area. Her home is well located and is in a good neighborhood. The breakfast is also excellent. Thanks Taciana for making our stay in Rio a wonderful experience. Looking forward to visiting again. </td></tr><tr><td>220377</td><td>875049</td><td>2012-01-21</td><td>1578661</td><td>Amauri</td><td>Foi uma experiência formidável passar alguns dias hospedado com a Taciana, todos foram muito receptivos e camaradas, o apartamento é ótimo e a localização melhor ainda, nota 10 :)</td></tr><tr><td>220377</td><td>979376</td><td>2012-03-07</td><td>369312</td><td>Petr</td><td>\"Taciana is superb host. She is really nice and friendly, her apartment is really nice, very clean. She has cute dog (he is kind of lazy like Garfield cat). The room I stayed in has en-suite bathroom which makes your room like hotel room with all the privacy, but for marginal cost of hotel room in Rio de Janeiro. She serves huge breakfast with all possible options (ham, cheese, flakes, good orange juice, tea, coffee, milk, tropical fruits, etc.). Her place is in Zona Norte, about 10 minutes from Saens Pena metro station. You can have quite unique experience to get to know regular middle class brazilian lifestyle in Taciana's home and in  this neighbourhood  in general (and it is cheaper than Zona Sul and also much less \"\"artificial\"\").\"</td></tr><tr><td>220377</td><td>142096912</td><td>2017-04-06</td><td>8501984</td><td>Marilyn</td><td>Nossa experiência foi muito boa! O apartamento é seguro, limpo e tranquilo. Taciana nos ajudou com mapas e explicações, o que facilitou bastante na hora de nos aventurar pela cidade. Super indico!</td></tr></tbody></table></div>"
      ]
     },
     "metadata": {
      "application/vnd.databricks.v1+output": {
       "addedWidgets": {},
       "aggData": [],
       "aggError": "",
       "aggOverflow": false,
       "aggSchema": [],
       "aggSeriesLimitReached": false,
       "aggType": "",
       "arguments": {},
       "columnCustomDisplayInfos": {},
       "data": [
        [
         "17878",
         "64852",
         "2010-07-15",
         "135370",
         "Tia",
         "This apartment is in a perfect location -- two blocks from the beach and two blocks from the Copacabana Palace (where anyone famous stays when they are in Rio), which means it´s a very safe neighborhood.  The pictures very accurately depict what the apartment is like, so you´ll have no surprises.  Max is very communicative and helpful.  The four of us that stayed here would highly recommend it."
        ],
        [
         "17878",
         "76744",
         "2010-08-11",
         "10206",
         "Mimi",
         "we had a really great experience staying in Max's apartment.  it was one block from copacabana beach with easy access to the local markets/shops.  Max was very helpful and went out of his way to send a list of suggestions on things to do.  I will refer friends to Max in the future if visiting Rio.  \n"
        ],
        [
         "17878",
         "91074",
         "2010-09-06",
         "80253",
         "Jan",
         "Staying in Max appartment is like living in a cosy little French village and enyoing at te same time round the corner all the facilities that Rio has to offer (metro, bus, shops, restaurants, supermarkets, and of course Copa Cabana beach). Fantastic terrace, nicely decorated rooms, two spacious bedrooms, attentive doormen, and a host who really cares for his guests.  \n"
        ],
        [
         "17878",
         "137528",
         "2010-11-12",
         "230449",
         "Orene",
         "In general very good and reasonable price.\n"
        ],
        [
         "<br/>- towells in different colours",
         " for differ the towels of each person (it is a bit silly...)",
         null,
         null,
         null,
         null
        ],
        [
         "<br/>All the rest was correct",
         " we will recommend the apart for other people.",
         null,
         null,
         null,
         null
        ],
        [
         "17878",
         "147594",
         "2010-12-01",
         "219338",
         "David",
         "The apt was nice and in a great location only a couple of blocks from the beach and shopping. Thanks for everything Max!"
        ],
        [
         "17878",
         "152368",
         "2010-12-12",
         "266847",
         "Armi",
         "At Copacabana apartment is best the situation and BALCONY!\n"
        ],
        [
         "17878",
         "155565",
         "2010-12-19",
         "243287",
         "Jonathan",
         "A great apartment in a great location. The close proximity to transportation, supermarkets and everyday needs was really helpful. Max was very helpful and accommodating. "
        ],
        [
         "17878",
         "179219",
         "2011-02-07",
         "172558",
         "Anna",
         "Apartment is exactly as Max advertised. If we had any issues, he immediately solved them. In addition, the terrace was a welcome addition. However, the neighborhood is a bit dodgy. The neighbors would throw trash on the terrace which we had to toss out for them every day. Next time my friends and I will stay in Ipanema. "
        ],
        [
         "17878",
         "186447",
         "2011-02-22",
         "353604",
         "Remy",
         "Great apartment, amazing price and location in a pedestrianised street with a great atmosphere and large bedrooms, living room and balcony. The only downside was the kitchen with two small electric hobs but we managed to get by and everything else more than made up for it. I would recommend this place to anyone!"
        ],
        [
         "220377",
         "704349",
         "2011-11-08",
         "1271126",
         "Brian",
         "Staying at Taciana's was a GREAT experience! She is the perfect host for a stay in Rio. We stayed for a month and she was very helpful in every area. Her home is well located and is in a good neighborhood. The breakfast is also excellent. Thanks Taciana for making our stay in Rio a wonderful experience. Looking forward to visiting again. "
        ],
        [
         "220377",
         "875049",
         "2012-01-21",
         "1578661",
         "Amauri",
         "Foi uma experiência formidável passar alguns dias hospedado com a Taciana, todos foram muito receptivos e camaradas, o apartamento é ótimo e a localização melhor ainda, nota 10 :)"
        ],
        [
         "220377",
         "979376",
         "2012-03-07",
         "369312",
         "Petr",
         "\"Taciana is superb host. She is really nice and friendly, her apartment is really nice, very clean. She has cute dog (he is kind of lazy like Garfield cat). The room I stayed in has en-suite bathroom which makes your room like hotel room with all the privacy, but for marginal cost of hotel room in Rio de Janeiro. She serves huge breakfast with all possible options (ham, cheese, flakes, good orange juice, tea, coffee, milk, tropical fruits, etc.). Her place is in Zona Norte, about 10 minutes from Saens Pena metro station. You can have quite unique experience to get to know regular middle class brazilian lifestyle in Taciana's home and in  this neighbourhood  in general (and it is cheaper than Zona Sul and also much less \"\"artificial\"\").\""
        ],
        [
         "220377",
         "142096912",
         "2017-04-06",
         "8501984",
         "Marilyn",
         "Nossa experiência foi muito boa! O apartamento é seguro, limpo e tranquilo. Taciana nos ajudou com mapas e explicações, o que facilitou bastante na hora de nos aventurar pela cidade. Super indico!"
        ]
       ],
       "datasetInfos": [],
       "dbfsResultPath": null,
       "isJsonSchema": true,
       "metadata": {},
       "overflow": false,
       "plotOptions": {
        "customPlotOptions": {},
        "displayType": "table",
        "pivotAggregation": null,
        "pivotColumns": null,
        "xColumns": null,
        "yColumns": null
       },
       "removedWidgets": [],
       "schema": [
        {
         "metadata": "{}",
         "name": "listing_id",
         "type": "\"string\""
        },
        {
         "metadata": "{}",
         "name": "id",
         "type": "\"string\""
        },
        {
         "metadata": "{}",
         "name": "date",
         "type": "\"string\""
        },
        {
         "metadata": "{}",
         "name": "reviewer_id",
         "type": "\"string\""
        },
        {
         "metadata": "{}",
         "name": "reviewer_name",
         "type": "\"string\""
        },
        {
         "metadata": "{}",
         "name": "comments",
         "type": "\"string\""
        }
       ],
       "type": "table"
      }
     },
     "output_type": "display_data"
    }
   ],
   "source": [
    "# Remover linhas com NULL na coluna 'id'\n",
    "df_reviews_silver = df_reviews_silver.filter(df_reviews_silver.id.isNotNull())\n",
    "\n",
    "# Exibir o DataFrame atualizado para verificar a remoção de linhas\n",
    "df_reviews_silver.limit(15).display()"
   ]
  },
  {
   "cell_type": "code",
   "execution_count": 0,
   "metadata": {
    "application/vnd.databricks.v1+cell": {
     "cellMetadata": {
      "byteLimit": 2048000,
      "rowLimit": 10000
     },
     "inputWidgets": {},
     "nuid": "acf3f1c5-0653-49aa-ab60-480a760bd601",
     "showTitle": false,
     "tableResultSettingsMap": {},
     "title": ""
    }
   },
   "outputs": [
    {
     "output_type": "stream",
     "name": "stdout",
     "output_type": "stream",
     "text": [
      "root\n |-- listing_id: string (nullable = true)\n |-- id: string (nullable = true)\n |-- date: string (nullable = true)\n |-- reviewer_id: string (nullable = true)\n |-- reviewer_name: string (nullable = true)\n |-- comments: string (nullable = true)\n\n"
     ]
    }
   ],
   "source": [
    "df_reviews_silver.printSchema()"
   ]
  },
  {
   "cell_type": "code",
   "execution_count": 0,
   "metadata": {
    "application/vnd.databricks.v1+cell": {
     "cellMetadata": {
      "byteLimit": 2048000,
      "rowLimit": 10000
     },
     "inputWidgets": {},
     "nuid": "77c7e2f5-c487-4056-8ff6-b9da381212d7",
     "showTitle": false,
     "tableResultSettingsMap": {},
     "title": ""
    }
   },
   "outputs": [
    {
     "output_type": "execute_result",
     "data": {
      "text/plain": [
       "[('listing_id', 'string'),\n",
       " ('id', 'string'),\n",
       " ('date', 'string'),\n",
       " ('reviewer_id', 'string'),\n",
       " ('reviewer_name', 'string'),\n",
       " ('comments', 'string')]"
      ]
     },
     "execution_count": 186,
     "metadata": {},
     "output_type": "execute_result"
    }
   ],
   "source": [
    "df_reviews_silver.dtypes"
   ]
  },
  {
   "cell_type": "code",
   "execution_count": 0,
   "metadata": {
    "application/vnd.databricks.v1+cell": {
     "cellMetadata": {
      "byteLimit": 2048000,
      "rowLimit": 10000
     },
     "inputWidgets": {},
     "nuid": "96a4cc8c-b2e2-4082-b8fd-8083f1c3592a",
     "showTitle": false,
     "tableResultSettingsMap": {},
     "title": ""
    }
   },
   "outputs": [
    {
     "output_type": "stream",
     "name": "stdout",
     "output_type": "stream",
     "text": [
      "+--------------------+\n|          listing_id|\n+--------------------+\n|<br/>Encontramos ...|\n|<br/>The place is...|\n|<br/>Местоположен...|\n|<br/>We also like...|\n|<br/>Hôte prévenant |\n|<br/>Maria Luiza ...|\n|<br/>Lots of opti...|\n|<br/>O apartament...|\n|<br/>Jennifer goe...|\n|<br/>The departme...|\n|<br/>O apartament...|\n|<br/>A localizaçã...|\n|<br/>Everybody wa...|\n|<br/>When I come ...|\n|<br/>Sans aucun d...|\n|<br/>The apartmen...|\n|<br/>Bem perto do...|\n|<br/>Ponto de ate...|\n|<br/>You only hav...|\n|<br/>Jennifer's g...|\n|<br/>Considering ...|\n|<br/>Fomos muito ...|\n|<br/>Like some of...|\n|<br/>The only dow...|\n|<br/>El dpto.es p...|\n|              231497|\n|<br/>A rua é um p...|\n|<br/>Além de acom...|\n|<br/>The apartmen...|\n|<br/>The apartmen...|\n|<br/>I recommend ...|\n|<br/>- отсутствие...|\n|<br/>O apartament...|\n|<br/>BUT it is VE...|\n|<br/>The apartmen...|\n|<br/>the accomoda...|\n|<br/>Helena me re...|\n|<br/>Our favourit...|\n|       <br/>Jennifer|\n|<br/>About eating...|\n|<br/>The contact ...|\n|            <br/>And|\n|<br/>Einziger Wer...|\n|<br/>Brunello is ...|\n|<br/>We got sever...|\n|<br/>Recomendo e ...|\n|<br/>Sonia is ver...|\n|<br/>All the rest...|\n|<br/>We didn't ge...|\n|<br/>Het appartem...|\n+--------------------+\nonly showing top 50 rows\n\n"
     ]
    }
   ],
   "source": [
    "# Selecionar e exibir os valores distintos da coluna listing_id\n",
    "df_reviews_silver.select(\"listing_id\").distinct().show(50)"
   ]
  },
  {
   "cell_type": "code",
   "execution_count": 0,
   "metadata": {
    "application/vnd.databricks.v1+cell": {
     "cellMetadata": {
      "byteLimit": 2048000,
      "rowLimit": 10000
     },
     "inputWidgets": {},
     "nuid": "883c1f6f-b7fa-4ec5-a890-cb148fc96f8e",
     "showTitle": false,
     "tableResultSettingsMap": {},
     "title": ""
    }
   },
   "outputs": [],
   "source": [
    "# Remover linhas onde a coluna listing_id contém \"<br/>\"\n",
    "df_reviews_silver = df_reviews_silver.filter(df_reviews_silver.listing_id != \"<br/>\")\n"
   ]
  },
  {
   "cell_type": "code",
   "execution_count": 0,
   "metadata": {
    "application/vnd.databricks.v1+cell": {
     "cellMetadata": {
      "byteLimit": 2048000,
      "rowLimit": 10000
     },
     "inputWidgets": {},
     "nuid": "1ef9571c-4217-4f77-8baf-24973ffa6aef",
     "showTitle": false,
     "tableResultSettingsMap": {},
     "title": ""
    }
   },
   "outputs": [
    {
     "output_type": "display_data",
     "data": {
      "text/html": [
       "<style scoped>\n",
       "  .table-result-container {\n",
       "    max-height: 300px;\n",
       "    overflow: auto;\n",
       "  }\n",
       "  table, th, td {\n",
       "    border: 1px solid black;\n",
       "    border-collapse: collapse;\n",
       "  }\n",
       "  th, td {\n",
       "    padding: 5px;\n",
       "  }\n",
       "  th {\n",
       "    text-align: left;\n",
       "  }\n",
       "</style><div class='table-result-container'><table class='table-result'><thead style='background-color: white'><tr><th>listing_id</th><th>id</th><th>date</th><th>reviewer_id</th><th>reviewer_name</th><th>comments</th></tr></thead><tbody><tr><td>17878</td><td>64852</td><td>2010-07-15</td><td>135370</td><td>Tia</td><td>This apartment is in a perfect location -- two blocks from the beach and two blocks from the Copacabana Palace (where anyone famous stays when they are in Rio), which means it´s a very safe neighborhood.  The pictures very accurately depict what the apartment is like, so you´ll have no surprises.  Max is very communicative and helpful.  The four of us that stayed here would highly recommend it.</td></tr><tr><td>17878</td><td>76744</td><td>2010-08-11</td><td>10206</td><td>Mimi</td><td>we had a really great experience staying in Max's apartment.  it was one block from copacabana beach with easy access to the local markets/shops.  Max was very helpful and went out of his way to send a list of suggestions on things to do.  I will refer friends to Max in the future if visiting Rio.  \n",
       "</td></tr><tr><td>17878</td><td>91074</td><td>2010-09-06</td><td>80253</td><td>Jan</td><td>Staying in Max appartment is like living in a cosy little French village and enyoing at te same time round the corner all the facilities that Rio has to offer (metro, bus, shops, restaurants, supermarkets, and of course Copa Cabana beach). Fantastic terrace, nicely decorated rooms, two spacious bedrooms, attentive doormen, and a host who really cares for his guests.  \n",
       "</td></tr><tr><td>17878</td><td>137528</td><td>2010-11-12</td><td>230449</td><td>Orene</td><td>In general very good and reasonable price.\n",
       "</td></tr><tr><td><br/>- towells in different colours</td><td> for differ the towels of each person (it is a bit silly...)</td><td>null</td><td>null</td><td>null</td><td>null</td></tr><tr><td><br/>All the rest was correct</td><td> we will recommend the apart for other people.</td><td>null</td><td>null</td><td>null</td><td>null</td></tr><tr><td>17878</td><td>147594</td><td>2010-12-01</td><td>219338</td><td>David</td><td>The apt was nice and in a great location only a couple of blocks from the beach and shopping. Thanks for everything Max!</td></tr><tr><td>17878</td><td>152368</td><td>2010-12-12</td><td>266847</td><td>Armi</td><td>At Copacabana apartment is best the situation and BALCONY!\n",
       "</td></tr><tr><td>17878</td><td>155565</td><td>2010-12-19</td><td>243287</td><td>Jonathan</td><td>A great apartment in a great location. The close proximity to transportation, supermarkets and everyday needs was really helpful. Max was very helpful and accommodating. </td></tr><tr><td>17878</td><td>179219</td><td>2011-02-07</td><td>172558</td><td>Anna</td><td>Apartment is exactly as Max advertised. If we had any issues, he immediately solved them. In addition, the terrace was a welcome addition. However, the neighborhood is a bit dodgy. The neighbors would throw trash on the terrace which we had to toss out for them every day. Next time my friends and I will stay in Ipanema. </td></tr><tr><td>17878</td><td>186447</td><td>2011-02-22</td><td>353604</td><td>Remy</td><td>Great apartment, amazing price and location in a pedestrianised street with a great atmosphere and large bedrooms, living room and balcony. The only downside was the kitchen with two small electric hobs but we managed to get by and everything else more than made up for it. I would recommend this place to anyone!</td></tr><tr><td>220377</td><td>704349</td><td>2011-11-08</td><td>1271126</td><td>Brian</td><td>Staying at Taciana's was a GREAT experience! She is the perfect host for a stay in Rio. We stayed for a month and she was very helpful in every area. Her home is well located and is in a good neighborhood. The breakfast is also excellent. Thanks Taciana for making our stay in Rio a wonderful experience. Looking forward to visiting again. </td></tr><tr><td>220377</td><td>875049</td><td>2012-01-21</td><td>1578661</td><td>Amauri</td><td>Foi uma experiência formidável passar alguns dias hospedado com a Taciana, todos foram muito receptivos e camaradas, o apartamento é ótimo e a localização melhor ainda, nota 10 :)</td></tr><tr><td>220377</td><td>979376</td><td>2012-03-07</td><td>369312</td><td>Petr</td><td>\"Taciana is superb host. She is really nice and friendly, her apartment is really nice, very clean. She has cute dog (he is kind of lazy like Garfield cat). The room I stayed in has en-suite bathroom which makes your room like hotel room with all the privacy, but for marginal cost of hotel room in Rio de Janeiro. She serves huge breakfast with all possible options (ham, cheese, flakes, good orange juice, tea, coffee, milk, tropical fruits, etc.). Her place is in Zona Norte, about 10 minutes from Saens Pena metro station. You can have quite unique experience to get to know regular middle class brazilian lifestyle in Taciana's home and in  this neighbourhood  in general (and it is cheaper than Zona Sul and also much less \"\"artificial\"\").\"</td></tr><tr><td>220377</td><td>142096912</td><td>2017-04-06</td><td>8501984</td><td>Marilyn</td><td>Nossa experiência foi muito boa! O apartamento é seguro, limpo e tranquilo. Taciana nos ajudou com mapas e explicações, o que facilitou bastante na hora de nos aventurar pela cidade. Super indico!</td></tr></tbody></table></div>"
      ]
     },
     "metadata": {
      "application/vnd.databricks.v1+output": {
       "addedWidgets": {},
       "aggData": [],
       "aggError": "",
       "aggOverflow": false,
       "aggSchema": [],
       "aggSeriesLimitReached": false,
       "aggType": "",
       "arguments": {},
       "columnCustomDisplayInfos": {},
       "data": [
        [
         "17878",
         "64852",
         "2010-07-15",
         "135370",
         "Tia",
         "This apartment is in a perfect location -- two blocks from the beach and two blocks from the Copacabana Palace (where anyone famous stays when they are in Rio), which means it´s a very safe neighborhood.  The pictures very accurately depict what the apartment is like, so you´ll have no surprises.  Max is very communicative and helpful.  The four of us that stayed here would highly recommend it."
        ],
        [
         "17878",
         "76744",
         "2010-08-11",
         "10206",
         "Mimi",
         "we had a really great experience staying in Max's apartment.  it was one block from copacabana beach with easy access to the local markets/shops.  Max was very helpful and went out of his way to send a list of suggestions on things to do.  I will refer friends to Max in the future if visiting Rio.  \n"
        ],
        [
         "17878",
         "91074",
         "2010-09-06",
         "80253",
         "Jan",
         "Staying in Max appartment is like living in a cosy little French village and enyoing at te same time round the corner all the facilities that Rio has to offer (metro, bus, shops, restaurants, supermarkets, and of course Copa Cabana beach). Fantastic terrace, nicely decorated rooms, two spacious bedrooms, attentive doormen, and a host who really cares for his guests.  \n"
        ],
        [
         "17878",
         "137528",
         "2010-11-12",
         "230449",
         "Orene",
         "In general very good and reasonable price.\n"
        ],
        [
         "<br/>- towells in different colours",
         " for differ the towels of each person (it is a bit silly...)",
         null,
         null,
         null,
         null
        ],
        [
         "<br/>All the rest was correct",
         " we will recommend the apart for other people.",
         null,
         null,
         null,
         null
        ],
        [
         "17878",
         "147594",
         "2010-12-01",
         "219338",
         "David",
         "The apt was nice and in a great location only a couple of blocks from the beach and shopping. Thanks for everything Max!"
        ],
        [
         "17878",
         "152368",
         "2010-12-12",
         "266847",
         "Armi",
         "At Copacabana apartment is best the situation and BALCONY!\n"
        ],
        [
         "17878",
         "155565",
         "2010-12-19",
         "243287",
         "Jonathan",
         "A great apartment in a great location. The close proximity to transportation, supermarkets and everyday needs was really helpful. Max was very helpful and accommodating. "
        ],
        [
         "17878",
         "179219",
         "2011-02-07",
         "172558",
         "Anna",
         "Apartment is exactly as Max advertised. If we had any issues, he immediately solved them. In addition, the terrace was a welcome addition. However, the neighborhood is a bit dodgy. The neighbors would throw trash on the terrace which we had to toss out for them every day. Next time my friends and I will stay in Ipanema. "
        ],
        [
         "17878",
         "186447",
         "2011-02-22",
         "353604",
         "Remy",
         "Great apartment, amazing price and location in a pedestrianised street with a great atmosphere and large bedrooms, living room and balcony. The only downside was the kitchen with two small electric hobs but we managed to get by and everything else more than made up for it. I would recommend this place to anyone!"
        ],
        [
         "220377",
         "704349",
         "2011-11-08",
         "1271126",
         "Brian",
         "Staying at Taciana's was a GREAT experience! She is the perfect host for a stay in Rio. We stayed for a month and she was very helpful in every area. Her home is well located and is in a good neighborhood. The breakfast is also excellent. Thanks Taciana for making our stay in Rio a wonderful experience. Looking forward to visiting again. "
        ],
        [
         "220377",
         "875049",
         "2012-01-21",
         "1578661",
         "Amauri",
         "Foi uma experiência formidável passar alguns dias hospedado com a Taciana, todos foram muito receptivos e camaradas, o apartamento é ótimo e a localização melhor ainda, nota 10 :)"
        ],
        [
         "220377",
         "979376",
         "2012-03-07",
         "369312",
         "Petr",
         "\"Taciana is superb host. She is really nice and friendly, her apartment is really nice, very clean. She has cute dog (he is kind of lazy like Garfield cat). The room I stayed in has en-suite bathroom which makes your room like hotel room with all the privacy, but for marginal cost of hotel room in Rio de Janeiro. She serves huge breakfast with all possible options (ham, cheese, flakes, good orange juice, tea, coffee, milk, tropical fruits, etc.). Her place is in Zona Norte, about 10 minutes from Saens Pena metro station. You can have quite unique experience to get to know regular middle class brazilian lifestyle in Taciana's home and in  this neighbourhood  in general (and it is cheaper than Zona Sul and also much less \"\"artificial\"\").\""
        ],
        [
         "220377",
         "142096912",
         "2017-04-06",
         "8501984",
         "Marilyn",
         "Nossa experiência foi muito boa! O apartamento é seguro, limpo e tranquilo. Taciana nos ajudou com mapas e explicações, o que facilitou bastante na hora de nos aventurar pela cidade. Super indico!"
        ]
       ],
       "datasetInfos": [],
       "dbfsResultPath": null,
       "isJsonSchema": true,
       "metadata": {},
       "overflow": false,
       "plotOptions": {
        "customPlotOptions": {},
        "displayType": "table",
        "pivotAggregation": null,
        "pivotColumns": null,
        "xColumns": null,
        "yColumns": null
       },
       "removedWidgets": [],
       "schema": [
        {
         "metadata": "{}",
         "name": "listing_id",
         "type": "\"string\""
        },
        {
         "metadata": "{}",
         "name": "id",
         "type": "\"string\""
        },
        {
         "metadata": "{}",
         "name": "date",
         "type": "\"string\""
        },
        {
         "metadata": "{}",
         "name": "reviewer_id",
         "type": "\"string\""
        },
        {
         "metadata": "{}",
         "name": "reviewer_name",
         "type": "\"string\""
        },
        {
         "metadata": "{}",
         "name": "comments",
         "type": "\"string\""
        }
       ],
       "type": "table"
      }
     },
     "output_type": "display_data"
    }
   ],
   "source": [
    "df_reviews_silver.limit(15).display()"
   ]
  },
  {
   "cell_type": "code",
   "execution_count": 0,
   "metadata": {
    "application/vnd.databricks.v1+cell": {
     "cellMetadata": {
      "byteLimit": 2048000,
      "rowLimit": 10000
     },
     "inputWidgets": {},
     "nuid": "8eedeb0e-f739-44f3-bdfb-e9439cb39106",
     "showTitle": false,
     "tableResultSettingsMap": {},
     "title": ""
    }
   },
   "outputs": [
    {
     "output_type": "execute_result",
     "data": {
      "text/plain": [
       "786528"
      ]
     },
     "execution_count": 190,
     "metadata": {},
     "output_type": "execute_result"
    }
   ],
   "source": [
    "df_reviews_silver.count()"
   ]
  },
  {
   "cell_type": "code",
   "execution_count": 0,
   "metadata": {
    "application/vnd.databricks.v1+cell": {
     "cellMetadata": {
      "byteLimit": 2048000,
      "rowLimit": 10000
     },
     "inputWidgets": {},
     "nuid": "dbee9907-4c60-4d5b-8e51-9aa1d4c456c8",
     "showTitle": false,
     "tableResultSettingsMap": {},
     "title": ""
    }
   },
   "outputs": [],
   "source": [
    "df_reviews_silver = df_reviews_silver.filter(~df_reviews_silver.listing_id.contains(\"<br/>\"))"
   ]
  },
  {
   "cell_type": "code",
   "execution_count": 0,
   "metadata": {
    "application/vnd.databricks.v1+cell": {
     "cellMetadata": {
      "byteLimit": 2048000,
      "rowLimit": 10000
     },
     "inputWidgets": {},
     "nuid": "337f482d-70f5-4cb8-9e45-7b34b9d842e3",
     "showTitle": false,
     "tableResultSettingsMap": {},
     "title": ""
    }
   },
   "outputs": [
    {
     "output_type": "execute_result",
     "data": {
      "text/plain": [
       "773135"
      ]
     },
     "execution_count": 192,
     "metadata": {},
     "output_type": "execute_result"
    }
   ],
   "source": [
    "df_reviews_silver.count()"
   ]
  },
  {
   "cell_type": "code",
   "execution_count": 0,
   "metadata": {
    "application/vnd.databricks.v1+cell": {
     "cellMetadata": {
      "byteLimit": 2048000,
      "rowLimit": 10000
     },
     "inputWidgets": {},
     "nuid": "ff5abd24-7fc7-46f7-8047-165db5fd8514",
     "showTitle": false,
     "tableResultSettingsMap": {},
     "title": ""
    }
   },
   "outputs": [
    {
     "output_type": "display_data",
     "data": {
      "text/html": [
       "<style scoped>\n",
       "  .table-result-container {\n",
       "    max-height: 300px;\n",
       "    overflow: auto;\n",
       "  }\n",
       "  table, th, td {\n",
       "    border: 1px solid black;\n",
       "    border-collapse: collapse;\n",
       "  }\n",
       "  th, td {\n",
       "    padding: 5px;\n",
       "  }\n",
       "  th {\n",
       "    text-align: left;\n",
       "  }\n",
       "</style><div class='table-result-container'><table class='table-result'><thead style='background-color: white'><tr><th>listing_id</th><th>id</th><th>date</th><th>reviewer_id</th><th>reviewer_name</th><th>comments</th></tr></thead><tbody><tr><td>17878</td><td>64852</td><td>2010-07-15</td><td>135370</td><td>Tia</td><td>This apartment is in a perfect location -- two blocks from the beach and two blocks from the Copacabana Palace (where anyone famous stays when they are in Rio), which means it´s a very safe neighborhood.  The pictures very accurately depict what the apartment is like, so you´ll have no surprises.  Max is very communicative and helpful.  The four of us that stayed here would highly recommend it.</td></tr><tr><td>17878</td><td>76744</td><td>2010-08-11</td><td>10206</td><td>Mimi</td><td>we had a really great experience staying in Max's apartment.  it was one block from copacabana beach with easy access to the local markets/shops.  Max was very helpful and went out of his way to send a list of suggestions on things to do.  I will refer friends to Max in the future if visiting Rio.  \n",
       "</td></tr><tr><td>17878</td><td>91074</td><td>2010-09-06</td><td>80253</td><td>Jan</td><td>Staying in Max appartment is like living in a cosy little French village and enyoing at te same time round the corner all the facilities that Rio has to offer (metro, bus, shops, restaurants, supermarkets, and of course Copa Cabana beach). Fantastic terrace, nicely decorated rooms, two spacious bedrooms, attentive doormen, and a host who really cares for his guests.  \n",
       "</td></tr><tr><td>17878</td><td>137528</td><td>2010-11-12</td><td>230449</td><td>Orene</td><td>In general very good and reasonable price.\n",
       "</td></tr><tr><td>17878</td><td>147594</td><td>2010-12-01</td><td>219338</td><td>David</td><td>The apt was nice and in a great location only a couple of blocks from the beach and shopping. Thanks for everything Max!</td></tr><tr><td>17878</td><td>152368</td><td>2010-12-12</td><td>266847</td><td>Armi</td><td>At Copacabana apartment is best the situation and BALCONY!\n",
       "</td></tr><tr><td>17878</td><td>155565</td><td>2010-12-19</td><td>243287</td><td>Jonathan</td><td>A great apartment in a great location. The close proximity to transportation, supermarkets and everyday needs was really helpful. Max was very helpful and accommodating. </td></tr><tr><td>17878</td><td>179219</td><td>2011-02-07</td><td>172558</td><td>Anna</td><td>Apartment is exactly as Max advertised. If we had any issues, he immediately solved them. In addition, the terrace was a welcome addition. However, the neighborhood is a bit dodgy. The neighbors would throw trash on the terrace which we had to toss out for them every day. Next time my friends and I will stay in Ipanema. </td></tr><tr><td>17878</td><td>186447</td><td>2011-02-22</td><td>353604</td><td>Remy</td><td>Great apartment, amazing price and location in a pedestrianised street with a great atmosphere and large bedrooms, living room and balcony. The only downside was the kitchen with two small electric hobs but we managed to get by and everything else more than made up for it. I would recommend this place to anyone!</td></tr><tr><td>220377</td><td>704349</td><td>2011-11-08</td><td>1271126</td><td>Brian</td><td>Staying at Taciana's was a GREAT experience! She is the perfect host for a stay in Rio. We stayed for a month and she was very helpful in every area. Her home is well located and is in a good neighborhood. The breakfast is also excellent. Thanks Taciana for making our stay in Rio a wonderful experience. Looking forward to visiting again. </td></tr><tr><td>220377</td><td>875049</td><td>2012-01-21</td><td>1578661</td><td>Amauri</td><td>Foi uma experiência formidável passar alguns dias hospedado com a Taciana, todos foram muito receptivos e camaradas, o apartamento é ótimo e a localização melhor ainda, nota 10 :)</td></tr><tr><td>220377</td><td>979376</td><td>2012-03-07</td><td>369312</td><td>Petr</td><td>\"Taciana is superb host. She is really nice and friendly, her apartment is really nice, very clean. She has cute dog (he is kind of lazy like Garfield cat). The room I stayed in has en-suite bathroom which makes your room like hotel room with all the privacy, but for marginal cost of hotel room in Rio de Janeiro. She serves huge breakfast with all possible options (ham, cheese, flakes, good orange juice, tea, coffee, milk, tropical fruits, etc.). Her place is in Zona Norte, about 10 minutes from Saens Pena metro station. You can have quite unique experience to get to know regular middle class brazilian lifestyle in Taciana's home and in  this neighbourhood  in general (and it is cheaper than Zona Sul and also much less \"\"artificial\"\").\"</td></tr><tr><td>220377</td><td>142096912</td><td>2017-04-06</td><td>8501984</td><td>Marilyn</td><td>Nossa experiência foi muito boa! O apartamento é seguro, limpo e tranquilo. Taciana nos ajudou com mapas e explicações, o que facilitou bastante na hora de nos aventurar pela cidade. Super indico!</td></tr><tr><td>220377</td><td>1122452741612760649</td><td>2024-03-28</td><td>74325704</td><td>Kayque</td><td>Taciana me fez sentir-se na minha própria casa. Que sorte eu tive de escolher este Airbnb no Rio de Janeiro! Além da recepção muito calorosa da anfitria, foi flexível com relação ao horário de chegada e saída. <br/>O apartamento é lindo, super limpo e bem decorado, exatamente como mostra no anúncio! Próximo a tudo que precisei, bem servido de restaurantes, academias, supermercados, academias, frutaria, etc. O bairro é bem tranquilo e acolhedor, com arredores bonito! <br/>Super recomendo, atendeu todas as expectativas! <br/>Custo x Benefício ótimo. E depois de dias fora de casa, o apto dela nos remeteu um pouco do nosso lar, onde meu filho se sentiu bem relaxado e a vontade. Pessoal recomendo, pois é um ambiente bem família.<br/>Priscila<br/>janeiro de</td></tr><tr><td>17878</td><td>191020</td><td>2011-03-01</td><td>122909</td><td>Cliff</td><td>Max was very organised and understanding to all our needs. He was very clear and honest with his apartment. The apartment was clean, safe and all the amenities was true. Very close to copacobana beach and local shops and metro station(2mins). Quiet at night when sleeping in a pretty safe neighbourhood. Strongly recommend Max's apartment and will stay here if I'm back in Rio again. Thanks Max!\n",
       "</td></tr></tbody></table></div>"
      ]
     },
     "metadata": {
      "application/vnd.databricks.v1+output": {
       "addedWidgets": {},
       "aggData": [],
       "aggError": "",
       "aggOverflow": false,
       "aggSchema": [],
       "aggSeriesLimitReached": false,
       "aggType": "",
       "arguments": {},
       "columnCustomDisplayInfos": {},
       "data": [
        [
         "17878",
         "64852",
         "2010-07-15",
         "135370",
         "Tia",
         "This apartment is in a perfect location -- two blocks from the beach and two blocks from the Copacabana Palace (where anyone famous stays when they are in Rio), which means it´s a very safe neighborhood.  The pictures very accurately depict what the apartment is like, so you´ll have no surprises.  Max is very communicative and helpful.  The four of us that stayed here would highly recommend it."
        ],
        [
         "17878",
         "76744",
         "2010-08-11",
         "10206",
         "Mimi",
         "we had a really great experience staying in Max's apartment.  it was one block from copacabana beach with easy access to the local markets/shops.  Max was very helpful and went out of his way to send a list of suggestions on things to do.  I will refer friends to Max in the future if visiting Rio.  \n"
        ],
        [
         "17878",
         "91074",
         "2010-09-06",
         "80253",
         "Jan",
         "Staying in Max appartment is like living in a cosy little French village and enyoing at te same time round the corner all the facilities that Rio has to offer (metro, bus, shops, restaurants, supermarkets, and of course Copa Cabana beach). Fantastic terrace, nicely decorated rooms, two spacious bedrooms, attentive doormen, and a host who really cares for his guests.  \n"
        ],
        [
         "17878",
         "137528",
         "2010-11-12",
         "230449",
         "Orene",
         "In general very good and reasonable price.\n"
        ],
        [
         "17878",
         "147594",
         "2010-12-01",
         "219338",
         "David",
         "The apt was nice and in a great location only a couple of blocks from the beach and shopping. Thanks for everything Max!"
        ],
        [
         "17878",
         "152368",
         "2010-12-12",
         "266847",
         "Armi",
         "At Copacabana apartment is best the situation and BALCONY!\n"
        ],
        [
         "17878",
         "155565",
         "2010-12-19",
         "243287",
         "Jonathan",
         "A great apartment in a great location. The close proximity to transportation, supermarkets and everyday needs was really helpful. Max was very helpful and accommodating. "
        ],
        [
         "17878",
         "179219",
         "2011-02-07",
         "172558",
         "Anna",
         "Apartment is exactly as Max advertised. If we had any issues, he immediately solved them. In addition, the terrace was a welcome addition. However, the neighborhood is a bit dodgy. The neighbors would throw trash on the terrace which we had to toss out for them every day. Next time my friends and I will stay in Ipanema. "
        ],
        [
         "17878",
         "186447",
         "2011-02-22",
         "353604",
         "Remy",
         "Great apartment, amazing price and location in a pedestrianised street with a great atmosphere and large bedrooms, living room and balcony. The only downside was the kitchen with two small electric hobs but we managed to get by and everything else more than made up for it. I would recommend this place to anyone!"
        ],
        [
         "220377",
         "704349",
         "2011-11-08",
         "1271126",
         "Brian",
         "Staying at Taciana's was a GREAT experience! She is the perfect host for a stay in Rio. We stayed for a month and she was very helpful in every area. Her home is well located and is in a good neighborhood. The breakfast is also excellent. Thanks Taciana for making our stay in Rio a wonderful experience. Looking forward to visiting again. "
        ],
        [
         "220377",
         "875049",
         "2012-01-21",
         "1578661",
         "Amauri",
         "Foi uma experiência formidável passar alguns dias hospedado com a Taciana, todos foram muito receptivos e camaradas, o apartamento é ótimo e a localização melhor ainda, nota 10 :)"
        ],
        [
         "220377",
         "979376",
         "2012-03-07",
         "369312",
         "Petr",
         "\"Taciana is superb host. She is really nice and friendly, her apartment is really nice, very clean. She has cute dog (he is kind of lazy like Garfield cat). The room I stayed in has en-suite bathroom which makes your room like hotel room with all the privacy, but for marginal cost of hotel room in Rio de Janeiro. She serves huge breakfast with all possible options (ham, cheese, flakes, good orange juice, tea, coffee, milk, tropical fruits, etc.). Her place is in Zona Norte, about 10 minutes from Saens Pena metro station. You can have quite unique experience to get to know regular middle class brazilian lifestyle in Taciana's home and in  this neighbourhood  in general (and it is cheaper than Zona Sul and also much less \"\"artificial\"\").\""
        ],
        [
         "220377",
         "142096912",
         "2017-04-06",
         "8501984",
         "Marilyn",
         "Nossa experiência foi muito boa! O apartamento é seguro, limpo e tranquilo. Taciana nos ajudou com mapas e explicações, o que facilitou bastante na hora de nos aventurar pela cidade. Super indico!"
        ],
        [
         "220377",
         "1122452741612760649",
         "2024-03-28",
         "74325704",
         "Kayque",
         "Taciana me fez sentir-se na minha própria casa. Que sorte eu tive de escolher este Airbnb no Rio de Janeiro! Além da recepção muito calorosa da anfitria, foi flexível com relação ao horário de chegada e saída. <br/>O apartamento é lindo, super limpo e bem decorado, exatamente como mostra no anúncio! Próximo a tudo que precisei, bem servido de restaurantes, academias, supermercados, academias, frutaria, etc. O bairro é bem tranquilo e acolhedor, com arredores bonito! <br/>Super recomendo, atendeu todas as expectativas! <br/>Custo x Benefício ótimo. E depois de dias fora de casa, o apto dela nos remeteu um pouco do nosso lar, onde meu filho se sentiu bem relaxado e a vontade. Pessoal recomendo, pois é um ambiente bem família.<br/>Priscila<br/>janeiro de"
        ],
        [
         "17878",
         "191020",
         "2011-03-01",
         "122909",
         "Cliff",
         "Max was very organised and understanding to all our needs. He was very clear and honest with his apartment. The apartment was clean, safe and all the amenities was true. Very close to copacobana beach and local shops and metro station(2mins). Quiet at night when sleeping in a pretty safe neighbourhood. Strongly recommend Max's apartment and will stay here if I'm back in Rio again. Thanks Max!\n"
        ]
       ],
       "datasetInfos": [],
       "dbfsResultPath": null,
       "isJsonSchema": true,
       "metadata": {},
       "overflow": false,
       "plotOptions": {
        "customPlotOptions": {},
        "displayType": "table",
        "pivotAggregation": null,
        "pivotColumns": null,
        "xColumns": null,
        "yColumns": null
       },
       "removedWidgets": [],
       "schema": [
        {
         "metadata": "{}",
         "name": "listing_id",
         "type": "\"string\""
        },
        {
         "metadata": "{}",
         "name": "id",
         "type": "\"string\""
        },
        {
         "metadata": "{}",
         "name": "date",
         "type": "\"string\""
        },
        {
         "metadata": "{}",
         "name": "reviewer_id",
         "type": "\"string\""
        },
        {
         "metadata": "{}",
         "name": "reviewer_name",
         "type": "\"string\""
        },
        {
         "metadata": "{}",
         "name": "comments",
         "type": "\"string\""
        }
       ],
       "type": "table"
      }
     },
     "output_type": "display_data"
    }
   ],
   "source": [
    "df_reviews_silver.limit(15).display()"
   ]
  },
  {
   "cell_type": "code",
   "execution_count": 0,
   "metadata": {
    "application/vnd.databricks.v1+cell": {
     "cellMetadata": {
      "byteLimit": 2048000,
      "rowLimit": 10000
     },
     "inputWidgets": {},
     "nuid": "2b9204e9-5ffc-453b-a376-eae0944fa509",
     "showTitle": false,
     "tableResultSettingsMap": {},
     "title": ""
    }
   },
   "outputs": [
    {
     "output_type": "stream",
     "name": "stdout",
     "output_type": "stream",
     "text": [
      "+----------+\n|listing_id|\n+----------+\n|    231497|\n|    280625|\n|    274116|\n|     66797|\n|     53533|\n|    223073|\n|    284762|\n|    284910|\n|    256323|\n|    273363|\n|     51703|\n|     48305|\n|    220377|\n|     50759|\n|    281459|\n|     48901|\n|    238802|\n|     70080|\n|    264816|\n|    272335|\n+----------+\nonly showing top 20 rows\n\n"
     ]
    }
   ],
   "source": [
    "df_reviews_silver.select(\"listing_id\").distinct().show()"
   ]
  },
  {
   "cell_type": "code",
   "execution_count": 0,
   "metadata": {
    "application/vnd.databricks.v1+cell": {
     "cellMetadata": {
      "byteLimit": 2048000,
      "rowLimit": 10000
     },
     "inputWidgets": {},
     "nuid": "010da0b9-c36b-4c7d-b29b-ad54872b3b78",
     "showTitle": false,
     "tableResultSettingsMap": {},
     "title": ""
    }
   },
   "outputs": [
    {
     "output_type": "stream",
     "name": "stdout",
     "output_type": "stream",
     "text": [
      "+--------------------+--------------------+--------------------+-----------+-------------+--------+\n|          listing_id|                  id|                date|reviewer_id|reviewer_name|comments|\n+--------------------+--------------------+--------------------+-----------+-------------+--------+\n|son unos excelent...|  ordenada con to...| amables y nos ay...|       NULL|         NULL|    NULL|\n+--------------------+--------------------+--------------------+-----------+-------------+--------+\n\n"
     ]
    }
   ],
   "source": [
    "# Filtrar linhas onde listing_id contém caracteres que não são dígitos\n",
    "non_numeric_listing_id = df_reviews_silver.filter(~df_reviews_silver.listing_id.rlike(\"^[0-9]+$\"))\n",
    "\n",
    "# Exibir as linhas que têm valores não numéricos na coluna listing_id\n",
    "non_numeric_listing_id.show()\n"
   ]
  },
  {
   "cell_type": "code",
   "execution_count": 0,
   "metadata": {
    "application/vnd.databricks.v1+cell": {
     "cellMetadata": {
      "byteLimit": 2048000,
      "rowLimit": 10000
     },
     "inputWidgets": {},
     "nuid": "2b38ccb6-a067-43b3-941a-a6ad286101dc",
     "showTitle": false,
     "tableResultSettingsMap": {},
     "title": ""
    }
   },
   "outputs": [
    {
     "output_type": "display_data",
     "data": {
      "text/html": [
       "<style scoped>\n",
       "  .table-result-container {\n",
       "    max-height: 300px;\n",
       "    overflow: auto;\n",
       "  }\n",
       "  table, th, td {\n",
       "    border: 1px solid black;\n",
       "    border-collapse: collapse;\n",
       "  }\n",
       "  th, td {\n",
       "    padding: 5px;\n",
       "  }\n",
       "  th {\n",
       "    text-align: left;\n",
       "  }\n",
       "</style><div class='table-result-container'><table class='table-result'><thead style='background-color: white'><tr><th>listing_id</th><th>id</th><th>date</th><th>reviewer_id</th><th>reviewer_name</th><th>comments</th></tr></thead><tbody><tr><td>17878</td><td>64852</td><td>2010-07-15</td><td>135370</td><td>Tia</td><td>This apartment is in a perfect location -- two blocks from the beach and two blocks from the Copacabana Palace (where anyone famous stays when they are in Rio), which means it´s a very safe neighborhood.  The pictures very accurately depict what the apartment is like, so you´ll have no surprises.  Max is very communicative and helpful.  The four of us that stayed here would highly recommend it.</td></tr><tr><td>17878</td><td>76744</td><td>2010-08-11</td><td>10206</td><td>Mimi</td><td>we had a really great experience staying in Max's apartment.  it was one block from copacabana beach with easy access to the local markets/shops.  Max was very helpful and went out of his way to send a list of suggestions on things to do.  I will refer friends to Max in the future if visiting Rio.  \n",
       "</td></tr><tr><td>17878</td><td>91074</td><td>2010-09-06</td><td>80253</td><td>Jan</td><td>Staying in Max appartment is like living in a cosy little French village and enyoing at te same time round the corner all the facilities that Rio has to offer (metro, bus, shops, restaurants, supermarkets, and of course Copa Cabana beach). Fantastic terrace, nicely decorated rooms, two spacious bedrooms, attentive doormen, and a host who really cares for his guests.  \n",
       "</td></tr><tr><td>17878</td><td>137528</td><td>2010-11-12</td><td>230449</td><td>Orene</td><td>In general very good and reasonable price.\n",
       "</td></tr><tr><td>17878</td><td>147594</td><td>2010-12-01</td><td>219338</td><td>David</td><td>The apt was nice and in a great location only a couple of blocks from the beach and shopping. Thanks for everything Max!</td></tr><tr><td>17878</td><td>152368</td><td>2010-12-12</td><td>266847</td><td>Armi</td><td>At Copacabana apartment is best the situation and BALCONY!\n",
       "</td></tr><tr><td>17878</td><td>155565</td><td>2010-12-19</td><td>243287</td><td>Jonathan</td><td>A great apartment in a great location. The close proximity to transportation, supermarkets and everyday needs was really helpful. Max was very helpful and accommodating. </td></tr><tr><td>17878</td><td>179219</td><td>2011-02-07</td><td>172558</td><td>Anna</td><td>Apartment is exactly as Max advertised. If we had any issues, he immediately solved them. In addition, the terrace was a welcome addition. However, the neighborhood is a bit dodgy. The neighbors would throw trash on the terrace which we had to toss out for them every day. Next time my friends and I will stay in Ipanema. </td></tr><tr><td>17878</td><td>186447</td><td>2011-02-22</td><td>353604</td><td>Remy</td><td>Great apartment, amazing price and location in a pedestrianised street with a great atmosphere and large bedrooms, living room and balcony. The only downside was the kitchen with two small electric hobs but we managed to get by and everything else more than made up for it. I would recommend this place to anyone!</td></tr><tr><td>220377</td><td>704349</td><td>2011-11-08</td><td>1271126</td><td>Brian</td><td>Staying at Taciana's was a GREAT experience! She is the perfect host for a stay in Rio. We stayed for a month and she was very helpful in every area. Her home is well located and is in a good neighborhood. The breakfast is also excellent. Thanks Taciana for making our stay in Rio a wonderful experience. Looking forward to visiting again. </td></tr><tr><td>220377</td><td>875049</td><td>2012-01-21</td><td>1578661</td><td>Amauri</td><td>Foi uma experiência formidável passar alguns dias hospedado com a Taciana, todos foram muito receptivos e camaradas, o apartamento é ótimo e a localização melhor ainda, nota 10 :)</td></tr><tr><td>220377</td><td>979376</td><td>2012-03-07</td><td>369312</td><td>Petr</td><td>\"Taciana is superb host. She is really nice and friendly, her apartment is really nice, very clean. She has cute dog (he is kind of lazy like Garfield cat). The room I stayed in has en-suite bathroom which makes your room like hotel room with all the privacy, but for marginal cost of hotel room in Rio de Janeiro. She serves huge breakfast with all possible options (ham, cheese, flakes, good orange juice, tea, coffee, milk, tropical fruits, etc.). Her place is in Zona Norte, about 10 minutes from Saens Pena metro station. You can have quite unique experience to get to know regular middle class brazilian lifestyle in Taciana's home and in  this neighbourhood  in general (and it is cheaper than Zona Sul and also much less \"\"artificial\"\").\"</td></tr><tr><td>220377</td><td>142096912</td><td>2017-04-06</td><td>8501984</td><td>Marilyn</td><td>Nossa experiência foi muito boa! O apartamento é seguro, limpo e tranquilo. Taciana nos ajudou com mapas e explicações, o que facilitou bastante na hora de nos aventurar pela cidade. Super indico!</td></tr><tr><td>220377</td><td>1122452741612760649</td><td>2024-03-28</td><td>74325704</td><td>Kayque</td><td>Taciana me fez sentir-se na minha própria casa. Que sorte eu tive de escolher este Airbnb no Rio de Janeiro! Além da recepção muito calorosa da anfitria, foi flexível com relação ao horário de chegada e saída. <br/>O apartamento é lindo, super limpo e bem decorado, exatamente como mostra no anúncio! Próximo a tudo que precisei, bem servido de restaurantes, academias, supermercados, academias, frutaria, etc. O bairro é bem tranquilo e acolhedor, com arredores bonito! <br/>Super recomendo, atendeu todas as expectativas! <br/>Custo x Benefício ótimo. E depois de dias fora de casa, o apto dela nos remeteu um pouco do nosso lar, onde meu filho se sentiu bem relaxado e a vontade. Pessoal recomendo, pois é um ambiente bem família.<br/>Priscila<br/>janeiro de</td></tr><tr><td>17878</td><td>191020</td><td>2011-03-01</td><td>122909</td><td>Cliff</td><td>Max was very organised and understanding to all our needs. He was very clear and honest with his apartment. The apartment was clean, safe and all the amenities was true. Very close to copacobana beach and local shops and metro station(2mins). Quiet at night when sleeping in a pretty safe neighbourhood. Strongly recommend Max's apartment and will stay here if I'm back in Rio again. Thanks Max!\n",
       "</td></tr></tbody></table></div>"
      ]
     },
     "metadata": {
      "application/vnd.databricks.v1+output": {
       "addedWidgets": {},
       "aggData": [],
       "aggError": "",
       "aggOverflow": false,
       "aggSchema": [],
       "aggSeriesLimitReached": false,
       "aggType": "",
       "arguments": {},
       "columnCustomDisplayInfos": {},
       "data": [
        [
         "17878",
         "64852",
         "2010-07-15",
         "135370",
         "Tia",
         "This apartment is in a perfect location -- two blocks from the beach and two blocks from the Copacabana Palace (where anyone famous stays when they are in Rio), which means it´s a very safe neighborhood.  The pictures very accurately depict what the apartment is like, so you´ll have no surprises.  Max is very communicative and helpful.  The four of us that stayed here would highly recommend it."
        ],
        [
         "17878",
         "76744",
         "2010-08-11",
         "10206",
         "Mimi",
         "we had a really great experience staying in Max's apartment.  it was one block from copacabana beach with easy access to the local markets/shops.  Max was very helpful and went out of his way to send a list of suggestions on things to do.  I will refer friends to Max in the future if visiting Rio.  \n"
        ],
        [
         "17878",
         "91074",
         "2010-09-06",
         "80253",
         "Jan",
         "Staying in Max appartment is like living in a cosy little French village and enyoing at te same time round the corner all the facilities that Rio has to offer (metro, bus, shops, restaurants, supermarkets, and of course Copa Cabana beach). Fantastic terrace, nicely decorated rooms, two spacious bedrooms, attentive doormen, and a host who really cares for his guests.  \n"
        ],
        [
         "17878",
         "137528",
         "2010-11-12",
         "230449",
         "Orene",
         "In general very good and reasonable price.\n"
        ],
        [
         "17878",
         "147594",
         "2010-12-01",
         "219338",
         "David",
         "The apt was nice and in a great location only a couple of blocks from the beach and shopping. Thanks for everything Max!"
        ],
        [
         "17878",
         "152368",
         "2010-12-12",
         "266847",
         "Armi",
         "At Copacabana apartment is best the situation and BALCONY!\n"
        ],
        [
         "17878",
         "155565",
         "2010-12-19",
         "243287",
         "Jonathan",
         "A great apartment in a great location. The close proximity to transportation, supermarkets and everyday needs was really helpful. Max was very helpful and accommodating. "
        ],
        [
         "17878",
         "179219",
         "2011-02-07",
         "172558",
         "Anna",
         "Apartment is exactly as Max advertised. If we had any issues, he immediately solved them. In addition, the terrace was a welcome addition. However, the neighborhood is a bit dodgy. The neighbors would throw trash on the terrace which we had to toss out for them every day. Next time my friends and I will stay in Ipanema. "
        ],
        [
         "17878",
         "186447",
         "2011-02-22",
         "353604",
         "Remy",
         "Great apartment, amazing price and location in a pedestrianised street with a great atmosphere and large bedrooms, living room and balcony. The only downside was the kitchen with two small electric hobs but we managed to get by and everything else more than made up for it. I would recommend this place to anyone!"
        ],
        [
         "220377",
         "704349",
         "2011-11-08",
         "1271126",
         "Brian",
         "Staying at Taciana's was a GREAT experience! She is the perfect host for a stay in Rio. We stayed for a month and she was very helpful in every area. Her home is well located and is in a good neighborhood. The breakfast is also excellent. Thanks Taciana for making our stay in Rio a wonderful experience. Looking forward to visiting again. "
        ],
        [
         "220377",
         "875049",
         "2012-01-21",
         "1578661",
         "Amauri",
         "Foi uma experiência formidável passar alguns dias hospedado com a Taciana, todos foram muito receptivos e camaradas, o apartamento é ótimo e a localização melhor ainda, nota 10 :)"
        ],
        [
         "220377",
         "979376",
         "2012-03-07",
         "369312",
         "Petr",
         "\"Taciana is superb host. She is really nice and friendly, her apartment is really nice, very clean. She has cute dog (he is kind of lazy like Garfield cat). The room I stayed in has en-suite bathroom which makes your room like hotel room with all the privacy, but for marginal cost of hotel room in Rio de Janeiro. She serves huge breakfast with all possible options (ham, cheese, flakes, good orange juice, tea, coffee, milk, tropical fruits, etc.). Her place is in Zona Norte, about 10 minutes from Saens Pena metro station. You can have quite unique experience to get to know regular middle class brazilian lifestyle in Taciana's home and in  this neighbourhood  in general (and it is cheaper than Zona Sul and also much less \"\"artificial\"\").\""
        ],
        [
         "220377",
         "142096912",
         "2017-04-06",
         "8501984",
         "Marilyn",
         "Nossa experiência foi muito boa! O apartamento é seguro, limpo e tranquilo. Taciana nos ajudou com mapas e explicações, o que facilitou bastante na hora de nos aventurar pela cidade. Super indico!"
        ],
        [
         "220377",
         "1122452741612760649",
         "2024-03-28",
         "74325704",
         "Kayque",
         "Taciana me fez sentir-se na minha própria casa. Que sorte eu tive de escolher este Airbnb no Rio de Janeiro! Além da recepção muito calorosa da anfitria, foi flexível com relação ao horário de chegada e saída. <br/>O apartamento é lindo, super limpo e bem decorado, exatamente como mostra no anúncio! Próximo a tudo que precisei, bem servido de restaurantes, academias, supermercados, academias, frutaria, etc. O bairro é bem tranquilo e acolhedor, com arredores bonito! <br/>Super recomendo, atendeu todas as expectativas! <br/>Custo x Benefício ótimo. E depois de dias fora de casa, o apto dela nos remeteu um pouco do nosso lar, onde meu filho se sentiu bem relaxado e a vontade. Pessoal recomendo, pois é um ambiente bem família.<br/>Priscila<br/>janeiro de"
        ],
        [
         "17878",
         "191020",
         "2011-03-01",
         "122909",
         "Cliff",
         "Max was very organised and understanding to all our needs. He was very clear and honest with his apartment. The apartment was clean, safe and all the amenities was true. Very close to copacobana beach and local shops and metro station(2mins). Quiet at night when sleeping in a pretty safe neighbourhood. Strongly recommend Max's apartment and will stay here if I'm back in Rio again. Thanks Max!\n"
        ]
       ],
       "datasetInfos": [],
       "dbfsResultPath": null,
       "isJsonSchema": true,
       "metadata": {},
       "overflow": false,
       "plotOptions": {
        "customPlotOptions": {},
        "displayType": "table",
        "pivotAggregation": null,
        "pivotColumns": null,
        "xColumns": null,
        "yColumns": null
       },
       "removedWidgets": [],
       "schema": [
        {
         "metadata": "{}",
         "name": "listing_id",
         "type": "\"string\""
        },
        {
         "metadata": "{}",
         "name": "id",
         "type": "\"string\""
        },
        {
         "metadata": "{}",
         "name": "date",
         "type": "\"string\""
        },
        {
         "metadata": "{}",
         "name": "reviewer_id",
         "type": "\"string\""
        },
        {
         "metadata": "{}",
         "name": "reviewer_name",
         "type": "\"string\""
        },
        {
         "metadata": "{}",
         "name": "comments",
         "type": "\"string\""
        }
       ],
       "type": "table"
      }
     },
     "output_type": "display_data"
    }
   ],
   "source": [
    "# Remover linhas onde listing_id contém a substring \"son unos excelent\"\n",
    "df_reviews_silver = df_reviews_silver.filter(~df_reviews_silver.listing_id.contains(\"son unos excelent\"))\n",
    "\n",
    "# Exibir o DataFrame atualizado para verificar a remoção\n",
    "df_reviews_silver.limit(15).display()\n"
   ]
  },
  {
   "cell_type": "code",
   "execution_count": 0,
   "metadata": {
    "application/vnd.databricks.v1+cell": {
     "cellMetadata": {
      "byteLimit": 2048000,
      "rowLimit": 10000
     },
     "inputWidgets": {},
     "nuid": "a46032e4-e60d-4999-a142-8d8cbcde8cb6",
     "showTitle": false,
     "tableResultSettingsMap": {},
     "title": ""
    }
   },
   "outputs": [
    {
     "output_type": "execute_result",
     "data": {
      "text/plain": [
       "773134"
      ]
     },
     "execution_count": 197,
     "metadata": {},
     "output_type": "execute_result"
    }
   ],
   "source": [
    "df_reviews_silver.count()"
   ]
  },
  {
   "cell_type": "code",
   "execution_count": 0,
   "metadata": {
    "application/vnd.databricks.v1+cell": {
     "cellMetadata": {
      "byteLimit": 2048000,
      "rowLimit": 10000
     },
     "inputWidgets": {},
     "nuid": "5bb7a194-ac87-4927-9b3b-dfcc44da9581",
     "showTitle": false,
     "tableResultSettingsMap": {},
     "title": ""
    }
   },
   "outputs": [
    {
     "output_type": "stream",
     "name": "stdout",
     "output_type": "stream",
     "text": [
      "+-------------------+\n|                 id|\n+-------------------+\n|             901921|\n|          229577499|\n|          726773980|\n|           30006225|\n|          197464650|\n|            3030654|\n|          497376132|\n|          531468669|\n|            3370243|\n|            3772922|\n|          229760847|\n|1050064406415027936|\n|            2861274|\n|          241780116|\n|          350828440|\n|            3409929|\n|           29926738|\n|            8486820|\n|           62800569|\n|             208148|\n|          754670708|\n| 803650400872468532|\n| 678191185485352345|\n|           64635691|\n|          248412756|\n| 528134028429252242|\n| 951497608958559976|\n|          114077076|\n|          213666746|\n|          552429192|\n|            8054829|\n| 805022884171051061|\n|            2140564|\n|            1350996|\n|          621917318|\n|           17929511|\n|           70117217|\n|            8077269|\n|           47208240|\n|          197038516|\n|          539552676|\n|          543817326|\n|          128405108|\n| 770930568986681532|\n|          140926023|\n|           11818758|\n|          142096912|\n|            1069397|\n|           11017680|\n|          130532672|\n+-------------------+\nonly showing top 50 rows\n\n"
     ]
    }
   ],
   "source": [
    "df_reviews_silver.select(\"id\").distinct().show(50)"
   ]
  },
  {
   "cell_type": "code",
   "execution_count": 0,
   "metadata": {
    "application/vnd.databricks.v1+cell": {
     "cellMetadata": {
      "byteLimit": 2048000,
      "rowLimit": 10000
     },
     "inputWidgets": {},
     "nuid": "73bb657e-d220-4b38-a06d-24fe09a528ea",
     "showTitle": false,
     "tableResultSettingsMap": {},
     "title": ""
    }
   },
   "outputs": [
    {
     "output_type": "display_data",
     "data": {
      "text/html": [
       "<style scoped>\n",
       "  .table-result-container {\n",
       "    max-height: 300px;\n",
       "    overflow: auto;\n",
       "  }\n",
       "  table, th, td {\n",
       "    border: 1px solid black;\n",
       "    border-collapse: collapse;\n",
       "  }\n",
       "  th, td {\n",
       "    padding: 5px;\n",
       "  }\n",
       "  th {\n",
       "    text-align: left;\n",
       "  }\n",
       "</style><div class='table-result-container'><table class='table-result'><thead style='background-color: white'><tr><th>listing_id</th><th>id</th><th>date</th><th>reviewer_id</th><th>reviewer_name</th><th>comments</th></tr></thead><tbody><tr><td>0</td><td>0</td><td>0</td><td>0</td><td>0</td><td>0</td></tr></tbody></table></div>"
      ]
     },
     "metadata": {
      "application/vnd.databricks.v1+output": {
       "addedWidgets": {},
       "aggData": [],
       "aggError": "",
       "aggOverflow": false,
       "aggSchema": [],
       "aggSeriesLimitReached": false,
       "aggType": "",
       "arguments": {},
       "columnCustomDisplayInfos": {},
       "data": [
        [
         0,
         0,
         0,
         0,
         0,
         0
        ]
       ],
       "datasetInfos": [],
       "dbfsResultPath": null,
       "isJsonSchema": true,
       "metadata": {},
       "overflow": false,
       "plotOptions": {
        "customPlotOptions": {},
        "displayType": "table",
        "pivotAggregation": null,
        "pivotColumns": null,
        "xColumns": null,
        "yColumns": null
       },
       "removedWidgets": [],
       "schema": [
        {
         "metadata": "{}",
         "name": "listing_id",
         "type": "\"long\""
        },
        {
         "metadata": "{}",
         "name": "id",
         "type": "\"long\""
        },
        {
         "metadata": "{}",
         "name": "date",
         "type": "\"long\""
        },
        {
         "metadata": "{}",
         "name": "reviewer_id",
         "type": "\"long\""
        },
        {
         "metadata": "{}",
         "name": "reviewer_name",
         "type": "\"long\""
        },
        {
         "metadata": "{}",
         "name": "comments",
         "type": "\"long\""
        }
       ],
       "type": "table"
      }
     },
     "output_type": "display_data"
    }
   ],
   "source": [
    "# Contar valores NULL em cada coluna\n",
    "null_counts = df_reviews_silver.select([\n",
    "    sum(col(column).isNull().cast(\"int\")).alias(column) for column in df_reviews_silver.columns\n",
    "])\n",
    "\n",
    "# Exibir o número de valores NULL em cada coluna\n",
    "display(null_counts)"
   ]
  },
  {
   "cell_type": "code",
   "execution_count": 0,
   "metadata": {
    "application/vnd.databricks.v1+cell": {
     "cellMetadata": {
      "byteLimit": 2048000,
      "rowLimit": 10000
     },
     "inputWidgets": {},
     "nuid": "2ba17c39-3712-4729-b66a-961a4051c46e",
     "showTitle": false,
     "tableResultSettingsMap": {},
     "title": ""
    }
   },
   "outputs": [],
   "source": [
    "# Converter a coluna listing_id para o tipo Long\n",
    "df_reviews_silver = df_reviews_silver.withColumn(\"listing_id\", df_reviews_silver[\"listing_id\"].cast(LongType()))"
   ]
  },
  {
   "cell_type": "code",
   "execution_count": 0,
   "metadata": {
    "application/vnd.databricks.v1+cell": {
     "cellMetadata": {
      "byteLimit": 2048000,
      "rowLimit": 10000
     },
     "inputWidgets": {},
     "nuid": "057f6ffb-e1d3-42fa-a34b-f908371daf37",
     "showTitle": false,
     "tableResultSettingsMap": {},
     "title": ""
    }
   },
   "outputs": [],
   "source": [
    "# Converter a coluna id para o tipo Long\n",
    "df_reviews_silver = df_reviews_silver.withColumn(\"id\", df_reviews_silver[\"id\"].cast(LongType()))"
   ]
  },
  {
   "cell_type": "code",
   "execution_count": 0,
   "metadata": {
    "application/vnd.databricks.v1+cell": {
     "cellMetadata": {
      "byteLimit": 2048000,
      "rowLimit": 10000
     },
     "inputWidgets": {},
     "nuid": "4d1c2d53-19ef-4c21-905d-bb7be2b52adb",
     "showTitle": false,
     "tableResultSettingsMap": {},
     "title": ""
    }
   },
   "outputs": [],
   "source": [
    "# Converter `date` para formato DateType\n",
    "df_reviews_silver = df_reviews_silver.withColumn(\"date\", to_date(df_reviews_silver[\"date\"], \"yyyy-MM-dd\"))"
   ]
  },
  {
   "cell_type": "code",
   "execution_count": 0,
   "metadata": {
    "application/vnd.databricks.v1+cell": {
     "cellMetadata": {
      "byteLimit": 2048000,
      "rowLimit": 10000
     },
     "inputWidgets": {},
     "nuid": "bb55ef79-305a-45f6-ab19-ae0d7f112f9c",
     "showTitle": false,
     "tableResultSettingsMap": {},
     "title": ""
    }
   },
   "outputs": [],
   "source": [
    "# Converter `reviewer_id` para IntegerType após a remoção dos valores grandes\n",
    "df_reviews_silver = df_reviews_silver.withColumn(\"reviewer_id\", col(\"reviewer_id\").cast(IntegerType()))"
   ]
  },
  {
   "cell_type": "code",
   "execution_count": 0,
   "metadata": {
    "application/vnd.databricks.v1+cell": {
     "cellMetadata": {
      "byteLimit": 2048000,
      "rowLimit": 10000
     },
     "inputWidgets": {},
     "nuid": "8845fc92-c792-4403-920a-22d07b07c0e4",
     "showTitle": false,
     "tableResultSettingsMap": {},
     "title": ""
    }
   },
   "outputs": [
    {
     "output_type": "execute_result",
     "data": {
      "text/plain": [
       "773134"
      ]
     },
     "execution_count": 204,
     "metadata": {},
     "output_type": "execute_result"
    }
   ],
   "source": [
    "df_reviews_silver.count()"
   ]
  },
  {
   "cell_type": "code",
   "execution_count": 0,
   "metadata": {
    "application/vnd.databricks.v1+cell": {
     "cellMetadata": {
      "byteLimit": 2048000,
      "rowLimit": 10000
     },
     "inputWidgets": {},
     "nuid": "9645d4d5-6254-452b-b23f-7c5269c88e19",
     "showTitle": false,
     "tableResultSettingsMap": {},
     "title": ""
    }
   },
   "outputs": [
    {
     "output_type": "display_data",
     "data": {
      "text/html": [
       "<style scoped>\n",
       "  .table-result-container {\n",
       "    max-height: 300px;\n",
       "    overflow: auto;\n",
       "  }\n",
       "  table, th, td {\n",
       "    border: 1px solid black;\n",
       "    border-collapse: collapse;\n",
       "  }\n",
       "  th, td {\n",
       "    padding: 5px;\n",
       "  }\n",
       "  th {\n",
       "    text-align: left;\n",
       "  }\n",
       "</style><div class='table-result-container'><table class='table-result'><thead style='background-color: white'><tr><th>listing_id</th><th>id</th><th>date</th><th>reviewer_id</th><th>reviewer_name</th><th>comments</th></tr></thead><tbody><tr><td>0</td><td>0</td><td>0</td><td>0</td><td>0</td><td>0</td></tr></tbody></table></div>"
      ]
     },
     "metadata": {
      "application/vnd.databricks.v1+output": {
       "addedWidgets": {},
       "aggData": [],
       "aggError": "",
       "aggOverflow": false,
       "aggSchema": [],
       "aggSeriesLimitReached": false,
       "aggType": "",
       "arguments": {},
       "columnCustomDisplayInfos": {},
       "data": [
        [
         0,
         0,
         0,
         0,
         0,
         0
        ]
       ],
       "datasetInfos": [],
       "dbfsResultPath": null,
       "isJsonSchema": true,
       "metadata": {},
       "overflow": false,
       "plotOptions": {
        "customPlotOptions": {},
        "displayType": "table",
        "pivotAggregation": null,
        "pivotColumns": null,
        "xColumns": null,
        "yColumns": null
       },
       "removedWidgets": [],
       "schema": [
        {
         "metadata": "{}",
         "name": "listing_id",
         "type": "\"long\""
        },
        {
         "metadata": "{}",
         "name": "id",
         "type": "\"long\""
        },
        {
         "metadata": "{}",
         "name": "date",
         "type": "\"long\""
        },
        {
         "metadata": "{}",
         "name": "reviewer_id",
         "type": "\"long\""
        },
        {
         "metadata": "{}",
         "name": "reviewer_name",
         "type": "\"long\""
        },
        {
         "metadata": "{}",
         "name": "comments",
         "type": "\"long\""
        }
       ],
       "type": "table"
      }
     },
     "output_type": "display_data"
    }
   ],
   "source": [
    "# Contar valores NULL em cada coluna\n",
    "null_counts = df_reviews_silver.select([\n",
    "    sum(col(column).isNull().cast(\"int\")).alias(column) for column in df_reviews_silver.columns\n",
    "])\n",
    "\n",
    "# Exibir o número de valores NULL em cada coluna\n",
    "display(null_counts)"
   ]
  },
  {
   "cell_type": "code",
   "execution_count": 0,
   "metadata": {
    "application/vnd.databricks.v1+cell": {
     "cellMetadata": {
      "byteLimit": 2048000,
      "rowLimit": 10000
     },
     "inputWidgets": {},
     "nuid": "47c0b2ad-3e00-40ee-b5f0-7d22eebbf71f",
     "showTitle": false,
     "tableResultSettingsMap": {},
     "title": ""
    }
   },
   "outputs": [
    {
     "output_type": "display_data",
     "data": {
      "text/html": [
       "<style scoped>\n",
       "  .table-result-container {\n",
       "    max-height: 300px;\n",
       "    overflow: auto;\n",
       "  }\n",
       "  table, th, td {\n",
       "    border: 1px solid black;\n",
       "    border-collapse: collapse;\n",
       "  }\n",
       "  th, td {\n",
       "    padding: 5px;\n",
       "  }\n",
       "  th {\n",
       "    text-align: left;\n",
       "  }\n",
       "</style><div class='table-result-container'><table class='table-result'><thead style='background-color: white'><tr><th>summary</th><th>listing_id</th><th>id</th><th>reviewer_id</th><th>reviewer_name</th><th>comments</th></tr></thead><tbody><tr><td>count</td><td>773134</td><td>773134</td><td>773134</td><td>773134</td><td>773134</td></tr><tr><td>mean</td><td>2.16259305198400928E17</td><td>6.2566621489560512E17</td><td>2.0997711557283342E8</td><td>NaN</td><td>NaN</td></tr><tr><td>stddev</td><td>3.6714583129994618E17</td><td>4.3570355505676678E17</td><td>1.6539664938077334E8</td><td>NaN</td><td>NaN</td></tr><tr><td>min</td><td>17878</td><td>50636</td><td>5</td><td>#Fealvaris</td><td>\n",
       "</td></tr><tr><td>max</td><td>1183434318142129480</td><td>1188558688451904472</td><td>585302231</td><td>희철</td><td>🫶🏾</td></tr></tbody></table></div>"
      ]
     },
     "metadata": {
      "application/vnd.databricks.v1+output": {
       "addedWidgets": {},
       "aggData": [],
       "aggError": "",
       "aggOverflow": false,
       "aggSchema": [],
       "aggSeriesLimitReached": false,
       "aggType": "",
       "arguments": {},
       "columnCustomDisplayInfos": {},
       "data": [
        [
         "count",
         "773134",
         "773134",
         "773134",
         "773134",
         "773134"
        ],
        [
         "mean",
         "2.16259305198400928E17",
         "6.2566621489560512E17",
         "2.0997711557283342E8",
         "NaN",
         "NaN"
        ],
        [
         "stddev",
         "3.6714583129994618E17",
         "4.3570355505676678E17",
         "1.6539664938077334E8",
         "NaN",
         "NaN"
        ],
        [
         "min",
         "17878",
         "50636",
         "5",
         "#Fealvaris",
         "\n"
        ],
        [
         "max",
         "1183434318142129480",
         "1188558688451904472",
         "585302231",
         "희철",
         "🫶🏾"
        ]
       ],
       "datasetInfos": [],
       "dbfsResultPath": null,
       "isJsonSchema": true,
       "metadata": {},
       "overflow": false,
       "plotOptions": {
        "customPlotOptions": {},
        "displayType": "table",
        "pivotAggregation": null,
        "pivotColumns": null,
        "xColumns": null,
        "yColumns": null
       },
       "removedWidgets": [],
       "schema": [
        {
         "metadata": "{}",
         "name": "summary",
         "type": "\"string\""
        },
        {
         "metadata": "{}",
         "name": "listing_id",
         "type": "\"string\""
        },
        {
         "metadata": "{}",
         "name": "id",
         "type": "\"string\""
        },
        {
         "metadata": "{}",
         "name": "reviewer_id",
         "type": "\"string\""
        },
        {
         "metadata": "{}",
         "name": "reviewer_name",
         "type": "\"string\""
        },
        {
         "metadata": "{}",
         "name": "comments",
         "type": "\"string\""
        }
       ],
       "type": "table"
      }
     },
     "output_type": "display_data"
    }
   ],
   "source": [
    "df_reviews_silver.describe().display()"
   ]
  },
  {
   "cell_type": "code",
   "execution_count": 0,
   "metadata": {
    "application/vnd.databricks.v1+cell": {
     "cellMetadata": {
      "byteLimit": 2048000,
      "rowLimit": 10000
     },
     "inputWidgets": {},
     "nuid": "3a8e9c0c-c585-4b70-8b71-12026109aeaf",
     "showTitle": false,
     "tableResultSettingsMap": {},
     "title": ""
    }
   },
   "outputs": [
    {
     "output_type": "stream",
     "name": "stdout",
     "output_type": "stream",
     "text": [
      "root\n |-- listing_id: long (nullable = true)\n |-- id: long (nullable = true)\n |-- date: date (nullable = true)\n |-- reviewer_id: integer (nullable = true)\n |-- reviewer_name: string (nullable = true)\n |-- comments: string (nullable = true)\n\n"
     ]
    }
   ],
   "source": [
    "df_reviews_silver.printSchema()"
   ]
  },
  {
   "cell_type": "code",
   "execution_count": 0,
   "metadata": {
    "application/vnd.databricks.v1+cell": {
     "cellMetadata": {
      "byteLimit": 2048000,
      "rowLimit": 10000
     },
     "inputWidgets": {},
     "nuid": "f8035cbe-ff0e-4ea2-808f-e20eff18ab45",
     "showTitle": false,
     "tableResultSettingsMap": {},
     "title": ""
    }
   },
   "outputs": [],
   "source": [
    "# Converter `date` para formato DateType\n",
    "df_reviews_silver = df_reviews_silver.withColumn(\"date\", to_date(df_reviews_silver[\"date\"], \"yyyy-MM-dd\"))"
   ]
  },
  {
   "cell_type": "code",
   "execution_count": 0,
   "metadata": {
    "application/vnd.databricks.v1+cell": {
     "cellMetadata": {
      "byteLimit": 2048000,
      "rowLimit": 10000
     },
     "inputWidgets": {},
     "nuid": "538aa223-3bff-4e53-b5ab-29b6e587d34e",
     "showTitle": false,
     "tableResultSettingsMap": {},
     "title": ""
    }
   },
   "outputs": [
    {
     "output_type": "display_data",
     "data": {
      "text/html": [
       "<style scoped>\n",
       "  .table-result-container {\n",
       "    max-height: 300px;\n",
       "    overflow: auto;\n",
       "  }\n",
       "  table, th, td {\n",
       "    border: 1px solid black;\n",
       "    border-collapse: collapse;\n",
       "  }\n",
       "  th, td {\n",
       "    padding: 5px;\n",
       "  }\n",
       "  th {\n",
       "    text-align: left;\n",
       "  }\n",
       "</style><div class='table-result-container'><table class='table-result'><thead style='background-color: white'><tr><th>listing_id</th><th>id</th><th>date</th><th>reviewer_id</th><th>reviewer_name</th><th>comments</th></tr></thead><tbody><tr><td>17878</td><td>64852</td><td>2010-07-15</td><td>135370</td><td>Tia</td><td>This apartment is in a perfect location -- two blocks from the beach and two blocks from the Copacabana Palace (where anyone famous stays when they are in Rio), which means it´s a very safe neighborhood.  The pictures very accurately depict what the apartment is like, so you´ll have no surprises.  Max is very communicative and helpful.  The four of us that stayed here would highly recommend it.</td></tr><tr><td>17878</td><td>76744</td><td>2010-08-11</td><td>10206</td><td>Mimi</td><td>we had a really great experience staying in Max's apartment.  it was one block from copacabana beach with easy access to the local markets/shops.  Max was very helpful and went out of his way to send a list of suggestions on things to do.  I will refer friends to Max in the future if visiting Rio.  \n",
       "</td></tr><tr><td>17878</td><td>91074</td><td>2010-09-06</td><td>80253</td><td>Jan</td><td>Staying in Max appartment is like living in a cosy little French village and enyoing at te same time round the corner all the facilities that Rio has to offer (metro, bus, shops, restaurants, supermarkets, and of course Copa Cabana beach). Fantastic terrace, nicely decorated rooms, two spacious bedrooms, attentive doormen, and a host who really cares for his guests.  \n",
       "</td></tr><tr><td>17878</td><td>137528</td><td>2010-11-12</td><td>230449</td><td>Orene</td><td>In general very good and reasonable price.\n",
       "</td></tr><tr><td>17878</td><td>147594</td><td>2010-12-01</td><td>219338</td><td>David</td><td>The apt was nice and in a great location only a couple of blocks from the beach and shopping. Thanks for everything Max!</td></tr></tbody></table></div>"
      ]
     },
     "metadata": {
      "application/vnd.databricks.v1+output": {
       "addedWidgets": {},
       "aggData": [],
       "aggError": "",
       "aggOverflow": false,
       "aggSchema": [],
       "aggSeriesLimitReached": false,
       "aggType": "",
       "arguments": {},
       "columnCustomDisplayInfos": {},
       "data": [
        [
         17878,
         64852,
         "2010-07-15",
         135370,
         "Tia",
         "This apartment is in a perfect location -- two blocks from the beach and two blocks from the Copacabana Palace (where anyone famous stays when they are in Rio), which means it´s a very safe neighborhood.  The pictures very accurately depict what the apartment is like, so you´ll have no surprises.  Max is very communicative and helpful.  The four of us that stayed here would highly recommend it."
        ],
        [
         17878,
         76744,
         "2010-08-11",
         10206,
         "Mimi",
         "we had a really great experience staying in Max's apartment.  it was one block from copacabana beach with easy access to the local markets/shops.  Max was very helpful and went out of his way to send a list of suggestions on things to do.  I will refer friends to Max in the future if visiting Rio.  \n"
        ],
        [
         17878,
         91074,
         "2010-09-06",
         80253,
         "Jan",
         "Staying in Max appartment is like living in a cosy little French village and enyoing at te same time round the corner all the facilities that Rio has to offer (metro, bus, shops, restaurants, supermarkets, and of course Copa Cabana beach). Fantastic terrace, nicely decorated rooms, two spacious bedrooms, attentive doormen, and a host who really cares for his guests.  \n"
        ],
        [
         17878,
         137528,
         "2010-11-12",
         230449,
         "Orene",
         "In general very good and reasonable price.\n"
        ],
        [
         17878,
         147594,
         "2010-12-01",
         219338,
         "David",
         "The apt was nice and in a great location only a couple of blocks from the beach and shopping. Thanks for everything Max!"
        ]
       ],
       "datasetInfos": [],
       "dbfsResultPath": null,
       "isJsonSchema": true,
       "metadata": {},
       "overflow": false,
       "plotOptions": {
        "customPlotOptions": {},
        "displayType": "table",
        "pivotAggregation": null,
        "pivotColumns": null,
        "xColumns": null,
        "yColumns": null
       },
       "removedWidgets": [],
       "schema": [
        {
         "metadata": "{}",
         "name": "listing_id",
         "type": "\"long\""
        },
        {
         "metadata": "{}",
         "name": "id",
         "type": "\"long\""
        },
        {
         "metadata": "{}",
         "name": "date",
         "type": "\"date\""
        },
        {
         "metadata": "{}",
         "name": "reviewer_id",
         "type": "\"integer\""
        },
        {
         "metadata": "{}",
         "name": "reviewer_name",
         "type": "\"string\""
        },
        {
         "metadata": "{}",
         "name": "comments",
         "type": "\"string\""
        }
       ],
       "type": "table"
      }
     },
     "output_type": "display_data"
    }
   ],
   "source": [
    "df_reviews_silver.limit(5).display()"
   ]
  },
  {
   "cell_type": "code",
   "execution_count": 0,
   "metadata": {
    "application/vnd.databricks.v1+cell": {
     "cellMetadata": {
      "byteLimit": 2048000,
      "rowLimit": 10000
     },
     "inputWidgets": {},
     "nuid": "b0ab5cd4-cd29-4462-8738-5cb612104433",
     "showTitle": false,
     "tableResultSettingsMap": {},
     "title": ""
    }
   },
   "outputs": [
    {
     "output_type": "execute_result",
     "data": {
      "text/plain": [
       "773134"
      ]
     },
     "execution_count": 210,
     "metadata": {},
     "output_type": "execute_result"
    }
   ],
   "source": [
    "df_reviews_silver.count()"
   ]
  },
  {
   "cell_type": "code",
   "execution_count": 0,
   "metadata": {
    "application/vnd.databricks.v1+cell": {
     "cellMetadata": {
      "byteLimit": 2048000,
      "rowLimit": 10000
     },
     "inputWidgets": {},
     "nuid": "ba346697-2da9-4cb7-a819-09a2b65aa1a0",
     "showTitle": false,
     "tableResultSettingsMap": {},
     "title": ""
    }
   },
   "outputs": [
    {
     "output_type": "display_data",
     "data": {
      "text/html": [
       "<style scoped>\n",
       "  .table-result-container {\n",
       "    max-height: 300px;\n",
       "    overflow: auto;\n",
       "  }\n",
       "  table, th, td {\n",
       "    border: 1px solid black;\n",
       "    border-collapse: collapse;\n",
       "  }\n",
       "  th, td {\n",
       "    padding: 5px;\n",
       "  }\n",
       "  th {\n",
       "    text-align: left;\n",
       "  }\n",
       "</style><div class='table-result-container'><table class='table-result'><thead style='background-color: white'><tr><th>listing_id</th><th>id</th><th>date</th><th>reviewer_id</th><th>reviewer_name</th><th>comments</th></tr></thead><tbody><tr><td>0</td><td>0</td><td>0</td><td>0</td><td>0</td><td>0</td></tr></tbody></table></div>"
      ]
     },
     "metadata": {
      "application/vnd.databricks.v1+output": {
       "addedWidgets": {},
       "aggData": [],
       "aggError": "",
       "aggOverflow": false,
       "aggSchema": [],
       "aggSeriesLimitReached": false,
       "aggType": "",
       "arguments": {},
       "columnCustomDisplayInfos": {},
       "data": [
        [
         0,
         0,
         0,
         0,
         0,
         0
        ]
       ],
       "datasetInfos": [],
       "dbfsResultPath": null,
       "isJsonSchema": true,
       "metadata": {},
       "overflow": false,
       "plotOptions": {
        "customPlotOptions": {},
        "displayType": "table",
        "pivotAggregation": null,
        "pivotColumns": null,
        "xColumns": null,
        "yColumns": null
       },
       "removedWidgets": [],
       "schema": [
        {
         "metadata": "{}",
         "name": "listing_id",
         "type": "\"long\""
        },
        {
         "metadata": "{}",
         "name": "id",
         "type": "\"long\""
        },
        {
         "metadata": "{}",
         "name": "date",
         "type": "\"long\""
        },
        {
         "metadata": "{}",
         "name": "reviewer_id",
         "type": "\"long\""
        },
        {
         "metadata": "{}",
         "name": "reviewer_name",
         "type": "\"long\""
        },
        {
         "metadata": "{}",
         "name": "comments",
         "type": "\"long\""
        }
       ],
       "type": "table"
      }
     },
     "output_type": "display_data"
    }
   ],
   "source": [
    "# Contar valores NULL em cada coluna\n",
    "null_counts = df_reviews_silver.select([\n",
    "    sum(col(column).isNull().cast(\"int\")).alias(column) for column in df_reviews_silver.columns\n",
    "])\n",
    "\n",
    "# Exibir o número de valores NULL em cada coluna\n",
    "display(null_counts)"
   ]
  },
  {
   "cell_type": "code",
   "execution_count": 0,
   "metadata": {
    "application/vnd.databricks.v1+cell": {
     "cellMetadata": {
      "byteLimit": 2048000,
      "rowLimit": 10000
     },
     "inputWidgets": {},
     "nuid": "2349659b-24d6-48f4-8364-1b445f5503b4",
     "showTitle": false,
     "tableResultSettingsMap": {},
     "title": ""
    }
   },
   "outputs": [
    {
     "output_type": "display_data",
     "data": {
      "text/html": [
       "<style scoped>\n",
       "  .table-result-container {\n",
       "    max-height: 300px;\n",
       "    overflow: auto;\n",
       "  }\n",
       "  table, th, td {\n",
       "    border: 1px solid black;\n",
       "    border-collapse: collapse;\n",
       "  }\n",
       "  th, td {\n",
       "    padding: 5px;\n",
       "  }\n",
       "  th {\n",
       "    text-align: left;\n",
       "  }\n",
       "</style><div class='table-result-container'><table class='table-result'><thead style='background-color: white'><tr><th>listing_id</th><th>date</th><th>available</th><th>price</th><th>adjusted_price</th><th>minimum_nights</th><th>maximum_nights</th></tr></thead><tbody><tr><td>297908</td><td>2024-06-27</td><td>f</td><td>$250.00</td><td>null</td><td>2</td><td>1125</td></tr><tr><td>17878</td><td>2024-06-28</td><td>f</td><td>$350.00</td><td>null</td><td>5</td><td>28</td></tr><tr><td>17878</td><td>2024-06-29</td><td>f</td><td>$350.00</td><td>null</td><td>5</td><td>28</td></tr><tr><td>17878</td><td>2024-06-30</td><td>f</td><td>$350.00</td><td>null</td><td>5</td><td>28</td></tr><tr><td>17878</td><td>2024-07-01</td><td>f</td><td>$350.00</td><td>null</td><td>5</td><td>28</td></tr><tr><td>17878</td><td>2024-07-02</td><td>f</td><td>$350.00</td><td>null</td><td>5</td><td>28</td></tr><tr><td>17878</td><td>2024-07-03</td><td>f</td><td>$350.00</td><td>null</td><td>5</td><td>28</td></tr><tr><td>17878</td><td>2024-07-04</td><td>f</td><td>$350.00</td><td>null</td><td>5</td><td>28</td></tr><tr><td>17878</td><td>2024-07-05</td><td>f</td><td>$350.00</td><td>null</td><td>5</td><td>28</td></tr><tr><td>17878</td><td>2024-07-06</td><td>f</td><td>$350.00</td><td>null</td><td>5</td><td>28</td></tr><tr><td>17878</td><td>2024-07-07</td><td>f</td><td>$350.00</td><td>null</td><td>5</td><td>28</td></tr><tr><td>17878</td><td>2024-07-08</td><td>f</td><td>$350.00</td><td>null</td><td>5</td><td>28</td></tr><tr><td>17878</td><td>2024-07-09</td><td>f</td><td>$350.00</td><td>null</td><td>5</td><td>28</td></tr><tr><td>17878</td><td>2024-07-10</td><td>t</td><td>$350.00</td><td>null</td><td>5</td><td>28</td></tr><tr><td>17878</td><td>2024-07-11</td><td>t</td><td>$350.00</td><td>null</td><td>5</td><td>28</td></tr></tbody></table></div>"
      ]
     },
     "metadata": {
      "application/vnd.databricks.v1+output": {
       "addedWidgets": {},
       "aggData": [],
       "aggError": "",
       "aggOverflow": false,
       "aggSchema": [],
       "aggSeriesLimitReached": false,
       "aggType": "",
       "arguments": {},
       "columnCustomDisplayInfos": {},
       "data": [
        [
         297908,
         "2024-06-27",
         "f",
         "$250.00",
         null,
         2,
         1125
        ],
        [
         17878,
         "2024-06-28",
         "f",
         "$350.00",
         null,
         5,
         28
        ],
        [
         17878,
         "2024-06-29",
         "f",
         "$350.00",
         null,
         5,
         28
        ],
        [
         17878,
         "2024-06-30",
         "f",
         "$350.00",
         null,
         5,
         28
        ],
        [
         17878,
         "2024-07-01",
         "f",
         "$350.00",
         null,
         5,
         28
        ],
        [
         17878,
         "2024-07-02",
         "f",
         "$350.00",
         null,
         5,
         28
        ],
        [
         17878,
         "2024-07-03",
         "f",
         "$350.00",
         null,
         5,
         28
        ],
        [
         17878,
         "2024-07-04",
         "f",
         "$350.00",
         null,
         5,
         28
        ],
        [
         17878,
         "2024-07-05",
         "f",
         "$350.00",
         null,
         5,
         28
        ],
        [
         17878,
         "2024-07-06",
         "f",
         "$350.00",
         null,
         5,
         28
        ],
        [
         17878,
         "2024-07-07",
         "f",
         "$350.00",
         null,
         5,
         28
        ],
        [
         17878,
         "2024-07-08",
         "f",
         "$350.00",
         null,
         5,
         28
        ],
        [
         17878,
         "2024-07-09",
         "f",
         "$350.00",
         null,
         5,
         28
        ],
        [
         17878,
         "2024-07-10",
         "t",
         "$350.00",
         null,
         5,
         28
        ],
        [
         17878,
         "2024-07-11",
         "t",
         "$350.00",
         null,
         5,
         28
        ]
       ],
       "datasetInfos": [],
       "dbfsResultPath": null,
       "isJsonSchema": true,
       "metadata": {},
       "overflow": false,
       "plotOptions": {
        "customPlotOptions": {},
        "displayType": "table",
        "pivotAggregation": null,
        "pivotColumns": null,
        "xColumns": null,
        "yColumns": null
       },
       "removedWidgets": [],
       "schema": [
        {
         "metadata": "{}",
         "name": "listing_id",
         "type": "\"long\""
        },
        {
         "metadata": "{\"__detected_date_formats\":\"yyyy-M-d\"}",
         "name": "date",
         "type": "\"date\""
        },
        {
         "metadata": "{}",
         "name": "available",
         "type": "\"string\""
        },
        {
         "metadata": "{}",
         "name": "price",
         "type": "\"string\""
        },
        {
         "metadata": "{}",
         "name": "adjusted_price",
         "type": "\"string\""
        },
        {
         "metadata": "{}",
         "name": "minimum_nights",
         "type": "\"integer\""
        },
        {
         "metadata": "{}",
         "name": "maximum_nights",
         "type": "\"integer\""
        }
       ],
       "type": "table"
      }
     },
     "output_type": "display_data"
    }
   ],
   "source": [
    "# Caminho para o arquivo Delta da tabela calendar na Camada Bronze\n",
    "bronze_path_calendar = \"/FileStore/tables/airbnb_rj/bronze/calendar.delta\"\n",
    "\n",
    "# Carregar os dados da Camada Bronze para um DataFrame na Camada Silver\n",
    "df_calendar_silver = spark.read.format(\"delta\").load(bronze_path_calendar)\n",
    "\n",
    "# Exibir os dados carregados para verificar o conteúdo\n",
    "df_calendar_silver.limit(15).display()\n"
   ]
  },
  {
   "cell_type": "code",
   "execution_count": 0,
   "metadata": {
    "application/vnd.databricks.v1+cell": {
     "cellMetadata": {
      "byteLimit": 2048000,
      "rowLimit": 10000
     },
     "inputWidgets": {},
     "nuid": "7a117dd0-28a0-4443-8082-5eeb2b5a82de",
     "showTitle": false,
     "tableResultSettingsMap": {},
     "title": ""
    }
   },
   "outputs": [
    {
     "output_type": "execute_result",
     "data": {
      "text/plain": [
       "12652371"
      ]
     },
     "execution_count": 213,
     "metadata": {},
     "output_type": "execute_result"
    }
   ],
   "source": [
    "df_calendar_silver.count()"
   ]
  },
  {
   "cell_type": "code",
   "execution_count": 0,
   "metadata": {
    "application/vnd.databricks.v1+cell": {
     "cellMetadata": {
      "byteLimit": 2048000,
      "rowLimit": 10000
     },
     "inputWidgets": {},
     "nuid": "b109b655-cd86-4e01-bbec-82c707508716",
     "showTitle": false,
     "tableResultSettingsMap": {},
     "title": ""
    }
   },
   "outputs": [
    {
     "output_type": "stream",
     "name": "stdout",
     "output_type": "stream",
     "text": [
      "root\n |-- listing_id: long (nullable = true)\n |-- date: date (nullable = true)\n |-- available: string (nullable = true)\n |-- price: string (nullable = true)\n |-- adjusted_price: string (nullable = true)\n |-- minimum_nights: integer (nullable = true)\n |-- maximum_nights: integer (nullable = true)\n\n"
     ]
    }
   ],
   "source": [
    "df_calendar_silver.printSchema()"
   ]
  },
  {
   "cell_type": "code",
   "execution_count": 0,
   "metadata": {
    "application/vnd.databricks.v1+cell": {
     "cellMetadata": {
      "byteLimit": 2048000,
      "rowLimit": 10000
     },
     "inputWidgets": {},
     "nuid": "13e7f26d-9b6b-4d5e-b226-d42138af527a",
     "showTitle": false,
     "tableResultSettingsMap": {},
     "title": ""
    }
   },
   "outputs": [
    {
     "output_type": "stream",
     "name": "stdout",
     "output_type": "stream",
     "text": [
      "+----------+----+---------+-----+--------------+--------------+--------------+\n|listing_id|date|available|price|adjusted_price|minimum_nights|maximum_nights|\n+----------+----+---------+-----+--------------+--------------+--------------+\n|         0|   0|        0|    0|      12652371|            12|            12|\n+----------+----+---------+-----+--------------+--------------+--------------+\n\n"
     ]
    }
   ],
   "source": [
    "# Verificar se há valores NULL em cada coluna\n",
    "null_counts = df_calendar_silver.select([\n",
    "    sum(col(column).isNull().cast(\"int\")).alias(column) for column in df_calendar_silver.columns\n",
    "])\n",
    "\n",
    "# Exibir o número de valores NULL em cada coluna\n",
    "null_counts.show()\n"
   ]
  },
  {
   "cell_type": "code",
   "execution_count": 0,
   "metadata": {
    "application/vnd.databricks.v1+cell": {
     "cellMetadata": {
      "byteLimit": 2048000,
      "rowLimit": 10000
     },
     "inputWidgets": {},
     "nuid": "569bf4a1-e50d-417e-acbb-a125d71d45a5",
     "showTitle": false,
     "tableResultSettingsMap": {},
     "title": ""
    }
   },
   "outputs": [
    {
     "output_type": "stream",
     "name": "stdout",
     "output_type": "stream",
     "text": [
      "+-------------------+----------+---------+---------+--------------+--------------+--------------+\n|         listing_id|      date|available|    price|adjusted_price|minimum_nights|maximum_nights|\n+-------------------+----------+---------+---------+--------------+--------------+--------------+\n|            5280679|2024-06-27|        f|$1,200.00|          NULL|          NULL|          NULL|\n|            9292855|2024-06-27|        f|  $197.00|          NULL|          NULL|          NULL|\n|           13465199|2024-06-27|        f|  $500.00|          NULL|          NULL|          NULL|\n|           31114295|2024-06-27|        t|  $120.00|          NULL|          NULL|          NULL|\n|           52875017|2024-06-27|        t|  $600.00|          NULL|          NULL|          NULL|\n| 708809664519325065|2024-06-27|        t|   $50.00|          NULL|          NULL|          NULL|\n| 776242383232510490|2024-06-27|        t|  $733.00|          NULL|          NULL|          NULL|\n| 897171640556938305|2024-06-27|        t|   $90.00|          NULL|          NULL|          NULL|\n| 927527462411374371|2024-06-27|        f|$3,300.00|          NULL|          NULL|          NULL|\n| 973020466258025152|2024-06-27|        f|  $149.00|          NULL|          NULL|          NULL|\n| 968285320195624684|2024-06-27|        f|  $150.00|          NULL|          NULL|          NULL|\n|1160782825308074295|2024-06-27|        f|$9,950.00|          NULL|          NULL|          NULL|\n+-------------------+----------+---------+---------+--------------+--------------+--------------+\n\n"
     ]
    }
   ],
   "source": [
    "# Filtrar e exibir as linhas onde minimum_nights é NULL\n",
    "df_calendar_silver.filter(df_calendar_silver.minimum_nights.isNull()).show()"
   ]
  },
  {
   "cell_type": "code",
   "execution_count": 0,
   "metadata": {
    "application/vnd.databricks.v1+cell": {
     "cellMetadata": {
      "byteLimit": 2048000,
      "rowLimit": 10000
     },
     "inputWidgets": {},
     "nuid": "a35410fd-e42b-4662-b060-b88dc788c01e",
     "showTitle": false,
     "tableResultSettingsMap": {},
     "title": ""
    }
   },
   "outputs": [
    {
     "output_type": "display_data",
     "data": {
      "text/html": [
       "<style scoped>\n",
       "  .table-result-container {\n",
       "    max-height: 300px;\n",
       "    overflow: auto;\n",
       "  }\n",
       "  table, th, td {\n",
       "    border: 1px solid black;\n",
       "    border-collapse: collapse;\n",
       "  }\n",
       "  th, td {\n",
       "    padding: 5px;\n",
       "  }\n",
       "  th {\n",
       "    text-align: left;\n",
       "  }\n",
       "</style><div class='table-result-container'><table class='table-result'><thead style='background-color: white'><tr><th>available</th></tr></thead><tbody><tr><td>f</td></tr><tr><td>t</td></tr></tbody></table></div>"
      ]
     },
     "metadata": {
      "application/vnd.databricks.v1+output": {
       "addedWidgets": {},
       "aggData": [],
       "aggError": "",
       "aggOverflow": false,
       "aggSchema": [],
       "aggSeriesLimitReached": false,
       "aggType": "",
       "arguments": {},
       "columnCustomDisplayInfos": {},
       "data": [
        [
         "f"
        ],
        [
         "t"
        ]
       ],
       "datasetInfos": [],
       "dbfsResultPath": null,
       "isJsonSchema": true,
       "metadata": {},
       "overflow": false,
       "plotOptions": {
        "customPlotOptions": {},
        "displayType": "table",
        "pivotAggregation": null,
        "pivotColumns": null,
        "xColumns": null,
        "yColumns": null
       },
       "removedWidgets": [],
       "schema": [
        {
         "metadata": "{}",
         "name": "available",
         "type": "\"string\""
        }
       ],
       "type": "table"
      }
     },
     "output_type": "display_data"
    }
   ],
   "source": [
    "# Selecionar e exibir valores distintos da coluna `available`\n",
    "distinct_available_values = df_calendar_silver.select(\"available\").distinct()\n",
    "\n",
    "# Exibir os valores distintos usando display\n",
    "display(distinct_available_values)"
   ]
  },
  {
   "cell_type": "code",
   "execution_count": 0,
   "metadata": {
    "application/vnd.databricks.v1+cell": {
     "cellMetadata": {
      "byteLimit": 2048000,
      "rowLimit": 10000
     },
     "inputWidgets": {},
     "nuid": "31eeffc1-9bd9-481d-a7bd-b9f41ec1a8e6",
     "showTitle": false,
     "tableResultSettingsMap": {},
     "title": ""
    }
   },
   "outputs": [],
   "source": [
    "# Converter a coluna `available` para booleano\n",
    "df_calendar_silver = df_calendar_silver.withColumn(\n",
    "    \"available\", \n",
    "    when(col(\"available\") == \"t\", True).otherwise(False)\n",
    ")"
   ]
  },
  {
   "cell_type": "code",
   "execution_count": 0,
   "metadata": {
    "application/vnd.databricks.v1+cell": {
     "cellMetadata": {
      "byteLimit": 2048000,
      "rowLimit": 10000
     },
     "inputWidgets": {},
     "nuid": "b2702598-16f1-4a62-95c2-9ad284d4b463",
     "showTitle": false,
     "tableResultSettingsMap": {},
     "title": ""
    }
   },
   "outputs": [
    {
     "output_type": "stream",
     "name": "stdout",
     "output_type": "stream",
     "text": [
      "root\n |-- listing_id: long (nullable = true)\n |-- date: date (nullable = true)\n |-- available: boolean (nullable = false)\n |-- price: string (nullable = true)\n |-- adjusted_price: string (nullable = true)\n |-- minimum_nights: integer (nullable = true)\n |-- maximum_nights: integer (nullable = true)\n\n"
     ]
    }
   ],
   "source": [
    "df_calendar_silver.printSchema()"
   ]
  },
  {
   "cell_type": "code",
   "execution_count": 0,
   "metadata": {
    "application/vnd.databricks.v1+cell": {
     "cellMetadata": {
      "byteLimit": 2048000,
      "rowLimit": 10000
     },
     "inputWidgets": {},
     "nuid": "462092a9-4b4d-4a11-b1c9-5f22ee1c385a",
     "showTitle": false,
     "tableResultSettingsMap": {},
     "title": ""
    }
   },
   "outputs": [
    {
     "output_type": "stream",
     "name": "stdout",
     "output_type": "stream",
     "text": [
      "+----------+----+---------+-----+--------------+--------------+--------------+\n|listing_id|date|available|price|adjusted_price|minimum_nights|maximum_nights|\n+----------+----+---------+-----+--------------+--------------+--------------+\n|         0|   0|        0|    0|      12652371|            12|            12|\n+----------+----+---------+-----+--------------+--------------+--------------+\n\n"
     ]
    }
   ],
   "source": [
    "# Verificar se há valores NULL em cada coluna\n",
    "null_counts = df_calendar_silver.select([\n",
    "    sum(col(column).isNull().cast(\"int\")).alias(column) for column in df_calendar_silver.columns\n",
    "])\n",
    "\n",
    "# Exibir o número de valores NULL em cada coluna\n",
    "null_counts.show()"
   ]
  },
  {
   "cell_type": "code",
   "execution_count": 0,
   "metadata": {
    "application/vnd.databricks.v1+cell": {
     "cellMetadata": {
      "byteLimit": 2048000,
      "rowLimit": 10000
     },
     "inputWidgets": {},
     "nuid": "4057cec9-48c3-4151-8495-bec9bbf22f64",
     "showTitle": false,
     "tableResultSettingsMap": {},
     "title": ""
    }
   },
   "outputs": [
    {
     "output_type": "display_data",
     "data": {
      "text/html": [
       "<style scoped>\n",
       "  .table-result-container {\n",
       "    max-height: 300px;\n",
       "    overflow: auto;\n",
       "  }\n",
       "  table, th, td {\n",
       "    border: 1px solid black;\n",
       "    border-collapse: collapse;\n",
       "  }\n",
       "  th, td {\n",
       "    padding: 5px;\n",
       "  }\n",
       "  th {\n",
       "    text-align: left;\n",
       "  }\n",
       "</style><div class='table-result-container'><table class='table-result'><thead style='background-color: white'><tr><th>id</th><th>listing_url</th><th>scrape_id</th><th>last_scraped</th><th>source</th><th>name</th><th>description</th><th>neighborhood_overview</th><th>picture_url</th><th>host_id</th><th>host_url</th><th>host_name</th><th>host_since</th><th>host_location</th><th>host_about</th><th>host_response_time</th><th>host_response_rate</th><th>host_acceptance_rate</th><th>host_is_superhost</th><th>host_thumbnail_url</th><th>host_picture_url</th><th>host_neighbourhood</th><th>host_listings_count</th><th>host_total_listings_count</th><th>host_verifications</th><th>host_has_profile_pic</th><th>host_identity_verified</th><th>neighbourhood</th><th>neighbourhood_cleansed</th><th>neighbourhood_group_cleansed</th><th>latitude</th><th>longitude</th><th>property_type</th><th>room_type</th><th>accommodates</th><th>bathrooms</th><th>bathrooms_text</th><th>bedrooms</th><th>beds</th><th>amenities</th><th>price</th><th>minimum_nights</th><th>maximum_nights</th><th>minimum_minimum_nights</th><th>maximum_minimum_nights</th><th>minimum_maximum_nights</th><th>maximum_maximum_nights</th><th>minimum_nights_avg_ntm</th><th>maximum_nights_avg_ntm</th><th>calendar_updated</th><th>has_availability</th><th>availability_30</th><th>availability_60</th><th>availability_90</th><th>availability_365</th><th>calendar_last_scraped</th><th>number_of_reviews</th><th>number_of_reviews_ltm</th><th>number_of_reviews_l30d</th><th>first_review</th><th>last_review</th><th>review_scores_rating</th><th>review_scores_accuracy</th><th>review_scores_cleanliness</th><th>review_scores_checkin</th><th>review_scores_communication</th><th>review_scores_location</th><th>review_scores_value</th><th>license</th><th>instant_bookable</th><th>calculated_host_listings_count</th><th>calculated_host_listings_count_entire_homes</th><th>calculated_host_listings_count_private_rooms</th><th>calculated_host_listings_count_shared_rooms</th><th>reviews_per_month</th></tr></thead><tbody><tr><td>17878</td><td>null</td><td>null</td><td>null</td><td>city scrape</td><td>Very Nice 2Br in Copacabana w. balcony, fast WiFi</td><td>\"Please note that elevated rates applies for New Years and Carnival. Price depends on length of stay and number of people. Generally I prefer a stay for 1 week or more and a maximum of 5 people (6 at the most). Contact me, and we will discuss. <br />- Bright and sunny<br />- Large balcony (25 square meters) <br />- High speed WiFi (up to 500MB)<br />- Smart TV (you can watch Netflix etc. if you have an account)<br />- 24h doorman<br />- 1 minute to walk to Copacabana Beach<br />- Silent \"\"split\"\" air conditioning<br />- Best spot in Rio\"</td><td>null</td><td>null</td><td>68997</td><td>null</td><td>Matthias</td><td>2010-01-08</td><td>null</td><td>\"I  am a  journalist/writer. Lived  in NYC for 15 years. I  am now based in Rio and published 3 volumes of travel stories on AMAZ0N: \"\"The World Is My Oyster\"\". If you have never been to Rio</td><td>null</td><td>null</td><td> you'll find  29 other travel stories from all around the globe.\"</td><td>within an hour</td><td>null</td><td>null</td><td>null</td><td>https://a0.muscache.com/im/pictures/user/67b13cea-8c11-49c0-a08d-7f42c330676e.jpg?aki_policy=profile_small</td><td>https://a0.muscache.com/im/pictures/user/67b13cea-8c11-49c0-a08d-7f42c330676e.jpg?aki_policy=profile_x_medium</td><td>null</td><td>null</td><td>null</td><td>null</td><td>null</td><td>null</td><td>Rio de Janeiro, Brazil</td><td>Copacabana</td><td>null</td><td>-22.96599</td><td>-43.1794</td><td>null</td><td>Entire home/apt</td><td>5</td><td>null</td><td>1 bath</td><td>2</td><td>2</td><td>\"[\"\"Smoking allowed\"\"</td><td>null</td><td>null</td><td>null</td><td>null</td><td>null</td><td>null</td><td>null</td><td>null</td><td> \"\"Hot water\"\"</td><td> \"\"Microwave\"\"</td><td> \"\"Elevator\"\"</td><td> \"\"Luggage dropoff allowed\"\"</td><td>null</td><td> \"\"Bed linens\"\"</td><td>null</td><td>null</td><td>null</td><td>null</td><td> \"\"Oven\"\"</td><td>null</td><td>null</td><td>null</td><td>null</td><td>null</td><td>null</td><td>null</td><td>null</td><td>null</td><td>null</td><td>null</td><td>null</td><td>28</td></tr><tr><td>25026</td><td>null</td><td>null</td><td>null</td><td>city scrape</td><td>Beautiful Modern Decorated Studio in Copa</td><td>**Fully renovated  in Dec 2022, new kitchen, new bathroom, new flooring! **<br />** The apartment was all renovated, floor, bathroom and new kitchen in Dec 2022!**<br /><br />If you don't have any information on Airbnb and have never used it  before, please message them first to let them know who you are.<br /><br />Our apartment is a little gem, everyone loves staying there! Best location, 2 blocks to the subway, 3 blocks to the beach, close to bars, restaurants, supermarkets, subway! Wi-fi, cable TV, air con and fan!</td><td>null</td><td>null</td><td>102840</td><td>null</td><td>Viviane</td><td>2010-04-03</td><td>null</td><td>Hi guys,\n",
       "</td><td>null</td><td>null</td><td>null</td><td>null</td><td>null</td><td>null</td><td>null</td><td>null</td><td>null</td><td>null</td><td>null</td><td>null</td><td>null</td><td>null</td><td>null</td><td>null</td><td>null</td><td>null</td><td>null</td><td>null</td><td>null</td><td>null</td><td>null</td><td>null</td><td>null</td><td>null</td><td>null</td><td>null</td><td>null</td><td>null</td><td>null</td><td>null</td><td>null</td><td>null</td><td>null</td><td>null</td><td>null</td><td>null</td><td>null</td><td>null</td><td>null</td><td>null</td><td>null</td><td>null</td><td>null</td><td>null</td><td>null</td><td>null</td><td>null</td><td>null</td><td>null</td><td>null</td><td>null</td><td>null</td><td>null</td><td>null</td><td>null</td><td>null</td><td>null</td><td>null</td></tr><tr><td>Viviane is a commercial photographer</td><td>null</td><td>null</td><td>null</td><td>null</td><td>null</td><td>null</td><td>null</td><td>null</td><td>null</td><td>null</td><td>null</td><td>null</td><td>null</td><td>null</td><td>null</td><td>null</td><td>null</td><td>null</td><td>null</td><td>null</td><td>null</td><td>null</td><td>null</td><td>null</td><td>null</td><td>null</td><td>null</td><td>null</td><td>null</td><td>null</td><td>null</td><td>null</td><td>null</td><td>null</td><td>null</td><td>null</td><td>null</td><td>null</td><td>null</td><td>null</td><td>null</td><td>null</td><td>null</td><td>null</td><td>null</td><td>null</td><td>null</td><td>null</td><td>null</td><td>null</td><td>null</td><td>null</td><td>null</td><td>null</td><td>null</td><td>null</td><td>null</td><td>null</td><td>null</td><td>null</td><td>null</td><td>null</td><td>null</td><td>null</td><td>null</td><td>null</td><td>null</td><td>null</td><td>null</td><td>null</td><td>null</td><td>null</td><td>null</td><td>null</td></tr><tr><td>We  work together in providing the best accommodation to people and we are</td><td>null</td><td>null</td><td>null</td><td>null</td><td>null</td><td>null</td><td>null</td><td>null</td><td>null</td><td>null</td><td>null</td><td>null</td><td>null</td><td>null</td><td>null</td><td>null</td><td>null</td><td>null</td><td>null</td><td>null</td><td>null</td><td>null</td><td>null</td><td>null</td><td>null</td><td>null</td><td>null</td><td>null</td><td>null</td><td>null</td><td>null</td><td>null</td><td>null</td><td>null</td><td>null</td><td>null</td><td>null</td><td>null</td><td>null</td><td>null</td><td>null</td><td>null</td><td>null</td><td>null</td><td>null</td><td>null</td><td>null</td><td>null</td><td>null</td><td>null</td><td>null</td><td>null</td><td>null</td><td>null</td><td>null</td><td>null</td><td>null</td><td>null</td><td>null</td><td>null</td><td>null</td><td>null</td><td>null</td><td>null</td><td>null</td><td>null</td><td>null</td><td>null</td><td>null</td><td>null</td><td>null</td><td>null</td><td>null</td><td>null</td></tr><tr><td>firm believers of enjoying the moment as a prime attitude towards life!</td><td>null</td><td>null</td><td>null</td><td>null</td><td>null</td><td>null</td><td>null</td><td>null</td><td>null</td><td>null</td><td>null</td><td>null</td><td>null</td><td>null</td><td>null</td><td>null</td><td>null</td><td>null</td><td>null</td><td>null</td><td>null</td><td>null</td><td>null</td><td>null</td><td>null</td><td>null</td><td>null</td><td>null</td><td>null</td><td>null</td><td>null</td><td>null</td><td>null</td><td>null</td><td>null</td><td>null</td><td>null</td><td>null</td><td>null</td><td>null</td><td>null</td><td>null</td><td>null</td><td>null</td><td>null</td><td>null</td><td>null</td><td>null</td><td>null</td><td>null</td><td>null</td><td>null</td><td>null</td><td>null</td><td>null</td><td>null</td><td>null</td><td>null</td><td>null</td><td>null</td><td>null</td><td>null</td><td>null</td><td>null</td><td>null</td><td>null</td><td>null</td><td>null</td><td>null</td><td>null</td><td>null</td><td>null</td><td>null</td><td>null</td></tr><tr><td>\",within an hour,100%,82%,t,https://a0.muscache.com/im/pictures/user/315ddc81-bea3-4bf0-8fc7-be197a6541ff.jpg?aki_policy=profile_small,https://a0.muscache.com/im/pictures/user/315ddc81-bea3-4bf0-8fc7-be197a6541ff.jpg?aki_policy=profile_x_medium,Copacabana,1,5,\"['email'</td><td>null</td><td>null</td><td>null</td><td>Rio de Janeiro, Brazil</td><td>Copacabana</td><td>null</td><td>null</td><td>null</td><td>Entire rental unit</td><td>null</td><td>3</td><td>1.0</td><td>null</td><td>1</td><td>null</td><td>null</td><td> \"\"Essentials\"\"</td><td> \"\"Hangers\"\"</td><td>null</td><td>null</td><td>null</td><td> \"\"Extra pillows and blankets\"\"</td><td> \"\"Toaster\"\"</td><td>null</td><td>null</td><td>null</td><td>null</td><td>null</td><td>null</td><td> \"\"Dining table\"\"</td><td> \"\"Clothing storage: wardrobe\"\"</td><td> \"\"Hot water\"\"</td><td> \"\"Microwave\"\"</td><td> \"\"Elevator\"\"</td><td>null</td><td> \"\"Bed linens\"\"</td><td> \"\"Single level home\"\"</td><td>null</td><td> \"\"Coffee\"\"</td><td> \"\"Hair dryer\"\"</td><td> \"\"Blender\"\"</td><td> \"\"Iron\"\"</td><td>null</td><td>null</td><td>null</td><td>null</td><td>null</td><td>null</td><td>null</td><td>null</td><td> \"\"Cooking basics\"\"</td><td> \"\"Paid street parking off premises\"\"</td><td> \"\"Ceiling fan\"\"]\"</td><td>$203.00</td><td>null</td><td>60</td><td>null</td><td>null</td><td>null</td><td>null</td><td>2.0</td><td>null</td><td>null</td><td>null</td><td>null</td><td>null</td><td>null</td><td>null</td><td>null</td><td>null</td><td>null</td><td>null</td><td>null</td><td>2024-06-02</td></tr><tr><td>220377</td><td>null</td><td>null</td><td>null</td><td>city scrape</td><td>Suíte Casal (banheiro privativo)</td><td>The apartment is cozy and well located.  The rooms are spacious, comfortable and silent, in a calm, typical residential area where you can experience the native’s way of life.</td><td>null</td><td>null</td><td>1142424</td><td>null</td><td>Taciana</td><td>2011-09-11</td><td>null</td><td>null</td><td>null</td><td>null</td><td>47%</td><td>f</td><td>null</td><td>null</td><td>null</td><td>3</td><td>3</td><td>null</td><td>null</td><td>null</td><td>null</td><td>null</td><td>null</td><td>-22.9288</td><td>-43.24046</td><td>Private room in rental unit</td><td>Private room</td><td>2</td><td>null</td><td>1 private bath</td><td>1</td><td>null</td><td>\"[\"\"Essentials\"\"</td><td> \"\"Air conditioning\"\"</td><td> \"\"Hangers\"\"</td><td> \"\"Wine glasses\"\"</td><td>null</td><td>null</td><td>null</td><td>null</td><td>null</td><td>null</td><td>null</td><td>null</td><td> \"\"Drying rack for clothing\"\"</td><td> \"\"Kitchen\"\"</td><td> \"\"Refrigerator\"\"</td><td> \"\"Brit\\u00e2nia  sound system\"\"</td><td>null</td><td> \"\"Mini fridge\"\"</td><td>null</td><td>null</td><td>null</td><td>null</td><td> \"\"Microwave\"\"</td><td>null</td><td>null</td><td>null</td><td>null</td><td>null</td><td>null</td><td>null</td><td>null</td><td>null</td><td>null</td><td>null</td><td>null</td><td> \"\"Blender\"\"</td></tr><tr><td>35764</td><td>null</td><td>null</td><td>null</td><td>city scrape</td><td>COPACABANA SEA BREEZE  -  RIO - 25  X Superhost</td><td>Our newly renovated studio is located in the best part of Copacabana - Between  Posto 5 and Posto 6 - 10 minutes from the Arpoador and Ipanema beach.   Security 24 hours a day.    Enjoy your stay in a family bulding  living as a local people.  Please check the possibility of flexible check-in and check-out times.</td><td>null</td><td>null</td><td> transports</td><td>null</td><td>https://a0.muscache.com/pictures/23782972/1d3e55b0_original.jpg</td><td>153691</td><td>null</td><td>Patricia Miranda & Paulo</td><td>null</td><td>null</td><td>Hello,   We are Patricia Miranda and Paulo.\n",
       "</td><td>null</td><td>null</td><td>null</td><td>null</td><td>null</td><td>null</td><td>null</td><td>null</td><td>null</td><td>null</td><td>null</td><td>null</td><td>null</td><td>null</td><td>null</td><td>null</td><td>null</td><td>null</td><td>null</td><td>null</td><td>null</td><td>null</td><td>null</td><td>null</td><td>null</td><td>null</td><td>null</td><td>null</td><td>null</td><td>null</td><td>null</td><td>null</td><td>null</td><td>null</td><td>null</td><td>null</td><td>null</td><td>null</td><td>null</td><td>null</td><td>null</td><td>null</td><td>null</td><td>null</td><td>null</td><td>null</td><td>null</td><td>null</td><td>null</td><td>null</td><td>null</td><td>null</td><td>null</td><td>null</td><td>null</td><td>null</td><td>null</td></tr><tr><td>We are a couple who love to meet new people</td><td>null</td><td>null</td><td>null</td><td>null</td><td>null</td><td>null</td><td>null</td><td>null</td><td>null</td><td>null</td><td>null</td><td>null</td><td>null</td><td>null</td><td>null</td><td>null</td><td>null</td><td>null</td><td>null</td><td>null</td><td>null</td><td>null</td><td>null</td><td>null</td><td>null</td><td>null</td><td>null</td><td>null</td><td>null</td><td>null</td><td>null</td><td>null</td><td>null</td><td>null</td><td>null</td><td>null</td><td>null</td><td>null</td><td>null</td><td>null</td><td>null</td><td>null</td><td>null</td><td>null</td><td>null</td><td>null</td><td>null</td><td>null</td><td>null</td><td>null</td><td>null</td><td>null</td><td>null</td><td>null</td><td>null</td><td>null</td><td>null</td><td>null</td><td>null</td><td>null</td><td>null</td><td>null</td><td>null</td><td>null</td><td>null</td><td>null</td><td>null</td><td>null</td><td>null</td><td>null</td><td>null</td><td>null</td><td>null</td><td>null</td></tr><tr><td>!\"</td><td>null</td><td>null</td><td>null</td><td>t</td><td>https://a0.muscache.com/im/users/153691/profile_pic/1277774787/original.jpg?aki_policy=profile_small</td><td>https://a0.muscache.com/im/users/153691/profile_pic/1277774787/original.jpg?aki_policy=profile_x_medium</td><td>null</td><td>null</td><td>2</td><td>null</td><td>t</td><td>t</td><td>null</td><td>Copacabana</td><td>null</td><td>null</td><td>-43.19136</td><td>Entire loft</td><td>null</td><td>null</td><td>null</td><td>1.5 baths</td><td>1</td><td>null</td><td>null</td><td>null</td><td>null</td><td>null</td><td>null</td><td> \"\"Building staff\"\"</td><td> \"\"Kitchen\"\"</td><td> \"\"Refrigerator\"\"</td><td> \"\"Dishes and silverware\"\"</td><td> \"\"Beach access \\u2013 Beachfront\"\"</td><td>null</td><td> \"\"Hot water\"\"</td><td> \"\"Microwave\"\"</td><td>null</td><td> \"\"Luggage dropoff allowed\"\"</td><td> \"\"Coffee maker\"\"</td><td> \"\"Bed linens\"\"</td><td> \"\"Pocket wifi\"\"</td><td>null</td><td>null</td><td>null</td><td>null</td><td>null</td><td>null</td><td>null</td><td>null</td><td> \"\"Carbon monoxide alarm\"\"</td><td> \"\"Cooking basics\"\"</td><td> \"\"Wifi\"\"</td><td> \"\"Paid parking off premises\"\"]\"</td><td>null</td><td>3</td><td>null</td><td>null</td><td>null</td><td>null</td><td>15</td><td>null</td><td>null</td><td>null</td><td>null</td><td>null</td><td>null</td><td>null</td><td>null</td><td>null</td><td>null</td><td>null</td><td>null</td><td>2010-10-03</td></tr><tr><td>223073</td><td>null</td><td>null</td><td>null</td><td>city scrape</td><td>Modern Loft 1 • Ipanema Posto 9 • 500  mb</td><td>READ THE FREQUENTLY ASKED QUESTIONS BELOW AND THE HOUSE RULES<br />-<br />Located 2 blocks from the beach, in the heart of Ipanema, in the middle of fashion boutiques, chic restaurants, nightclubs and clubs, and design shops.<br />-<br />500 Mb Wifi speed<br />Safer location in Rio<br />200 meters from the best point on the beach (post 9)<br />50 meters from a fantastic bakery<br />50 metros de todos transportes<br />30 meters from the metro station<br />200 meters away from the lagoon<br />50 restaurantes dentro de 200 metros<br />-</td><td>null</td><td>null</td><td>503995</td><td>null</td><td>❤️ BrUx ❤️</td><td>2011-04-12</td><td>null</td><td>Portuguese/English\n",
       "</td><td>null</td><td>null</td><td>null</td><td>null</td><td>null</td><td>null</td><td>null</td><td>null</td><td>null</td><td>null</td><td>null</td><td>null</td><td>null</td><td>null</td><td>null</td><td>null</td><td>null</td><td>null</td><td>null</td><td>null</td><td>null</td><td>null</td><td>null</td><td>null</td><td>null</td><td>null</td><td>null</td><td>null</td><td>null</td><td>null</td><td>null</td><td>null</td><td>null</td><td>null</td><td>null</td><td>null</td><td>null</td><td>null</td><td>null</td><td>null</td><td>null</td><td>null</td><td>null</td><td>null</td><td>null</td><td>null</td><td>null</td><td>null</td><td>null</td><td>null</td><td>null</td><td>null</td><td>null</td><td>null</td><td>null</td><td>null</td><td>null</td><td>null</td><td>null</td><td>null</td></tr><tr><td>Meu nome é Brux e sou Italiano.  Estudei no Instituto de Arte na Italia e na universidade da Ciência do Esporte. Apos me formar</td><td>null</td><td>null</td><td>null</td><td> para empresas brasileiras na área de imagem e marketing</td><td> e para pessoas na área de design de interiores. Comecei em Airbnb em 2010 como guest em São Paulo</td><td> e foi nesse momento que decidi que anunciaria meu apartamento que ja alugava por temporada a alguns anos no airbnb. Em Ipanema havia 9 anúncios e no Rio cerca de cem</td><td>null</td><td>null</td><td> fui convidado a ser Líder do Clube de Anfitriões do Rio de Janeiro</td><td>null</td><td> ajudamos novos hosts a configurar as próprias listagens ou preparamos listas de ajudas sobre como o usuário pode aproveitar melhor a plataforma. Foi uma experiência muito gratificante que me colocou em contato com a equipe da airbnb no Brasil e me deu acesso a mais informações sobre a empresa e seus acontecimentos. Tem sido uma viagem incrível e uma experiência que mudou minha vida.  Estou definitivamente feliz de todas as notícias e novos produtos que airbnb está lançando.</td><td>null</td><td>null</td><td>null</td><td>null</td><td>null</td><td>null</td><td>null</td><td>null</td><td>null</td><td>null</td><td>null</td><td>null</td><td>null</td><td>null</td><td>null</td><td>null</td><td>null</td><td>null</td><td>null</td><td>null</td><td>null</td><td>null</td><td>null</td><td>null</td><td>null</td><td>null</td><td>null</td><td>null</td><td>null</td><td>null</td><td>null</td><td>null</td><td>null</td><td>null</td><td>null</td><td>null</td><td>null</td><td>null</td><td>null</td><td>null</td><td>null</td><td>null</td><td>null</td><td>null</td><td>null</td><td>null</td><td>null</td><td>null</td><td>null</td><td>null</td><td>null</td><td>null</td><td>null</td><td>null</td><td>null</td><td>null</td><td>null</td><td>null</td><td>null</td><td>null</td><td>null</td><td>null</td><td>null</td></tr><tr><td>-----------------------</td><td>null</td><td>null</td><td>null</td><td>null</td><td>null</td><td>null</td><td>null</td><td>null</td><td>null</td><td>null</td><td>null</td><td>null</td><td>null</td><td>null</td><td>null</td><td>null</td><td>null</td><td>null</td><td>null</td><td>null</td><td>null</td><td>null</td><td>null</td><td>null</td><td>null</td><td>null</td><td>null</td><td>null</td><td>null</td><td>null</td><td>null</td><td>null</td><td>null</td><td>null</td><td>null</td><td>null</td><td>null</td><td>null</td><td>null</td><td>null</td><td>null</td><td>null</td><td>null</td><td>null</td><td>null</td><td>null</td><td>null</td><td>null</td><td>null</td><td>null</td><td>null</td><td>null</td><td>null</td><td>null</td><td>null</td><td>null</td><td>null</td><td>null</td><td>null</td><td>null</td><td>null</td><td>null</td><td>null</td><td>null</td><td>null</td><td>null</td><td>null</td><td>null</td><td>null</td><td>null</td><td>null</td><td>null</td><td>null</td><td>null</td></tr><tr><td>My name is Brux and I was born in Italy.  I studied in the italian art highschool and Sport Science University.  I then moved to California where I gained a bachelor in Marketing and took a Master's in Public Relations.  I headed the creative services and marketing department of Giorgio Armani in Milan for 7 years</td><td>null</td><td>null</td><td>null</td><td> now there are almost 50.000.  I really enjoyed the experience and accompanied the airbnb trajectory with interest and excitement.  I really like to meet my guest and gives them tips and tricks about Rio. But sometimes I am not able... so my help cheers them for me</td><td> or I use a self check in method. Em 2017</td><td> I was asked to be Leader of the Host Club of Rio de Janeiro together with other 2 hosts.  We organize encounters</td><td>null</td><td>null</td><td>within an hour</td><td>null</td><td>100%</td><td>t</td><td>null</td><td>https://a0.muscache.com/im/users/503995/profile_pic/1302871875/original.jpg?aki_policy=profile_x_medium</td><td>null</td><td>null</td><td>8</td><td>['email', 'phone']</td><td>null</td><td>null</td><td>null</td><td>Ipanema</td><td>null</td><td>null</td><td>null</td><td>null</td><td>null</td><td>null</td><td>null</td><td>1 bath</td><td>1</td><td>1</td><td>\"[\"\"Fast wifi \\u2013 543 Mbps\"\"</td><td> \"\"Essentials\"\"</td><td>null</td><td> \"\"Paid pack \\u2019n play/travel crib - available upon request\"\"</td><td> \"\"Changing table - available upon request\"\"</td><td>null</td><td> \"\"Hangers\"\"</td><td> \"\"Safe\"\"</td><td> \"\"Window AC unit\"\"</td><td> \"\"Paid crib - available upon request\"\"</td><td>null</td><td>null</td><td>null</td><td>null</td><td>null</td><td>null</td><td>null</td><td>null</td><td> \"\"Shared beach access\"\"</td><td> \"\"Drying rack for clothing\"\"</td><td> \"\"Shower gel\"\"</td><td> \"\"Paid standalone high chair - available upon request\"\"</td><td>null</td><td> \"\"Table corner guards\"\"</td><td>null</td><td>null</td><td>null</td><td>null</td><td> \"\"Dining table\"\"</td><td>null</td><td>null</td><td>null</td><td>null</td><td>null</td><td>null</td><td>null</td><td>null</td><td>null</td><td>null</td><td>null</td><td>null</td><td> \"\"Bed linens\"\"</td></tr><tr><td>230989</td><td>null</td><td>null</td><td>null</td><td>city scrape</td><td>Nice Flat in Copacabana  Ocean View</td><td>Very nice studio, half block away from Copacabana beach, partial view of the sea from the 12th floor. No proper kitchen, it has frigo-bar, no stove, a hot-plate, electric oven, coffee-maker, plates and cutlery.</td><td>null</td><td>null</td><td>1207700</td><td>null</td><td>Maria Luiza</td><td>2011-09-25</td><td>null</td><td>Meu nome é Maria Luiza, adoro ajudar meus hóspedes, pois vivi muito tempo no exterior, falo várias línguas, e entendo como é viver fora da sua cidade.\n",
       "</td><td>null</td><td>null</td><td>null</td><td>null</td><td>null</td><td>null</td><td>null</td><td>null</td><td>null</td><td>null</td><td>null</td><td>null</td><td>null</td><td>null</td><td>null</td><td>null</td><td>null</td><td>null</td><td>null</td><td>null</td><td>null</td><td>null</td><td>null</td><td>null</td><td>null</td><td>null</td><td>null</td><td>null</td><td>null</td><td>null</td><td>null</td><td>null</td><td>null</td><td>null</td><td>null</td><td>null</td><td>null</td><td>null</td><td>null</td><td>null</td><td>null</td><td>null</td><td>null</td><td>null</td><td>null</td><td>null</td><td>null</td><td>null</td><td>null</td><td>null</td><td>null</td><td>null</td><td>null</td><td>null</td><td>null</td><td>null</td><td>null</td><td>null</td><td>null</td><td>null</td></tr></tbody></table></div>"
      ]
     },
     "metadata": {
      "application/vnd.databricks.v1+output": {
       "addedWidgets": {},
       "aggData": [],
       "aggError": "",
       "aggOverflow": false,
       "aggSchema": [],
       "aggSeriesLimitReached": false,
       "aggType": "",
       "arguments": {},
       "columnCustomDisplayInfos": {},
       "data": [
        [
         "17878",
         null,
         null,
         null,
         "city scrape",
         "Very Nice 2Br in Copacabana w. balcony, fast WiFi",
         "\"Please note that elevated rates applies for New Years and Carnival. Price depends on length of stay and number of people. Generally I prefer a stay for 1 week or more and a maximum of 5 people (6 at the most). Contact me, and we will discuss. <br />- Bright and sunny<br />- Large balcony (25 square meters) <br />- High speed WiFi (up to 500MB)<br />- Smart TV (you can watch Netflix etc. if you have an account)<br />- 24h doorman<br />- 1 minute to walk to Copacabana Beach<br />- Silent \"\"split\"\" air conditioning<br />- Best spot in Rio\"",
         null,
         null,
         "68997",
         null,
         "Matthias",
         "2010-01-08",
         null,
         "\"I  am a  journalist/writer. Lived  in NYC for 15 years. I  am now based in Rio and published 3 volumes of travel stories on AMAZ0N: \"\"The World Is My Oyster\"\". If you have never been to Rio",
         null,
         null,
         " you'll find  29 other travel stories from all around the globe.\"",
         "within an hour",
         null,
         null,
         null,
         "https://a0.muscache.com/im/pictures/user/67b13cea-8c11-49c0-a08d-7f42c330676e.jpg?aki_policy=profile_small",
         "https://a0.muscache.com/im/pictures/user/67b13cea-8c11-49c0-a08d-7f42c330676e.jpg?aki_policy=profile_x_medium",
         null,
         null,
         null,
         null,
         null,
         null,
         "Rio de Janeiro, Brazil",
         "Copacabana",
         null,
         "-22.96599",
         "-43.1794",
         null,
         "Entire home/apt",
         "5",
         null,
         "1 bath",
         "2",
         "2",
         "\"[\"\"Smoking allowed\"\"",
         null,
         null,
         null,
         null,
         null,
         null,
         null,
         null,
         " \"\"Hot water\"\"",
         " \"\"Microwave\"\"",
         " \"\"Elevator\"\"",
         " \"\"Luggage dropoff allowed\"\"",
         null,
         " \"\"Bed linens\"\"",
         null,
         null,
         null,
         null,
         " \"\"Oven\"\"",
         null,
         null,
         null,
         null,
         null,
         null,
         null,
         null,
         null,
         null,
         null,
         null,
         "28"
        ],
        [
         "25026",
         null,
         null,
         null,
         "city scrape",
         "Beautiful Modern Decorated Studio in Copa",
         "**Fully renovated  in Dec 2022, new kitchen, new bathroom, new flooring! **<br />** The apartment was all renovated, floor, bathroom and new kitchen in Dec 2022!**<br /><br />If you don't have any information on Airbnb and have never used it  before, please message them first to let them know who you are.<br /><br />Our apartment is a little gem, everyone loves staying there! Best location, 2 blocks to the subway, 3 blocks to the beach, close to bars, restaurants, supermarkets, subway! Wi-fi, cable TV, air con and fan!",
         null,
         null,
         "102840",
         null,
         "Viviane",
         "2010-04-03",
         null,
         "Hi guys,\n",
         null,
         null,
         null,
         null,
         null,
         null,
         null,
         null,
         null,
         null,
         null,
         null,
         null,
         null,
         null,
         null,
         null,
         null,
         null,
         null,
         null,
         null,
         null,
         null,
         null,
         null,
         null,
         null,
         null,
         null,
         null,
         null,
         null,
         null,
         null,
         null,
         null,
         null,
         null,
         null,
         null,
         null,
         null,
         null,
         null,
         null,
         null,
         null,
         null,
         null,
         null,
         null,
         null,
         null,
         null,
         null,
         null,
         null,
         null,
         null
        ],
        [
         "Viviane is a commercial photographer",
         null,
         null,
         null,
         null,
         null,
         null,
         null,
         null,
         null,
         null,
         null,
         null,
         null,
         null,
         null,
         null,
         null,
         null,
         null,
         null,
         null,
         null,
         null,
         null,
         null,
         null,
         null,
         null,
         null,
         null,
         null,
         null,
         null,
         null,
         null,
         null,
         null,
         null,
         null,
         null,
         null,
         null,
         null,
         null,
         null,
         null,
         null,
         null,
         null,
         null,
         null,
         null,
         null,
         null,
         null,
         null,
         null,
         null,
         null,
         null,
         null,
         null,
         null,
         null,
         null,
         null,
         null,
         null,
         null,
         null,
         null,
         null,
         null,
         null
        ],
        [
         "We  work together in providing the best accommodation to people and we are",
         null,
         null,
         null,
         null,
         null,
         null,
         null,
         null,
         null,
         null,
         null,
         null,
         null,
         null,
         null,
         null,
         null,
         null,
         null,
         null,
         null,
         null,
         null,
         null,
         null,
         null,
         null,
         null,
         null,
         null,
         null,
         null,
         null,
         null,
         null,
         null,
         null,
         null,
         null,
         null,
         null,
         null,
         null,
         null,
         null,
         null,
         null,
         null,
         null,
         null,
         null,
         null,
         null,
         null,
         null,
         null,
         null,
         null,
         null,
         null,
         null,
         null,
         null,
         null,
         null,
         null,
         null,
         null,
         null,
         null,
         null,
         null,
         null,
         null
        ],
        [
         "firm believers of enjoying the moment as a prime attitude towards life!",
         null,
         null,
         null,
         null,
         null,
         null,
         null,
         null,
         null,
         null,
         null,
         null,
         null,
         null,
         null,
         null,
         null,
         null,
         null,
         null,
         null,
         null,
         null,
         null,
         null,
         null,
         null,
         null,
         null,
         null,
         null,
         null,
         null,
         null,
         null,
         null,
         null,
         null,
         null,
         null,
         null,
         null,
         null,
         null,
         null,
         null,
         null,
         null,
         null,
         null,
         null,
         null,
         null,
         null,
         null,
         null,
         null,
         null,
         null,
         null,
         null,
         null,
         null,
         null,
         null,
         null,
         null,
         null,
         null,
         null,
         null,
         null,
         null,
         null
        ],
        [
         "\",within an hour,100%,82%,t,https://a0.muscache.com/im/pictures/user/315ddc81-bea3-4bf0-8fc7-be197a6541ff.jpg?aki_policy=profile_small,https://a0.muscache.com/im/pictures/user/315ddc81-bea3-4bf0-8fc7-be197a6541ff.jpg?aki_policy=profile_x_medium,Copacabana,1,5,\"['email'",
         null,
         null,
         null,
         "Rio de Janeiro, Brazil",
         "Copacabana",
         null,
         null,
         null,
         "Entire rental unit",
         null,
         "3",
         "1.0",
         null,
         "1",
         null,
         null,
         " \"\"Essentials\"\"",
         " \"\"Hangers\"\"",
         null,
         null,
         null,
         " \"\"Extra pillows and blankets\"\"",
         " \"\"Toaster\"\"",
         null,
         null,
         null,
         null,
         null,
         null,
         " \"\"Dining table\"\"",
         " \"\"Clothing storage: wardrobe\"\"",
         " \"\"Hot water\"\"",
         " \"\"Microwave\"\"",
         " \"\"Elevator\"\"",
         null,
         " \"\"Bed linens\"\"",
         " \"\"Single level home\"\"",
         null,
         " \"\"Coffee\"\"",
         " \"\"Hair dryer\"\"",
         " \"\"Blender\"\"",
         " \"\"Iron\"\"",
         null,
         null,
         null,
         null,
         null,
         null,
         null,
         null,
         " \"\"Cooking basics\"\"",
         " \"\"Paid street parking off premises\"\"",
         " \"\"Ceiling fan\"\"]\"",
         "$203.00",
         null,
         "60",
         null,
         null,
         null,
         null,
         "2.0",
         null,
         null,
         null,
         null,
         null,
         null,
         null,
         null,
         null,
         null,
         null,
         null,
         "2024-06-02"
        ],
        [
         "220377",
         null,
         null,
         null,
         "city scrape",
         "Suíte Casal (banheiro privativo)",
         "The apartment is cozy and well located.  The rooms are spacious, comfortable and silent, in a calm, typical residential area where you can experience the native’s way of life.",
         null,
         null,
         "1142424",
         null,
         "Taciana",
         "2011-09-11",
         null,
         null,
         null,
         null,
         "47%",
         "f",
         null,
         null,
         null,
         "3",
         "3",
         null,
         null,
         null,
         null,
         null,
         null,
         "-22.9288",
         "-43.24046",
         "Private room in rental unit",
         "Private room",
         "2",
         null,
         "1 private bath",
         "1",
         null,
         "\"[\"\"Essentials\"\"",
         " \"\"Air conditioning\"\"",
         " \"\"Hangers\"\"",
         " \"\"Wine glasses\"\"",
         null,
         null,
         null,
         null,
         null,
         null,
         null,
         null,
         " \"\"Drying rack for clothing\"\"",
         " \"\"Kitchen\"\"",
         " \"\"Refrigerator\"\"",
         " \"\"Brit\\u00e2nia  sound system\"\"",
         null,
         " \"\"Mini fridge\"\"",
         null,
         null,
         null,
         null,
         " \"\"Microwave\"\"",
         null,
         null,
         null,
         null,
         null,
         null,
         null,
         null,
         null,
         null,
         null,
         null,
         " \"\"Blender\"\""
        ],
        [
         "35764",
         null,
         null,
         null,
         "city scrape",
         "COPACABANA SEA BREEZE  -  RIO - 25  X Superhost",
         "Our newly renovated studio is located in the best part of Copacabana - Between  Posto 5 and Posto 6 - 10 minutes from the Arpoador and Ipanema beach.   Security 24 hours a day.    Enjoy your stay in a family bulding  living as a local people.  Please check the possibility of flexible check-in and check-out times.",
         null,
         null,
         " transports",
         null,
         "https://a0.muscache.com/pictures/23782972/1d3e55b0_original.jpg",
         "153691",
         null,
         "Patricia Miranda & Paulo",
         null,
         null,
         "Hello,   We are Patricia Miranda and Paulo.\n",
         null,
         null,
         null,
         null,
         null,
         null,
         null,
         null,
         null,
         null,
         null,
         null,
         null,
         null,
         null,
         null,
         null,
         null,
         null,
         null,
         null,
         null,
         null,
         null,
         null,
         null,
         null,
         null,
         null,
         null,
         null,
         null,
         null,
         null,
         null,
         null,
         null,
         null,
         null,
         null,
         null,
         null,
         null,
         null,
         null,
         null,
         null,
         null,
         null,
         null,
         null,
         null,
         null,
         null,
         null,
         null,
         null
        ],
        [
         "We are a couple who love to meet new people",
         null,
         null,
         null,
         null,
         null,
         null,
         null,
         null,
         null,
         null,
         null,
         null,
         null,
         null,
         null,
         null,
         null,
         null,
         null,
         null,
         null,
         null,
         null,
         null,
         null,
         null,
         null,
         null,
         null,
         null,
         null,
         null,
         null,
         null,
         null,
         null,
         null,
         null,
         null,
         null,
         null,
         null,
         null,
         null,
         null,
         null,
         null,
         null,
         null,
         null,
         null,
         null,
         null,
         null,
         null,
         null,
         null,
         null,
         null,
         null,
         null,
         null,
         null,
         null,
         null,
         null,
         null,
         null,
         null,
         null,
         null,
         null,
         null,
         null
        ],
        [
         "!\"",
         null,
         null,
         null,
         "t",
         "https://a0.muscache.com/im/users/153691/profile_pic/1277774787/original.jpg?aki_policy=profile_small",
         "https://a0.muscache.com/im/users/153691/profile_pic/1277774787/original.jpg?aki_policy=profile_x_medium",
         null,
         null,
         "2",
         null,
         "t",
         "t",
         null,
         "Copacabana",
         null,
         null,
         "-43.19136",
         "Entire loft",
         null,
         null,
         null,
         "1.5 baths",
         "1",
         null,
         null,
         null,
         null,
         null,
         null,
         " \"\"Building staff\"\"",
         " \"\"Kitchen\"\"",
         " \"\"Refrigerator\"\"",
         " \"\"Dishes and silverware\"\"",
         " \"\"Beach access \\u2013 Beachfront\"\"",
         null,
         " \"\"Hot water\"\"",
         " \"\"Microwave\"\"",
         null,
         " \"\"Luggage dropoff allowed\"\"",
         " \"\"Coffee maker\"\"",
         " \"\"Bed linens\"\"",
         " \"\"Pocket wifi\"\"",
         null,
         null,
         null,
         null,
         null,
         null,
         null,
         null,
         " \"\"Carbon monoxide alarm\"\"",
         " \"\"Cooking basics\"\"",
         " \"\"Wifi\"\"",
         " \"\"Paid parking off premises\"\"]\"",
         null,
         "3",
         null,
         null,
         null,
         null,
         "15",
         null,
         null,
         null,
         null,
         null,
         null,
         null,
         null,
         null,
         null,
         null,
         null,
         "2010-10-03"
        ],
        [
         "223073",
         null,
         null,
         null,
         "city scrape",
         "Modern Loft 1 • Ipanema Posto 9 • 500  mb",
         "READ THE FREQUENTLY ASKED QUESTIONS BELOW AND THE HOUSE RULES<br />-<br />Located 2 blocks from the beach, in the heart of Ipanema, in the middle of fashion boutiques, chic restaurants, nightclubs and clubs, and design shops.<br />-<br />500 Mb Wifi speed<br />Safer location in Rio<br />200 meters from the best point on the beach (post 9)<br />50 meters from a fantastic bakery<br />50 metros de todos transportes<br />30 meters from the metro station<br />200 meters away from the lagoon<br />50 restaurantes dentro de 200 metros<br />-",
         null,
         null,
         "503995",
         null,
         "❤️ BrUx ❤️",
         "2011-04-12",
         null,
         "Portuguese/English\n",
         null,
         null,
         null,
         null,
         null,
         null,
         null,
         null,
         null,
         null,
         null,
         null,
         null,
         null,
         null,
         null,
         null,
         null,
         null,
         null,
         null,
         null,
         null,
         null,
         null,
         null,
         null,
         null,
         null,
         null,
         null,
         null,
         null,
         null,
         null,
         null,
         null,
         null,
         null,
         null,
         null,
         null,
         null,
         null,
         null,
         null,
         null,
         null,
         null,
         null,
         null,
         null,
         null,
         null,
         null,
         null,
         null,
         null,
         null,
         null
        ],
        [
         "Meu nome é Brux e sou Italiano.  Estudei no Instituto de Arte na Italia e na universidade da Ciência do Esporte. Apos me formar",
         null,
         null,
         null,
         " para empresas brasileiras na área de imagem e marketing",
         " e para pessoas na área de design de interiores. Comecei em Airbnb em 2010 como guest em São Paulo",
         " e foi nesse momento que decidi que anunciaria meu apartamento que ja alugava por temporada a alguns anos no airbnb. Em Ipanema havia 9 anúncios e no Rio cerca de cem",
         null,
         null,
         " fui convidado a ser Líder do Clube de Anfitriões do Rio de Janeiro",
         null,
         " ajudamos novos hosts a configurar as próprias listagens ou preparamos listas de ajudas sobre como o usuário pode aproveitar melhor a plataforma. Foi uma experiência muito gratificante que me colocou em contato com a equipe da airbnb no Brasil e me deu acesso a mais informações sobre a empresa e seus acontecimentos. Tem sido uma viagem incrível e uma experiência que mudou minha vida.  Estou definitivamente feliz de todas as notícias e novos produtos que airbnb está lançando.",
         null,
         null,
         null,
         null,
         null,
         null,
         null,
         null,
         null,
         null,
         null,
         null,
         null,
         null,
         null,
         null,
         null,
         null,
         null,
         null,
         null,
         null,
         null,
         null,
         null,
         null,
         null,
         null,
         null,
         null,
         null,
         null,
         null,
         null,
         null,
         null,
         null,
         null,
         null,
         null,
         null,
         null,
         null,
         null,
         null,
         null,
         null,
         null,
         null,
         null,
         null,
         null,
         null,
         null,
         null,
         null,
         null,
         null,
         null,
         null,
         null,
         null,
         null
        ],
        [
         "-----------------------",
         null,
         null,
         null,
         null,
         null,
         null,
         null,
         null,
         null,
         null,
         null,
         null,
         null,
         null,
         null,
         null,
         null,
         null,
         null,
         null,
         null,
         null,
         null,
         null,
         null,
         null,
         null,
         null,
         null,
         null,
         null,
         null,
         null,
         null,
         null,
         null,
         null,
         null,
         null,
         null,
         null,
         null,
         null,
         null,
         null,
         null,
         null,
         null,
         null,
         null,
         null,
         null,
         null,
         null,
         null,
         null,
         null,
         null,
         null,
         null,
         null,
         null,
         null,
         null,
         null,
         null,
         null,
         null,
         null,
         null,
         null,
         null,
         null,
         null
        ],
        [
         "My name is Brux and I was born in Italy.  I studied in the italian art highschool and Sport Science University.  I then moved to California where I gained a bachelor in Marketing and took a Master's in Public Relations.  I headed the creative services and marketing department of Giorgio Armani in Milan for 7 years",
         null,
         null,
         null,
         " now there are almost 50.000.  I really enjoyed the experience and accompanied the airbnb trajectory with interest and excitement.  I really like to meet my guest and gives them tips and tricks about Rio. But sometimes I am not able... so my help cheers them for me",
         " or I use a self check in method. Em 2017",
         " I was asked to be Leader of the Host Club of Rio de Janeiro together with other 2 hosts.  We organize encounters",
         null,
         null,
         "within an hour",
         null,
         "100%",
         "t",
         null,
         "https://a0.muscache.com/im/users/503995/profile_pic/1302871875/original.jpg?aki_policy=profile_x_medium",
         null,
         null,
         "8",
         "['email', 'phone']",
         null,
         null,
         null,
         "Ipanema",
         null,
         null,
         null,
         null,
         null,
         null,
         null,
         "1 bath",
         "1",
         "1",
         "\"[\"\"Fast wifi \\u2013 543 Mbps\"\"",
         " \"\"Essentials\"\"",
         null,
         " \"\"Paid pack \\u2019n play/travel crib - available upon request\"\"",
         " \"\"Changing table - available upon request\"\"",
         null,
         " \"\"Hangers\"\"",
         " \"\"Safe\"\"",
         " \"\"Window AC unit\"\"",
         " \"\"Paid crib - available upon request\"\"",
         null,
         null,
         null,
         null,
         null,
         null,
         null,
         null,
         " \"\"Shared beach access\"\"",
         " \"\"Drying rack for clothing\"\"",
         " \"\"Shower gel\"\"",
         " \"\"Paid standalone high chair - available upon request\"\"",
         null,
         " \"\"Table corner guards\"\"",
         null,
         null,
         null,
         null,
         " \"\"Dining table\"\"",
         null,
         null,
         null,
         null,
         null,
         null,
         null,
         null,
         null,
         null,
         null,
         null,
         " \"\"Bed linens\"\""
        ],
        [
         "230989",
         null,
         null,
         null,
         "city scrape",
         "Nice Flat in Copacabana  Ocean View",
         "Very nice studio, half block away from Copacabana beach, partial view of the sea from the 12th floor. No proper kitchen, it has frigo-bar, no stove, a hot-plate, electric oven, coffee-maker, plates and cutlery.",
         null,
         null,
         "1207700",
         null,
         "Maria Luiza",
         "2011-09-25",
         null,
         "Meu nome é Maria Luiza, adoro ajudar meus hóspedes, pois vivi muito tempo no exterior, falo várias línguas, e entendo como é viver fora da sua cidade.\n",
         null,
         null,
         null,
         null,
         null,
         null,
         null,
         null,
         null,
         null,
         null,
         null,
         null,
         null,
         null,
         null,
         null,
         null,
         null,
         null,
         null,
         null,
         null,
         null,
         null,
         null,
         null,
         null,
         null,
         null,
         null,
         null,
         null,
         null,
         null,
         null,
         null,
         null,
         null,
         null,
         null,
         null,
         null,
         null,
         null,
         null,
         null,
         null,
         null,
         null,
         null,
         null,
         null,
         null,
         null,
         null,
         null,
         null,
         null,
         null
        ]
       ],
       "datasetInfos": [],
       "dbfsResultPath": null,
       "isJsonSchema": true,
       "metadata": {},
       "overflow": false,
       "plotOptions": {
        "customPlotOptions": {},
        "displayType": "table",
        "pivotAggregation": null,
        "pivotColumns": null,
        "xColumns": null,
        "yColumns": null
       },
       "removedWidgets": [],
       "schema": [
        {
         "metadata": "{}",
         "name": "id",
         "type": "\"string\""
        },
        {
         "metadata": "{}",
         "name": "listing_url",
         "type": "\"string\""
        },
        {
         "metadata": "{}",
         "name": "scrape_id",
         "type": "\"string\""
        },
        {
         "metadata": "{}",
         "name": "last_scraped",
         "type": "\"string\""
        },
        {
         "metadata": "{}",
         "name": "source",
         "type": "\"string\""
        },
        {
         "metadata": "{}",
         "name": "name",
         "type": "\"string\""
        },
        {
         "metadata": "{}",
         "name": "description",
         "type": "\"string\""
        },
        {
         "metadata": "{}",
         "name": "neighborhood_overview",
         "type": "\"string\""
        },
        {
         "metadata": "{}",
         "name": "picture_url",
         "type": "\"string\""
        },
        {
         "metadata": "{}",
         "name": "host_id",
         "type": "\"string\""
        },
        {
         "metadata": "{}",
         "name": "host_url",
         "type": "\"string\""
        },
        {
         "metadata": "{}",
         "name": "host_name",
         "type": "\"string\""
        },
        {
         "metadata": "{}",
         "name": "host_since",
         "type": "\"string\""
        },
        {
         "metadata": "{}",
         "name": "host_location",
         "type": "\"string\""
        },
        {
         "metadata": "{}",
         "name": "host_about",
         "type": "\"string\""
        },
        {
         "metadata": "{}",
         "name": "host_response_time",
         "type": "\"string\""
        },
        {
         "metadata": "{}",
         "name": "host_response_rate",
         "type": "\"string\""
        },
        {
         "metadata": "{}",
         "name": "host_acceptance_rate",
         "type": "\"string\""
        },
        {
         "metadata": "{}",
         "name": "host_is_superhost",
         "type": "\"string\""
        },
        {
         "metadata": "{}",
         "name": "host_thumbnail_url",
         "type": "\"string\""
        },
        {
         "metadata": "{}",
         "name": "host_picture_url",
         "type": "\"string\""
        },
        {
         "metadata": "{}",
         "name": "host_neighbourhood",
         "type": "\"string\""
        },
        {
         "metadata": "{}",
         "name": "host_listings_count",
         "type": "\"string\""
        },
        {
         "metadata": "{}",
         "name": "host_total_listings_count",
         "type": "\"string\""
        },
        {
         "metadata": "{}",
         "name": "host_verifications",
         "type": "\"string\""
        },
        {
         "metadata": "{}",
         "name": "host_has_profile_pic",
         "type": "\"string\""
        },
        {
         "metadata": "{}",
         "name": "host_identity_verified",
         "type": "\"string\""
        },
        {
         "metadata": "{}",
         "name": "neighbourhood",
         "type": "\"string\""
        },
        {
         "metadata": "{}",
         "name": "neighbourhood_cleansed",
         "type": "\"string\""
        },
        {
         "metadata": "{}",
         "name": "neighbourhood_group_cleansed",
         "type": "\"string\""
        },
        {
         "metadata": "{}",
         "name": "latitude",
         "type": "\"string\""
        },
        {
         "metadata": "{}",
         "name": "longitude",
         "type": "\"string\""
        },
        {
         "metadata": "{}",
         "name": "property_type",
         "type": "\"string\""
        },
        {
         "metadata": "{}",
         "name": "room_type",
         "type": "\"string\""
        },
        {
         "metadata": "{}",
         "name": "accommodates",
         "type": "\"string\""
        },
        {
         "metadata": "{}",
         "name": "bathrooms",
         "type": "\"string\""
        },
        {
         "metadata": "{}",
         "name": "bathrooms_text",
         "type": "\"string\""
        },
        {
         "metadata": "{}",
         "name": "bedrooms",
         "type": "\"string\""
        },
        {
         "metadata": "{}",
         "name": "beds",
         "type": "\"string\""
        },
        {
         "metadata": "{}",
         "name": "amenities",
         "type": "\"string\""
        },
        {
         "metadata": "{}",
         "name": "price",
         "type": "\"string\""
        },
        {
         "metadata": "{}",
         "name": "minimum_nights",
         "type": "\"string\""
        },
        {
         "metadata": "{}",
         "name": "maximum_nights",
         "type": "\"string\""
        },
        {
         "metadata": "{}",
         "name": "minimum_minimum_nights",
         "type": "\"string\""
        },
        {
         "metadata": "{}",
         "name": "maximum_minimum_nights",
         "type": "\"string\""
        },
        {
         "metadata": "{}",
         "name": "minimum_maximum_nights",
         "type": "\"string\""
        },
        {
         "metadata": "{}",
         "name": "maximum_maximum_nights",
         "type": "\"string\""
        },
        {
         "metadata": "{}",
         "name": "minimum_nights_avg_ntm",
         "type": "\"string\""
        },
        {
         "metadata": "{}",
         "name": "maximum_nights_avg_ntm",
         "type": "\"string\""
        },
        {
         "metadata": "{}",
         "name": "calendar_updated",
         "type": "\"string\""
        },
        {
         "metadata": "{}",
         "name": "has_availability",
         "type": "\"string\""
        },
        {
         "metadata": "{}",
         "name": "availability_30",
         "type": "\"string\""
        },
        {
         "metadata": "{}",
         "name": "availability_60",
         "type": "\"string\""
        },
        {
         "metadata": "{}",
         "name": "availability_90",
         "type": "\"string\""
        },
        {
         "metadata": "{}",
         "name": "availability_365",
         "type": "\"string\""
        },
        {
         "metadata": "{}",
         "name": "calendar_last_scraped",
         "type": "\"string\""
        },
        {
         "metadata": "{}",
         "name": "number_of_reviews",
         "type": "\"string\""
        },
        {
         "metadata": "{}",
         "name": "number_of_reviews_ltm",
         "type": "\"string\""
        },
        {
         "metadata": "{}",
         "name": "number_of_reviews_l30d",
         "type": "\"string\""
        },
        {
         "metadata": "{}",
         "name": "first_review",
         "type": "\"string\""
        },
        {
         "metadata": "{}",
         "name": "last_review",
         "type": "\"string\""
        },
        {
         "metadata": "{}",
         "name": "review_scores_rating",
         "type": "\"string\""
        },
        {
         "metadata": "{}",
         "name": "review_scores_accuracy",
         "type": "\"string\""
        },
        {
         "metadata": "{}",
         "name": "review_scores_cleanliness",
         "type": "\"string\""
        },
        {
         "metadata": "{}",
         "name": "review_scores_checkin",
         "type": "\"string\""
        },
        {
         "metadata": "{}",
         "name": "review_scores_communication",
         "type": "\"string\""
        },
        {
         "metadata": "{}",
         "name": "review_scores_location",
         "type": "\"string\""
        },
        {
         "metadata": "{}",
         "name": "review_scores_value",
         "type": "\"string\""
        },
        {
         "metadata": "{}",
         "name": "license",
         "type": "\"string\""
        },
        {
         "metadata": "{}",
         "name": "instant_bookable",
         "type": "\"string\""
        },
        {
         "metadata": "{}",
         "name": "calculated_host_listings_count",
         "type": "\"string\""
        },
        {
         "metadata": "{}",
         "name": "calculated_host_listings_count_entire_homes",
         "type": "\"string\""
        },
        {
         "metadata": "{}",
         "name": "calculated_host_listings_count_private_rooms",
         "type": "\"string\""
        },
        {
         "metadata": "{}",
         "name": "calculated_host_listings_count_shared_rooms",
         "type": "\"string\""
        },
        {
         "metadata": "{}",
         "name": "reviews_per_month",
         "type": "\"string\""
        }
       ],
       "type": "table"
      }
     },
     "output_type": "display_data"
    }
   ],
   "source": [
    "# Caminho para o arquivo Delta da tabela calendar na Camada Bronze\n",
    "bronze_path_listings = \"/FileStore/tables/airbnb_rj/bronze/listings.delta\"\n",
    "\n",
    "# Carregar os dados da Camada Bronze para um DataFrame na Camada Silver\n",
    "df_listings_silver = spark.read.format(\"delta\").load(bronze_path_listings)\n",
    "\n",
    "# Exibir os dados carregados para verificar o conteúdo\n",
    "df_listings_silver.limit(15).display()"
   ]
  },
  {
   "cell_type": "code",
   "execution_count": 0,
   "metadata": {
    "application/vnd.databricks.v1+cell": {
     "cellMetadata": {
      "byteLimit": 2048000,
      "rowLimit": 10000
     },
     "inputWidgets": {},
     "nuid": "aabb8cb3-6381-4555-bde1-7a4090828da4",
     "showTitle": false,
     "tableResultSettingsMap": {},
     "title": ""
    }
   },
   "outputs": [
    {
     "output_type": "execute_result",
     "data": {
      "text/plain": [
       "62062"
      ]
     },
     "execution_count": 222,
     "metadata": {},
     "output_type": "execute_result"
    }
   ],
   "source": [
    "df_listings_silver.count()"
   ]
  },
  {
   "cell_type": "code",
   "execution_count": 0,
   "metadata": {
    "application/vnd.databricks.v1+cell": {
     "cellMetadata": {
      "byteLimit": 2048000,
      "rowLimit": 10000
     },
     "inputWidgets": {},
     "nuid": "52f36b31-47a6-43f2-b668-305be6a40427",
     "showTitle": false,
     "tableResultSettingsMap": {},
     "title": ""
    }
   },
   "outputs": [
    {
     "output_type": "display_data",
     "data": {
      "text/html": [
       "<style scoped>\n",
       "  .table-result-container {\n",
       "    max-height: 300px;\n",
       "    overflow: auto;\n",
       "  }\n",
       "  table, th, td {\n",
       "    border: 1px solid black;\n",
       "    border-collapse: collapse;\n",
       "  }\n",
       "  th, td {\n",
       "    padding: 5px;\n",
       "  }\n",
       "  th {\n",
       "    text-align: left;\n",
       "  }\n",
       "</style><div class='table-result-container'><table class='table-result'><thead style='background-color: white'><tr><th>price</th></tr></thead><tbody><tr><td>2</td></tr><tr><td>89.0</td></tr><tr><td>5.0</td></tr><tr><td>4</td></tr><tr><td> \"\"40 inch HDTV\"\"</td></tr><tr><td>$199.00</td></tr><tr><td>364</td></tr><tr><td> \"\"Pack \\u2019n play/Travel crib\"\"</td></tr><tr><td>1</td></tr><tr><td>1125</td></tr><tr><td> \"\"Children\\u2019s dinnerware\"\"</td></tr><tr><td>2024-06-27</td></tr><tr><td>1</td></tr><tr><td>0</td></tr><tr><td>4</td></tr></tbody></table></div>"
      ]
     },
     "metadata": {
      "application/vnd.databricks.v1+output": {
       "addedWidgets": {},
       "aggData": [],
       "aggError": "",
       "aggOverflow": false,
       "aggSchema": [],
       "aggSeriesLimitReached": false,
       "aggType": "",
       "arguments": {},
       "columnCustomDisplayInfos": {},
       "data": [
        [
         "2"
        ],
        [
         "89.0"
        ],
        [
         "5.0"
        ],
        [
         "4"
        ],
        [
         " \"\"40 inch HDTV\"\""
        ],
        [
         "$199.00"
        ],
        [
         "364"
        ],
        [
         " \"\"Pack \\u2019n play/Travel crib\"\""
        ],
        [
         "1"
        ],
        [
         "1125"
        ],
        [
         " \"\"Children\\u2019s dinnerware\"\""
        ],
        [
         "2024-06-27"
        ],
        [
         "1"
        ],
        [
         "0"
        ],
        [
         "4"
        ]
       ],
       "datasetInfos": [],
       "dbfsResultPath": null,
       "isJsonSchema": true,
       "metadata": {},
       "overflow": false,
       "plotOptions": {
        "customPlotOptions": {},
        "displayType": "table",
        "pivotAggregation": null,
        "pivotColumns": null,
        "xColumns": null,
        "yColumns": null
       },
       "removedWidgets": [],
       "schema": [
        {
         "metadata": "{}",
         "name": "price",
         "type": "\"string\""
        }
       ],
       "type": "table"
      }
     },
     "output_type": "display_data"
    }
   ],
   "source": [
    "# Filtrar e exibir as linhas da coluna `price` que contêm números, ponto e símbolo de dólar\n",
    "price_filtered = df_listings_silver.filter(col(\"price\").rlike(\"[$0-9.]+\"))\n",
    "\n",
    "# Exibir o resultado\n",
    "display(price_filtered.select(\"price\").limit(15))\n"
   ]
  },
  {
   "cell_type": "code",
   "execution_count": 0,
   "metadata": {
    "application/vnd.databricks.v1+cell": {
     "cellMetadata": {
      "byteLimit": 2048000,
      "rowLimit": 10000
     },
     "inputWidgets": {},
     "nuid": "56088218-e52c-4e26-8237-09ca71f995f8",
     "showTitle": false,
     "tableResultSettingsMap": {},
     "title": ""
    }
   },
   "outputs": [],
   "source": [
    "# Remover o símbolo `$` e filtrar para manter apenas linhas com valores numéricos válidos\n",
    "df_listings_silver = (\n",
    "    df_listings_silver\n",
    "    .withColumn(\"price\", regexp_replace(col(\"price\"), \"[$]\", \"\"))  # Remover $\n",
    "    .filter(col(\"price\").rlike(\"^[0-9]+(\\.[0-9]{1,2})?$\"))  # Manter apenas números e ponto\n",
    ")"
   ]
  },
  {
   "cell_type": "code",
   "execution_count": 0,
   "metadata": {
    "application/vnd.databricks.v1+cell": {
     "cellMetadata": {
      "byteLimit": 2048000,
      "rowLimit": 10000
     },
     "inputWidgets": {},
     "nuid": "17d1e95b-c984-40cf-a2c8-97f47e52b429",
     "showTitle": false,
     "tableResultSettingsMap": {},
     "title": ""
    }
   },
   "outputs": [
    {
     "output_type": "display_data",
     "data": {
      "text/html": [
       "<style scoped>\n",
       "  .table-result-container {\n",
       "    max-height: 300px;\n",
       "    overflow: auto;\n",
       "  }\n",
       "  table, th, td {\n",
       "    border: 1px solid black;\n",
       "    border-collapse: collapse;\n",
       "  }\n",
       "  th, td {\n",
       "    padding: 5px;\n",
       "  }\n",
       "  th {\n",
       "    text-align: left;\n",
       "  }\n",
       "</style><div class='table-result-container'><table class='table-result'><thead style='background-color: white'><tr><th>id</th><th>listing_url</th><th>scrape_id</th><th>last_scraped</th><th>source</th><th>name</th><th>description</th><th>neighborhood_overview</th><th>picture_url</th><th>host_id</th><th>host_url</th><th>host_name</th><th>host_since</th><th>host_location</th><th>host_about</th><th>host_response_time</th><th>host_response_rate</th><th>host_acceptance_rate</th><th>host_is_superhost</th><th>host_thumbnail_url</th><th>host_picture_url</th><th>host_neighbourhood</th><th>host_listings_count</th><th>host_total_listings_count</th><th>host_verifications</th><th>host_has_profile_pic</th><th>host_identity_verified</th><th>neighbourhood</th><th>neighbourhood_cleansed</th><th>neighbourhood_group_cleansed</th><th>latitude</th><th>longitude</th><th>property_type</th><th>room_type</th><th>accommodates</th><th>bathrooms</th><th>bathrooms_text</th><th>bedrooms</th><th>beds</th><th>amenities</th><th>price</th><th>minimum_nights</th><th>maximum_nights</th><th>minimum_minimum_nights</th><th>maximum_minimum_nights</th><th>minimum_maximum_nights</th><th>maximum_maximum_nights</th><th>minimum_nights_avg_ntm</th><th>maximum_nights_avg_ntm</th><th>calendar_updated</th><th>has_availability</th><th>availability_30</th><th>availability_60</th><th>availability_90</th><th>availability_365</th><th>calendar_last_scraped</th><th>number_of_reviews</th><th>number_of_reviews_ltm</th><th>number_of_reviews_l30d</th><th>first_review</th><th>last_review</th><th>review_scores_rating</th><th>review_scores_accuracy</th><th>review_scores_cleanliness</th><th>review_scores_checkin</th><th>review_scores_communication</th><th>review_scores_location</th><th>review_scores_value</th><th>license</th><th>instant_bookable</th><th>calculated_host_listings_count</th><th>calculated_host_listings_count_entire_homes</th><th>calculated_host_listings_count_private_rooms</th><th>calculated_host_listings_count_shared_rooms</th><th>reviews_per_month</th></tr></thead><tbody><tr><td>17878</td><td>null</td><td>null</td><td>null</td><td>city scrape</td><td>Very Nice 2Br in Copacabana w. balcony, fast WiFi</td><td>\"Please note that elevated rates applies for New Years and Carnival. Price depends on length of stay and number of people. Generally I prefer a stay for 1 week or more and a maximum of 5 people (6 at the most). Contact me, and we will discuss. <br />- Bright and sunny<br />- Large balcony (25 square meters) <br />- High speed WiFi (up to 500MB)<br />- Smart TV (you can watch Netflix etc. if you have an account)<br />- 24h doorman<br />- 1 minute to walk to Copacabana Beach<br />- Silent \"\"split\"\" air conditioning<br />- Best spot in Rio\"</td><td>null</td><td>null</td><td>68997</td><td>null</td><td>Matthias</td><td>2010-01-08</td><td>null</td><td>\"I  am a  journalist/writer. Lived  in NYC for 15 years. I  am now based in Rio and published 3 volumes of travel stories on AMAZ0N: \"\"The World Is My Oyster\"\". If you have never been to Rio</td><td>null</td><td>null</td><td> you'll find  29 other travel stories from all around the globe.\"</td><td>within an hour</td><td>null</td><td>null</td><td>null</td><td>https://a0.muscache.com/im/pictures/user/67b13cea-8c11-49c0-a08d-7f42c330676e.jpg?aki_policy=profile_small</td><td>https://a0.muscache.com/im/pictures/user/67b13cea-8c11-49c0-a08d-7f42c330676e.jpg?aki_policy=profile_x_medium</td><td>null</td><td>null</td><td>null</td><td>null</td><td>null</td><td>null</td><td>Rio de Janeiro, Brazil</td><td>Copacabana</td><td>null</td><td>-22.96599</td><td>-43.1794</td><td>null</td><td>Entire home/apt</td><td>5</td><td>null</td><td>1 bath</td><td>2</td><td>2</td><td>\"[\"\"Smoking allowed\"\"</td><td>null</td><td>null</td><td>null</td><td>null</td><td>null</td><td>null</td><td>null</td><td>null</td><td> \"\"Hot water\"\"</td><td> \"\"Microwave\"\"</td><td> \"\"Elevator\"\"</td><td> \"\"Luggage dropoff allowed\"\"</td><td>null</td><td> \"\"Bed linens\"\"</td><td>null</td><td>null</td><td>null</td><td>null</td><td> \"\"Oven\"\"</td><td>null</td><td>null</td><td>null</td><td>null</td><td>null</td><td>null</td><td>null</td><td>null</td><td>null</td><td>null</td><td>null</td><td>null</td><td>28</td></tr><tr><td>Falo e escrevo em Inglês</td><td>null</td><td>null</td><td>null</td><td>100%</td><td>75%</td><td>f</td><td>null</td><td>null</td><td>Copacabana</td><td>null</td><td>8</td><td>['email', 'phone']</td><td>null</td><td>t</td><td>null</td><td>null</td><td>null</td><td>-22.97787</td><td>null</td><td>null</td><td>null</td><td>4</td><td>null</td><td>null</td><td>null</td><td>null</td><td>null</td><td>null</td><td>null</td><td> \"\"Wifi\"\"</td><td> \"\"Elevator\"\"]\"</td><td>$350.00</td><td>3</td><td>89</td><td>null</td><td>3</td><td>89</td><td>null</td><td>3.0</td><td>89.0</td><td>null</td><td>t</td><td>null</td><td>null</td><td>null</td><td>null</td><td>null</td><td>null</td><td>null</td><td>null</td><td>2011-11-02</td><td>2016-08-21</td><td>4.71</td><td>4.76</td><td>null</td><td>4.79</td><td>null</td><td>null</td><td>null</td><td>null</td><td>f</td><td>null</td><td>null</td><td>null</td><td>null</td><td>null</td><td>null</td><td>null</td><td>null</td><td>null</td><td>null</td><td>null</td><td>null</td><td>null</td></tr><tr><td>Me interesso por pessoas diversas e novas culturas. O Rio de Janeiro é encantador e acolhedor. Posso dar as melhores dicas de boa diversão.\"</td><td>null</td><td>null</td><td>null</td><td>f</td><td>https://a0.muscache.com/im/pictures/user/ff4fbc73-422b-44bc-8edb-1877e9d09766.jpg?aki_policy=profile_small</td><td>https://a0.muscache.com/im/pictures/user/ff4fbc73-422b-44bc-8edb-1877e9d09766.jpg?aki_policy=profile_x_medium</td><td>null</td><td>null</td><td>1</td><td>null</td><td>t</td><td>f</td><td>null</td><td>Botafogo</td><td>null</td><td>null</td><td>-43.18481</td><td>Entire rental unit</td><td>null</td><td>null</td><td>null</td><td>3 baths</td><td>2</td><td>null</td><td>null</td><td>null</td><td>null</td><td>null</td><td>null</td><td> \"\"Elevator\"\"</td><td> \"\"Gym\"\"</td><td> \"\"Washer\"\"]\"</td><td>$414.00</td><td>5</td><td>null</td><td>5</td><td>5</td><td>null</td><td>730</td><td>5.0</td><td>730.0</td><td>null</td><td>null</td><td>null</td><td>null</td><td>null</td><td>null</td><td>null</td><td>null</td><td>null</td><td>0</td><td>null</td><td>null</td><td>null</td><td>null</td><td>null</td><td>null</td><td>null</td><td>null</td><td>null</td><td>null</td><td>null</td><td>null</td><td>null</td><td>null</td><td>null</td><td>null</td><td>null</td><td>null</td><td>null</td><td>null</td><td>null</td><td>null</td><td>null</td></tr><tr><td>271975</td><td>null</td><td>null</td><td>null</td><td>city scrape</td><td>Unbelievable Ocean View Apartment</td><td>null</td><td>null</td><td>null</td><td> Vidigal is the place to stay. One of the most spectacular views in Rio is on the trail to the top of \"\"Dois Irmãos\"\"</td><td>null</td><td> ipanema and leblon beach is not as difficult to access as it seems. Staying in the neighborhood of Vidigal you already have access to the trail with a lot more ease and even without a guide</td><td> asked the friendly residents of the community you will see the top with ease.<br />http://trilhadoisirmaos.com.br/<br /><br />Public and beautiful Park in Vidigal:<br />Sitiê<br />http://www.parquesitie.org/<br /><br />Restaurants in Vidigal:<br />Barlacubaco restaurant<br />Av. President João Goulart</td><td>null</td><td>https://a0.muscache.com/pictures/4563200/4ea0f419_original.jpg</td><td>null</td><td>null</td><td>Maria</td><td>2011-11-19</td><td>null</td><td>null</td><td>null</td><td>0%</td><td>0%</td><td>null</td><td>null</td><td>null</td><td>null</td><td>null</td><td>null</td><td>['email', 'phone']</td><td>t</td><td>t</td><td>Rio de Janeiro, Brazil</td><td>Vidigal</td><td>null</td><td>-22.99508</td><td>-43.23604</td><td>null</td><td>Entire home/apt</td><td>4</td><td>1.0</td><td>1 bath</td><td>null</td><td>null</td><td>null</td><td>null</td><td>null</td><td>null</td><td>null</td><td>null</td><td> \"\"Wifi\"\"</td><td> \"\"Shampoo\"\"</td><td> \"\"Washer\"\"]\"</td><td>$236.00</td><td>null</td><td>90</td><td>null</td><td>null</td><td>null</td><td>null</td><td>1.0</td><td>null</td><td>null</td><td>null</td><td>null</td><td>null</td><td>null</td><td>null</td><td>null</td><td>null</td><td>null</td><td>null</td><td>null</td><td>2019-10-05</td></tr><tr><td>\",within a few hours,100%,76%,t,https://a0.muscache.com/im/pictures/user/b6ae525a-fd1d-451f-922e-8ee6dfa2a16f.jpg?aki_policy=profile_small,https://a0.muscache.com/im/pictures/user/b6ae525a-fd1d-451f-922e-8ee6dfa2a16f.jpg?aki_policy=profile_x_medium,Copacabana,10,11,\"['email'</td><td>null</td><td>null</td><td>null</td><td>Rio de Janeiro, Brazil</td><td>Copacabana</td><td>null</td><td>null</td><td>null</td><td>Entire rental unit</td><td>null</td><td>2</td><td>1.0</td><td>null</td><td>0</td><td>null</td><td>null</td><td> \"\"Air conditioning\"\"</td><td> \"\"Hangers\"\"</td><td>null</td><td>null</td><td>null</td><td> \"\"Refrigerator\"\"</td><td> \"\"Dishes and silverware\"\"</td><td>null</td><td>null</td><td>null</td><td>null</td><td>null</td><td>null</td><td> \"\"Long term stays allowed\"\"</td><td> \"\"Blender\"\"</td><td> \"\"Exterior security cameras on property\"\"</td><td> \"\"Coffee maker: pour-over coffee\"\"</td><td> \"\"Iron\"\"</td><td>null</td><td> \"\"Francis body soap\"\"</td><td> \"\"Patio or balcony\"\"</td><td>null</td><td> \"\"Wifi\"\"]\"</td><td>199.00</td><td>6</td><td>90</td><td>null</td><td>null</td><td>null</td><td>null</td><td>null</td><td>null</td><td>null</td><td>null</td><td>6</td><td>30</td><td>60</td><td>96</td><td>null</td><td>55</td><td>null</td><td>null</td><td>null</td><td>null</td><td>4.87</td><td>null</td><td>null</td><td>null</td><td>null</td><td>null</td><td>null</td><td>null</td><td>null</td><td>null</td><td>null</td><td>null</td><td>null</td><td>0.36</td></tr><tr><td>\",within a day,50%,0%,f,https://a0.muscache.com/im/users/1464031/profile_pic/1322816104/original.jpg?aki_policy=profile_small,https://a0.muscache.com/im/users/1464031/profile_pic/1322816104/original.jpg?aki_policy=profile_x_medium,Santa Teresa,3,5,\"['email'</td><td>null</td><td>null</td><td>null</td><td>null</td><td>Santa Teresa</td><td>null</td><td>null</td><td>null</td><td>Entire rental unit</td><td>null</td><td>2</td><td>1.0</td><td>null</td><td>0</td><td>null</td><td>null</td><td> \"\"Refrigerator\"\"</td><td> \"\"Dishes and silverware\"\"</td><td>null</td><td>null</td><td>null</td><td> \"\"Cooking basics\"\"</td><td> \"\"Iron\"\"</td><td>null</td><td>null</td><td>null</td><td>null</td><td>null</td><td>null</td><td>7</td><td>365</td><td>365</td><td>7.0</td><td>365.0</td><td>null</td><td>t</td><td>29</td><td>null</td><td>89</td><td>364</td><td>2024-06-28</td><td>3</td><td>null</td><td>null</td><td>null</td><td>null</td><td>null</td><td>null</td><td>null</td><td>null</td><td>5.0</td><td>4.67</td><td>4.67</td><td>null</td><td>null</td><td>3</td><td>null</td><td>null</td><td>null</td><td>null</td><td>null</td><td>null</td><td>null</td><td>null</td><td>null</td><td>null</td><td>null</td><td>null</td><td>null</td><td>null</td><td>null</td><td>null</td><td>null</td><td>null</td></tr><tr><td>285554</td><td>null</td><td>null</td><td>null</td><td>city scrape</td><td>Xenia's Room Casa São Conrado</td><td>Our house is near the beach (400m) (surf, wind surfing, kite surfing, 40 km of bike paths), Tijuca National Park (trails, abseiling, waterfalls, tandem paragliding, cycling), Fashion Mall Shopping (restaurants, boutiques, theater, cinemas), Italian gastronomy kiosk, 15 minutes from Copacabana, Maracanã, Sambódromo, Ipanema by metro, supermarket, discos of Barra da Tijuca (Armando Lombardi Ave.) .... You will just love it!</td><td>null</td><td>null</td><td> the view reaches the entire stretch of shores of the South and West Zone of Rio de Janeiro.<br /><br />At the top of the \"\"Pedra Bonita\"\" is the free flight takeoff ramp. A 20-minute trail takes tourists up to an exceptional viewpoint on the sea shore of São Conrado.<br /><br />The view from the house is breathtaking ... and reaches the tops of the Tijuca National Park covered in subtropical forest (Atlantic Forest)<br /><br />The house is separated from the Gávea Golf Club only by a small mountain creek with clear sound of running water and intense animal life. From the house</td><td>null</td><td>https://a0.muscache.com/pictures/miso/Hosting-285554/original/b2d38625-930b-4537-aa69-0111b1fcfe9a.jpeg</td><td>2163079</td><td>null</td><td>Stanislas</td><td>null</td><td>null</td><td>I am 69 years old, was born in Paris France, lived 20 years in Germany where I founded a family  and worked for various companies of the sector of industrial machinery and in these functions I traveled quite considerably  around the world. I have been spending the last 25 years in Brazil leading the daughter company of an European group and later as an independent salesman representing North American companies. I speak English, French, German, Spanish and Portuguese, enjoy very much contacts and to get the visit of foreign travelers in my house of São Conrado in Rio de Janeiro. I turned a great fan of Brazil and like to chat with my guests about what I know about it, passing on to them the marking cultural places that I visited and my experiences with typical bars, restaurants, museums and beaches of Rio. I bought this big house 21 years ago and transformed it progressively according to my taste to  the comfortable place it is today  and it grew to be my delight and hobby ... I like people to feel at ease there just like I do myself and feel happy when they return home with nice remembrances of their stay ... </td><td>within a few hours</td><td>null</td><td>null</td><td>null</td><td>https://a0.muscache.com/im/users/2163079/profile_pic/1334697434/original.jpg?aki_policy=profile_small</td><td>https://a0.muscache.com/im/users/2163079/profile_pic/1334697434/original.jpg?aki_policy=profile_x_medium</td><td>null</td><td>null</td><td>null</td><td>null</td><td>null</td><td>null</td><td>Rio de Janeiro, Brazil</td><td>São Conrado</td><td>null</td><td>-22.995813369750977</td><td>-43.26896286010742</td><td>null</td><td>Private room</td><td>2</td><td>null</td><td>1 private bath</td><td>1</td><td>1</td><td>\"[\"\"Essentials\"\"</td><td>null</td><td>null</td><td>null</td><td>null</td><td>null</td><td>null</td><td>null</td><td>null</td><td> \"\"Drying rack for clothing\"\"</td><td> \"\"Kitchen\"\"</td><td> \"\"Consul stainless steel stove\"\"</td><td> \"\"Dishes and silverware\"\"</td><td>null</td><td> \"\"Clothing storage: wardrobe\"\"</td><td>null</td><td>null</td><td>null</td><td>null</td><td> \"\"Microwave\"\"</td><td>null</td><td>null</td><td>null</td><td>null</td><td>null</td><td>null</td><td>null</td><td>null</td><td>null</td><td>null</td><td>null</td><td>null</td><td> \"\"Iron\"\"</td></tr><tr><td>\",within a few hours,100%,76%,t,https://a0.muscache.com/im/pictures/user/b6ae525a-fd1d-451f-922e-8ee6dfa2a16f.jpg?aki_policy=profile_small,https://a0.muscache.com/im/pictures/user/b6ae525a-fd1d-451f-922e-8ee6dfa2a16f.jpg?aki_policy=profile_x_medium,Copacabana,10,11,\"['email'</td><td>null</td><td>null</td><td>null</td><td>Rio de Janeiro, Brazil</td><td>Copacabana</td><td>null</td><td>null</td><td>null</td><td>Entire rental unit</td><td>null</td><td>4</td><td>1.0</td><td>null</td><td>0</td><td>null</td><td>null</td><td> \"\"Bed linens\"\"</td><td> \"\"Refrigerator\"\"</td><td>null</td><td>null</td><td>null</td><td> \"\"Essentials\"\"</td><td> \"\"Paid parking on premises\"\"</td><td>null</td><td>null</td><td>null</td><td>null</td><td>null</td><td>null</td><td> \"\"Microwave\"\"</td><td> \"\"Luggage dropoff allowed\"\"</td><td> \"\"Host greets you\"\"</td><td> \"\"Fire extinguisher\"\"</td><td> \"\"Coffee maker\"\"]\"</td><td>null</td><td>6</td><td>90</td><td>null</td><td>6</td><td>1125</td><td>1125</td><td>6.0</td><td>null</td><td>null</td><td>null</td><td>null</td><td>null</td><td>null</td><td>null</td><td>null</td><td>57</td><td>9</td><td>0</td><td>2012-02-23</td><td>null</td><td>4.93</td><td>null</td><td>null</td><td>null</td><td>null</td><td>4.52</td><td>null</td><td>null</td><td>null</td><td>null</td><td>null</td><td>null</td><td>null</td><td>null</td><td>null</td><td>null</td><td>null</td><td>null</td><td>null</td></tr><tr><td>\",within a day,50%,0%,f,https://a0.muscache.com/im/users/1464031/profile_pic/1322816104/original.jpg?aki_policy=profile_small,https://a0.muscache.com/im/users/1464031/profile_pic/1322816104/original.jpg?aki_policy=profile_x_medium,Santa Teresa,3,5,\"['email'</td><td>null</td><td>null</td><td>null</td><td>null</td><td>Santa Teresa</td><td>null</td><td>null</td><td>null</td><td>Entire rental unit</td><td>null</td><td>2</td><td>1.0</td><td>null</td><td>0</td><td>null</td><td>null</td><td> \"\"Dishes and silverware\"\"</td><td> \"\"TV\"\"</td><td>null</td><td>null</td><td>null</td><td> \"\"Iron\"\"</td><td> \"\"Elevator\"\"]\"</td><td>null</td><td>null</td><td>null</td><td>null</td><td>null</td><td>null</td><td>1125</td><td>3.0</td><td>1125.0</td><td>null</td><td>t</td><td>null</td><td>59</td><td>89</td><td>null</td><td>2024-06-28</td><td>1</td><td>0</td><td>0</td><td>null</td><td>null</td><td>null</td><td>null</td><td>null</td><td>null</td><td>null</td><td>null</td><td>5.0</td><td>null</td><td>f</td><td>3</td><td>null</td><td>0</td><td>null</td><td>null</td><td>null</td><td>null</td><td>null</td><td>null</td><td>null</td><td>null</td><td>null</td><td>null</td><td>null</td><td>null</td><td>null</td><td>null</td><td>null</td><td>null</td><td>null</td><td>null</td></tr><tr><td>\",within a day,50%,0%,f,https://a0.muscache.com/im/users/1464031/profile_pic/1322816104/original.jpg?aki_policy=profile_small,https://a0.muscache.com/im/users/1464031/profile_pic/1322816104/original.jpg?aki_policy=profile_x_medium,Santa Teresa,3,5,\"['email'</td><td>null</td><td>null</td><td>null</td><td>null</td><td>Santa Teresa</td><td>null</td><td>null</td><td>null</td><td>Entire rental unit</td><td>null</td><td>2</td><td>1.0</td><td>null</td><td>0</td><td>null</td><td>null</td><td> \"\"Smoking allowed\"\"</td><td> \"\"TV\"\"</td><td>null</td><td>null</td><td>null</td><td>$206.00</td><td>3</td><td>null</td><td>null</td><td>null</td><td>null</td><td>null</td><td>null</td><td>1125.0</td><td>null</td><td>t</td><td>29</td><td>59</td><td>null</td><td>364</td><td>2024-06-28</td><td>null</td><td>0</td><td>0</td><td>null</td><td>null</td><td>null</td><td>null</td><td>null</td><td>null</td><td>null</td><td>null</td><td>null</td><td>null</td><td>f</td><td>3</td><td>3</td><td>0</td><td>null</td><td>null</td><td>null</td><td>null</td><td>null</td><td>null</td><td>null</td><td>null</td><td>null</td><td>null</td><td>null</td><td>null</td><td>null</td><td>null</td><td>null</td><td>null</td><td>null</td><td>null</td><td>null</td><td>null</td></tr></tbody></table></div>"
      ]
     },
     "metadata": {
      "application/vnd.databricks.v1+output": {
       "addedWidgets": {},
       "aggData": [],
       "aggError": "",
       "aggOverflow": false,
       "aggSchema": [],
       "aggSeriesLimitReached": false,
       "aggType": "",
       "arguments": {},
       "columnCustomDisplayInfos": {},
       "data": [
        [
         "17878",
         null,
         null,
         null,
         "city scrape",
         "Very Nice 2Br in Copacabana w. balcony, fast WiFi",
         "\"Please note that elevated rates applies for New Years and Carnival. Price depends on length of stay and number of people. Generally I prefer a stay for 1 week or more and a maximum of 5 people (6 at the most). Contact me, and we will discuss. <br />- Bright and sunny<br />- Large balcony (25 square meters) <br />- High speed WiFi (up to 500MB)<br />- Smart TV (you can watch Netflix etc. if you have an account)<br />- 24h doorman<br />- 1 minute to walk to Copacabana Beach<br />- Silent \"\"split\"\" air conditioning<br />- Best spot in Rio\"",
         null,
         null,
         "68997",
         null,
         "Matthias",
         "2010-01-08",
         null,
         "\"I  am a  journalist/writer. Lived  in NYC for 15 years. I  am now based in Rio and published 3 volumes of travel stories on AMAZ0N: \"\"The World Is My Oyster\"\". If you have never been to Rio",
         null,
         null,
         " you'll find  29 other travel stories from all around the globe.\"",
         "within an hour",
         null,
         null,
         null,
         "https://a0.muscache.com/im/pictures/user/67b13cea-8c11-49c0-a08d-7f42c330676e.jpg?aki_policy=profile_small",
         "https://a0.muscache.com/im/pictures/user/67b13cea-8c11-49c0-a08d-7f42c330676e.jpg?aki_policy=profile_x_medium",
         null,
         null,
         null,
         null,
         null,
         null,
         "Rio de Janeiro, Brazil",
         "Copacabana",
         null,
         "-22.96599",
         "-43.1794",
         null,
         "Entire home/apt",
         "5",
         null,
         "1 bath",
         "2",
         "2",
         "\"[\"\"Smoking allowed\"\"",
         null,
         null,
         null,
         null,
         null,
         null,
         null,
         null,
         " \"\"Hot water\"\"",
         " \"\"Microwave\"\"",
         " \"\"Elevator\"\"",
         " \"\"Luggage dropoff allowed\"\"",
         null,
         " \"\"Bed linens\"\"",
         null,
         null,
         null,
         null,
         " \"\"Oven\"\"",
         null,
         null,
         null,
         null,
         null,
         null,
         null,
         null,
         null,
         null,
         null,
         null,
         "28"
        ],
        [
         "Falo e escrevo em Inglês",
         null,
         null,
         null,
         "100%",
         "75%",
         "f",
         null,
         null,
         "Copacabana",
         null,
         "8",
         "['email', 'phone']",
         null,
         "t",
         null,
         null,
         null,
         "-22.97787",
         null,
         null,
         null,
         "4",
         null,
         null,
         null,
         null,
         null,
         null,
         null,
         " \"\"Wifi\"\"",
         " \"\"Elevator\"\"]\"",
         "$350.00",
         "3",
         "89",
         null,
         "3",
         "89",
         null,
         "3.0",
         "89.0",
         null,
         "t",
         null,
         null,
         null,
         null,
         null,
         null,
         null,
         null,
         "2011-11-02",
         "2016-08-21",
         "4.71",
         "4.76",
         null,
         "4.79",
         null,
         null,
         null,
         null,
         "f",
         null,
         null,
         null,
         null,
         null,
         null,
         null,
         null,
         null,
         null,
         null,
         null,
         null
        ],
        [
         "Me interesso por pessoas diversas e novas culturas. O Rio de Janeiro é encantador e acolhedor. Posso dar as melhores dicas de boa diversão.\"",
         null,
         null,
         null,
         "f",
         "https://a0.muscache.com/im/pictures/user/ff4fbc73-422b-44bc-8edb-1877e9d09766.jpg?aki_policy=profile_small",
         "https://a0.muscache.com/im/pictures/user/ff4fbc73-422b-44bc-8edb-1877e9d09766.jpg?aki_policy=profile_x_medium",
         null,
         null,
         "1",
         null,
         "t",
         "f",
         null,
         "Botafogo",
         null,
         null,
         "-43.18481",
         "Entire rental unit",
         null,
         null,
         null,
         "3 baths",
         "2",
         null,
         null,
         null,
         null,
         null,
         null,
         " \"\"Elevator\"\"",
         " \"\"Gym\"\"",
         " \"\"Washer\"\"]\"",
         "$414.00",
         "5",
         null,
         "5",
         "5",
         null,
         "730",
         "5.0",
         "730.0",
         null,
         null,
         null,
         null,
         null,
         null,
         null,
         null,
         null,
         "0",
         null,
         null,
         null,
         null,
         null,
         null,
         null,
         null,
         null,
         null,
         null,
         null,
         null,
         null,
         null,
         null,
         null,
         null,
         null,
         null,
         null,
         null,
         null
        ],
        [
         "271975",
         null,
         null,
         null,
         "city scrape",
         "Unbelievable Ocean View Apartment",
         null,
         null,
         null,
         " Vidigal is the place to stay. One of the most spectacular views in Rio is on the trail to the top of \"\"Dois Irmãos\"\"",
         null,
         " ipanema and leblon beach is not as difficult to access as it seems. Staying in the neighborhood of Vidigal you already have access to the trail with a lot more ease and even without a guide",
         " asked the friendly residents of the community you will see the top with ease.<br />http://trilhadoisirmaos.com.br/<br /><br />Public and beautiful Park in Vidigal:<br />Sitiê<br />http://www.parquesitie.org/<br /><br />Restaurants in Vidigal:<br />Barlacubaco restaurant<br />Av. President João Goulart",
         null,
         "https://a0.muscache.com/pictures/4563200/4ea0f419_original.jpg",
         null,
         null,
         "Maria",
         "2011-11-19",
         null,
         null,
         null,
         "0%",
         "0%",
         null,
         null,
         null,
         null,
         null,
         null,
         "['email', 'phone']",
         "t",
         "t",
         "Rio de Janeiro, Brazil",
         "Vidigal",
         null,
         "-22.99508",
         "-43.23604",
         null,
         "Entire home/apt",
         "4",
         "1.0",
         "1 bath",
         null,
         null,
         null,
         null,
         null,
         null,
         null,
         null,
         " \"\"Wifi\"\"",
         " \"\"Shampoo\"\"",
         " \"\"Washer\"\"]\"",
         "$236.00",
         null,
         "90",
         null,
         null,
         null,
         null,
         "1.0",
         null,
         null,
         null,
         null,
         null,
         null,
         null,
         null,
         null,
         null,
         null,
         null,
         "2019-10-05"
        ],
        [
         "\",within a few hours,100%,76%,t,https://a0.muscache.com/im/pictures/user/b6ae525a-fd1d-451f-922e-8ee6dfa2a16f.jpg?aki_policy=profile_small,https://a0.muscache.com/im/pictures/user/b6ae525a-fd1d-451f-922e-8ee6dfa2a16f.jpg?aki_policy=profile_x_medium,Copacabana,10,11,\"['email'",
         null,
         null,
         null,
         "Rio de Janeiro, Brazil",
         "Copacabana",
         null,
         null,
         null,
         "Entire rental unit",
         null,
         "2",
         "1.0",
         null,
         "0",
         null,
         null,
         " \"\"Air conditioning\"\"",
         " \"\"Hangers\"\"",
         null,
         null,
         null,
         " \"\"Refrigerator\"\"",
         " \"\"Dishes and silverware\"\"",
         null,
         null,
         null,
         null,
         null,
         null,
         " \"\"Long term stays allowed\"\"",
         " \"\"Blender\"\"",
         " \"\"Exterior security cameras on property\"\"",
         " \"\"Coffee maker: pour-over coffee\"\"",
         " \"\"Iron\"\"",
         null,
         " \"\"Francis body soap\"\"",
         " \"\"Patio or balcony\"\"",
         null,
         " \"\"Wifi\"\"]\"",
         "199.00",
         "6",
         "90",
         null,
         null,
         null,
         null,
         null,
         null,
         null,
         null,
         "6",
         "30",
         "60",
         "96",
         null,
         "55",
         null,
         null,
         null,
         null,
         "4.87",
         null,
         null,
         null,
         null,
         null,
         null,
         null,
         null,
         null,
         null,
         null,
         null,
         "0.36"
        ],
        [
         "\",within a day,50%,0%,f,https://a0.muscache.com/im/users/1464031/profile_pic/1322816104/original.jpg?aki_policy=profile_small,https://a0.muscache.com/im/users/1464031/profile_pic/1322816104/original.jpg?aki_policy=profile_x_medium,Santa Teresa,3,5,\"['email'",
         null,
         null,
         null,
         null,
         "Santa Teresa",
         null,
         null,
         null,
         "Entire rental unit",
         null,
         "2",
         "1.0",
         null,
         "0",
         null,
         null,
         " \"\"Refrigerator\"\"",
         " \"\"Dishes and silverware\"\"",
         null,
         null,
         null,
         " \"\"Cooking basics\"\"",
         " \"\"Iron\"\"",
         null,
         null,
         null,
         null,
         null,
         null,
         "7",
         "365",
         "365",
         "7.0",
         "365.0",
         null,
         "t",
         "29",
         null,
         "89",
         "364",
         "2024-06-28",
         "3",
         null,
         null,
         null,
         null,
         null,
         null,
         null,
         null,
         "5.0",
         "4.67",
         "4.67",
         null,
         null,
         "3",
         null,
         null,
         null,
         null,
         null,
         null,
         null,
         null,
         null,
         null,
         null,
         null,
         null,
         null,
         null,
         null,
         null,
         null
        ],
        [
         "285554",
         null,
         null,
         null,
         "city scrape",
         "Xenia's Room Casa São Conrado",
         "Our house is near the beach (400m) (surf, wind surfing, kite surfing, 40 km of bike paths), Tijuca National Park (trails, abseiling, waterfalls, tandem paragliding, cycling), Fashion Mall Shopping (restaurants, boutiques, theater, cinemas), Italian gastronomy kiosk, 15 minutes from Copacabana, Maracanã, Sambódromo, Ipanema by metro, supermarket, discos of Barra da Tijuca (Armando Lombardi Ave.) .... You will just love it!",
         null,
         null,
         " the view reaches the entire stretch of shores of the South and West Zone of Rio de Janeiro.<br /><br />At the top of the \"\"Pedra Bonita\"\" is the free flight takeoff ramp. A 20-minute trail takes tourists up to an exceptional viewpoint on the sea shore of São Conrado.<br /><br />The view from the house is breathtaking ... and reaches the tops of the Tijuca National Park covered in subtropical forest (Atlantic Forest)<br /><br />The house is separated from the Gávea Golf Club only by a small mountain creek with clear sound of running water and intense animal life. From the house",
         null,
         "https://a0.muscache.com/pictures/miso/Hosting-285554/original/b2d38625-930b-4537-aa69-0111b1fcfe9a.jpeg",
         "2163079",
         null,
         "Stanislas",
         null,
         null,
         "I am 69 years old, was born in Paris France, lived 20 years in Germany where I founded a family  and worked for various companies of the sector of industrial machinery and in these functions I traveled quite considerably  around the world. I have been spending the last 25 years in Brazil leading the daughter company of an European group and later as an independent salesman representing North American companies. I speak English, French, German, Spanish and Portuguese, enjoy very much contacts and to get the visit of foreign travelers in my house of São Conrado in Rio de Janeiro. I turned a great fan of Brazil and like to chat with my guests about what I know about it, passing on to them the marking cultural places that I visited and my experiences with typical bars, restaurants, museums and beaches of Rio. I bought this big house 21 years ago and transformed it progressively according to my taste to  the comfortable place it is today  and it grew to be my delight and hobby ... I like people to feel at ease there just like I do myself and feel happy when they return home with nice remembrances of their stay ... ",
         "within a few hours",
         null,
         null,
         null,
         "https://a0.muscache.com/im/users/2163079/profile_pic/1334697434/original.jpg?aki_policy=profile_small",
         "https://a0.muscache.com/im/users/2163079/profile_pic/1334697434/original.jpg?aki_policy=profile_x_medium",
         null,
         null,
         null,
         null,
         null,
         null,
         "Rio de Janeiro, Brazil",
         "São Conrado",
         null,
         "-22.995813369750977",
         "-43.26896286010742",
         null,
         "Private room",
         "2",
         null,
         "1 private bath",
         "1",
         "1",
         "\"[\"\"Essentials\"\"",
         null,
         null,
         null,
         null,
         null,
         null,
         null,
         null,
         " \"\"Drying rack for clothing\"\"",
         " \"\"Kitchen\"\"",
         " \"\"Consul stainless steel stove\"\"",
         " \"\"Dishes and silverware\"\"",
         null,
         " \"\"Clothing storage: wardrobe\"\"",
         null,
         null,
         null,
         null,
         " \"\"Microwave\"\"",
         null,
         null,
         null,
         null,
         null,
         null,
         null,
         null,
         null,
         null,
         null,
         null,
         " \"\"Iron\"\""
        ],
        [
         "\",within a few hours,100%,76%,t,https://a0.muscache.com/im/pictures/user/b6ae525a-fd1d-451f-922e-8ee6dfa2a16f.jpg?aki_policy=profile_small,https://a0.muscache.com/im/pictures/user/b6ae525a-fd1d-451f-922e-8ee6dfa2a16f.jpg?aki_policy=profile_x_medium,Copacabana,10,11,\"['email'",
         null,
         null,
         null,
         "Rio de Janeiro, Brazil",
         "Copacabana",
         null,
         null,
         null,
         "Entire rental unit",
         null,
         "4",
         "1.0",
         null,
         "0",
         null,
         null,
         " \"\"Bed linens\"\"",
         " \"\"Refrigerator\"\"",
         null,
         null,
         null,
         " \"\"Essentials\"\"",
         " \"\"Paid parking on premises\"\"",
         null,
         null,
         null,
         null,
         null,
         null,
         " \"\"Microwave\"\"",
         " \"\"Luggage dropoff allowed\"\"",
         " \"\"Host greets you\"\"",
         " \"\"Fire extinguisher\"\"",
         " \"\"Coffee maker\"\"]\"",
         null,
         "6",
         "90",
         null,
         "6",
         "1125",
         "1125",
         "6.0",
         null,
         null,
         null,
         null,
         null,
         null,
         null,
         null,
         "57",
         "9",
         "0",
         "2012-02-23",
         null,
         "4.93",
         null,
         null,
         null,
         null,
         "4.52",
         null,
         null,
         null,
         null,
         null,
         null,
         null,
         null,
         null,
         null,
         null,
         null,
         null
        ],
        [
         "\",within a day,50%,0%,f,https://a0.muscache.com/im/users/1464031/profile_pic/1322816104/original.jpg?aki_policy=profile_small,https://a0.muscache.com/im/users/1464031/profile_pic/1322816104/original.jpg?aki_policy=profile_x_medium,Santa Teresa,3,5,\"['email'",
         null,
         null,
         null,
         null,
         "Santa Teresa",
         null,
         null,
         null,
         "Entire rental unit",
         null,
         "2",
         "1.0",
         null,
         "0",
         null,
         null,
         " \"\"Dishes and silverware\"\"",
         " \"\"TV\"\"",
         null,
         null,
         null,
         " \"\"Iron\"\"",
         " \"\"Elevator\"\"]\"",
         null,
         null,
         null,
         null,
         null,
         null,
         "1125",
         "3.0",
         "1125.0",
         null,
         "t",
         null,
         "59",
         "89",
         null,
         "2024-06-28",
         "1",
         "0",
         "0",
         null,
         null,
         null,
         null,
         null,
         null,
         null,
         null,
         "5.0",
         null,
         "f",
         "3",
         null,
         "0",
         null,
         null,
         null,
         null,
         null,
         null,
         null,
         null,
         null,
         null,
         null,
         null,
         null,
         null,
         null,
         null,
         null,
         null
        ],
        [
         "\",within a day,50%,0%,f,https://a0.muscache.com/im/users/1464031/profile_pic/1322816104/original.jpg?aki_policy=profile_small,https://a0.muscache.com/im/users/1464031/profile_pic/1322816104/original.jpg?aki_policy=profile_x_medium,Santa Teresa,3,5,\"['email'",
         null,
         null,
         null,
         null,
         "Santa Teresa",
         null,
         null,
         null,
         "Entire rental unit",
         null,
         "2",
         "1.0",
         null,
         "0",
         null,
         null,
         " \"\"Smoking allowed\"\"",
         " \"\"TV\"\"",
         null,
         null,
         null,
         "$206.00",
         "3",
         null,
         null,
         null,
         null,
         null,
         null,
         "1125.0",
         null,
         "t",
         "29",
         "59",
         null,
         "364",
         "2024-06-28",
         null,
         "0",
         "0",
         null,
         null,
         null,
         null,
         null,
         null,
         null,
         null,
         null,
         null,
         "f",
         "3",
         "3",
         "0",
         null,
         null,
         null,
         null,
         null,
         null,
         null,
         null,
         null,
         null,
         null,
         null,
         null,
         null,
         null,
         null,
         null,
         null,
         null,
         null
        ]
       ],
       "datasetInfos": [],
       "dbfsResultPath": null,
       "isJsonSchema": true,
       "metadata": {},
       "overflow": false,
       "plotOptions": {
        "customPlotOptions": {},
        "displayType": "table",
        "pivotAggregation": null,
        "pivotColumns": null,
        "xColumns": null,
        "yColumns": null
       },
       "removedWidgets": [],
       "schema": [
        {
         "metadata": "{}",
         "name": "id",
         "type": "\"string\""
        },
        {
         "metadata": "{}",
         "name": "listing_url",
         "type": "\"string\""
        },
        {
         "metadata": "{}",
         "name": "scrape_id",
         "type": "\"string\""
        },
        {
         "metadata": "{}",
         "name": "last_scraped",
         "type": "\"string\""
        },
        {
         "metadata": "{}",
         "name": "source",
         "type": "\"string\""
        },
        {
         "metadata": "{}",
         "name": "name",
         "type": "\"string\""
        },
        {
         "metadata": "{}",
         "name": "description",
         "type": "\"string\""
        },
        {
         "metadata": "{}",
         "name": "neighborhood_overview",
         "type": "\"string\""
        },
        {
         "metadata": "{}",
         "name": "picture_url",
         "type": "\"string\""
        },
        {
         "metadata": "{}",
         "name": "host_id",
         "type": "\"string\""
        },
        {
         "metadata": "{}",
         "name": "host_url",
         "type": "\"string\""
        },
        {
         "metadata": "{}",
         "name": "host_name",
         "type": "\"string\""
        },
        {
         "metadata": "{}",
         "name": "host_since",
         "type": "\"string\""
        },
        {
         "metadata": "{}",
         "name": "host_location",
         "type": "\"string\""
        },
        {
         "metadata": "{}",
         "name": "host_about",
         "type": "\"string\""
        },
        {
         "metadata": "{}",
         "name": "host_response_time",
         "type": "\"string\""
        },
        {
         "metadata": "{}",
         "name": "host_response_rate",
         "type": "\"string\""
        },
        {
         "metadata": "{}",
         "name": "host_acceptance_rate",
         "type": "\"string\""
        },
        {
         "metadata": "{}",
         "name": "host_is_superhost",
         "type": "\"string\""
        },
        {
         "metadata": "{}",
         "name": "host_thumbnail_url",
         "type": "\"string\""
        },
        {
         "metadata": "{}",
         "name": "host_picture_url",
         "type": "\"string\""
        },
        {
         "metadata": "{}",
         "name": "host_neighbourhood",
         "type": "\"string\""
        },
        {
         "metadata": "{}",
         "name": "host_listings_count",
         "type": "\"string\""
        },
        {
         "metadata": "{}",
         "name": "host_total_listings_count",
         "type": "\"string\""
        },
        {
         "metadata": "{}",
         "name": "host_verifications",
         "type": "\"string\""
        },
        {
         "metadata": "{}",
         "name": "host_has_profile_pic",
         "type": "\"string\""
        },
        {
         "metadata": "{}",
         "name": "host_identity_verified",
         "type": "\"string\""
        },
        {
         "metadata": "{}",
         "name": "neighbourhood",
         "type": "\"string\""
        },
        {
         "metadata": "{}",
         "name": "neighbourhood_cleansed",
         "type": "\"string\""
        },
        {
         "metadata": "{}",
         "name": "neighbourhood_group_cleansed",
         "type": "\"string\""
        },
        {
         "metadata": "{}",
         "name": "latitude",
         "type": "\"string\""
        },
        {
         "metadata": "{}",
         "name": "longitude",
         "type": "\"string\""
        },
        {
         "metadata": "{}",
         "name": "property_type",
         "type": "\"string\""
        },
        {
         "metadata": "{}",
         "name": "room_type",
         "type": "\"string\""
        },
        {
         "metadata": "{}",
         "name": "accommodates",
         "type": "\"string\""
        },
        {
         "metadata": "{}",
         "name": "bathrooms",
         "type": "\"string\""
        },
        {
         "metadata": "{}",
         "name": "bathrooms_text",
         "type": "\"string\""
        },
        {
         "metadata": "{}",
         "name": "bedrooms",
         "type": "\"string\""
        },
        {
         "metadata": "{}",
         "name": "beds",
         "type": "\"string\""
        },
        {
         "metadata": "{}",
         "name": "amenities",
         "type": "\"string\""
        },
        {
         "metadata": "{}",
         "name": "price",
         "type": "\"string\""
        },
        {
         "metadata": "{}",
         "name": "minimum_nights",
         "type": "\"string\""
        },
        {
         "metadata": "{}",
         "name": "maximum_nights",
         "type": "\"string\""
        },
        {
         "metadata": "{}",
         "name": "minimum_minimum_nights",
         "type": "\"string\""
        },
        {
         "metadata": "{}",
         "name": "maximum_minimum_nights",
         "type": "\"string\""
        },
        {
         "metadata": "{}",
         "name": "minimum_maximum_nights",
         "type": "\"string\""
        },
        {
         "metadata": "{}",
         "name": "maximum_maximum_nights",
         "type": "\"string\""
        },
        {
         "metadata": "{}",
         "name": "minimum_nights_avg_ntm",
         "type": "\"string\""
        },
        {
         "metadata": "{}",
         "name": "maximum_nights_avg_ntm",
         "type": "\"string\""
        },
        {
         "metadata": "{}",
         "name": "calendar_updated",
         "type": "\"string\""
        },
        {
         "metadata": "{}",
         "name": "has_availability",
         "type": "\"string\""
        },
        {
         "metadata": "{}",
         "name": "availability_30",
         "type": "\"string\""
        },
        {
         "metadata": "{}",
         "name": "availability_60",
         "type": "\"string\""
        },
        {
         "metadata": "{}",
         "name": "availability_90",
         "type": "\"string\""
        },
        {
         "metadata": "{}",
         "name": "availability_365",
         "type": "\"string\""
        },
        {
         "metadata": "{}",
         "name": "calendar_last_scraped",
         "type": "\"string\""
        },
        {
         "metadata": "{}",
         "name": "number_of_reviews",
         "type": "\"string\""
        },
        {
         "metadata": "{}",
         "name": "number_of_reviews_ltm",
         "type": "\"string\""
        },
        {
         "metadata": "{}",
         "name": "number_of_reviews_l30d",
         "type": "\"string\""
        },
        {
         "metadata": "{}",
         "name": "first_review",
         "type": "\"string\""
        },
        {
         "metadata": "{}",
         "name": "last_review",
         "type": "\"string\""
        },
        {
         "metadata": "{}",
         "name": "review_scores_rating",
         "type": "\"string\""
        },
        {
         "metadata": "{}",
         "name": "review_scores_accuracy",
         "type": "\"string\""
        },
        {
         "metadata": "{}",
         "name": "review_scores_cleanliness",
         "type": "\"string\""
        },
        {
         "metadata": "{}",
         "name": "review_scores_checkin",
         "type": "\"string\""
        },
        {
         "metadata": "{}",
         "name": "review_scores_communication",
         "type": "\"string\""
        },
        {
         "metadata": "{}",
         "name": "review_scores_location",
         "type": "\"string\""
        },
        {
         "metadata": "{}",
         "name": "review_scores_value",
         "type": "\"string\""
        },
        {
         "metadata": "{}",
         "name": "license",
         "type": "\"string\""
        },
        {
         "metadata": "{}",
         "name": "instant_bookable",
         "type": "\"string\""
        },
        {
         "metadata": "{}",
         "name": "calculated_host_listings_count",
         "type": "\"string\""
        },
        {
         "metadata": "{}",
         "name": "calculated_host_listings_count_entire_homes",
         "type": "\"string\""
        },
        {
         "metadata": "{}",
         "name": "calculated_host_listings_count_private_rooms",
         "type": "\"string\""
        },
        {
         "metadata": "{}",
         "name": "calculated_host_listings_count_shared_rooms",
         "type": "\"string\""
        },
        {
         "metadata": "{}",
         "name": "reviews_per_month",
         "type": "\"string\""
        }
       ],
       "type": "table"
      }
     },
     "output_type": "display_data"
    }
   ],
   "source": [
    "df_listings_silver.limit(10).display()"
   ]
  },
  {
   "cell_type": "code",
   "execution_count": 0,
   "metadata": {
    "application/vnd.databricks.v1+cell": {
     "cellMetadata": {
      "byteLimit": 2048000,
      "rowLimit": 10000
     },
     "inputWidgets": {},
     "nuid": "0b3027e4-5878-4c11-a712-85391fa59ad9",
     "showTitle": false,
     "tableResultSettingsMap": {},
     "title": ""
    }
   },
   "outputs": [],
   "source": [
    "# Converter a coluna `price` para FloatType\n",
    "df_listings_silver = df_listings_silver.withColumn(\"price\", col(\"price\").cast(FloatType()))"
   ]
  },
  {
   "cell_type": "code",
   "execution_count": 0,
   "metadata": {
    "application/vnd.databricks.v1+cell": {
     "cellMetadata": {
      "byteLimit": 2048000,
      "rowLimit": 10000
     },
     "inputWidgets": {},
     "nuid": "5c1dffba-2f47-4f63-821d-758a9d5a7240",
     "showTitle": false,
     "tableResultSettingsMap": {},
     "title": ""
    }
   },
   "outputs": [
    {
     "output_type": "stream",
     "name": "stdout",
     "output_type": "stream",
     "text": [
      "root\n |-- id: string (nullable = true)\n |-- listing_url: string (nullable = true)\n |-- scrape_id: string (nullable = true)\n |-- last_scraped: string (nullable = true)\n |-- source: string (nullable = true)\n |-- name: string (nullable = true)\n |-- description: string (nullable = true)\n |-- neighborhood_overview: string (nullable = true)\n |-- picture_url: string (nullable = true)\n |-- host_id: string (nullable = true)\n |-- host_url: string (nullable = true)\n |-- host_name: string (nullable = true)\n |-- host_since: string (nullable = true)\n |-- host_location: string (nullable = true)\n |-- host_about: string (nullable = true)\n |-- host_response_time: string (nullable = true)\n |-- host_response_rate: string (nullable = true)\n |-- host_acceptance_rate: string (nullable = true)\n |-- host_is_superhost: string (nullable = true)\n |-- host_thumbnail_url: string (nullable = true)\n |-- host_picture_url: string (nullable = true)\n |-- host_neighbourhood: string (nullable = true)\n |-- host_listings_count: string (nullable = true)\n |-- host_total_listings_count: string (nullable = true)\n |-- host_verifications: string (nullable = true)\n |-- host_has_profile_pic: string (nullable = true)\n |-- host_identity_verified: string (nullable = true)\n |-- neighbourhood: string (nullable = true)\n |-- neighbourhood_cleansed: string (nullable = true)\n |-- neighbourhood_group_cleansed: string (nullable = true)\n |-- latitude: string (nullable = true)\n |-- longitude: string (nullable = true)\n |-- property_type: string (nullable = true)\n |-- room_type: string (nullable = true)\n |-- accommodates: string (nullable = true)\n |-- bathrooms: string (nullable = true)\n |-- bathrooms_text: string (nullable = true)\n |-- bedrooms: string (nullable = true)\n |-- beds: string (nullable = true)\n |-- amenities: string (nullable = true)\n |-- price: float (nullable = true)\n |-- minimum_nights: string (nullable = true)\n |-- maximum_nights: string (nullable = true)\n |-- minimum_minimum_nights: string (nullable = true)\n |-- maximum_minimum_nights: string (nullable = true)\n |-- minimum_maximum_nights: string (nullable = true)\n |-- maximum_maximum_nights: string (nullable = true)\n |-- minimum_nights_avg_ntm: string (nullable = true)\n |-- maximum_nights_avg_ntm: string (nullable = true)\n |-- calendar_updated: string (nullable = true)\n |-- has_availability: string (nullable = true)\n |-- availability_30: string (nullable = true)\n |-- availability_60: string (nullable = true)\n |-- availability_90: string (nullable = true)\n |-- availability_365: string (nullable = true)\n |-- calendar_last_scraped: string (nullable = true)\n |-- number_of_reviews: string (nullable = true)\n |-- number_of_reviews_ltm: string (nullable = true)\n |-- number_of_reviews_l30d: string (nullable = true)\n |-- first_review: string (nullable = true)\n |-- last_review: string (nullable = true)\n |-- review_scores_rating: string (nullable = true)\n |-- review_scores_accuracy: string (nullable = true)\n |-- review_scores_cleanliness: string (nullable = true)\n |-- review_scores_checkin: string (nullable = true)\n |-- review_scores_communication: string (nullable = true)\n |-- review_scores_location: string (nullable = true)\n |-- review_scores_value: string (nullable = true)\n |-- license: string (nullable = true)\n |-- instant_bookable: string (nullable = true)\n |-- calculated_host_listings_count: string (nullable = true)\n |-- calculated_host_listings_count_entire_homes: string (nullable = true)\n |-- calculated_host_listings_count_private_rooms: string (nullable = true)\n |-- calculated_host_listings_count_shared_rooms: string (nullable = true)\n |-- reviews_per_month: string (nullable = true)\n\n"
     ]
    }
   ],
   "source": [
    "df_listings_silver.printSchema()"
   ]
  },
  {
   "cell_type": "code",
   "execution_count": 0,
   "metadata": {
    "application/vnd.databricks.v1+cell": {
     "cellMetadata": {
      "byteLimit": 2048000,
      "rowLimit": 10000
     },
     "inputWidgets": {},
     "nuid": "616ca73c-9120-4acb-a178-569cf7bd38ac",
     "showTitle": false,
     "tableResultSettingsMap": {},
     "title": ""
    }
   },
   "outputs": [],
   "source": [
    "# Filtrar para manter apenas linhas onde `id` contém apenas números\n",
    "df_listings_silver = df_listings_silver.filter(col(\"id\").rlike(\"^[0-9]+$\"))"
   ]
  },
  {
   "cell_type": "code",
   "execution_count": 0,
   "metadata": {
    "application/vnd.databricks.v1+cell": {
     "cellMetadata": {
      "byteLimit": 2048000,
      "rowLimit": 10000
     },
     "inputWidgets": {},
     "nuid": "08ddd537-5aec-4c60-bb7f-586c182d2efe",
     "showTitle": false,
     "tableResultSettingsMap": {},
     "title": ""
    }
   },
   "outputs": [
    {
     "output_type": "display_data",
     "data": {
      "text/html": [
       "<style scoped>\n",
       "  .table-result-container {\n",
       "    max-height: 300px;\n",
       "    overflow: auto;\n",
       "  }\n",
       "  table, th, td {\n",
       "    border: 1px solid black;\n",
       "    border-collapse: collapse;\n",
       "  }\n",
       "  th, td {\n",
       "    padding: 5px;\n",
       "  }\n",
       "  th {\n",
       "    text-align: left;\n",
       "  }\n",
       "</style><div class='table-result-container'><table class='table-result'><thead style='background-color: white'><tr><th>id</th><th>listing_url</th><th>scrape_id</th><th>last_scraped</th><th>source</th><th>name</th><th>description</th><th>neighborhood_overview</th><th>picture_url</th><th>host_id</th><th>host_url</th><th>host_name</th><th>host_since</th><th>host_location</th><th>host_about</th><th>host_response_time</th><th>host_response_rate</th><th>host_acceptance_rate</th><th>host_is_superhost</th><th>host_thumbnail_url</th><th>host_picture_url</th><th>host_neighbourhood</th><th>host_listings_count</th><th>host_total_listings_count</th><th>host_verifications</th><th>host_has_profile_pic</th><th>host_identity_verified</th><th>neighbourhood</th><th>neighbourhood_cleansed</th><th>neighbourhood_group_cleansed</th><th>latitude</th><th>longitude</th><th>property_type</th><th>room_type</th><th>accommodates</th><th>bathrooms</th><th>bathrooms_text</th><th>bedrooms</th><th>beds</th><th>amenities</th><th>price</th><th>minimum_nights</th><th>maximum_nights</th><th>minimum_minimum_nights</th><th>maximum_minimum_nights</th><th>minimum_maximum_nights</th><th>maximum_maximum_nights</th><th>minimum_nights_avg_ntm</th><th>maximum_nights_avg_ntm</th><th>calendar_updated</th><th>has_availability</th><th>availability_30</th><th>availability_60</th><th>availability_90</th><th>availability_365</th><th>calendar_last_scraped</th><th>number_of_reviews</th><th>number_of_reviews_ltm</th><th>number_of_reviews_l30d</th><th>first_review</th><th>last_review</th><th>review_scores_rating</th><th>review_scores_accuracy</th><th>review_scores_cleanliness</th><th>review_scores_checkin</th><th>review_scores_communication</th><th>review_scores_location</th><th>review_scores_value</th><th>license</th><th>instant_bookable</th><th>calculated_host_listings_count</th><th>calculated_host_listings_count_entire_homes</th><th>calculated_host_listings_count_private_rooms</th><th>calculated_host_listings_count_shared_rooms</th><th>reviews_per_month</th></tr></thead><tbody><tr><td>17878</td><td>null</td><td>null</td><td>null</td><td>city scrape</td><td>Very Nice 2Br in Copacabana w. balcony, fast WiFi</td><td>\"Please note that elevated rates applies for New Years and Carnival. Price depends on length of stay and number of people. Generally I prefer a stay for 1 week or more and a maximum of 5 people (6 at the most). Contact me, and we will discuss. <br />- Bright and sunny<br />- Large balcony (25 square meters) <br />- High speed WiFi (up to 500MB)<br />- Smart TV (you can watch Netflix etc. if you have an account)<br />- 24h doorman<br />- 1 minute to walk to Copacabana Beach<br />- Silent \"\"split\"\" air conditioning<br />- Best spot in Rio\"</td><td>null</td><td>null</td><td>68997</td><td>null</td><td>Matthias</td><td>2010-01-08</td><td>null</td><td>\"I  am a  journalist/writer. Lived  in NYC for 15 years. I  am now based in Rio and published 3 volumes of travel stories on AMAZ0N: \"\"The World Is My Oyster\"\". If you have never been to Rio</td><td>null</td><td>null</td><td> you'll find  29 other travel stories from all around the globe.\"</td><td>within an hour</td><td>null</td><td>null</td><td>null</td><td>https://a0.muscache.com/im/pictures/user/67b13cea-8c11-49c0-a08d-7f42c330676e.jpg?aki_policy=profile_small</td><td>https://a0.muscache.com/im/pictures/user/67b13cea-8c11-49c0-a08d-7f42c330676e.jpg?aki_policy=profile_x_medium</td><td>null</td><td>null</td><td>null</td><td>null</td><td>null</td><td>null</td><td>Rio de Janeiro, Brazil</td><td>Copacabana</td><td>null</td><td>-22.96599</td><td>-43.1794</td><td>null</td><td>Entire home/apt</td><td>5</td><td>null</td><td>1 bath</td><td>2.0</td><td>2</td><td>\"[\"\"Smoking allowed\"\"</td><td>null</td><td>null</td><td>null</td><td>null</td><td>null</td><td>null</td><td>null</td><td>null</td><td> \"\"Hot water\"\"</td><td> \"\"Microwave\"\"</td><td> \"\"Elevator\"\"</td><td> \"\"Luggage dropoff allowed\"\"</td><td>null</td><td> \"\"Bed linens\"\"</td><td>null</td><td>null</td><td>null</td><td>null</td><td> \"\"Oven\"\"</td><td>null</td><td>null</td><td>null</td><td>null</td><td>null</td><td>null</td><td>null</td><td>null</td><td>null</td><td>null</td><td>null</td><td>null</td><td>28</td></tr><tr><td>271975</td><td>null</td><td>null</td><td>null</td><td>city scrape</td><td>Unbelievable Ocean View Apartment</td><td>null</td><td>null</td><td>null</td><td> Vidigal is the place to stay. One of the most spectacular views in Rio is on the trail to the top of \"\"Dois Irmãos\"\"</td><td>null</td><td> ipanema and leblon beach is not as difficult to access as it seems. Staying in the neighborhood of Vidigal you already have access to the trail with a lot more ease and even without a guide</td><td> asked the friendly residents of the community you will see the top with ease.<br />http://trilhadoisirmaos.com.br/<br /><br />Public and beautiful Park in Vidigal:<br />Sitiê<br />http://www.parquesitie.org/<br /><br />Restaurants in Vidigal:<br />Barlacubaco restaurant<br />Av. President João Goulart</td><td>null</td><td>https://a0.muscache.com/pictures/4563200/4ea0f419_original.jpg</td><td>null</td><td>null</td><td>Maria</td><td>2011-11-19</td><td>null</td><td>null</td><td>null</td><td>0%</td><td>0%</td><td>null</td><td>null</td><td>null</td><td>null</td><td>null</td><td>null</td><td>['email', 'phone']</td><td>t</td><td>t</td><td>Rio de Janeiro, Brazil</td><td>Vidigal</td><td>null</td><td>-22.99508</td><td>-43.23604</td><td>null</td><td>Entire home/apt</td><td>4.0</td><td>1.0</td><td>1 bath</td><td>null</td><td>null</td><td>null</td><td>null</td><td>null</td><td>null</td><td>null</td><td>null</td><td> \"\"Wifi\"\"</td><td> \"\"Shampoo\"\"</td><td> \"\"Washer\"\"]\"</td><td>$236.00</td><td>null</td><td>90</td><td>null</td><td>null</td><td>null</td><td>null</td><td>1.0</td><td>null</td><td>null</td><td>null</td><td>null</td><td>null</td><td>null</td><td>null</td><td>null</td><td>null</td><td>null</td><td>null</td><td>null</td><td>2019-10-05</td></tr><tr><td>285554</td><td>null</td><td>null</td><td>null</td><td>city scrape</td><td>Xenia's Room Casa São Conrado</td><td>Our house is near the beach (400m) (surf, wind surfing, kite surfing, 40 km of bike paths), Tijuca National Park (trails, abseiling, waterfalls, tandem paragliding, cycling), Fashion Mall Shopping (restaurants, boutiques, theater, cinemas), Italian gastronomy kiosk, 15 minutes from Copacabana, Maracanã, Sambódromo, Ipanema by metro, supermarket, discos of Barra da Tijuca (Armando Lombardi Ave.) .... You will just love it!</td><td>null</td><td>null</td><td> the view reaches the entire stretch of shores of the South and West Zone of Rio de Janeiro.<br /><br />At the top of the \"\"Pedra Bonita\"\" is the free flight takeoff ramp. A 20-minute trail takes tourists up to an exceptional viewpoint on the sea shore of São Conrado.<br /><br />The view from the house is breathtaking ... and reaches the tops of the Tijuca National Park covered in subtropical forest (Atlantic Forest)<br /><br />The house is separated from the Gávea Golf Club only by a small mountain creek with clear sound of running water and intense animal life. From the house</td><td>null</td><td>https://a0.muscache.com/pictures/miso/Hosting-285554/original/b2d38625-930b-4537-aa69-0111b1fcfe9a.jpeg</td><td>2163079</td><td>null</td><td>Stanislas</td><td>null</td><td>null</td><td>I am 69 years old, was born in Paris France, lived 20 years in Germany where I founded a family  and worked for various companies of the sector of industrial machinery and in these functions I traveled quite considerably  around the world. I have been spending the last 25 years in Brazil leading the daughter company of an European group and later as an independent salesman representing North American companies. I speak English, French, German, Spanish and Portuguese, enjoy very much contacts and to get the visit of foreign travelers in my house of São Conrado in Rio de Janeiro. I turned a great fan of Brazil and like to chat with my guests about what I know about it, passing on to them the marking cultural places that I visited and my experiences with typical bars, restaurants, museums and beaches of Rio. I bought this big house 21 years ago and transformed it progressively according to my taste to  the comfortable place it is today  and it grew to be my delight and hobby ... I like people to feel at ease there just like I do myself and feel happy when they return home with nice remembrances of their stay ... </td><td>within a few hours</td><td>null</td><td>null</td><td>null</td><td>https://a0.muscache.com/im/users/2163079/profile_pic/1334697434/original.jpg?aki_policy=profile_small</td><td>https://a0.muscache.com/im/users/2163079/profile_pic/1334697434/original.jpg?aki_policy=profile_x_medium</td><td>null</td><td>null</td><td>null</td><td>null</td><td>null</td><td>null</td><td>Rio de Janeiro, Brazil</td><td>São Conrado</td><td>null</td><td>-22.995813369750977</td><td>-43.26896286010742</td><td>null</td><td>Private room</td><td>2</td><td>null</td><td>1 private bath</td><td>1.0</td><td>1</td><td>\"[\"\"Essentials\"\"</td><td>null</td><td>null</td><td>null</td><td>null</td><td>null</td><td>null</td><td>null</td><td>null</td><td> \"\"Drying rack for clothing\"\"</td><td> \"\"Kitchen\"\"</td><td> \"\"Consul stainless steel stove\"\"</td><td> \"\"Dishes and silverware\"\"</td><td>null</td><td> \"\"Clothing storage: wardrobe\"\"</td><td>null</td><td>null</td><td>null</td><td>null</td><td> \"\"Microwave\"\"</td><td>null</td><td>null</td><td>null</td><td>null</td><td>null</td><td>null</td><td>null</td><td>null</td><td>null</td><td>null</td><td>null</td><td>null</td><td> \"\"Iron\"\"</td></tr><tr><td>109747</td><td>null</td><td>null</td><td>null</td><td>city scrape</td><td>Ipanema WOW!  for 6+2</td><td>NOTE: you can check in at anytime but is mandatory to let me know in advance the exactly time you will arrive, otherwise you will not be able to go to the apartment until the check in lady arrives and it can take a long time if not agreed before. <br /><br />The View from the apartment's balcony of the Two Brother's Mount is the Ipanema Beach's true symbol.<br />Don't Miss the Ocean view and The Christ Redeemer from your own home in Rio.<br />The pool belong to the condo But is shared with few people.</td><td>null</td><td>null</td><td> and the huge parade performers is a spectacular sight and You'll also be able to enjoy Samba music from your balcony.<br /><br />Anything you may need is just very few minutes outside the building.<br />You don't need to walk more than 2 minutes to:<br />- Supermarket<br />-Change your money<br />-good</td><td>null</td><td>https://a0.muscache.com/pictures/8533153/975dba31_original.jpg</td><td>554897</td><td>null</td><td>Jane</td><td>null</td><td>null</td><td>null</td><td>within an hour</td><td>null</td><td>null</td><td>null</td><td>https://a0.muscache.com/im/pictures/user/User-554897/original/9641e0e9-3205-49ac-85f0-7d703e059951.jpeg?aki_policy=profile_small</td><td>https://a0.muscache.com/im/pictures/user/User-554897/original/9641e0e9-3205-49ac-85f0-7d703e059951.jpeg?aki_policy=profile_x_medium</td><td>null</td><td>null</td><td>null</td><td>null</td><td>null</td><td>null</td><td>Rio, Rio de Janeiro, Brazil</td><td>Ipanema</td><td>null</td><td>-22.98697</td><td>-43.19751</td><td>null</td><td>Entire home/apt</td><td>8</td><td>null</td><td>3 baths</td><td>4.0</td><td>5</td><td>\"[\"\"Beach essentials\"\"</td><td>null</td><td>null</td><td>null</td><td>null</td><td>null</td><td>null</td><td>null</td><td>null</td><td> \"\"City skyline view\"\"</td><td> \"\"Cleaning products\"\"</td><td> \"\"Free washer \\u2013 In unit\"\"</td><td> \"\"Outdoor shower\"\"</td><td>null</td><td> \"\"Heating - split type ductless system\"\"</td><td>null</td><td>null</td><td>null</td><td>null</td><td> \"\"40 inch HDTV with Fire TV</td><td>null</td><td>null</td><td>null</td><td>null</td><td>null</td><td>null</td><td>null</td><td>null</td><td>null</td><td>null</td><td>null</td><td>null</td><td> \"\"Dining table\"\"</td></tr><tr><td>130234</td><td>null</td><td>null</td><td>null</td><td>city scrape</td><td>excellent studio apartment</td><td>My space is good for couples, individual adventures, business travelers and families (with kids).</td><td>null</td><td>null</td><td>641519</td><td>null</td><td>Osvaldo</td><td>2011-05-30</td><td>null</td><td>ESTE APARTAMENTO NÃO ESTÁ MAS DISPONÍVEL PARA LOCAÇÃO DESDE A PANDEMIA. NÃO ACEITO RESERVAS.</td><td>null</td><td>null</td><td>100%</td><td>f</td><td>null</td><td>null</td><td>null</td><td>1</td><td>1</td><td>null</td><td>null</td><td>null</td><td>null</td><td>null</td><td>null</td><td>-22.97575</td><td>-43.18877</td><td>Entire rental unit</td><td>Entire home/apt</td><td>1</td><td>null</td><td>0 baths</td><td>0</td><td>null</td><td>\"[\"\"Host greets you\"\"]\"</td><td>180.0</td><td>3</td><td>720</td><td>null</td><td>null</td><td>null</td><td>null</td><td>null</td><td>null</td><td>null</td><td>null</td><td>0</td><td>0</td><td>0</td><td>0</td><td>null</td><td>1</td><td>null</td><td>null</td><td>null</td><td>null</td><td>5.0</td><td>null</td><td>null</td><td>null</td><td>null</td><td>null</td><td>null</td><td>null</td><td>null</td><td>null</td><td>null</td><td>null</td><td>null</td><td>0.02</td></tr><tr><td>577253</td><td>null</td><td>null</td><td>null</td><td>city scrape</td><td>COPACABANA - GREAT LOCATION</td><td>Location, security and mobility! Metro and all means of transport outside the building. Spacious apartment, extremely clean and with great view. Beach, restaurants, bars, coffee shops, banks and pharmacy within walking distance. It will be a pleasure to welcome you!</td><td>null</td><td>null</td><td> a term used for those born in Rio de Janeiro</td><td>null</td><td>https://a0.muscache.com/pictures/09c44346-bb17-4e55-a65b-9a148263b71a.jpg</td><td>2838933</td><td>null</td><td>Guilherme</td><td>null</td><td>null</td><td>Sou Professor de Educação Física. Gosto de esportes em geral, cinema, viajar e conhecer novas pessoas e culturas.</td><td>within an hour</td><td>null</td><td>null</td><td>null</td><td>https://a0.muscache.com/im/users/2838933/profile_pic/1341546068/original.jpg?aki_policy=profile_small</td><td>https://a0.muscache.com/im/users/2838933/profile_pic/1341546068/original.jpg?aki_policy=profile_x_medium</td><td>null</td><td>null</td><td>null</td><td>null</td><td>null</td><td>null</td><td>Rio de Janeiro, Brazil</td><td>Copacabana</td><td>null</td><td>-22.96626</td><td>-43.17985</td><td>null</td><td>Private room</td><td>2</td><td>null</td><td>2 shared baths</td><td>1.0</td><td>1</td><td>\"[\"\"Essentials\"\"</td><td>null</td><td>null</td><td>null</td><td>null</td><td>null</td><td>null</td><td>null</td><td>null</td><td> \"\"First aid kit\"\"</td><td> \"\"Hot water\"\"</td><td> \"\"Microwave\"\"</td><td> \"\"Elevator\"\"</td><td>null</td><td> \"\"Coffee maker\"\"</td><td>null</td><td>null</td><td>null</td><td>null</td><td> \"\"Hair dryer\"\"</td><td>null</td><td>null</td><td>null</td><td>null</td><td>null</td><td>null</td><td>null</td><td>null</td><td>null</td><td>null</td><td>null</td><td>null</td><td>2</td></tr><tr><td>589234</td><td>null</td><td>null</td><td>null</td><td>city scrape</td><td>ipanema 22 with queen bed internet</td><td>null</td><td>null</td><td>null</td><td>4307081</td><td>null</td><td>Nereu A</td><td>2012-12-02</td><td>null</td><td>30 anos de experiencia na area de turismo, idiomas ingles, espanhol e portugues</td><td>null</td><td>null</td><td>9%</td><td>t</td><td>null</td><td>null</td><td>null</td><td>56</td><td>86</td><td>null</td><td>null</td><td>null</td><td>null</td><td>null</td><td>null</td><td>-22.98322</td><td>-43.20498</td><td>Private room in rental unit</td><td>Private room</td><td>1</td><td>null</td><td>1 bath</td><td>1</td><td>null</td><td>[]</td><td>552.0</td><td>1</td><td>1125</td><td>null</td><td>null</td><td>null</td><td>null</td><td>null</td><td>null</td><td>null</td><td>null</td><td>30</td><td>60</td><td>90</td><td>365</td><td>null</td><td>2</td><td>null</td><td>null</td><td>null</td><td>null</td><td>5.0</td><td>null</td><td>null</td><td>null</td><td>null</td><td>null</td><td>null</td><td>null</td><td>null</td><td>null</td><td>null</td><td>null</td><td>null</td><td>0.02</td></tr><tr><td>628044</td><td>null</td><td>null</td><td>null</td><td>city scrape</td><td>Best apartament Copacabana (Leme)</td><td>Good location! Green View.</td><td>null</td><td>null</td><td>1884906</td><td>null</td><td>Hugo</td><td>2012-03-08</td><td>null</td><td>\"I love to meet travelers who are passing through Rio de Janeiro. Carioca, born and grow up  in the \"\"Cidade Maravilhosa\"\". Nature is my second home. Adventurer</td><td>null</td><td>null</td><td>within an hour</td><td>100%</td><td>null</td><td>null</td><td>null</td><td>https://a0.muscache.com/im/users/1884906/profile_pic/1392603508/original.jpg?aki_policy=profile_x_medium</td><td>Leme</td><td>null</td><td>null</td><td>null</td><td>null</td><td>null</td><td>null</td><td>Leme</td><td>null</td><td>-22.96245</td><td>-43.17088</td><td>Entire rental unit</td><td>null</td><td>2</td><td>1.0</td><td>null</td><td>1</td><td>1.0</td><td>\"[\"\"Essentials\"\"</td><td> \"\"Window AC unit\"\"</td><td>null</td><td>null</td><td>null</td><td>null</td><td>null</td><td>null</td><td>null</td><td>null</td><td> \"\"Hot water\"\"</td><td> \"\"Lockbox\"\"</td><td> \"\"Microwave\"\"</td><td> \"\"Garden view\"\"</td><td>null</td><td> \"\"Coffee maker\"\"</td><td>null</td><td>null</td><td>null</td><td>null</td><td> \"\"Self check-in\"\"</td><td>null</td><td>null</td><td>null</td><td>null</td><td>null</td><td>null</td><td>null</td><td>null</td><td>null</td><td>null</td><td>null</td><td>null</td><td>1125</td></tr><tr><td>669012</td><td>null</td><td>null</td><td>null</td><td>city scrape</td><td>COPA 53 close to the beach, studio</td><td>null</td><td>null</td><td>null</td><td>4307081</td><td>null</td><td>Nereu A</td><td>2012-12-02</td><td>null</td><td>30 anos de experiencia na area de turismo, idiomas ingles, espanhol e portugues</td><td>null</td><td>null</td><td>9%</td><td>t</td><td>null</td><td>null</td><td>null</td><td>56</td><td>86</td><td>null</td><td>null</td><td>null</td><td>null</td><td>null</td><td>null</td><td>-22.97436</td><td>-43.18951</td><td>Entire rental unit</td><td>Entire home/apt</td><td>2</td><td>null</td><td>1 bath</td><td>1</td><td>null</td><td>[]</td><td>442.0</td><td>3</td><td>1125</td><td>null</td><td>null</td><td>null</td><td>null</td><td>null</td><td>null</td><td>null</td><td>null</td><td>30</td><td>60</td><td>90</td><td>365</td><td>null</td><td>0</td><td>null</td><td>null</td><td>null</td><td>null</td><td>null</td><td>null</td><td>null</td><td>null</td><td>null</td><td>null</td><td>null</td><td>null</td><td>null</td><td>null</td><td>null</td><td>null</td><td>null</td><td>null</td></tr><tr><td>676781</td><td>null</td><td>null</td><td>null</td><td>city scrape</td><td>A sculptor's house</td><td>\"English will follow in \"\"Space Description\"\"<br /><br />Very quiet artist's house on quiet and safe street</td><td>null</td><td>null</td><td> there is a beautiful backyard with a banana tree</td><td>null</td><td> barbecue and views of Corcovado. Calm</td><td> clean environment. A truly artist's house where you can relax and discover a beautiful area of the city.\"</td><td>null</td><td>https://a0.muscache.com/pictures/d0db1816-32cf-4ba1-b73c-b82cee462377.jpg</td><td>null</td><td>null</td><td>Edgar</td><td>2012-03-02</td><td>null</td><td>null</td><td>null</td><td>N/A</td><td>56%</td><td>null</td><td>null</td><td>null</td><td>null</td><td>null</td><td>null</td><td>['email', 'phone']</td><td>t</td><td>t</td><td>Rio de Janeiro, Brazil</td><td>Rocinha</td><td>null</td><td>-22.9861</td><td>-43.24224</td><td>null</td><td>Entire home/apt</td><td>7.0</td><td>3.0</td><td>3 baths</td><td>null</td><td>null</td><td>null</td><td>null</td><td>null</td><td>null</td><td>null</td><td>null</td><td> \"\"TV\"\"</td><td> \"\"Private pool\"\"</td><td> \"\"Hot water\"\"</td><td> \"\"Pool view\"\"</td><td>null</td><td> \"\"Mountain view\"\"</td><td>null</td><td>null</td><td>null</td><td>null</td><td> \"\"Hair dryer\"\"</td><td>null</td><td>null</td><td>null</td><td>null</td><td>null</td><td>null</td><td>null</td><td>null</td><td>null</td><td>null</td><td>null</td><td>null</td><td>60</td></tr><tr><td>676983</td><td>null</td><td>null</td><td>null</td><td>city scrape</td><td>Penthouse ipanema</td><td>null</td><td>null</td><td>null</td><td>4307081</td><td>null</td><td>Nereu A</td><td>2012-12-02</td><td>null</td><td>30 anos de experiencia na area de turismo, idiomas ingles, espanhol e portugues</td><td>null</td><td>null</td><td>9%</td><td>t</td><td>null</td><td>null</td><td>null</td><td>56</td><td>86</td><td>null</td><td>null</td><td>null</td><td>null</td><td>null</td><td>null</td><td>-22.98399</td><td>-43.20804</td><td>Entire rental unit</td><td>Entire home/apt</td><td>3</td><td>null</td><td>null</td><td>1</td><td>null</td><td>[]</td><td>387.0</td><td>1</td><td>1125</td><td>null</td><td>null</td><td>null</td><td>null</td><td>null</td><td>null</td><td>null</td><td>null</td><td>30</td><td>60</td><td>86</td><td>354</td><td>null</td><td>12</td><td>null</td><td>null</td><td>null</td><td>null</td><td>4.75</td><td>null</td><td>null</td><td>null</td><td>null</td><td>null</td><td>null</td><td>null</td><td>null</td><td>null</td><td>null</td><td>null</td><td>null</td><td>0.09</td></tr><tr><td>896752</td><td>null</td><td>null</td><td>null</td><td>city scrape</td><td>bulhoes 204 near ipanema, metro</td><td>null</td><td>null</td><td>null</td><td>4307081</td><td>null</td><td>Nereu A</td><td>2012-12-02</td><td>null</td><td>30 anos de experiencia na area de turismo, idiomas ingles, espanhol e portugues</td><td>null</td><td>null</td><td>9%</td><td>t</td><td>null</td><td>null</td><td>null</td><td>56</td><td>86</td><td>null</td><td>null</td><td>null</td><td>null</td><td>null</td><td>null</td><td>-22.9836</td><td>-43.1923</td><td>Entire rental unit</td><td>Entire home/apt</td><td>2</td><td>null</td><td>1 bath</td><td>1</td><td>null</td><td>\"[\"\"TV with standard cable\"\"]\"</td><td>773.0</td><td>5</td><td>1125</td><td>null</td><td>null</td><td>null</td><td>null</td><td>null</td><td>null</td><td>null</td><td>null</td><td>30</td><td>60</td><td>90</td><td>365</td><td>null</td><td>0</td><td>null</td><td>null</td><td>null</td><td>null</td><td>null</td><td>null</td><td>null</td><td>null</td><td>null</td><td>null</td><td>null</td><td>null</td><td>null</td><td>null</td><td>null</td><td>null</td><td>null</td><td>null</td></tr><tr><td>925802</td><td>null</td><td>null</td><td>null</td><td>city scrape</td><td>Downtown, Maracanã  and Carnival</td><td>The double bed room is still available for the World Cup, so  I have got two rooms but only one ad. It's cozy and close to the Bus Terminal, to Santos Dumont Airport and to the city center....it is possible to come and go o Maracanã walking. </td><td>null</td><td>null</td><td> close to the Polic\"</td><td>null</td><td>4981026</td><td>https://www.airbnb.com/users/show/4981026</td><td>null</td><td>2013-02-05</td><td>null</td><td>null</td><td>within an hour</td><td>100%</td><td>null</td><td>null</td><td>null</td><td>https://a0.muscache.com/im/pictures/user/9ff38fca-8b4b-4a71-8951-08c410b0f49a.jpg?aki_policy=profile_x_medium</td><td>Praça da Bandeira</td><td>null</td><td>null</td><td>null</td><td>null</td><td>null</td><td>null</td><td>Praça da Bandeira</td><td>null</td><td>-22.91247</td><td>-43.21582</td><td>Private room in rental unit</td><td>null</td><td>2</td><td>1.5</td><td>null</td><td>1</td><td>2.0</td><td>\"[\"\"Essentials\"\"</td><td> \"\"Window AC unit\"\"</td><td>null</td><td>null</td><td>null</td><td>null</td><td>null</td><td>null</td><td>null</td><td>null</td><td> \"\"Cleaning products\"\"</td><td> \"\"Outdoor shower\"\"</td><td> \"\"Toaster\"\"</td><td> \"\"Drying rack for clothing\"\"</td><td>null</td><td> \"\"Dishes and silverware\"\"</td><td>null</td><td>null</td><td>null</td><td>null</td><td> \"\"Window guards\"\"</td><td>null</td><td>null</td><td>null</td><td>null</td><td>null</td><td>null</td><td>null</td><td>null</td><td>null</td><td>null</td><td>null</td><td>null</td><td> \"\"Portable fans\"\"</td></tr><tr><td>1012156</td><td>null</td><td>null</td><td>null</td><td>city scrape</td><td>suite santa clara</td><td>null</td><td>null</td><td>null</td><td>4307081</td><td>null</td><td>Nereu A</td><td>2012-12-02</td><td>null</td><td>30 anos de experiencia na area de turismo, idiomas ingles, espanhol e portugues</td><td>null</td><td>null</td><td>9%</td><td>t</td><td>null</td><td>null</td><td>null</td><td>56</td><td>86</td><td>null</td><td>null</td><td>null</td><td>null</td><td>null</td><td>null</td><td>-22.96969</td><td>-43.18847</td><td>Private room in hostel</td><td>Private room</td><td>2</td><td>null</td><td>null</td><td>1</td><td>null</td><td>[]</td><td>442.0</td><td>1</td><td>1125</td><td>null</td><td>null</td><td>null</td><td>null</td><td>null</td><td>null</td><td>null</td><td>null</td><td>30</td><td>60</td><td>90</td><td>365</td><td>null</td><td>0</td><td>null</td><td>null</td><td>null</td><td>null</td><td>null</td><td>null</td><td>null</td><td>null</td><td>null</td><td>null</td><td>null</td><td>null</td><td>null</td><td>null</td><td>null</td><td>null</td><td>null</td><td>null</td></tr><tr><td>1118497</td><td>null</td><td>null</td><td>null</td><td>city scrape</td><td>Cozy Studio at copacabana beach</td><td>\"Beautiful studio in the best point of Copacabana, two blocks from the beach and 5 minutes from Ipanema. Close to wide commerce. Easy access to public transportation and a few minutes from the subway. Family building with 24-hour concierge.<br /><br />Modern Studio equipped with self-check-in, air conditioning, 32 \"\"LCD TV</td><td>null</td><td>null</td><td> WiFi. Comfortable and extremely quiet apartment</td><td>null</td><td> which guarantees an excellent night's rest.<br /><br />American kitchen  with basic utensils.\"</td><td>Known as COPANEMA, this charming region differs from the others due to the proximity between the neighborhoods of Copacabana and Ipanema.<br /><br />Copacabana beach is about 250m from the building door. Ipanema's beach, on the other hand, you arrive after a gentle 700m walk ( 6 min ).<br /><br />The Subway is 500m from the studio.  Located in Praça General Osório  surrounded by bars and restaurants. <br /><br />Supermercados, restaurants, bank branches, pharmacies and laundries are easily found near the studio.</td><td>null</td><td>6138630</td><td>null</td><td>null</td><td>2013-04-28</td><td>Rio de Janeiro, Brazil</td><td>null</td><td>null</td><td>null</td><td>100%</td><td>t</td><td>null</td><td>null</td><td>null</td><td>null</td><td>null</td><td>null</td><td>t</td><td>t</td><td>Rio de Janeiro, Brazil</td><td>Copacabana</td><td>null</td><td>null</td><td>-43.19047</td><td>Entire rental unit</td><td>null</td><td>3</td><td>1.0</td><td>1 bath</td><td>1</td><td>null</td><td>null</td><td>null</td><td>null</td><td>null</td><td>null</td><td>null</td><td>null</td><td> \"\"Kitchen\"\"</td><td> \"\"Dishes and silverware\"\"</td><td> \"\"Mini fridge\"\"</td><td> \"\"First aid kit\"\"</td><td>null</td><td> \"\"Hot water\"\"</td><td>null</td><td>null</td><td>null</td><td>null</td><td> \"\"Smart lock\"\"</td><td>null</td><td>null</td><td>null</td><td>null</td><td>null</td><td>null</td><td>null</td><td>null</td><td>null</td><td>null</td><td>null</td><td>null</td><td> \"\"Room-darkening shades\"\"</td></tr></tbody></table></div>"
      ]
     },
     "metadata": {
      "application/vnd.databricks.v1+output": {
       "addedWidgets": {},
       "aggData": [],
       "aggError": "",
       "aggOverflow": false,
       "aggSchema": [],
       "aggSeriesLimitReached": false,
       "aggType": "",
       "arguments": {},
       "columnCustomDisplayInfos": {},
       "data": [
        [
         "17878",
         null,
         null,
         null,
         "city scrape",
         "Very Nice 2Br in Copacabana w. balcony, fast WiFi",
         "\"Please note that elevated rates applies for New Years and Carnival. Price depends on length of stay and number of people. Generally I prefer a stay for 1 week or more and a maximum of 5 people (6 at the most). Contact me, and we will discuss. <br />- Bright and sunny<br />- Large balcony (25 square meters) <br />- High speed WiFi (up to 500MB)<br />- Smart TV (you can watch Netflix etc. if you have an account)<br />- 24h doorman<br />- 1 minute to walk to Copacabana Beach<br />- Silent \"\"split\"\" air conditioning<br />- Best spot in Rio\"",
         null,
         null,
         "68997",
         null,
         "Matthias",
         "2010-01-08",
         null,
         "\"I  am a  journalist/writer. Lived  in NYC for 15 years. I  am now based in Rio and published 3 volumes of travel stories on AMAZ0N: \"\"The World Is My Oyster\"\". If you have never been to Rio",
         null,
         null,
         " you'll find  29 other travel stories from all around the globe.\"",
         "within an hour",
         null,
         null,
         null,
         "https://a0.muscache.com/im/pictures/user/67b13cea-8c11-49c0-a08d-7f42c330676e.jpg?aki_policy=profile_small",
         "https://a0.muscache.com/im/pictures/user/67b13cea-8c11-49c0-a08d-7f42c330676e.jpg?aki_policy=profile_x_medium",
         null,
         null,
         null,
         null,
         null,
         null,
         "Rio de Janeiro, Brazil",
         "Copacabana",
         null,
         "-22.96599",
         "-43.1794",
         null,
         "Entire home/apt",
         "5",
         null,
         "1 bath",
         2.0,
         "2",
         "\"[\"\"Smoking allowed\"\"",
         null,
         null,
         null,
         null,
         null,
         null,
         null,
         null,
         " \"\"Hot water\"\"",
         " \"\"Microwave\"\"",
         " \"\"Elevator\"\"",
         " \"\"Luggage dropoff allowed\"\"",
         null,
         " \"\"Bed linens\"\"",
         null,
         null,
         null,
         null,
         " \"\"Oven\"\"",
         null,
         null,
         null,
         null,
         null,
         null,
         null,
         null,
         null,
         null,
         null,
         null,
         "28"
        ],
        [
         "271975",
         null,
         null,
         null,
         "city scrape",
         "Unbelievable Ocean View Apartment",
         null,
         null,
         null,
         " Vidigal is the place to stay. One of the most spectacular views in Rio is on the trail to the top of \"\"Dois Irmãos\"\"",
         null,
         " ipanema and leblon beach is not as difficult to access as it seems. Staying in the neighborhood of Vidigal you already have access to the trail with a lot more ease and even without a guide",
         " asked the friendly residents of the community you will see the top with ease.<br />http://trilhadoisirmaos.com.br/<br /><br />Public and beautiful Park in Vidigal:<br />Sitiê<br />http://www.parquesitie.org/<br /><br />Restaurants in Vidigal:<br />Barlacubaco restaurant<br />Av. President João Goulart",
         null,
         "https://a0.muscache.com/pictures/4563200/4ea0f419_original.jpg",
         null,
         null,
         "Maria",
         "2011-11-19",
         null,
         null,
         null,
         "0%",
         "0%",
         null,
         null,
         null,
         null,
         null,
         null,
         "['email', 'phone']",
         "t",
         "t",
         "Rio de Janeiro, Brazil",
         "Vidigal",
         null,
         "-22.99508",
         "-43.23604",
         null,
         "Entire home/apt",
         4.0,
         "1.0",
         "1 bath",
         null,
         null,
         null,
         null,
         null,
         null,
         null,
         null,
         " \"\"Wifi\"\"",
         " \"\"Shampoo\"\"",
         " \"\"Washer\"\"]\"",
         "$236.00",
         null,
         "90",
         null,
         null,
         null,
         null,
         "1.0",
         null,
         null,
         null,
         null,
         null,
         null,
         null,
         null,
         null,
         null,
         null,
         null,
         "2019-10-05"
        ],
        [
         "285554",
         null,
         null,
         null,
         "city scrape",
         "Xenia's Room Casa São Conrado",
         "Our house is near the beach (400m) (surf, wind surfing, kite surfing, 40 km of bike paths), Tijuca National Park (trails, abseiling, waterfalls, tandem paragliding, cycling), Fashion Mall Shopping (restaurants, boutiques, theater, cinemas), Italian gastronomy kiosk, 15 minutes from Copacabana, Maracanã, Sambódromo, Ipanema by metro, supermarket, discos of Barra da Tijuca (Armando Lombardi Ave.) .... You will just love it!",
         null,
         null,
         " the view reaches the entire stretch of shores of the South and West Zone of Rio de Janeiro.<br /><br />At the top of the \"\"Pedra Bonita\"\" is the free flight takeoff ramp. A 20-minute trail takes tourists up to an exceptional viewpoint on the sea shore of São Conrado.<br /><br />The view from the house is breathtaking ... and reaches the tops of the Tijuca National Park covered in subtropical forest (Atlantic Forest)<br /><br />The house is separated from the Gávea Golf Club only by a small mountain creek with clear sound of running water and intense animal life. From the house",
         null,
         "https://a0.muscache.com/pictures/miso/Hosting-285554/original/b2d38625-930b-4537-aa69-0111b1fcfe9a.jpeg",
         "2163079",
         null,
         "Stanislas",
         null,
         null,
         "I am 69 years old, was born in Paris France, lived 20 years in Germany where I founded a family  and worked for various companies of the sector of industrial machinery and in these functions I traveled quite considerably  around the world. I have been spending the last 25 years in Brazil leading the daughter company of an European group and later as an independent salesman representing North American companies. I speak English, French, German, Spanish and Portuguese, enjoy very much contacts and to get the visit of foreign travelers in my house of São Conrado in Rio de Janeiro. I turned a great fan of Brazil and like to chat with my guests about what I know about it, passing on to them the marking cultural places that I visited and my experiences with typical bars, restaurants, museums and beaches of Rio. I bought this big house 21 years ago and transformed it progressively according to my taste to  the comfortable place it is today  and it grew to be my delight and hobby ... I like people to feel at ease there just like I do myself and feel happy when they return home with nice remembrances of their stay ... ",
         "within a few hours",
         null,
         null,
         null,
         "https://a0.muscache.com/im/users/2163079/profile_pic/1334697434/original.jpg?aki_policy=profile_small",
         "https://a0.muscache.com/im/users/2163079/profile_pic/1334697434/original.jpg?aki_policy=profile_x_medium",
         null,
         null,
         null,
         null,
         null,
         null,
         "Rio de Janeiro, Brazil",
         "São Conrado",
         null,
         "-22.995813369750977",
         "-43.26896286010742",
         null,
         "Private room",
         "2",
         null,
         "1 private bath",
         1.0,
         "1",
         "\"[\"\"Essentials\"\"",
         null,
         null,
         null,
         null,
         null,
         null,
         null,
         null,
         " \"\"Drying rack for clothing\"\"",
         " \"\"Kitchen\"\"",
         " \"\"Consul stainless steel stove\"\"",
         " \"\"Dishes and silverware\"\"",
         null,
         " \"\"Clothing storage: wardrobe\"\"",
         null,
         null,
         null,
         null,
         " \"\"Microwave\"\"",
         null,
         null,
         null,
         null,
         null,
         null,
         null,
         null,
         null,
         null,
         null,
         null,
         " \"\"Iron\"\""
        ],
        [
         "109747",
         null,
         null,
         null,
         "city scrape",
         "Ipanema WOW!  for 6+2",
         "NOTE: you can check in at anytime but is mandatory to let me know in advance the exactly time you will arrive, otherwise you will not be able to go to the apartment until the check in lady arrives and it can take a long time if not agreed before. <br /><br />The View from the apartment's balcony of the Two Brother's Mount is the Ipanema Beach's true symbol.<br />Don't Miss the Ocean view and The Christ Redeemer from your own home in Rio.<br />The pool belong to the condo But is shared with few people.",
         null,
         null,
         " and the huge parade performers is a spectacular sight and You'll also be able to enjoy Samba music from your balcony.<br /><br />Anything you may need is just very few minutes outside the building.<br />You don't need to walk more than 2 minutes to:<br />- Supermarket<br />-Change your money<br />-good",
         null,
         "https://a0.muscache.com/pictures/8533153/975dba31_original.jpg",
         "554897",
         null,
         "Jane",
         null,
         null,
         null,
         "within an hour",
         null,
         null,
         null,
         "https://a0.muscache.com/im/pictures/user/User-554897/original/9641e0e9-3205-49ac-85f0-7d703e059951.jpeg?aki_policy=profile_small",
         "https://a0.muscache.com/im/pictures/user/User-554897/original/9641e0e9-3205-49ac-85f0-7d703e059951.jpeg?aki_policy=profile_x_medium",
         null,
         null,
         null,
         null,
         null,
         null,
         "Rio, Rio de Janeiro, Brazil",
         "Ipanema",
         null,
         "-22.98697",
         "-43.19751",
         null,
         "Entire home/apt",
         "8",
         null,
         "3 baths",
         4.0,
         "5",
         "\"[\"\"Beach essentials\"\"",
         null,
         null,
         null,
         null,
         null,
         null,
         null,
         null,
         " \"\"City skyline view\"\"",
         " \"\"Cleaning products\"\"",
         " \"\"Free washer \\u2013 In unit\"\"",
         " \"\"Outdoor shower\"\"",
         null,
         " \"\"Heating - split type ductless system\"\"",
         null,
         null,
         null,
         null,
         " \"\"40 inch HDTV with Fire TV",
         null,
         null,
         null,
         null,
         null,
         null,
         null,
         null,
         null,
         null,
         null,
         null,
         " \"\"Dining table\"\""
        ],
        [
         "130234",
         null,
         null,
         null,
         "city scrape",
         "excellent studio apartment",
         "My space is good for couples, individual adventures, business travelers and families (with kids).",
         null,
         null,
         "641519",
         null,
         "Osvaldo",
         "2011-05-30",
         null,
         "ESTE APARTAMENTO NÃO ESTÁ MAS DISPONÍVEL PARA LOCAÇÃO DESDE A PANDEMIA. NÃO ACEITO RESERVAS.",
         null,
         null,
         "100%",
         "f",
         null,
         null,
         null,
         "1",
         "1",
         null,
         null,
         null,
         null,
         null,
         null,
         "-22.97575",
         "-43.18877",
         "Entire rental unit",
         "Entire home/apt",
         "1",
         null,
         "0 baths",
         "0",
         null,
         "\"[\"\"Host greets you\"\"]\"",
         180.0,
         "3",
         "720",
         null,
         null,
         null,
         null,
         null,
         null,
         null,
         null,
         "0",
         "0",
         "0",
         "0",
         null,
         "1",
         null,
         null,
         null,
         null,
         "5.0",
         null,
         null,
         null,
         null,
         null,
         null,
         null,
         null,
         null,
         null,
         null,
         null,
         "0.02"
        ],
        [
         "577253",
         null,
         null,
         null,
         "city scrape",
         "COPACABANA - GREAT LOCATION",
         "Location, security and mobility! Metro and all means of transport outside the building. Spacious apartment, extremely clean and with great view. Beach, restaurants, bars, coffee shops, banks and pharmacy within walking distance. It will be a pleasure to welcome you!",
         null,
         null,
         " a term used for those born in Rio de Janeiro",
         null,
         "https://a0.muscache.com/pictures/09c44346-bb17-4e55-a65b-9a148263b71a.jpg",
         "2838933",
         null,
         "Guilherme",
         null,
         null,
         "Sou Professor de Educação Física. Gosto de esportes em geral, cinema, viajar e conhecer novas pessoas e culturas.",
         "within an hour",
         null,
         null,
         null,
         "https://a0.muscache.com/im/users/2838933/profile_pic/1341546068/original.jpg?aki_policy=profile_small",
         "https://a0.muscache.com/im/users/2838933/profile_pic/1341546068/original.jpg?aki_policy=profile_x_medium",
         null,
         null,
         null,
         null,
         null,
         null,
         "Rio de Janeiro, Brazil",
         "Copacabana",
         null,
         "-22.96626",
         "-43.17985",
         null,
         "Private room",
         "2",
         null,
         "2 shared baths",
         1.0,
         "1",
         "\"[\"\"Essentials\"\"",
         null,
         null,
         null,
         null,
         null,
         null,
         null,
         null,
         " \"\"First aid kit\"\"",
         " \"\"Hot water\"\"",
         " \"\"Microwave\"\"",
         " \"\"Elevator\"\"",
         null,
         " \"\"Coffee maker\"\"",
         null,
         null,
         null,
         null,
         " \"\"Hair dryer\"\"",
         null,
         null,
         null,
         null,
         null,
         null,
         null,
         null,
         null,
         null,
         null,
         null,
         "2"
        ],
        [
         "589234",
         null,
         null,
         null,
         "city scrape",
         "ipanema 22 with queen bed internet",
         null,
         null,
         null,
         "4307081",
         null,
         "Nereu A",
         "2012-12-02",
         null,
         "30 anos de experiencia na area de turismo, idiomas ingles, espanhol e portugues",
         null,
         null,
         "9%",
         "t",
         null,
         null,
         null,
         "56",
         "86",
         null,
         null,
         null,
         null,
         null,
         null,
         "-22.98322",
         "-43.20498",
         "Private room in rental unit",
         "Private room",
         "1",
         null,
         "1 bath",
         "1",
         null,
         "[]",
         552.0,
         "1",
         "1125",
         null,
         null,
         null,
         null,
         null,
         null,
         null,
         null,
         "30",
         "60",
         "90",
         "365",
         null,
         "2",
         null,
         null,
         null,
         null,
         "5.0",
         null,
         null,
         null,
         null,
         null,
         null,
         null,
         null,
         null,
         null,
         null,
         null,
         "0.02"
        ],
        [
         "628044",
         null,
         null,
         null,
         "city scrape",
         "Best apartament Copacabana (Leme)",
         "Good location! Green View.",
         null,
         null,
         "1884906",
         null,
         "Hugo",
         "2012-03-08",
         null,
         "\"I love to meet travelers who are passing through Rio de Janeiro. Carioca, born and grow up  in the \"\"Cidade Maravilhosa\"\". Nature is my second home. Adventurer",
         null,
         null,
         "within an hour",
         "100%",
         null,
         null,
         null,
         "https://a0.muscache.com/im/users/1884906/profile_pic/1392603508/original.jpg?aki_policy=profile_x_medium",
         "Leme",
         null,
         null,
         null,
         null,
         null,
         null,
         "Leme",
         null,
         "-22.96245",
         "-43.17088",
         "Entire rental unit",
         null,
         "2",
         "1.0",
         null,
         "1",
         1.0,
         "\"[\"\"Essentials\"\"",
         " \"\"Window AC unit\"\"",
         null,
         null,
         null,
         null,
         null,
         null,
         null,
         null,
         " \"\"Hot water\"\"",
         " \"\"Lockbox\"\"",
         " \"\"Microwave\"\"",
         " \"\"Garden view\"\"",
         null,
         " \"\"Coffee maker\"\"",
         null,
         null,
         null,
         null,
         " \"\"Self check-in\"\"",
         null,
         null,
         null,
         null,
         null,
         null,
         null,
         null,
         null,
         null,
         null,
         null,
         "1125"
        ],
        [
         "669012",
         null,
         null,
         null,
         "city scrape",
         "COPA 53 close to the beach, studio",
         null,
         null,
         null,
         "4307081",
         null,
         "Nereu A",
         "2012-12-02",
         null,
         "30 anos de experiencia na area de turismo, idiomas ingles, espanhol e portugues",
         null,
         null,
         "9%",
         "t",
         null,
         null,
         null,
         "56",
         "86",
         null,
         null,
         null,
         null,
         null,
         null,
         "-22.97436",
         "-43.18951",
         "Entire rental unit",
         "Entire home/apt",
         "2",
         null,
         "1 bath",
         "1",
         null,
         "[]",
         442.0,
         "3",
         "1125",
         null,
         null,
         null,
         null,
         null,
         null,
         null,
         null,
         "30",
         "60",
         "90",
         "365",
         null,
         "0",
         null,
         null,
         null,
         null,
         null,
         null,
         null,
         null,
         null,
         null,
         null,
         null,
         null,
         null,
         null,
         null,
         null,
         null
        ],
        [
         "676781",
         null,
         null,
         null,
         "city scrape",
         "A sculptor's house",
         "\"English will follow in \"\"Space Description\"\"<br /><br />Very quiet artist's house on quiet and safe street",
         null,
         null,
         " there is a beautiful backyard with a banana tree",
         null,
         " barbecue and views of Corcovado. Calm",
         " clean environment. A truly artist's house where you can relax and discover a beautiful area of the city.\"",
         null,
         "https://a0.muscache.com/pictures/d0db1816-32cf-4ba1-b73c-b82cee462377.jpg",
         null,
         null,
         "Edgar",
         "2012-03-02",
         null,
         null,
         null,
         "N/A",
         "56%",
         null,
         null,
         null,
         null,
         null,
         null,
         "['email', 'phone']",
         "t",
         "t",
         "Rio de Janeiro, Brazil",
         "Rocinha",
         null,
         "-22.9861",
         "-43.24224",
         null,
         "Entire home/apt",
         7.0,
         "3.0",
         "3 baths",
         null,
         null,
         null,
         null,
         null,
         null,
         null,
         null,
         " \"\"TV\"\"",
         " \"\"Private pool\"\"",
         " \"\"Hot water\"\"",
         " \"\"Pool view\"\"",
         null,
         " \"\"Mountain view\"\"",
         null,
         null,
         null,
         null,
         " \"\"Hair dryer\"\"",
         null,
         null,
         null,
         null,
         null,
         null,
         null,
         null,
         null,
         null,
         null,
         null,
         "60"
        ],
        [
         "676983",
         null,
         null,
         null,
         "city scrape",
         "Penthouse ipanema",
         null,
         null,
         null,
         "4307081",
         null,
         "Nereu A",
         "2012-12-02",
         null,
         "30 anos de experiencia na area de turismo, idiomas ingles, espanhol e portugues",
         null,
         null,
         "9%",
         "t",
         null,
         null,
         null,
         "56",
         "86",
         null,
         null,
         null,
         null,
         null,
         null,
         "-22.98399",
         "-43.20804",
         "Entire rental unit",
         "Entire home/apt",
         "3",
         null,
         null,
         "1",
         null,
         "[]",
         387.0,
         "1",
         "1125",
         null,
         null,
         null,
         null,
         null,
         null,
         null,
         null,
         "30",
         "60",
         "86",
         "354",
         null,
         "12",
         null,
         null,
         null,
         null,
         "4.75",
         null,
         null,
         null,
         null,
         null,
         null,
         null,
         null,
         null,
         null,
         null,
         null,
         "0.09"
        ],
        [
         "896752",
         null,
         null,
         null,
         "city scrape",
         "bulhoes 204 near ipanema, metro",
         null,
         null,
         null,
         "4307081",
         null,
         "Nereu A",
         "2012-12-02",
         null,
         "30 anos de experiencia na area de turismo, idiomas ingles, espanhol e portugues",
         null,
         null,
         "9%",
         "t",
         null,
         null,
         null,
         "56",
         "86",
         null,
         null,
         null,
         null,
         null,
         null,
         "-22.9836",
         "-43.1923",
         "Entire rental unit",
         "Entire home/apt",
         "2",
         null,
         "1 bath",
         "1",
         null,
         "\"[\"\"TV with standard cable\"\"]\"",
         773.0,
         "5",
         "1125",
         null,
         null,
         null,
         null,
         null,
         null,
         null,
         null,
         "30",
         "60",
         "90",
         "365",
         null,
         "0",
         null,
         null,
         null,
         null,
         null,
         null,
         null,
         null,
         null,
         null,
         null,
         null,
         null,
         null,
         null,
         null,
         null,
         null
        ],
        [
         "925802",
         null,
         null,
         null,
         "city scrape",
         "Downtown, Maracanã  and Carnival",
         "The double bed room is still available for the World Cup, so  I have got two rooms but only one ad. It's cozy and close to the Bus Terminal, to Santos Dumont Airport and to the city center....it is possible to come and go o Maracanã walking. ",
         null,
         null,
         " close to the Polic\"",
         null,
         "4981026",
         "https://www.airbnb.com/users/show/4981026",
         null,
         "2013-02-05",
         null,
         null,
         "within an hour",
         "100%",
         null,
         null,
         null,
         "https://a0.muscache.com/im/pictures/user/9ff38fca-8b4b-4a71-8951-08c410b0f49a.jpg?aki_policy=profile_x_medium",
         "Praça da Bandeira",
         null,
         null,
         null,
         null,
         null,
         null,
         "Praça da Bandeira",
         null,
         "-22.91247",
         "-43.21582",
         "Private room in rental unit",
         null,
         "2",
         "1.5",
         null,
         "1",
         2.0,
         "\"[\"\"Essentials\"\"",
         " \"\"Window AC unit\"\"",
         null,
         null,
         null,
         null,
         null,
         null,
         null,
         null,
         " \"\"Cleaning products\"\"",
         " \"\"Outdoor shower\"\"",
         " \"\"Toaster\"\"",
         " \"\"Drying rack for clothing\"\"",
         null,
         " \"\"Dishes and silverware\"\"",
         null,
         null,
         null,
         null,
         " \"\"Window guards\"\"",
         null,
         null,
         null,
         null,
         null,
         null,
         null,
         null,
         null,
         null,
         null,
         null,
         " \"\"Portable fans\"\""
        ],
        [
         "1012156",
         null,
         null,
         null,
         "city scrape",
         "suite santa clara",
         null,
         null,
         null,
         "4307081",
         null,
         "Nereu A",
         "2012-12-02",
         null,
         "30 anos de experiencia na area de turismo, idiomas ingles, espanhol e portugues",
         null,
         null,
         "9%",
         "t",
         null,
         null,
         null,
         "56",
         "86",
         null,
         null,
         null,
         null,
         null,
         null,
         "-22.96969",
         "-43.18847",
         "Private room in hostel",
         "Private room",
         "2",
         null,
         null,
         "1",
         null,
         "[]",
         442.0,
         "1",
         "1125",
         null,
         null,
         null,
         null,
         null,
         null,
         null,
         null,
         "30",
         "60",
         "90",
         "365",
         null,
         "0",
         null,
         null,
         null,
         null,
         null,
         null,
         null,
         null,
         null,
         null,
         null,
         null,
         null,
         null,
         null,
         null,
         null,
         null
        ],
        [
         "1118497",
         null,
         null,
         null,
         "city scrape",
         "Cozy Studio at copacabana beach",
         "\"Beautiful studio in the best point of Copacabana, two blocks from the beach and 5 minutes from Ipanema. Close to wide commerce. Easy access to public transportation and a few minutes from the subway. Family building with 24-hour concierge.<br /><br />Modern Studio equipped with self-check-in, air conditioning, 32 \"\"LCD TV",
         null,
         null,
         " WiFi. Comfortable and extremely quiet apartment",
         null,
         " which guarantees an excellent night's rest.<br /><br />American kitchen  with basic utensils.\"",
         "Known as COPANEMA, this charming region differs from the others due to the proximity between the neighborhoods of Copacabana and Ipanema.<br /><br />Copacabana beach is about 250m from the building door. Ipanema's beach, on the other hand, you arrive after a gentle 700m walk ( 6 min ).<br /><br />The Subway is 500m from the studio.  Located in Praça General Osório  surrounded by bars and restaurants. <br /><br />Supermercados, restaurants, bank branches, pharmacies and laundries are easily found near the studio.",
         null,
         "6138630",
         null,
         null,
         "2013-04-28",
         "Rio de Janeiro, Brazil",
         null,
         null,
         null,
         "100%",
         "t",
         null,
         null,
         null,
         null,
         null,
         null,
         "t",
         "t",
         "Rio de Janeiro, Brazil",
         "Copacabana",
         null,
         null,
         "-43.19047",
         "Entire rental unit",
         null,
         "3",
         1.0,
         "1 bath",
         "1",
         null,
         null,
         null,
         null,
         null,
         null,
         null,
         null,
         " \"\"Kitchen\"\"",
         " \"\"Dishes and silverware\"\"",
         " \"\"Mini fridge\"\"",
         " \"\"First aid kit\"\"",
         null,
         " \"\"Hot water\"\"",
         null,
         null,
         null,
         null,
         " \"\"Smart lock\"\"",
         null,
         null,
         null,
         null,
         null,
         null,
         null,
         null,
         null,
         null,
         null,
         null,
         " \"\"Room-darkening shades\"\""
        ]
       ],
       "datasetInfos": [],
       "dbfsResultPath": null,
       "isJsonSchema": true,
       "metadata": {},
       "overflow": false,
       "plotOptions": {
        "customPlotOptions": {},
        "displayType": "table",
        "pivotAggregation": null,
        "pivotColumns": null,
        "xColumns": null,
        "yColumns": null
       },
       "removedWidgets": [],
       "schema": [
        {
         "metadata": "{}",
         "name": "id",
         "type": "\"string\""
        },
        {
         "metadata": "{}",
         "name": "listing_url",
         "type": "\"string\""
        },
        {
         "metadata": "{}",
         "name": "scrape_id",
         "type": "\"string\""
        },
        {
         "metadata": "{}",
         "name": "last_scraped",
         "type": "\"string\""
        },
        {
         "metadata": "{}",
         "name": "source",
         "type": "\"string\""
        },
        {
         "metadata": "{}",
         "name": "name",
         "type": "\"string\""
        },
        {
         "metadata": "{}",
         "name": "description",
         "type": "\"string\""
        },
        {
         "metadata": "{}",
         "name": "neighborhood_overview",
         "type": "\"string\""
        },
        {
         "metadata": "{}",
         "name": "picture_url",
         "type": "\"string\""
        },
        {
         "metadata": "{}",
         "name": "host_id",
         "type": "\"string\""
        },
        {
         "metadata": "{}",
         "name": "host_url",
         "type": "\"string\""
        },
        {
         "metadata": "{}",
         "name": "host_name",
         "type": "\"string\""
        },
        {
         "metadata": "{}",
         "name": "host_since",
         "type": "\"string\""
        },
        {
         "metadata": "{}",
         "name": "host_location",
         "type": "\"string\""
        },
        {
         "metadata": "{}",
         "name": "host_about",
         "type": "\"string\""
        },
        {
         "metadata": "{}",
         "name": "host_response_time",
         "type": "\"string\""
        },
        {
         "metadata": "{}",
         "name": "host_response_rate",
         "type": "\"string\""
        },
        {
         "metadata": "{}",
         "name": "host_acceptance_rate",
         "type": "\"string\""
        },
        {
         "metadata": "{}",
         "name": "host_is_superhost",
         "type": "\"string\""
        },
        {
         "metadata": "{}",
         "name": "host_thumbnail_url",
         "type": "\"string\""
        },
        {
         "metadata": "{}",
         "name": "host_picture_url",
         "type": "\"string\""
        },
        {
         "metadata": "{}",
         "name": "host_neighbourhood",
         "type": "\"string\""
        },
        {
         "metadata": "{}",
         "name": "host_listings_count",
         "type": "\"string\""
        },
        {
         "metadata": "{}",
         "name": "host_total_listings_count",
         "type": "\"string\""
        },
        {
         "metadata": "{}",
         "name": "host_verifications",
         "type": "\"string\""
        },
        {
         "metadata": "{}",
         "name": "host_has_profile_pic",
         "type": "\"string\""
        },
        {
         "metadata": "{}",
         "name": "host_identity_verified",
         "type": "\"string\""
        },
        {
         "metadata": "{}",
         "name": "neighbourhood",
         "type": "\"string\""
        },
        {
         "metadata": "{}",
         "name": "neighbourhood_cleansed",
         "type": "\"string\""
        },
        {
         "metadata": "{}",
         "name": "neighbourhood_group_cleansed",
         "type": "\"string\""
        },
        {
         "metadata": "{}",
         "name": "latitude",
         "type": "\"string\""
        },
        {
         "metadata": "{}",
         "name": "longitude",
         "type": "\"string\""
        },
        {
         "metadata": "{}",
         "name": "property_type",
         "type": "\"string\""
        },
        {
         "metadata": "{}",
         "name": "room_type",
         "type": "\"string\""
        },
        {
         "metadata": "{}",
         "name": "accommodates",
         "type": "\"string\""
        },
        {
         "metadata": "{}",
         "name": "bathrooms",
         "type": "\"string\""
        },
        {
         "metadata": "{}",
         "name": "bathrooms_text",
         "type": "\"string\""
        },
        {
         "metadata": "{}",
         "name": "bedrooms",
         "type": "\"string\""
        },
        {
         "metadata": "{}",
         "name": "beds",
         "type": "\"string\""
        },
        {
         "metadata": "{}",
         "name": "amenities",
         "type": "\"string\""
        },
        {
         "metadata": "{}",
         "name": "price",
         "type": "\"float\""
        },
        {
         "metadata": "{}",
         "name": "minimum_nights",
         "type": "\"string\""
        },
        {
         "metadata": "{}",
         "name": "maximum_nights",
         "type": "\"string\""
        },
        {
         "metadata": "{}",
         "name": "minimum_minimum_nights",
         "type": "\"string\""
        },
        {
         "metadata": "{}",
         "name": "maximum_minimum_nights",
         "type": "\"string\""
        },
        {
         "metadata": "{}",
         "name": "minimum_maximum_nights",
         "type": "\"string\""
        },
        {
         "metadata": "{}",
         "name": "maximum_maximum_nights",
         "type": "\"string\""
        },
        {
         "metadata": "{}",
         "name": "minimum_nights_avg_ntm",
         "type": "\"string\""
        },
        {
         "metadata": "{}",
         "name": "maximum_nights_avg_ntm",
         "type": "\"string\""
        },
        {
         "metadata": "{}",
         "name": "calendar_updated",
         "type": "\"string\""
        },
        {
         "metadata": "{}",
         "name": "has_availability",
         "type": "\"string\""
        },
        {
         "metadata": "{}",
         "name": "availability_30",
         "type": "\"string\""
        },
        {
         "metadata": "{}",
         "name": "availability_60",
         "type": "\"string\""
        },
        {
         "metadata": "{}",
         "name": "availability_90",
         "type": "\"string\""
        },
        {
         "metadata": "{}",
         "name": "availability_365",
         "type": "\"string\""
        },
        {
         "metadata": "{}",
         "name": "calendar_last_scraped",
         "type": "\"string\""
        },
        {
         "metadata": "{}",
         "name": "number_of_reviews",
         "type": "\"string\""
        },
        {
         "metadata": "{}",
         "name": "number_of_reviews_ltm",
         "type": "\"string\""
        },
        {
         "metadata": "{}",
         "name": "number_of_reviews_l30d",
         "type": "\"string\""
        },
        {
         "metadata": "{}",
         "name": "first_review",
         "type": "\"string\""
        },
        {
         "metadata": "{}",
         "name": "last_review",
         "type": "\"string\""
        },
        {
         "metadata": "{}",
         "name": "review_scores_rating",
         "type": "\"string\""
        },
        {
         "metadata": "{}",
         "name": "review_scores_accuracy",
         "type": "\"string\""
        },
        {
         "metadata": "{}",
         "name": "review_scores_cleanliness",
         "type": "\"string\""
        },
        {
         "metadata": "{}",
         "name": "review_scores_checkin",
         "type": "\"string\""
        },
        {
         "metadata": "{}",
         "name": "review_scores_communication",
         "type": "\"string\""
        },
        {
         "metadata": "{}",
         "name": "review_scores_location",
         "type": "\"string\""
        },
        {
         "metadata": "{}",
         "name": "review_scores_value",
         "type": "\"string\""
        },
        {
         "metadata": "{}",
         "name": "license",
         "type": "\"string\""
        },
        {
         "metadata": "{}",
         "name": "instant_bookable",
         "type": "\"string\""
        },
        {
         "metadata": "{}",
         "name": "calculated_host_listings_count",
         "type": "\"string\""
        },
        {
         "metadata": "{}",
         "name": "calculated_host_listings_count_entire_homes",
         "type": "\"string\""
        },
        {
         "metadata": "{}",
         "name": "calculated_host_listings_count_private_rooms",
         "type": "\"string\""
        },
        {
         "metadata": "{}",
         "name": "calculated_host_listings_count_shared_rooms",
         "type": "\"string\""
        },
        {
         "metadata": "{}",
         "name": "reviews_per_month",
         "type": "\"string\""
        }
       ],
       "type": "table"
      }
     },
     "output_type": "display_data"
    }
   ],
   "source": [
    "df_listings_silver.limit(15).display()"
   ]
  },
  {
   "cell_type": "code",
   "execution_count": 0,
   "metadata": {
    "application/vnd.databricks.v1+cell": {
     "cellMetadata": {
      "byteLimit": 2048000,
      "rowLimit": 10000
     },
     "inputWidgets": {},
     "nuid": "df5aae8d-d3f1-4aff-adaf-cec6197b4498",
     "showTitle": false,
     "tableResultSettingsMap": {},
     "title": ""
    }
   },
   "outputs": [
    {
     "output_type": "execute_result",
     "data": {
      "text/plain": [
       "456"
      ]
     },
     "execution_count": 230,
     "metadata": {},
     "output_type": "execute_result"
    }
   ],
   "source": [
    "df_listings_silver.count()"
   ]
  },
  {
   "cell_type": "code",
   "execution_count": 0,
   "metadata": {
    "application/vnd.databricks.v1+cell": {
     "cellMetadata": {
      "byteLimit": 2048000,
      "rowLimit": 10000
     },
     "inputWidgets": {},
     "nuid": "de93f965-f93a-4ce6-a382-41ba643c13fb",
     "showTitle": false,
     "tableResultSettingsMap": {},
     "title": ""
    }
   },
   "outputs": [
    {
     "output_type": "display_data",
     "data": {
      "text/html": [
       "<style scoped>\n",
       "  .table-result-container {\n",
       "    max-height: 300px;\n",
       "    overflow: auto;\n",
       "  }\n",
       "  table, th, td {\n",
       "    border: 1px solid black;\n",
       "    border-collapse: collapse;\n",
       "  }\n",
       "  th, td {\n",
       "    padding: 5px;\n",
       "  }\n",
       "  th {\n",
       "    text-align: left;\n",
       "  }\n",
       "</style><div class='table-result-container'><table class='table-result'><thead style='background-color: white'><tr><th>id</th><th>listing_url</th><th>scrape_id</th><th>last_scraped</th><th>source</th><th>name</th><th>description</th><th>neighborhood_overview</th><th>picture_url</th><th>host_id</th><th>host_url</th><th>host_name</th><th>host_since</th><th>host_location</th><th>host_about</th><th>host_response_time</th><th>host_response_rate</th><th>host_acceptance_rate</th><th>host_is_superhost</th><th>host_thumbnail_url</th><th>host_picture_url</th><th>host_neighbourhood</th><th>host_listings_count</th><th>host_total_listings_count</th><th>host_verifications</th><th>host_has_profile_pic</th><th>host_identity_verified</th><th>neighbourhood</th><th>neighbourhood_cleansed</th><th>neighbourhood_group_cleansed</th><th>latitude</th><th>longitude</th><th>property_type</th><th>room_type</th><th>accommodates</th><th>bathrooms</th><th>bathrooms_text</th><th>bedrooms</th><th>beds</th><th>amenities</th><th>price</th><th>minimum_nights</th><th>maximum_nights</th><th>minimum_minimum_nights</th><th>maximum_minimum_nights</th><th>minimum_maximum_nights</th><th>maximum_maximum_nights</th><th>minimum_nights_avg_ntm</th><th>maximum_nights_avg_ntm</th><th>calendar_updated</th><th>has_availability</th><th>availability_30</th><th>availability_60</th><th>availability_90</th><th>availability_365</th><th>calendar_last_scraped</th><th>number_of_reviews</th><th>number_of_reviews_ltm</th><th>number_of_reviews_l30d</th><th>first_review</th><th>last_review</th><th>review_scores_rating</th><th>review_scores_accuracy</th><th>review_scores_cleanliness</th><th>review_scores_checkin</th><th>review_scores_communication</th><th>review_scores_location</th><th>review_scores_value</th><th>license</th><th>instant_bookable</th><th>calculated_host_listings_count</th><th>calculated_host_listings_count_entire_homes</th><th>calculated_host_listings_count_private_rooms</th><th>calculated_host_listings_count_shared_rooms</th><th>reviews_per_month</th></tr></thead><tbody><tr><td>0</td><td>456</td><td>456</td><td>456</td><td>0</td><td>0</td><td>27</td><td>456</td><td>456</td><td>20</td><td>456</td><td>0</td><td>11</td><td>456</td><td>89</td><td>456</td><td>456</td><td>43</td><td>8</td><td>456</td><td>456</td><td>456</td><td>0</td><td>21</td><td>456</td><td>456</td><td>456</td><td>456</td><td>456</td><td>456</td><td>20</td><td>92</td><td>115</td><td>25</td><td>75</td><td>456</td><td>2</td><td>2</td><td>456</td><td>0</td><td>0</td><td>5</td><td>0</td><td>456</td><td>456</td><td>456</td><td>456</td><td>456</td><td>456</td><td>456</td><td>456</td><td>1</td><td>0</td><td>0</td><td>0</td><td>456</td><td>5</td><td>456</td><td>456</td><td>456</td><td>456</td><td>67</td><td>456</td><td>456</td><td>456</td><td>456</td><td>456</td><td>456</td><td>456</td><td>456</td><td>456</td><td>456</td><td>456</td><td>456</td><td>82</td></tr></tbody></table></div>"
      ]
     },
     "metadata": {
      "application/vnd.databricks.v1+output": {
       "addedWidgets": {},
       "aggData": [],
       "aggError": "",
       "aggOverflow": false,
       "aggSchema": [],
       "aggSeriesLimitReached": false,
       "aggType": "",
       "arguments": {},
       "columnCustomDisplayInfos": {},
       "data": [
        [
         0,
         456,
         456,
         456,
         0,
         0,
         27,
         456,
         456,
         20,
         456,
         0,
         11,
         456,
         89,
         456,
         456,
         43,
         8,
         456,
         456,
         456,
         0,
         21,
         456,
         456,
         456,
         456,
         456,
         456,
         20,
         92,
         115,
         25,
         75,
         456,
         2,
         2,
         456,
         0,
         0,
         5,
         0,
         456,
         456,
         456,
         456,
         456,
         456,
         456,
         456,
         1,
         0,
         0,
         0,
         456,
         5,
         456,
         456,
         456,
         456,
         67,
         456,
         456,
         456,
         456,
         456,
         456,
         456,
         456,
         456,
         456,
         456,
         456,
         82
        ]
       ],
       "datasetInfos": [],
       "dbfsResultPath": null,
       "isJsonSchema": true,
       "metadata": {},
       "overflow": false,
       "plotOptions": {
        "customPlotOptions": {},
        "displayType": "table",
        "pivotAggregation": null,
        "pivotColumns": null,
        "xColumns": null,
        "yColumns": null
       },
       "removedWidgets": [],
       "schema": [
        {
         "metadata": "{}",
         "name": "id",
         "type": "\"long\""
        },
        {
         "metadata": "{}",
         "name": "listing_url",
         "type": "\"long\""
        },
        {
         "metadata": "{}",
         "name": "scrape_id",
         "type": "\"long\""
        },
        {
         "metadata": "{}",
         "name": "last_scraped",
         "type": "\"long\""
        },
        {
         "metadata": "{}",
         "name": "source",
         "type": "\"long\""
        },
        {
         "metadata": "{}",
         "name": "name",
         "type": "\"long\""
        },
        {
         "metadata": "{}",
         "name": "description",
         "type": "\"long\""
        },
        {
         "metadata": "{}",
         "name": "neighborhood_overview",
         "type": "\"long\""
        },
        {
         "metadata": "{}",
         "name": "picture_url",
         "type": "\"long\""
        },
        {
         "metadata": "{}",
         "name": "host_id",
         "type": "\"long\""
        },
        {
         "metadata": "{}",
         "name": "host_url",
         "type": "\"long\""
        },
        {
         "metadata": "{}",
         "name": "host_name",
         "type": "\"long\""
        },
        {
         "metadata": "{}",
         "name": "host_since",
         "type": "\"long\""
        },
        {
         "metadata": "{}",
         "name": "host_location",
         "type": "\"long\""
        },
        {
         "metadata": "{}",
         "name": "host_about",
         "type": "\"long\""
        },
        {
         "metadata": "{}",
         "name": "host_response_time",
         "type": "\"long\""
        },
        {
         "metadata": "{}",
         "name": "host_response_rate",
         "type": "\"long\""
        },
        {
         "metadata": "{}",
         "name": "host_acceptance_rate",
         "type": "\"long\""
        },
        {
         "metadata": "{}",
         "name": "host_is_superhost",
         "type": "\"long\""
        },
        {
         "metadata": "{}",
         "name": "host_thumbnail_url",
         "type": "\"long\""
        },
        {
         "metadata": "{}",
         "name": "host_picture_url",
         "type": "\"long\""
        },
        {
         "metadata": "{}",
         "name": "host_neighbourhood",
         "type": "\"long\""
        },
        {
         "metadata": "{}",
         "name": "host_listings_count",
         "type": "\"long\""
        },
        {
         "metadata": "{}",
         "name": "host_total_listings_count",
         "type": "\"long\""
        },
        {
         "metadata": "{}",
         "name": "host_verifications",
         "type": "\"long\""
        },
        {
         "metadata": "{}",
         "name": "host_has_profile_pic",
         "type": "\"long\""
        },
        {
         "metadata": "{}",
         "name": "host_identity_verified",
         "type": "\"long\""
        },
        {
         "metadata": "{}",
         "name": "neighbourhood",
         "type": "\"long\""
        },
        {
         "metadata": "{}",
         "name": "neighbourhood_cleansed",
         "type": "\"long\""
        },
        {
         "metadata": "{}",
         "name": "neighbourhood_group_cleansed",
         "type": "\"long\""
        },
        {
         "metadata": "{}",
         "name": "latitude",
         "type": "\"long\""
        },
        {
         "metadata": "{}",
         "name": "longitude",
         "type": "\"long\""
        },
        {
         "metadata": "{}",
         "name": "property_type",
         "type": "\"long\""
        },
        {
         "metadata": "{}",
         "name": "room_type",
         "type": "\"long\""
        },
        {
         "metadata": "{}",
         "name": "accommodates",
         "type": "\"long\""
        },
        {
         "metadata": "{}",
         "name": "bathrooms",
         "type": "\"long\""
        },
        {
         "metadata": "{}",
         "name": "bathrooms_text",
         "type": "\"long\""
        },
        {
         "metadata": "{}",
         "name": "bedrooms",
         "type": "\"long\""
        },
        {
         "metadata": "{}",
         "name": "beds",
         "type": "\"long\""
        },
        {
         "metadata": "{}",
         "name": "amenities",
         "type": "\"long\""
        },
        {
         "metadata": "{}",
         "name": "price",
         "type": "\"long\""
        },
        {
         "metadata": "{}",
         "name": "minimum_nights",
         "type": "\"long\""
        },
        {
         "metadata": "{}",
         "name": "maximum_nights",
         "type": "\"long\""
        },
        {
         "metadata": "{}",
         "name": "minimum_minimum_nights",
         "type": "\"long\""
        },
        {
         "metadata": "{}",
         "name": "maximum_minimum_nights",
         "type": "\"long\""
        },
        {
         "metadata": "{}",
         "name": "minimum_maximum_nights",
         "type": "\"long\""
        },
        {
         "metadata": "{}",
         "name": "maximum_maximum_nights",
         "type": "\"long\""
        },
        {
         "metadata": "{}",
         "name": "minimum_nights_avg_ntm",
         "type": "\"long\""
        },
        {
         "metadata": "{}",
         "name": "maximum_nights_avg_ntm",
         "type": "\"long\""
        },
        {
         "metadata": "{}",
         "name": "calendar_updated",
         "type": "\"long\""
        },
        {
         "metadata": "{}",
         "name": "has_availability",
         "type": "\"long\""
        },
        {
         "metadata": "{}",
         "name": "availability_30",
         "type": "\"long\""
        },
        {
         "metadata": "{}",
         "name": "availability_60",
         "type": "\"long\""
        },
        {
         "metadata": "{}",
         "name": "availability_90",
         "type": "\"long\""
        },
        {
         "metadata": "{}",
         "name": "availability_365",
         "type": "\"long\""
        },
        {
         "metadata": "{}",
         "name": "calendar_last_scraped",
         "type": "\"long\""
        },
        {
         "metadata": "{}",
         "name": "number_of_reviews",
         "type": "\"long\""
        },
        {
         "metadata": "{}",
         "name": "number_of_reviews_ltm",
         "type": "\"long\""
        },
        {
         "metadata": "{}",
         "name": "number_of_reviews_l30d",
         "type": "\"long\""
        },
        {
         "metadata": "{}",
         "name": "first_review",
         "type": "\"long\""
        },
        {
         "metadata": "{}",
         "name": "last_review",
         "type": "\"long\""
        },
        {
         "metadata": "{}",
         "name": "review_scores_rating",
         "type": "\"long\""
        },
        {
         "metadata": "{}",
         "name": "review_scores_accuracy",
         "type": "\"long\""
        },
        {
         "metadata": "{}",
         "name": "review_scores_cleanliness",
         "type": "\"long\""
        },
        {
         "metadata": "{}",
         "name": "review_scores_checkin",
         "type": "\"long\""
        },
        {
         "metadata": "{}",
         "name": "review_scores_communication",
         "type": "\"long\""
        },
        {
         "metadata": "{}",
         "name": "review_scores_location",
         "type": "\"long\""
        },
        {
         "metadata": "{}",
         "name": "review_scores_value",
         "type": "\"long\""
        },
        {
         "metadata": "{}",
         "name": "license",
         "type": "\"long\""
        },
        {
         "metadata": "{}",
         "name": "instant_bookable",
         "type": "\"long\""
        },
        {
         "metadata": "{}",
         "name": "calculated_host_listings_count",
         "type": "\"long\""
        },
        {
         "metadata": "{}",
         "name": "calculated_host_listings_count_entire_homes",
         "type": "\"long\""
        },
        {
         "metadata": "{}",
         "name": "calculated_host_listings_count_private_rooms",
         "type": "\"long\""
        },
        {
         "metadata": "{}",
         "name": "calculated_host_listings_count_shared_rooms",
         "type": "\"long\""
        },
        {
         "metadata": "{}",
         "name": "reviews_per_month",
         "type": "\"long\""
        }
       ],
       "type": "table"
      }
     },
     "output_type": "display_data"
    }
   ],
   "source": [
    "# Contar valores NULL em cada coluna\n",
    "null_counts = df_listings_silver.select([\n",
    "    sum(col(column).isNull().cast(\"int\")).alias(column) for column in df_listings_silver.columns\n",
    "])\n",
    "\n",
    "# Exibir o número de valores NULL em cada coluna\n",
    "display(null_counts)"
   ]
  },
  {
   "cell_type": "code",
   "execution_count": 0,
   "metadata": {
    "application/vnd.databricks.v1+cell": {
     "cellMetadata": {
      "byteLimit": 2048000,
      "rowLimit": 10000
     },
     "inputWidgets": {},
     "nuid": "d22498e6-60a3-4dd5-bf71-d1ec8453fed1",
     "showTitle": false,
     "tableResultSettingsMap": {},
     "title": ""
    }
   },
   "outputs": [
    {
     "output_type": "display_data",
     "data": {
      "text/html": [
       "<style scoped>\n",
       "  .table-result-container {\n",
       "    max-height: 300px;\n",
       "    overflow: auto;\n",
       "  }\n",
       "  table, th, td {\n",
       "    border: 1px solid black;\n",
       "    border-collapse: collapse;\n",
       "  }\n",
       "  th, td {\n",
       "    padding: 5px;\n",
       "  }\n",
       "  th {\n",
       "    text-align: left;\n",
       "  }\n",
       "</style><div class='table-result-container'><table class='table-result'><thead style='background-color: white'><tr><th>id</th><th>listing_url</th><th>scrape_id</th><th>last_scraped</th><th>source</th><th>name</th><th>description</th><th>neighborhood_overview</th><th>picture_url</th><th>host_id</th><th>host_url</th><th>host_name</th><th>host_since</th><th>host_location</th><th>host_about</th><th>host_response_time</th><th>host_response_rate</th><th>host_acceptance_rate</th><th>host_is_superhost</th><th>host_thumbnail_url</th><th>host_picture_url</th><th>host_neighbourhood</th><th>host_listings_count</th><th>host_total_listings_count</th><th>host_verifications</th><th>host_has_profile_pic</th><th>host_identity_verified</th><th>neighbourhood</th><th>neighbourhood_cleansed</th><th>neighbourhood_group_cleansed</th><th>latitude</th><th>longitude</th><th>property_type</th><th>room_type</th><th>accommodates</th><th>bathrooms</th><th>bathrooms_text</th><th>bedrooms</th><th>beds</th><th>amenities</th><th>price</th><th>minimum_nights</th><th>maximum_nights</th><th>minimum_minimum_nights</th><th>maximum_minimum_nights</th><th>minimum_maximum_nights</th><th>maximum_maximum_nights</th><th>minimum_nights_avg_ntm</th><th>maximum_nights_avg_ntm</th><th>calendar_updated</th><th>has_availability</th><th>availability_30</th><th>availability_60</th><th>availability_90</th><th>availability_365</th><th>calendar_last_scraped</th><th>number_of_reviews</th><th>number_of_reviews_ltm</th><th>number_of_reviews_l30d</th><th>first_review</th><th>last_review</th><th>review_scores_rating</th><th>review_scores_accuracy</th><th>review_scores_cleanliness</th><th>review_scores_checkin</th><th>review_scores_communication</th><th>review_scores_location</th><th>review_scores_value</th><th>license</th><th>instant_bookable</th><th>calculated_host_listings_count</th><th>calculated_host_listings_count_entire_homes</th><th>calculated_host_listings_count_private_rooms</th><th>calculated_host_listings_count_shared_rooms</th><th>reviews_per_month</th></tr></thead><tbody><tr><td>994790444818218324</td><td>null</td><td>null</td><td>null</td><td>city scrape</td><td>Best Rio stay  Riocentro</td><td>You will have a great time in this comfortable place to stay.</td><td>null</td><td>null</td><td>167472593</td><td>null</td><td>Rio Stay Residence</td><td>2018-01-13</td><td>null</td><td>Gosto de recepcionar os hóspedes pessoalmente para mostrar o ambiente e as facilidades , como também para combinar os horários de check-in e check-out. Meu (Hidden by Airbnb) é (Phone number hidden by Airbnb)</td><td>null</td><td>null</td><td>90%</td><td>f</td><td>null</td><td>null</td><td>null</td><td>26</td><td>32</td><td>null</td><td>null</td><td>null</td><td>null</td><td>null</td><td>null</td><td>-22.9752762</td><td>-43.4144449</td><td>Entire rental unit</td><td>Entire home/apt</td><td>2</td><td>null</td><td>1 bath</td><td>1</td><td>null</td><td>\"[\"\"Exterior security cameras on property\"\"]\"</td><td>105.0</td><td>4</td><td>365</td><td>null</td><td>null</td><td>null</td><td>null</td><td>null</td><td>null</td><td>null</td><td>null</td><td>30</td><td>56</td><td>61</td><td>61</td><td>null</td><td>0</td><td>null</td><td>null</td><td>null</td><td>null</td><td>null</td><td>null</td><td>null</td><td>null</td><td>null</td><td>null</td><td>null</td><td>null</td><td>null</td><td>null</td><td>null</td><td>null</td><td>null</td><td>null</td></tr><tr><td>993353591734832785</td><td>null</td><td>null</td><td>null</td><td>city scrape</td><td>Comfort in Copa | one block from the beach</td><td>\"This is your vacation home or home office in Copacabana!<br />Fully equipped apartment with bedroom, living room and exclusive space for home office. The apartment has a dishwasher, microwave, fully equipped kitchen, washer and dryer, 58\"\" 4k smartTV in the living room</td><td>null</td><td>null</td><td>The Copacabana neighborhood offers all amenities for guests, with easy access to public transportation, supermarkets, pharmacies, bars and restaurants. Easy access on foot to Copacabana and Leme beaches.</td><td>null</td><td>223622706</td><td>https://www.airbnb.com/users/show/223622706</td><td>null</td><td>2018-11-01</td><td>null</td><td>null</td><td>within an hour</td><td>100%</td><td>null</td><td>null</td><td>null</td><td>https://a0.muscache.com/im/pictures/user/5fe73e31-a777-4d0e-a9f1-9243074631b6.jpg?aki_policy=profile_x_medium</td><td>Copacabana</td><td>null</td><td>null</td><td>null</td><td>null</td><td>null</td><td>null</td><td>Copacabana</td><td>null</td><td>-22.96375285877727</td><td>-43.17598034723627</td><td>Entire rental unit</td><td>null</td><td>4</td><td>1.0</td><td>null</td><td>1</td><td>2.0</td><td>\"[\"\"Essentials\"\"</td><td> \"\"Wine glasses\"\"</td><td>null</td><td>null</td><td>null</td><td>null</td><td>null</td><td>null</td><td>null</td><td>null</td><td> \"\"Refrigerator\"\"</td><td> \"\"Gas stove\"\"</td><td> \"\"Dishes and silverware\"\"</td><td> \"\"Free dryer \\u2013 In unit\"\"</td><td>null</td><td> \"\"Hot water\"\"</td><td>null</td><td>null</td><td>null</td><td>null</td><td> \"\"Dedicated workspace\"\"</td><td>null</td><td>null</td><td>null</td><td>null</td><td>null</td><td>null</td><td>null</td><td>null</td><td>null</td><td>null</td><td>null</td><td>null</td><td>4</td></tr><tr><td>993004389062744726</td><td>null</td><td>null</td><td>null</td><td>city scrape</td><td>Apartamento de 3 quartos em Copacabana</td><td>\"You will be close to everything you need to have a great stay. Very close to markets, restaurants, bars and pharmacies that open 24 hours a day. Just 3 min walking to the Copacabana beach and 5 min walking to the underground station \"\"Cantagalo\"\".<br /><br />Here you enjoy a privileged location</td><td>null</td><td>null</td><td> which when put together are also a double bed.\"</td><td>null</td><td>https://a0.muscache.com/pictures/hosting/Hosting-U3RheVN1cHBseUxpc3Rpbmc6OTkzMDA0Mzg5MDYyNzQ0NzI2/original/0c41a630-d0b3-4b05-a5b0-1c68f29a5821.jpeg</td><td>169784036</td><td>null</td><td>Victor</td><td>null</td><td>null</td><td>null</td><td>within an hour</td><td>null</td><td>null</td><td>null</td><td>https://a0.muscache.com/im/pictures/user/02a41a47-a146-442b-b875-31170a33ccb2.jpg?aki_policy=profile_small</td><td>https://a0.muscache.com/im/pictures/user/02a41a47-a146-442b-b875-31170a33ccb2.jpg?aki_policy=profile_x_medium</td><td>null</td><td>null</td><td>null</td><td>null</td><td>null</td><td>null</td><td>Rio de Janeiro, Brazil</td><td>Copacabana</td><td>null</td><td>-22.9762824</td><td>-43.1890198</td><td>null</td><td>Entire home/apt</td><td>6</td><td>null</td><td>2 baths</td><td>3.0</td><td>4</td><td>\"[\"\"Essentials\"\"</td><td>null</td><td>null</td><td>null</td><td>null</td><td>null</td><td>null</td><td>null</td><td>null</td><td> \"\"Kitchen\"\"</td><td> \"\"Refrigerator\"\"</td><td> \"\"Gas stove\"\"</td><td> \"\"Dishes and silverware\"\"</td><td>null</td><td> \"\"Dining table\"\"</td><td>null</td><td>null</td><td>null</td><td>null</td><td> \"\"Elevator\"\"</td><td>null</td><td>null</td><td>null</td><td>null</td><td>null</td><td>null</td><td>null</td><td>null</td><td>null</td><td>null</td><td>null</td><td>null</td><td>$310.00</td></tr><tr><td>990585351178981086</td><td>null</td><td>null</td><td>null</td><td>city scrape</td><td>Copacabana Apartment Near the Beach</td><td>\"01 bedroom apartment at the heart of Copacabana. Wifi 250 Mbps<br /><br />We call it \"\"The Second City Apartment\"\"</td><td>null</td><td>null</td><td> bars</td><td>null</td><td> grocery stores... You name it and we have it! Surrounded by two subway stations and multiple other forms of transportation.<br /><br />Building with 24h concierge and apartment with self check-in.\"</td><td>The rowdy Copacabana is one of the most traditional and old areas from Rio de Janeiro. This neighbourhood is a blend of Brazilian soul - crowded, rowdy and traditional. This neighbourhood has a bit of everything: bars with music, pubs, street fairs, chaotic streets, and many shops. All these things and more live side-by-side. There are options for all price points and tastes. However, the most powerful draw in Copacabana is still the fantastic view of the coast and the incredible beaches.</td><td>null</td><td>121059359</td><td>null</td><td>null</td><td>2017-03-16</td><td>Chicago, IL</td><td>null</td><td>null</td><td>null</td><td>100%</td><td>t</td><td>null</td><td>null</td><td>null</td><td>null</td><td>null</td><td>null</td><td>t</td><td>t</td><td>Rio de Janeiro, Brazil</td><td>Copacabana</td><td>null</td><td>null</td><td>-43.1909905</td><td>Entire rental unit</td><td>null</td><td>2</td><td>1.0</td><td>1 bath</td><td>1</td><td>null</td><td>null</td><td>null</td><td>null</td><td>null</td><td>null</td><td>null</td><td>null</td><td> \"\"Cleaning products\"\"</td><td> \"\"Toaster\"\"</td><td> \"\"Shared beach access\"\"</td><td> \"\"Drying rack for clothing\"\"</td><td>null</td><td> \"\"Kitchen\"\"</td><td>null</td><td>null</td><td>null</td><td>null</td><td> \"\"Free dryer \\u2013 In unit\"\"</td><td>null</td><td>null</td><td>null</td><td>null</td><td>null</td><td>null</td><td>null</td><td>null</td><td>null</td><td>null</td><td>null</td><td>null</td><td> \"\"Oven\"\"</td></tr><tr><td>990562621395144763</td><td>null</td><td>null</td><td>null</td><td>city scrape</td><td>Studio Copacabana quadra praia</td><td>\"Privileged location, beach court, 300m from the subway, lateral view of the sea. One double bed and one sofa bed, split air conditioning, ceiling fan, cable TV, wifi, 50\"\"Smart TV.<br />Lots of supermarket options</td><td>null</td><td>null</td><td> bakeries</td><td>null</td><td> parking pharmacies</td><td> currency exchange and cinema.\"</td><td>null</td><td>https://a0.muscache.com/pictures/miso/Hosting-990562621395144763/original/8acab113-0c52-44f1-8cb5-e1094547b715.jpeg</td><td>null</td><td>null</td><td>Rodrigo</td><td>2022-09-28</td><td>null</td><td>null</td><td>null</td><td>N/A</td><td>100%</td><td>null</td><td>null</td><td>null</td><td>null</td><td>null</td><td>null</td><td>['email', 'phone']</td><td>t</td><td>t</td><td>Rio de Janeiro, Brazil</td><td>Copacabana</td><td>null</td><td>-22.9779578</td><td>-43.1897961</td><td>null</td><td>Entire home/apt</td><td>4.0</td><td>1.0</td><td>1 bath</td><td>null</td><td>null</td><td>null</td><td>null</td><td>null</td><td>null</td><td>null</td><td>null</td><td> \"\"Laundromat nearby\"\"</td><td> \"\"Waterfront\"\"</td><td> \"\"Beach view\"\"</td><td> \"\"Extra pillows and blankets\"\"</td><td>null</td><td> \"\"Kitchen\"\"</td><td>null</td><td>null</td><td>null</td><td>null</td><td> \"\"Dining table\"\"</td><td>null</td><td>null</td><td>null</td><td>null</td><td>null</td><td>null</td><td>null</td><td>null</td><td>null</td><td>null</td><td>null</td><td>null</td><td> standard cable</td></tr><tr><td>987125204853926910</td><td>null</td><td>null</td><td>null</td><td>city scrape</td><td>Aconchegante Apto. no Leblon</td><td>\"Relax in this quiet, stylish, stylish space.<br />Located in a period building,  which has security and a 24-hour concierge. Just a minute away from Rua Dias Ferreira, the Metro Station and 200 meters  from Praia do Leblon.  <br /> Apartment, with about 30m2,has a Queen size bed, home office space, with 500mb internet, split air conditioning, TV50\"\"full kitchen with Cook-top</td><td>null</td><td>null</td><td> dryer and amenities.\"</td><td>null</td><td>https://a0.muscache.com/pictures/prohost-api/Hosting-987125204853926910/original/5d175e56-303b-4764-b5c8-ae0597265549.jpeg</td><td>47844127</td><td>null</td><td>João Henrique</td><td>null</td><td>null</td><td>null</td><td>within an hour</td><td>null</td><td>null</td><td>null</td><td>https://a0.muscache.com/im/pictures/user/b3bbbce4-b6a3-4c8c-99e6-dc3f1732761e.jpg?aki_policy=profile_small</td><td>https://a0.muscache.com/im/pictures/user/b3bbbce4-b6a3-4c8c-99e6-dc3f1732761e.jpg?aki_policy=profile_x_medium</td><td>null</td><td>null</td><td>null</td><td>null</td><td>null</td><td>null</td><td>Rio de Janeiro, Brazil</td><td>Leblon</td><td>null</td><td>-22.982519</td><td>-43.2231213</td><td>null</td><td>Entire home/apt</td><td>4</td><td>null</td><td>1 bath</td><td>1.0</td><td>2</td><td>\"[\"\"Essentials\"\"</td><td>null</td><td>null</td><td>null</td><td>null</td><td>null</td><td>null</td><td>null</td><td>null</td><td> \"\"Cleaning available during stay\"\"</td><td> \"\"Hot water\"\"</td><td> \"\"Microwave\"\"</td><td> \"\"Coffee maker: espresso machine\"\"</td><td>null</td><td> \"\"Smart lock\"\"</td><td>null</td><td>null</td><td>null</td><td>null</td><td> \"\"Private entrance\"\"</td><td>null</td><td>null</td><td>null</td><td>null</td><td>null</td><td>null</td><td>null</td><td>null</td><td>null</td><td>null</td><td>null</td><td>null</td><td>90</td></tr><tr><td>9865815</td><td>null</td><td>null</td><td>null</td><td>city scrape</td><td>Colorful apartment near Copacabana</td><td>Gorgeous apartment near Copacabana, full of color, light and charm! Perfect location, right between the Center of Rio (where most of the museums, cultural centers, samba bars and historical landmarks are located) and the famous Copacabana Beach.</td><td>null</td><td>null</td><td> delis</td><td>null</td><td> bars</td><td> clubs and cultural centres are helping transform Botafogo into a neighbourhood worth exploring.\"\"\"</td><td>null</td><td>2189385</td><td>null</td><td>null</td><td>2012-04-21</td><td>Brazil</td><td>null</td><td>null</td><td>null</td><td>46%</td><td>f</td><td>null</td><td>null</td><td>null</td><td>null</td><td>null</td><td>null</td><td>t</td><td>t</td><td>Rio de Janeiro, Brazil</td><td>Botafogo</td><td>null</td><td>null</td><td>-43.18926</td><td>Entire rental unit</td><td>null</td><td>6</td><td>2.5</td><td>2.5 baths</td><td>3</td><td>null</td><td>null</td><td>null</td><td>null</td><td>null</td><td>null</td><td>null</td><td>null</td><td> \"\"Wifi\"\"</td><td> \"\"Iron\"\"</td><td> \"\"Dryer\"\"</td><td> \"\"Elevator\"\"</td><td>null</td><td> \"\"Washer\"\"]\"</td><td>null</td><td>null</td><td>null</td><td>null</td><td>3</td><td>null</td><td>null</td><td>null</td><td>null</td><td>null</td><td>null</td><td>null</td><td>null</td><td>null</td><td>null</td><td>null</td><td>null</td><td>0</td></tr><tr><td>9860862</td><td>null</td><td>null</td><td>null</td><td>city scrape</td><td>Apt de 2 quartos em Copa, adequado para crianças</td><td>Beautiful 2 bedroom apartment, clear and airy. Safe area, with shops, bars and supermarkets - 2 blocks from the subway.<br /><br />*** Safe apartment for children: all windows have a safety net or grill. ***<br /><br />*** Split air conditioning and ceiling fans in living room and two bedrooms***<br /><br />The building is a 10-minute walk to the beach (between post 3 and 4 - right in the middle of Copacabana's waterfront!).</td><td>null</td><td>null</td><td> offers the visitor a quiet alternative amid the hustle and bustle of the Copa.\"</td><td>null</td><td>34828822</td><td>https://www.airbnb.com/users/show/34828822</td><td>null</td><td>2015-06-02</td><td>null</td><td>null</td><td>within an hour</td><td>100%</td><td>null</td><td>null</td><td>null</td><td>https://a0.muscache.com/im/pictures/user/afc3ba70-1058-4620-8f76-60f05324dac1.jpg?aki_policy=profile_x_medium</td><td>Copacabana</td><td>null</td><td>null</td><td>null</td><td>null</td><td>null</td><td>null</td><td>Copacabana</td><td>null</td><td>-22.96525</td><td>-43.19089</td><td>Entire rental unit</td><td>null</td><td>4</td><td>1.5</td><td>null</td><td>2</td><td>2.0</td><td>\"[\"\"Essentials\"\"</td><td> \"\"Hangers\"\"</td><td>null</td><td>null</td><td>null</td><td>null</td><td>null</td><td>null</td><td>null</td><td>null</td><td> \"\"Hot water\"\"</td><td> \"\"Lockbox\"\"</td><td> \"\"Microwave\"\"</td><td> \"\"Window guards\"\"</td><td>null</td><td> \"\"43 inch TV with Netflix\"\"</td><td>null</td><td>null</td><td>null</td><td>null</td><td> \"\"Blender\"\"</td><td>null</td><td>null</td><td>null</td><td>null</td><td>null</td><td>null</td><td>null</td><td>null</td><td>null</td><td>null</td><td>null</td><td>null</td><td>40</td></tr><tr><td>985735272390580537</td><td>null</td><td>null</td><td>null</td><td>city scrape</td><td>Lindo loft c/ banheira no Leblon</td><td>\"Enjoy an elegant stay in the heart of Leblon. Three blocks from the beach and close to the best bars and restaurants in Rio. Dias Ferreira Street and subway station are just 1min walk away. The space is 25m², with equipped kitchen, filtered water on the sink faucet, table, home office with internet 5g, 500mb, queen bed, sofa bed, closet, split air, 50\"\"smart TV</td><td>null</td><td>null</td><td>Neighborhood with a large number of bars, restaurants, shopping malls, supermarkets, cinemas, etc. It has one of the most popular beaches in Rio de Janeiro, it is quiet and safe.</td><td>null</td><td>349627222</td><td>https://www.airbnb.com/users/show/349627222</td><td>null</td><td>2020-06-11</td><td>null</td><td>null</td><td>within an hour</td><td>100%</td><td>null</td><td>null</td><td>null</td><td>https://a0.muscache.com/im/pictures/user/User-349627222/original/49f1df2f-6978-4e2e-9e51-7f256c07b44e.jpeg?aki_policy=profile_x_medium</td><td>Leblon</td><td>null</td><td>null</td><td>null</td><td>null</td><td>null</td><td>null</td><td>Leblon</td><td>null</td><td>-22.982519</td><td>-43.2231213</td><td>Entire rental unit</td><td>null</td><td>4</td><td>1.0</td><td>null</td><td>1</td><td>2.0</td><td>\"[\"\"Kitchen\"\"</td><td> \"\"Dishes and silverware\"\"</td><td>null</td><td>null</td><td>null</td><td>null</td><td>null</td><td>null</td><td>null</td><td>null</td><td> \"\"Wifi\"\"</td><td> \"\"Paid parking off premises\"\"</td><td> \"\"Luggage dropoff allowed\"\"]\"</td><td>$421.00</td><td>null</td><td>90</td><td>null</td><td>null</td><td>null</td><td>null</td><td>1.5</td><td>null</td><td>null</td><td>null</td><td>null</td><td>null</td><td>null</td><td>null</td><td>null</td><td>null</td><td>null</td><td>null</td><td>null</td><td>2024-06-23</td></tr><tr><td>984703140884760778</td><td>null</td><td>null</td><td>null</td><td>city scrape</td><td>Ótimo apartamento próx a praia.</td><td>\"Recently renewed, this 2 bedroom apartment is located in Copacabana, at Posto 5, one block from the beach, 5 minutes walking from the metro station - \"\"General Osório\"\"- exit D. It is close to bars</td><td>null</td><td>null</td><td> supermarkets</td><td>null</td><td> gyms and other stores. Close to the main avenues</td><td> where you can easily take transport to all other places in the city of Rio de Janeiro.\"</td><td>null</td><td>https://a0.muscache.com/pictures/hosting/Hosting-984703140884760778/original/48295bb6-c433-453c-915a-873198107ecd.jpeg</td><td>null</td><td>null</td><td>Cássio</td><td>2017-02-23</td><td>null</td><td>null</td><td>null</td><td>80%</td><td>62%</td><td>null</td><td>null</td><td>null</td><td>null</td><td>null</td><td>null</td><td>['email', 'phone']</td><td>t</td><td>t</td><td>null</td><td>Copacabana</td><td>null</td><td>-22.9807236</td><td>-43.1912274</td><td>null</td><td>Entire home/apt</td><td>6.0</td><td>1.0</td><td>1 bath</td><td>null</td><td>null</td><td>null</td><td>null</td><td>null</td><td>null</td><td>null</td><td>null</td><td> \"\"Wifi\"\"</td><td> \"\"Self check-in\"\"</td><td> \"\"Smart lock\"\"</td><td> \"\"Washer\"\"]\"</td><td>null</td><td>1</td><td>null</td><td>null</td><td>null</td><td>null</td><td>365</td><td>null</td><td>null</td><td>null</td><td>null</td><td>null</td><td>null</td><td>null</td><td>null</td><td>null</td><td>null</td><td>null</td><td>null</td><td>2023-09-29</td></tr><tr><td>980039868559823375</td><td>null</td><td>null</td><td>null</td><td>city scrape</td><td>JdC911 - Excelente Mono-ambiente En Copa</td><td>\"Excellent apartment to come to enjoy at any time of year. Comfortable, complete, bright, and excellent location. <br />It has a double bed and a sofa bed. Accommodating 3 people. Full kitchen, with refrigerator, microwave, coffee maker, blender, sandwiches. Kitchen 2 mouths.<br />1 bathroom. <br />It has 32\"\"TV</td><td>null</td><td>null</td><td>null</td><td>null</td><td>514115445</td><td>https://www.airbnb.com/users/show/514115445</td><td>null</td><td>2023-05-10</td><td>null</td><td>null</td><td>within an hour</td><td>100%</td><td>null</td><td>null</td><td>null</td><td>https://a0.muscache.com/im/pictures/user/bf02f568-e679-42f2-9663-3b361f039ed0.jpg?aki_policy=profile_x_medium</td><td>Copacabana</td><td>null</td><td>null</td><td>null</td><td>null</td><td>null</td><td>null</td><td>Copacabana</td><td>null</td><td>-22.9841247</td><td>-43.19088420000001</td><td>Entire rental unit</td><td>null</td><td>4</td><td>1.0</td><td>null</td><td>1</td><td>1.0</td><td>\"[\"\"Essentials\"\"</td><td> \"\"Air conditioning\"\"</td><td>null</td><td>null</td><td>null</td><td>null</td><td>null</td><td>null</td><td>null</td><td>null</td><td> \"\"Dining table\"\"</td><td> \"\"Clothing storage: wardrobe\"\"</td><td> \"\"Hot water\"\"</td><td> \"\"Microwave\"\"</td><td>null</td><td> \"\"Bed linens\"\"</td><td>null</td><td>null</td><td>null</td><td>null</td><td> \"\"Room-darkening shades\"\"</td><td>null</td><td>null</td><td>null</td><td>null</td><td>null</td><td>null</td><td>null</td><td>null</td><td>null</td><td>null</td><td>null</td><td>null</td><td>null</td></tr><tr><td>979573547133378638</td><td>null</td><td>null</td><td>null</td><td>city scrape</td><td>Apartamento de hóspedes</td><td>Conjugated apartment, divided into bedroom and living room. Floor high, clear, airy, front. Strategic location, post 5, close to all commerce, 10 min from the beach, the metro and the beach of Ipanema.<br />Schedule your visit! obs: cleaning fee 200$</td><td>null</td><td>null</td><td>489121308</td><td>null</td><td>Sonia</td><td>2022-11-25</td><td>null</td><td>null</td><td>null</td><td>null</td><td>100%</td><td>f</td><td>null</td><td>null</td><td>null</td><td>1</td><td>1</td><td>null</td><td>null</td><td>null</td><td>null</td><td>null</td><td>null</td><td>-22.92266865928188</td><td>-43.1762112830792</td><td>Entire guesthouse</td><td>Entire home/apt</td><td>2</td><td>null</td><td>1 bath</td><td>1</td><td>null</td><td>[]</td><td>120.0</td><td>1</td><td>365</td><td>null</td><td>null</td><td>null</td><td>null</td><td>null</td><td>null</td><td>null</td><td>null</td><td>29</td><td>59</td><td>85</td><td>265</td><td>null</td><td>0</td><td>null</td><td>null</td><td>null</td><td>null</td><td>null</td><td>null</td><td>null</td><td>null</td><td>null</td><td>null</td><td>null</td><td>null</td><td>null</td><td>null</td><td>null</td><td>null</td><td>null</td><td>null</td></tr><tr><td>9775007</td><td>null</td><td>null</td><td>null</td><td>city scrape</td><td>Vanessa's Room Casa S</td><td>null</td><td>null</td><td>null</td><td> the view reaches the entire stretch of shores of the South and West Zone of Rio de Janeiro.<br /><br />At the top of the \"\"Pedra Bonita\"\" is the free flight takeoff ramp. A 20-minute trail takes tourists up to an exceptional viewpoint on the sea shore of São Conrado.<br /><br />The view from the house is breathtaking ... and reaches the tops of the Tijuca National Park covered in subtropical forest (Atlantic Forest)<br /><br />The house is separated from the Gávea Golf Club only by a small mountain creek with clear sound of running water and intense animal life. From the house</td><td>null</td><td>https://a0.muscache.com/pictures/8995f2ca-e1fc-4a76-95b2-a7c113e10ce3.jpg</td><td>2163079</td><td>null</td><td>Stanislas</td><td>null</td><td>null</td><td>I am 69 years old, was born in Paris France, lived 20 years in Germany where I founded a family  and worked for various companies of the sector of industrial machinery and in these functions I traveled quite considerably  around the world. I have been spending the last 25 years in Brazil leading the daughter company of an European group and later as an independent salesman representing North American companies. I speak English, French, German, Spanish and Portuguese, enjoy very much contacts and to get the visit of foreign travelers in my house of São Conrado in Rio de Janeiro. I turned a great fan of Brazil and like to chat with my guests about what I know about it, passing on to them the marking cultural places that I visited and my experiences with typical bars, restaurants, museums and beaches of Rio. I bought this big house 21 years ago and transformed it progressively according to my taste to  the comfortable place it is today  and it grew to be my delight and hobby ... I like people to feel at ease there just like I do myself and feel happy when they return home with nice remembrances of their stay ... </td><td>within a few hours</td><td>null</td><td>null</td><td>null</td><td>https://a0.muscache.com/im/users/2163079/profile_pic/1334697434/original.jpg?aki_policy=profile_small</td><td>https://a0.muscache.com/im/users/2163079/profile_pic/1334697434/original.jpg?aki_policy=profile_x_medium</td><td>null</td><td>null</td><td>null</td><td>null</td><td>null</td><td>null</td><td>Rio de Janeiro, Brazil</td><td>São Conrado</td><td>null</td><td>-22.99693</td><td>-43.27019</td><td>null</td><td>Private room</td><td>4</td><td>null</td><td>1 shared bath</td><td>2.0</td><td>3</td><td>\"[\"\"Essentials\"\"</td><td>null</td><td>null</td><td>null</td><td>null</td><td>null</td><td>null</td><td>null</td><td>null</td><td> \"\"Microwave\"\"</td><td> \"\"Luggage dropoff allowed\"\"</td><td> \"\"Coffee maker\"\"</td><td> \"\"Bed linens\"\"</td><td>null</td><td> \"\"Dishwasher\"\"</td><td>null</td><td>null</td><td>null</td><td>null</td><td> \"\"Stove\"\"</td><td>null</td><td>null</td><td>null</td><td>null</td><td>null</td><td>null</td><td>null</td><td>null</td><td>null</td><td>null</td><td>null</td><td>null</td><td>1.0</td></tr><tr><td>975627015046758315</td><td>null</td><td>null</td><td>null</td><td>city scrape</td><td>Boutique Ocean | Copacabana Exclusive Suite</td><td>\"Relax in this unique place!<br /><br />We are steps from Copacabana Beach, 2 minutes to the charming Arpoador and 3 minutes to the famous Ipanema.<br /><br />Great apartment, spacious bathroom, WiFi 250M, 40\"\"TV</td><td>null</td><td>null</td><td> comfortable bed.<br /><br />Illuminated and airy village near points of interest</td><td>null</td><td> transportation</td><td> restaurants and entertainment.\"</td><td>null</td><td>https://a0.muscache.com/pictures/miso/Hosting-975627015046758315/original/7b2e0825-11df-4e4e-983f-6fdc196d2e62.jpeg</td><td>null</td><td>null</td><td>Pedro</td><td>2022-12-05</td><td>null</td><td>null</td><td>null</td><td>99%</td><td>99%</td><td>null</td><td>null</td><td>null</td><td>null</td><td>null</td><td>null</td><td>['email', 'phone']</td><td>t</td><td>t</td><td>null</td><td>Copacabana</td><td>null</td><td>-22.98396</td><td>-43.18976</td><td>null</td><td>Entire home/apt</td><td>2.0</td><td>1.0</td><td>1 bath</td><td>null</td><td>null</td><td>null</td><td>null</td><td>null</td><td>null</td><td>null</td><td>null</td><td> \"\"Cleaning products\"\"</td><td> \"\"Toaster\"\"</td><td> \"\"Drying rack for clothing\"\"</td><td> \"\"Kitchen\"\"</td><td>null</td><td> \"\"Dishes and silverware\"\"</td><td>null</td><td>null</td><td>null</td><td>null</td><td> \"\"Trash compactor\"\"</td><td>null</td><td>null</td><td>null</td><td>null</td><td>null</td><td>null</td><td>null</td><td>null</td><td>null</td><td>null</td><td>null</td><td>null</td><td> \"\"Free street parking\"\"</td></tr><tr><td>975234392091421680</td><td>null</td><td>null</td><td>null</td><td>city scrape</td><td>Classic_Copacabana 3min da Praia e do Metrô</td><td>Enjoy easy access to the beach, metro and diverse commerce.<br />Absolutely anything you need you will find in the vicinity of this well-located home.<br />We are in the heart of Copacabana, one of the most famous neighborhoods in the world.</td><td>null</td><td>null</td><td>364756113</td><td>null</td><td>Vivian</td><td>2020-08-27</td><td>null</td><td>\"Me intitulei \"\"Aspirante a viajante\"\"</td><td>null</td><td>null</td><td> Itália</td><td> Marrocos</td><td>null</td><td>null</td><td>null</td><td>100%</td><td>100%</td><td>null</td><td>null</td><td>null</td><td>null</td><td>null</td><td>null</td><td>['email', 'phone']</td><td>t</td><td>t</td><td>Rio de Janeiro, Brazil</td><td>Copacabana</td><td>null</td><td>-22.9690417</td><td>-43.1866967</td><td>null</td><td>Entire home/apt</td><td>4.0</td><td>1.0</td><td>1 bath</td><td>null</td><td>null</td><td>null</td><td>null</td><td>null</td><td>null</td><td>null</td><td>null</td><td> \"\"Pets allowed\"\"</td><td> \"\"AC - split type ductless system\"\"</td><td> \"\"Elevator\"\"</td><td> \"\"Cooking basics\"\"</td><td>null</td><td> \"\"Hair dryer\"\"</td><td>null</td><td>null</td><td>null</td><td>null</td><td> \"\"Portable fans\"\"</td><td>null</td><td>null</td><td>null</td><td>null</td><td>null</td><td>null</td><td>null</td><td>null</td><td>null</td><td>null</td><td>null</td><td>null</td><td>t</td></tr></tbody></table></div>"
      ]
     },
     "metadata": {
      "application/vnd.databricks.v1+output": {
       "addedWidgets": {},
       "aggData": [],
       "aggError": "",
       "aggOverflow": false,
       "aggSchema": [],
       "aggSeriesLimitReached": false,
       "aggType": "",
       "arguments": {},
       "columnCustomDisplayInfos": {},
       "data": [
        [
         "994790444818218324",
         null,
         null,
         null,
         "city scrape",
         "Best Rio stay  Riocentro",
         "You will have a great time in this comfortable place to stay.",
         null,
         null,
         "167472593",
         null,
         "Rio Stay Residence",
         "2018-01-13",
         null,
         "Gosto de recepcionar os hóspedes pessoalmente para mostrar o ambiente e as facilidades , como também para combinar os horários de check-in e check-out. Meu (Hidden by Airbnb) é (Phone number hidden by Airbnb)",
         null,
         null,
         "90%",
         "f",
         null,
         null,
         null,
         "26",
         "32",
         null,
         null,
         null,
         null,
         null,
         null,
         "-22.9752762",
         "-43.4144449",
         "Entire rental unit",
         "Entire home/apt",
         "2",
         null,
         "1 bath",
         "1",
         null,
         "\"[\"\"Exterior security cameras on property\"\"]\"",
         105.0,
         "4",
         "365",
         null,
         null,
         null,
         null,
         null,
         null,
         null,
         null,
         "30",
         "56",
         "61",
         "61",
         null,
         "0",
         null,
         null,
         null,
         null,
         null,
         null,
         null,
         null,
         null,
         null,
         null,
         null,
         null,
         null,
         null,
         null,
         null,
         null
        ],
        [
         "993353591734832785",
         null,
         null,
         null,
         "city scrape",
         "Comfort in Copa | one block from the beach",
         "\"This is your vacation home or home office in Copacabana!<br />Fully equipped apartment with bedroom, living room and exclusive space for home office. The apartment has a dishwasher, microwave, fully equipped kitchen, washer and dryer, 58\"\" 4k smartTV in the living room",
         null,
         null,
         "The Copacabana neighborhood offers all amenities for guests, with easy access to public transportation, supermarkets, pharmacies, bars and restaurants. Easy access on foot to Copacabana and Leme beaches.",
         null,
         "223622706",
         "https://www.airbnb.com/users/show/223622706",
         null,
         "2018-11-01",
         null,
         null,
         "within an hour",
         "100%",
         null,
         null,
         null,
         "https://a0.muscache.com/im/pictures/user/5fe73e31-a777-4d0e-a9f1-9243074631b6.jpg?aki_policy=profile_x_medium",
         "Copacabana",
         null,
         null,
         null,
         null,
         null,
         null,
         "Copacabana",
         null,
         "-22.96375285877727",
         "-43.17598034723627",
         "Entire rental unit",
         null,
         "4",
         "1.0",
         null,
         "1",
         2.0,
         "\"[\"\"Essentials\"\"",
         " \"\"Wine glasses\"\"",
         null,
         null,
         null,
         null,
         null,
         null,
         null,
         null,
         " \"\"Refrigerator\"\"",
         " \"\"Gas stove\"\"",
         " \"\"Dishes and silverware\"\"",
         " \"\"Free dryer \\u2013 In unit\"\"",
         null,
         " \"\"Hot water\"\"",
         null,
         null,
         null,
         null,
         " \"\"Dedicated workspace\"\"",
         null,
         null,
         null,
         null,
         null,
         null,
         null,
         null,
         null,
         null,
         null,
         null,
         "4"
        ],
        [
         "993004389062744726",
         null,
         null,
         null,
         "city scrape",
         "Apartamento de 3 quartos em Copacabana",
         "\"You will be close to everything you need to have a great stay. Very close to markets, restaurants, bars and pharmacies that open 24 hours a day. Just 3 min walking to the Copacabana beach and 5 min walking to the underground station \"\"Cantagalo\"\".<br /><br />Here you enjoy a privileged location",
         null,
         null,
         " which when put together are also a double bed.\"",
         null,
         "https://a0.muscache.com/pictures/hosting/Hosting-U3RheVN1cHBseUxpc3Rpbmc6OTkzMDA0Mzg5MDYyNzQ0NzI2/original/0c41a630-d0b3-4b05-a5b0-1c68f29a5821.jpeg",
         "169784036",
         null,
         "Victor",
         null,
         null,
         null,
         "within an hour",
         null,
         null,
         null,
         "https://a0.muscache.com/im/pictures/user/02a41a47-a146-442b-b875-31170a33ccb2.jpg?aki_policy=profile_small",
         "https://a0.muscache.com/im/pictures/user/02a41a47-a146-442b-b875-31170a33ccb2.jpg?aki_policy=profile_x_medium",
         null,
         null,
         null,
         null,
         null,
         null,
         "Rio de Janeiro, Brazil",
         "Copacabana",
         null,
         "-22.9762824",
         "-43.1890198",
         null,
         "Entire home/apt",
         "6",
         null,
         "2 baths",
         3.0,
         "4",
         "\"[\"\"Essentials\"\"",
         null,
         null,
         null,
         null,
         null,
         null,
         null,
         null,
         " \"\"Kitchen\"\"",
         " \"\"Refrigerator\"\"",
         " \"\"Gas stove\"\"",
         " \"\"Dishes and silverware\"\"",
         null,
         " \"\"Dining table\"\"",
         null,
         null,
         null,
         null,
         " \"\"Elevator\"\"",
         null,
         null,
         null,
         null,
         null,
         null,
         null,
         null,
         null,
         null,
         null,
         null,
         "$310.00"
        ],
        [
         "990585351178981086",
         null,
         null,
         null,
         "city scrape",
         "Copacabana Apartment Near the Beach",
         "\"01 bedroom apartment at the heart of Copacabana. Wifi 250 Mbps<br /><br />We call it \"\"The Second City Apartment\"\"",
         null,
         null,
         " bars",
         null,
         " grocery stores... You name it and we have it! Surrounded by two subway stations and multiple other forms of transportation.<br /><br />Building with 24h concierge and apartment with self check-in.\"",
         "The rowdy Copacabana is one of the most traditional and old areas from Rio de Janeiro. This neighbourhood is a blend of Brazilian soul - crowded, rowdy and traditional. This neighbourhood has a bit of everything: bars with music, pubs, street fairs, chaotic streets, and many shops. All these things and more live side-by-side. There are options for all price points and tastes. However, the most powerful draw in Copacabana is still the fantastic view of the coast and the incredible beaches.",
         null,
         "121059359",
         null,
         null,
         "2017-03-16",
         "Chicago, IL",
         null,
         null,
         null,
         "100%",
         "t",
         null,
         null,
         null,
         null,
         null,
         null,
         "t",
         "t",
         "Rio de Janeiro, Brazil",
         "Copacabana",
         null,
         null,
         "-43.1909905",
         "Entire rental unit",
         null,
         "2",
         1.0,
         "1 bath",
         "1",
         null,
         null,
         null,
         null,
         null,
         null,
         null,
         null,
         " \"\"Cleaning products\"\"",
         " \"\"Toaster\"\"",
         " \"\"Shared beach access\"\"",
         " \"\"Drying rack for clothing\"\"",
         null,
         " \"\"Kitchen\"\"",
         null,
         null,
         null,
         null,
         " \"\"Free dryer \\u2013 In unit\"\"",
         null,
         null,
         null,
         null,
         null,
         null,
         null,
         null,
         null,
         null,
         null,
         null,
         " \"\"Oven\"\""
        ],
        [
         "990562621395144763",
         null,
         null,
         null,
         "city scrape",
         "Studio Copacabana quadra praia",
         "\"Privileged location, beach court, 300m from the subway, lateral view of the sea. One double bed and one sofa bed, split air conditioning, ceiling fan, cable TV, wifi, 50\"\"Smart TV.<br />Lots of supermarket options",
         null,
         null,
         " bakeries",
         null,
         " parking pharmacies",
         " currency exchange and cinema.\"",
         null,
         "https://a0.muscache.com/pictures/miso/Hosting-990562621395144763/original/8acab113-0c52-44f1-8cb5-e1094547b715.jpeg",
         null,
         null,
         "Rodrigo",
         "2022-09-28",
         null,
         null,
         null,
         "N/A",
         "100%",
         null,
         null,
         null,
         null,
         null,
         null,
         "['email', 'phone']",
         "t",
         "t",
         "Rio de Janeiro, Brazil",
         "Copacabana",
         null,
         "-22.9779578",
         "-43.1897961",
         null,
         "Entire home/apt",
         4.0,
         "1.0",
         "1 bath",
         null,
         null,
         null,
         null,
         null,
         null,
         null,
         null,
         " \"\"Laundromat nearby\"\"",
         " \"\"Waterfront\"\"",
         " \"\"Beach view\"\"",
         " \"\"Extra pillows and blankets\"\"",
         null,
         " \"\"Kitchen\"\"",
         null,
         null,
         null,
         null,
         " \"\"Dining table\"\"",
         null,
         null,
         null,
         null,
         null,
         null,
         null,
         null,
         null,
         null,
         null,
         null,
         " standard cable"
        ],
        [
         "987125204853926910",
         null,
         null,
         null,
         "city scrape",
         "Aconchegante Apto. no Leblon",
         "\"Relax in this quiet, stylish, stylish space.<br />Located in a period building,  which has security and a 24-hour concierge. Just a minute away from Rua Dias Ferreira, the Metro Station and 200 meters  from Praia do Leblon.  <br /> Apartment, with about 30m2,has a Queen size bed, home office space, with 500mb internet, split air conditioning, TV50\"\"full kitchen with Cook-top",
         null,
         null,
         " dryer and amenities.\"",
         null,
         "https://a0.muscache.com/pictures/prohost-api/Hosting-987125204853926910/original/5d175e56-303b-4764-b5c8-ae0597265549.jpeg",
         "47844127",
         null,
         "João Henrique",
         null,
         null,
         null,
         "within an hour",
         null,
         null,
         null,
         "https://a0.muscache.com/im/pictures/user/b3bbbce4-b6a3-4c8c-99e6-dc3f1732761e.jpg?aki_policy=profile_small",
         "https://a0.muscache.com/im/pictures/user/b3bbbce4-b6a3-4c8c-99e6-dc3f1732761e.jpg?aki_policy=profile_x_medium",
         null,
         null,
         null,
         null,
         null,
         null,
         "Rio de Janeiro, Brazil",
         "Leblon",
         null,
         "-22.982519",
         "-43.2231213",
         null,
         "Entire home/apt",
         "4",
         null,
         "1 bath",
         1.0,
         "2",
         "\"[\"\"Essentials\"\"",
         null,
         null,
         null,
         null,
         null,
         null,
         null,
         null,
         " \"\"Cleaning available during stay\"\"",
         " \"\"Hot water\"\"",
         " \"\"Microwave\"\"",
         " \"\"Coffee maker: espresso machine\"\"",
         null,
         " \"\"Smart lock\"\"",
         null,
         null,
         null,
         null,
         " \"\"Private entrance\"\"",
         null,
         null,
         null,
         null,
         null,
         null,
         null,
         null,
         null,
         null,
         null,
         null,
         "90"
        ],
        [
         "9865815",
         null,
         null,
         null,
         "city scrape",
         "Colorful apartment near Copacabana",
         "Gorgeous apartment near Copacabana, full of color, light and charm! Perfect location, right between the Center of Rio (where most of the museums, cultural centers, samba bars and historical landmarks are located) and the famous Copacabana Beach.",
         null,
         null,
         " delis",
         null,
         " bars",
         " clubs and cultural centres are helping transform Botafogo into a neighbourhood worth exploring.\"\"\"",
         null,
         "2189385",
         null,
         null,
         "2012-04-21",
         "Brazil",
         null,
         null,
         null,
         "46%",
         "f",
         null,
         null,
         null,
         null,
         null,
         null,
         "t",
         "t",
         "Rio de Janeiro, Brazil",
         "Botafogo",
         null,
         null,
         "-43.18926",
         "Entire rental unit",
         null,
         "6",
         2.5,
         "2.5 baths",
         "3",
         null,
         null,
         null,
         null,
         null,
         null,
         null,
         null,
         " \"\"Wifi\"\"",
         " \"\"Iron\"\"",
         " \"\"Dryer\"\"",
         " \"\"Elevator\"\"",
         null,
         " \"\"Washer\"\"]\"",
         null,
         null,
         null,
         null,
         "3",
         null,
         null,
         null,
         null,
         null,
         null,
         null,
         null,
         null,
         null,
         null,
         null,
         "0"
        ],
        [
         "9860862",
         null,
         null,
         null,
         "city scrape",
         "Apt de 2 quartos em Copa, adequado para crianças",
         "Beautiful 2 bedroom apartment, clear and airy. Safe area, with shops, bars and supermarkets - 2 blocks from the subway.<br /><br />*** Safe apartment for children: all windows have a safety net or grill. ***<br /><br />*** Split air conditioning and ceiling fans in living room and two bedrooms***<br /><br />The building is a 10-minute walk to the beach (between post 3 and 4 - right in the middle of Copacabana's waterfront!).",
         null,
         null,
         " offers the visitor a quiet alternative amid the hustle and bustle of the Copa.\"",
         null,
         "34828822",
         "https://www.airbnb.com/users/show/34828822",
         null,
         "2015-06-02",
         null,
         null,
         "within an hour",
         "100%",
         null,
         null,
         null,
         "https://a0.muscache.com/im/pictures/user/afc3ba70-1058-4620-8f76-60f05324dac1.jpg?aki_policy=profile_x_medium",
         "Copacabana",
         null,
         null,
         null,
         null,
         null,
         null,
         "Copacabana",
         null,
         "-22.96525",
         "-43.19089",
         "Entire rental unit",
         null,
         "4",
         "1.5",
         null,
         "2",
         2.0,
         "\"[\"\"Essentials\"\"",
         " \"\"Hangers\"\"",
         null,
         null,
         null,
         null,
         null,
         null,
         null,
         null,
         " \"\"Hot water\"\"",
         " \"\"Lockbox\"\"",
         " \"\"Microwave\"\"",
         " \"\"Window guards\"\"",
         null,
         " \"\"43 inch TV with Netflix\"\"",
         null,
         null,
         null,
         null,
         " \"\"Blender\"\"",
         null,
         null,
         null,
         null,
         null,
         null,
         null,
         null,
         null,
         null,
         null,
         null,
         "40"
        ],
        [
         "985735272390580537",
         null,
         null,
         null,
         "city scrape",
         "Lindo loft c/ banheira no Leblon",
         "\"Enjoy an elegant stay in the heart of Leblon. Three blocks from the beach and close to the best bars and restaurants in Rio. Dias Ferreira Street and subway station are just 1min walk away. The space is 25m², with equipped kitchen, filtered water on the sink faucet, table, home office with internet 5g, 500mb, queen bed, sofa bed, closet, split air, 50\"\"smart TV",
         null,
         null,
         "Neighborhood with a large number of bars, restaurants, shopping malls, supermarkets, cinemas, etc. It has one of the most popular beaches in Rio de Janeiro, it is quiet and safe.",
         null,
         "349627222",
         "https://www.airbnb.com/users/show/349627222",
         null,
         "2020-06-11",
         null,
         null,
         "within an hour",
         "100%",
         null,
         null,
         null,
         "https://a0.muscache.com/im/pictures/user/User-349627222/original/49f1df2f-6978-4e2e-9e51-7f256c07b44e.jpeg?aki_policy=profile_x_medium",
         "Leblon",
         null,
         null,
         null,
         null,
         null,
         null,
         "Leblon",
         null,
         "-22.982519",
         "-43.2231213",
         "Entire rental unit",
         null,
         "4",
         "1.0",
         null,
         "1",
         2.0,
         "\"[\"\"Kitchen\"\"",
         " \"\"Dishes and silverware\"\"",
         null,
         null,
         null,
         null,
         null,
         null,
         null,
         null,
         " \"\"Wifi\"\"",
         " \"\"Paid parking off premises\"\"",
         " \"\"Luggage dropoff allowed\"\"]\"",
         "$421.00",
         null,
         "90",
         null,
         null,
         null,
         null,
         "1.5",
         null,
         null,
         null,
         null,
         null,
         null,
         null,
         null,
         null,
         null,
         null,
         null,
         "2024-06-23"
        ],
        [
         "984703140884760778",
         null,
         null,
         null,
         "city scrape",
         "Ótimo apartamento próx a praia.",
         "\"Recently renewed, this 2 bedroom apartment is located in Copacabana, at Posto 5, one block from the beach, 5 minutes walking from the metro station - \"\"General Osório\"\"- exit D. It is close to bars",
         null,
         null,
         " supermarkets",
         null,
         " gyms and other stores. Close to the main avenues",
         " where you can easily take transport to all other places in the city of Rio de Janeiro.\"",
         null,
         "https://a0.muscache.com/pictures/hosting/Hosting-984703140884760778/original/48295bb6-c433-453c-915a-873198107ecd.jpeg",
         null,
         null,
         "Cássio",
         "2017-02-23",
         null,
         null,
         null,
         "80%",
         "62%",
         null,
         null,
         null,
         null,
         null,
         null,
         "['email', 'phone']",
         "t",
         "t",
         null,
         "Copacabana",
         null,
         "-22.9807236",
         "-43.1912274",
         null,
         "Entire home/apt",
         6.0,
         "1.0",
         "1 bath",
         null,
         null,
         null,
         null,
         null,
         null,
         null,
         null,
         " \"\"Wifi\"\"",
         " \"\"Self check-in\"\"",
         " \"\"Smart lock\"\"",
         " \"\"Washer\"\"]\"",
         null,
         "1",
         null,
         null,
         null,
         null,
         "365",
         null,
         null,
         null,
         null,
         null,
         null,
         null,
         null,
         null,
         null,
         null,
         null,
         "2023-09-29"
        ],
        [
         "980039868559823375",
         null,
         null,
         null,
         "city scrape",
         "JdC911 - Excelente Mono-ambiente En Copa",
         "\"Excellent apartment to come to enjoy at any time of year. Comfortable, complete, bright, and excellent location. <br />It has a double bed and a sofa bed. Accommodating 3 people. Full kitchen, with refrigerator, microwave, coffee maker, blender, sandwiches. Kitchen 2 mouths.<br />1 bathroom. <br />It has 32\"\"TV",
         null,
         null,
         null,
         null,
         "514115445",
         "https://www.airbnb.com/users/show/514115445",
         null,
         "2023-05-10",
         null,
         null,
         "within an hour",
         "100%",
         null,
         null,
         null,
         "https://a0.muscache.com/im/pictures/user/bf02f568-e679-42f2-9663-3b361f039ed0.jpg?aki_policy=profile_x_medium",
         "Copacabana",
         null,
         null,
         null,
         null,
         null,
         null,
         "Copacabana",
         null,
         "-22.9841247",
         "-43.19088420000001",
         "Entire rental unit",
         null,
         "4",
         "1.0",
         null,
         "1",
         1.0,
         "\"[\"\"Essentials\"\"",
         " \"\"Air conditioning\"\"",
         null,
         null,
         null,
         null,
         null,
         null,
         null,
         null,
         " \"\"Dining table\"\"",
         " \"\"Clothing storage: wardrobe\"\"",
         " \"\"Hot water\"\"",
         " \"\"Microwave\"\"",
         null,
         " \"\"Bed linens\"\"",
         null,
         null,
         null,
         null,
         " \"\"Room-darkening shades\"\"",
         null,
         null,
         null,
         null,
         null,
         null,
         null,
         null,
         null,
         null,
         null,
         null,
         null
        ],
        [
         "979573547133378638",
         null,
         null,
         null,
         "city scrape",
         "Apartamento de hóspedes",
         "Conjugated apartment, divided into bedroom and living room. Floor high, clear, airy, front. Strategic location, post 5, close to all commerce, 10 min from the beach, the metro and the beach of Ipanema.<br />Schedule your visit! obs: cleaning fee 200$",
         null,
         null,
         "489121308",
         null,
         "Sonia",
         "2022-11-25",
         null,
         null,
         null,
         null,
         "100%",
         "f",
         null,
         null,
         null,
         "1",
         "1",
         null,
         null,
         null,
         null,
         null,
         null,
         "-22.92266865928188",
         "-43.1762112830792",
         "Entire guesthouse",
         "Entire home/apt",
         "2",
         null,
         "1 bath",
         "1",
         null,
         "[]",
         120.0,
         "1",
         "365",
         null,
         null,
         null,
         null,
         null,
         null,
         null,
         null,
         "29",
         "59",
         "85",
         "265",
         null,
         "0",
         null,
         null,
         null,
         null,
         null,
         null,
         null,
         null,
         null,
         null,
         null,
         null,
         null,
         null,
         null,
         null,
         null,
         null
        ],
        [
         "9775007",
         null,
         null,
         null,
         "city scrape",
         "Vanessa's Room Casa S",
         null,
         null,
         null,
         " the view reaches the entire stretch of shores of the South and West Zone of Rio de Janeiro.<br /><br />At the top of the \"\"Pedra Bonita\"\" is the free flight takeoff ramp. A 20-minute trail takes tourists up to an exceptional viewpoint on the sea shore of São Conrado.<br /><br />The view from the house is breathtaking ... and reaches the tops of the Tijuca National Park covered in subtropical forest (Atlantic Forest)<br /><br />The house is separated from the Gávea Golf Club only by a small mountain creek with clear sound of running water and intense animal life. From the house",
         null,
         "https://a0.muscache.com/pictures/8995f2ca-e1fc-4a76-95b2-a7c113e10ce3.jpg",
         "2163079",
         null,
         "Stanislas",
         null,
         null,
         "I am 69 years old, was born in Paris France, lived 20 years in Germany where I founded a family  and worked for various companies of the sector of industrial machinery and in these functions I traveled quite considerably  around the world. I have been spending the last 25 years in Brazil leading the daughter company of an European group and later as an independent salesman representing North American companies. I speak English, French, German, Spanish and Portuguese, enjoy very much contacts and to get the visit of foreign travelers in my house of São Conrado in Rio de Janeiro. I turned a great fan of Brazil and like to chat with my guests about what I know about it, passing on to them the marking cultural places that I visited and my experiences with typical bars, restaurants, museums and beaches of Rio. I bought this big house 21 years ago and transformed it progressively according to my taste to  the comfortable place it is today  and it grew to be my delight and hobby ... I like people to feel at ease there just like I do myself and feel happy when they return home with nice remembrances of their stay ... ",
         "within a few hours",
         null,
         null,
         null,
         "https://a0.muscache.com/im/users/2163079/profile_pic/1334697434/original.jpg?aki_policy=profile_small",
         "https://a0.muscache.com/im/users/2163079/profile_pic/1334697434/original.jpg?aki_policy=profile_x_medium",
         null,
         null,
         null,
         null,
         null,
         null,
         "Rio de Janeiro, Brazil",
         "São Conrado",
         null,
         "-22.99693",
         "-43.27019",
         null,
         "Private room",
         "4",
         null,
         "1 shared bath",
         2.0,
         "3",
         "\"[\"\"Essentials\"\"",
         null,
         null,
         null,
         null,
         null,
         null,
         null,
         null,
         " \"\"Microwave\"\"",
         " \"\"Luggage dropoff allowed\"\"",
         " \"\"Coffee maker\"\"",
         " \"\"Bed linens\"\"",
         null,
         " \"\"Dishwasher\"\"",
         null,
         null,
         null,
         null,
         " \"\"Stove\"\"",
         null,
         null,
         null,
         null,
         null,
         null,
         null,
         null,
         null,
         null,
         null,
         null,
         "1.0"
        ],
        [
         "975627015046758315",
         null,
         null,
         null,
         "city scrape",
         "Boutique Ocean | Copacabana Exclusive Suite",
         "\"Relax in this unique place!<br /><br />We are steps from Copacabana Beach, 2 minutes to the charming Arpoador and 3 minutes to the famous Ipanema.<br /><br />Great apartment, spacious bathroom, WiFi 250M, 40\"\"TV",
         null,
         null,
         " comfortable bed.<br /><br />Illuminated and airy village near points of interest",
         null,
         " transportation",
         " restaurants and entertainment.\"",
         null,
         "https://a0.muscache.com/pictures/miso/Hosting-975627015046758315/original/7b2e0825-11df-4e4e-983f-6fdc196d2e62.jpeg",
         null,
         null,
         "Pedro",
         "2022-12-05",
         null,
         null,
         null,
         "99%",
         "99%",
         null,
         null,
         null,
         null,
         null,
         null,
         "['email', 'phone']",
         "t",
         "t",
         null,
         "Copacabana",
         null,
         "-22.98396",
         "-43.18976",
         null,
         "Entire home/apt",
         2.0,
         "1.0",
         "1 bath",
         null,
         null,
         null,
         null,
         null,
         null,
         null,
         null,
         " \"\"Cleaning products\"\"",
         " \"\"Toaster\"\"",
         " \"\"Drying rack for clothing\"\"",
         " \"\"Kitchen\"\"",
         null,
         " \"\"Dishes and silverware\"\"",
         null,
         null,
         null,
         null,
         " \"\"Trash compactor\"\"",
         null,
         null,
         null,
         null,
         null,
         null,
         null,
         null,
         null,
         null,
         null,
         null,
         " \"\"Free street parking\"\""
        ],
        [
         "975234392091421680",
         null,
         null,
         null,
         "city scrape",
         "Classic_Copacabana 3min da Praia e do Metrô",
         "Enjoy easy access to the beach, metro and diverse commerce.<br />Absolutely anything you need you will find in the vicinity of this well-located home.<br />We are in the heart of Copacabana, one of the most famous neighborhoods in the world.",
         null,
         null,
         "364756113",
         null,
         "Vivian",
         "2020-08-27",
         null,
         "\"Me intitulei \"\"Aspirante a viajante\"\"",
         null,
         null,
         " Itália",
         " Marrocos",
         null,
         null,
         null,
         "100%",
         "100%",
         null,
         null,
         null,
         null,
         null,
         null,
         "['email', 'phone']",
         "t",
         "t",
         "Rio de Janeiro, Brazil",
         "Copacabana",
         null,
         "-22.9690417",
         "-43.1866967",
         null,
         "Entire home/apt",
         4.0,
         "1.0",
         "1 bath",
         null,
         null,
         null,
         null,
         null,
         null,
         null,
         null,
         " \"\"Pets allowed\"\"",
         " \"\"AC - split type ductless system\"\"",
         " \"\"Elevator\"\"",
         " \"\"Cooking basics\"\"",
         null,
         " \"\"Hair dryer\"\"",
         null,
         null,
         null,
         null,
         " \"\"Portable fans\"\"",
         null,
         null,
         null,
         null,
         null,
         null,
         null,
         null,
         null,
         null,
         null,
         null,
         "t"
        ]
       ],
       "datasetInfos": [],
       "dbfsResultPath": null,
       "isJsonSchema": true,
       "metadata": {},
       "overflow": false,
       "plotOptions": {
        "customPlotOptions": {},
        "displayType": "table",
        "pivotAggregation": null,
        "pivotColumns": null,
        "xColumns": null,
        "yColumns": null
       },
       "removedWidgets": [],
       "schema": [
        {
         "metadata": "{}",
         "name": "id",
         "type": "\"string\""
        },
        {
         "metadata": "{}",
         "name": "listing_url",
         "type": "\"string\""
        },
        {
         "metadata": "{}",
         "name": "scrape_id",
         "type": "\"string\""
        },
        {
         "metadata": "{}",
         "name": "last_scraped",
         "type": "\"string\""
        },
        {
         "metadata": "{}",
         "name": "source",
         "type": "\"string\""
        },
        {
         "metadata": "{}",
         "name": "name",
         "type": "\"string\""
        },
        {
         "metadata": "{}",
         "name": "description",
         "type": "\"string\""
        },
        {
         "metadata": "{}",
         "name": "neighborhood_overview",
         "type": "\"string\""
        },
        {
         "metadata": "{}",
         "name": "picture_url",
         "type": "\"string\""
        },
        {
         "metadata": "{}",
         "name": "host_id",
         "type": "\"string\""
        },
        {
         "metadata": "{}",
         "name": "host_url",
         "type": "\"string\""
        },
        {
         "metadata": "{}",
         "name": "host_name",
         "type": "\"string\""
        },
        {
         "metadata": "{}",
         "name": "host_since",
         "type": "\"string\""
        },
        {
         "metadata": "{}",
         "name": "host_location",
         "type": "\"string\""
        },
        {
         "metadata": "{}",
         "name": "host_about",
         "type": "\"string\""
        },
        {
         "metadata": "{}",
         "name": "host_response_time",
         "type": "\"string\""
        },
        {
         "metadata": "{}",
         "name": "host_response_rate",
         "type": "\"string\""
        },
        {
         "metadata": "{}",
         "name": "host_acceptance_rate",
         "type": "\"string\""
        },
        {
         "metadata": "{}",
         "name": "host_is_superhost",
         "type": "\"string\""
        },
        {
         "metadata": "{}",
         "name": "host_thumbnail_url",
         "type": "\"string\""
        },
        {
         "metadata": "{}",
         "name": "host_picture_url",
         "type": "\"string\""
        },
        {
         "metadata": "{}",
         "name": "host_neighbourhood",
         "type": "\"string\""
        },
        {
         "metadata": "{}",
         "name": "host_listings_count",
         "type": "\"string\""
        },
        {
         "metadata": "{}",
         "name": "host_total_listings_count",
         "type": "\"string\""
        },
        {
         "metadata": "{}",
         "name": "host_verifications",
         "type": "\"string\""
        },
        {
         "metadata": "{}",
         "name": "host_has_profile_pic",
         "type": "\"string\""
        },
        {
         "metadata": "{}",
         "name": "host_identity_verified",
         "type": "\"string\""
        },
        {
         "metadata": "{}",
         "name": "neighbourhood",
         "type": "\"string\""
        },
        {
         "metadata": "{}",
         "name": "neighbourhood_cleansed",
         "type": "\"string\""
        },
        {
         "metadata": "{}",
         "name": "neighbourhood_group_cleansed",
         "type": "\"string\""
        },
        {
         "metadata": "{}",
         "name": "latitude",
         "type": "\"string\""
        },
        {
         "metadata": "{}",
         "name": "longitude",
         "type": "\"string\""
        },
        {
         "metadata": "{}",
         "name": "property_type",
         "type": "\"string\""
        },
        {
         "metadata": "{}",
         "name": "room_type",
         "type": "\"string\""
        },
        {
         "metadata": "{}",
         "name": "accommodates",
         "type": "\"string\""
        },
        {
         "metadata": "{}",
         "name": "bathrooms",
         "type": "\"string\""
        },
        {
         "metadata": "{}",
         "name": "bathrooms_text",
         "type": "\"string\""
        },
        {
         "metadata": "{}",
         "name": "bedrooms",
         "type": "\"string\""
        },
        {
         "metadata": "{}",
         "name": "beds",
         "type": "\"string\""
        },
        {
         "metadata": "{}",
         "name": "amenities",
         "type": "\"string\""
        },
        {
         "metadata": "{}",
         "name": "price",
         "type": "\"float\""
        },
        {
         "metadata": "{}",
         "name": "minimum_nights",
         "type": "\"string\""
        },
        {
         "metadata": "{}",
         "name": "maximum_nights",
         "type": "\"string\""
        },
        {
         "metadata": "{}",
         "name": "minimum_minimum_nights",
         "type": "\"string\""
        },
        {
         "metadata": "{}",
         "name": "maximum_minimum_nights",
         "type": "\"string\""
        },
        {
         "metadata": "{}",
         "name": "minimum_maximum_nights",
         "type": "\"string\""
        },
        {
         "metadata": "{}",
         "name": "maximum_maximum_nights",
         "type": "\"string\""
        },
        {
         "metadata": "{}",
         "name": "minimum_nights_avg_ntm",
         "type": "\"string\""
        },
        {
         "metadata": "{}",
         "name": "maximum_nights_avg_ntm",
         "type": "\"string\""
        },
        {
         "metadata": "{}",
         "name": "calendar_updated",
         "type": "\"string\""
        },
        {
         "metadata": "{}",
         "name": "has_availability",
         "type": "\"string\""
        },
        {
         "metadata": "{}",
         "name": "availability_30",
         "type": "\"string\""
        },
        {
         "metadata": "{}",
         "name": "availability_60",
         "type": "\"string\""
        },
        {
         "metadata": "{}",
         "name": "availability_90",
         "type": "\"string\""
        },
        {
         "metadata": "{}",
         "name": "availability_365",
         "type": "\"string\""
        },
        {
         "metadata": "{}",
         "name": "calendar_last_scraped",
         "type": "\"string\""
        },
        {
         "metadata": "{}",
         "name": "number_of_reviews",
         "type": "\"string\""
        },
        {
         "metadata": "{}",
         "name": "number_of_reviews_ltm",
         "type": "\"string\""
        },
        {
         "metadata": "{}",
         "name": "number_of_reviews_l30d",
         "type": "\"string\""
        },
        {
         "metadata": "{}",
         "name": "first_review",
         "type": "\"string\""
        },
        {
         "metadata": "{}",
         "name": "last_review",
         "type": "\"string\""
        },
        {
         "metadata": "{}",
         "name": "review_scores_rating",
         "type": "\"string\""
        },
        {
         "metadata": "{}",
         "name": "review_scores_accuracy",
         "type": "\"string\""
        },
        {
         "metadata": "{}",
         "name": "review_scores_cleanliness",
         "type": "\"string\""
        },
        {
         "metadata": "{}",
         "name": "review_scores_checkin",
         "type": "\"string\""
        },
        {
         "metadata": "{}",
         "name": "review_scores_communication",
         "type": "\"string\""
        },
        {
         "metadata": "{}",
         "name": "review_scores_location",
         "type": "\"string\""
        },
        {
         "metadata": "{}",
         "name": "review_scores_value",
         "type": "\"string\""
        },
        {
         "metadata": "{}",
         "name": "license",
         "type": "\"string\""
        },
        {
         "metadata": "{}",
         "name": "instant_bookable",
         "type": "\"string\""
        },
        {
         "metadata": "{}",
         "name": "calculated_host_listings_count",
         "type": "\"string\""
        },
        {
         "metadata": "{}",
         "name": "calculated_host_listings_count_entire_homes",
         "type": "\"string\""
        },
        {
         "metadata": "{}",
         "name": "calculated_host_listings_count_private_rooms",
         "type": "\"string\""
        },
        {
         "metadata": "{}",
         "name": "calculated_host_listings_count_shared_rooms",
         "type": "\"string\""
        },
        {
         "metadata": "{}",
         "name": "reviews_per_month",
         "type": "\"string\""
        }
       ],
       "type": "table"
      }
     },
     "output_type": "display_data"
    }
   ],
   "source": [
    "# Ordenar o DataFrame por `id` em ordem decrescente e exibir os resultados\n",
    "display(df_listings_silver.orderBy(col(\"id\").desc()).limit(15))"
   ]
  },
  {
   "cell_type": "code",
   "execution_count": 0,
   "metadata": {
    "application/vnd.databricks.v1+cell": {
     "cellMetadata": {
      "byteLimit": 2048000,
      "rowLimit": 10000
     },
     "inputWidgets": {},
     "nuid": "9fb9cf39-6e85-448a-8543-8e076953c252",
     "showTitle": false,
     "tableResultSettingsMap": {},
     "title": ""
    }
   },
   "outputs": [],
   "source": [
    "# Converter `id` para `LongType`\n",
    "df_listings_silver = df_listings_silver.withColumn(\"id\", col(\"id\").cast(LongType()))"
   ]
  },
  {
   "cell_type": "code",
   "execution_count": 0,
   "metadata": {
    "application/vnd.databricks.v1+cell": {
     "cellMetadata": {
      "byteLimit": 2048000,
      "rowLimit": 10000
     },
     "inputWidgets": {},
     "nuid": "e0d973b8-338c-41a6-915b-d42f7e2be297",
     "showTitle": false,
     "tableResultSettingsMap": {},
     "title": ""
    }
   },
   "outputs": [
    {
     "output_type": "display_data",
     "data": {
      "text/html": [
       "<style scoped>\n",
       "  .table-result-container {\n",
       "    max-height: 300px;\n",
       "    overflow: auto;\n",
       "  }\n",
       "  table, th, td {\n",
       "    border: 1px solid black;\n",
       "    border-collapse: collapse;\n",
       "  }\n",
       "  th, td {\n",
       "    padding: 5px;\n",
       "  }\n",
       "  th {\n",
       "    text-align: left;\n",
       "  }\n",
       "</style><div class='table-result-container'><table class='table-result'><thead style='background-color: white'><tr><th>id</th><th>listing_url</th><th>scrape_id</th><th>last_scraped</th><th>source</th><th>name</th><th>description</th><th>neighborhood_overview</th><th>picture_url</th><th>host_id</th><th>host_url</th><th>host_name</th><th>host_since</th><th>host_location</th><th>host_about</th><th>host_response_time</th><th>host_response_rate</th><th>host_acceptance_rate</th><th>host_is_superhost</th><th>host_thumbnail_url</th><th>host_picture_url</th><th>host_neighbourhood</th><th>host_listings_count</th><th>host_total_listings_count</th><th>host_verifications</th><th>host_has_profile_pic</th><th>host_identity_verified</th><th>neighbourhood</th><th>neighbourhood_cleansed</th><th>neighbourhood_group_cleansed</th><th>latitude</th><th>longitude</th><th>property_type</th><th>room_type</th><th>accommodates</th><th>bathrooms</th><th>bathrooms_text</th><th>bedrooms</th><th>beds</th><th>amenities</th><th>price</th><th>minimum_nights</th><th>maximum_nights</th><th>minimum_minimum_nights</th><th>maximum_minimum_nights</th><th>minimum_maximum_nights</th><th>maximum_maximum_nights</th><th>minimum_nights_avg_ntm</th><th>maximum_nights_avg_ntm</th><th>calendar_updated</th><th>has_availability</th><th>availability_30</th><th>availability_60</th><th>availability_90</th><th>availability_365</th><th>calendar_last_scraped</th><th>number_of_reviews</th><th>number_of_reviews_ltm</th><th>number_of_reviews_l30d</th><th>first_review</th><th>last_review</th><th>review_scores_rating</th><th>review_scores_accuracy</th><th>review_scores_cleanliness</th><th>review_scores_checkin</th><th>review_scores_communication</th><th>review_scores_location</th><th>review_scores_value</th><th>license</th><th>instant_bookable</th><th>calculated_host_listings_count</th><th>calculated_host_listings_count_entire_homes</th><th>calculated_host_listings_count_private_rooms</th><th>calculated_host_listings_count_shared_rooms</th><th>reviews_per_month</th></tr></thead><tbody><tr><td>0</td><td>456</td><td>456</td><td>456</td><td>0</td><td>0</td><td>27</td><td>456</td><td>456</td><td>20</td><td>456</td><td>0</td><td>11</td><td>456</td><td>89</td><td>456</td><td>456</td><td>43</td><td>8</td><td>456</td><td>456</td><td>456</td><td>0</td><td>21</td><td>456</td><td>456</td><td>456</td><td>456</td><td>456</td><td>456</td><td>20</td><td>92</td><td>115</td><td>25</td><td>75</td><td>456</td><td>2</td><td>2</td><td>456</td><td>0</td><td>0</td><td>5</td><td>0</td><td>456</td><td>456</td><td>456</td><td>456</td><td>456</td><td>456</td><td>456</td><td>456</td><td>1</td><td>0</td><td>0</td><td>0</td><td>456</td><td>5</td><td>456</td><td>456</td><td>456</td><td>456</td><td>67</td><td>456</td><td>456</td><td>456</td><td>456</td><td>456</td><td>456</td><td>456</td><td>456</td><td>456</td><td>456</td><td>456</td><td>456</td><td>82</td></tr></tbody></table></div>"
      ]
     },
     "metadata": {
      "application/vnd.databricks.v1+output": {
       "addedWidgets": {},
       "aggData": [],
       "aggError": "",
       "aggOverflow": false,
       "aggSchema": [],
       "aggSeriesLimitReached": false,
       "aggType": "",
       "arguments": {},
       "columnCustomDisplayInfos": {},
       "data": [
        [
         0,
         456,
         456,
         456,
         0,
         0,
         27,
         456,
         456,
         20,
         456,
         0,
         11,
         456,
         89,
         456,
         456,
         43,
         8,
         456,
         456,
         456,
         0,
         21,
         456,
         456,
         456,
         456,
         456,
         456,
         20,
         92,
         115,
         25,
         75,
         456,
         2,
         2,
         456,
         0,
         0,
         5,
         0,
         456,
         456,
         456,
         456,
         456,
         456,
         456,
         456,
         1,
         0,
         0,
         0,
         456,
         5,
         456,
         456,
         456,
         456,
         67,
         456,
         456,
         456,
         456,
         456,
         456,
         456,
         456,
         456,
         456,
         456,
         456,
         82
        ]
       ],
       "datasetInfos": [],
       "dbfsResultPath": null,
       "isJsonSchema": true,
       "metadata": {},
       "overflow": false,
       "plotOptions": {
        "customPlotOptions": {},
        "displayType": "table",
        "pivotAggregation": null,
        "pivotColumns": null,
        "xColumns": null,
        "yColumns": null
       },
       "removedWidgets": [],
       "schema": [
        {
         "metadata": "{}",
         "name": "id",
         "type": "\"long\""
        },
        {
         "metadata": "{}",
         "name": "listing_url",
         "type": "\"long\""
        },
        {
         "metadata": "{}",
         "name": "scrape_id",
         "type": "\"long\""
        },
        {
         "metadata": "{}",
         "name": "last_scraped",
         "type": "\"long\""
        },
        {
         "metadata": "{}",
         "name": "source",
         "type": "\"long\""
        },
        {
         "metadata": "{}",
         "name": "name",
         "type": "\"long\""
        },
        {
         "metadata": "{}",
         "name": "description",
         "type": "\"long\""
        },
        {
         "metadata": "{}",
         "name": "neighborhood_overview",
         "type": "\"long\""
        },
        {
         "metadata": "{}",
         "name": "picture_url",
         "type": "\"long\""
        },
        {
         "metadata": "{}",
         "name": "host_id",
         "type": "\"long\""
        },
        {
         "metadata": "{}",
         "name": "host_url",
         "type": "\"long\""
        },
        {
         "metadata": "{}",
         "name": "host_name",
         "type": "\"long\""
        },
        {
         "metadata": "{}",
         "name": "host_since",
         "type": "\"long\""
        },
        {
         "metadata": "{}",
         "name": "host_location",
         "type": "\"long\""
        },
        {
         "metadata": "{}",
         "name": "host_about",
         "type": "\"long\""
        },
        {
         "metadata": "{}",
         "name": "host_response_time",
         "type": "\"long\""
        },
        {
         "metadata": "{}",
         "name": "host_response_rate",
         "type": "\"long\""
        },
        {
         "metadata": "{}",
         "name": "host_acceptance_rate",
         "type": "\"long\""
        },
        {
         "metadata": "{}",
         "name": "host_is_superhost",
         "type": "\"long\""
        },
        {
         "metadata": "{}",
         "name": "host_thumbnail_url",
         "type": "\"long\""
        },
        {
         "metadata": "{}",
         "name": "host_picture_url",
         "type": "\"long\""
        },
        {
         "metadata": "{}",
         "name": "host_neighbourhood",
         "type": "\"long\""
        },
        {
         "metadata": "{}",
         "name": "host_listings_count",
         "type": "\"long\""
        },
        {
         "metadata": "{}",
         "name": "host_total_listings_count",
         "type": "\"long\""
        },
        {
         "metadata": "{}",
         "name": "host_verifications",
         "type": "\"long\""
        },
        {
         "metadata": "{}",
         "name": "host_has_profile_pic",
         "type": "\"long\""
        },
        {
         "metadata": "{}",
         "name": "host_identity_verified",
         "type": "\"long\""
        },
        {
         "metadata": "{}",
         "name": "neighbourhood",
         "type": "\"long\""
        },
        {
         "metadata": "{}",
         "name": "neighbourhood_cleansed",
         "type": "\"long\""
        },
        {
         "metadata": "{}",
         "name": "neighbourhood_group_cleansed",
         "type": "\"long\""
        },
        {
         "metadata": "{}",
         "name": "latitude",
         "type": "\"long\""
        },
        {
         "metadata": "{}",
         "name": "longitude",
         "type": "\"long\""
        },
        {
         "metadata": "{}",
         "name": "property_type",
         "type": "\"long\""
        },
        {
         "metadata": "{}",
         "name": "room_type",
         "type": "\"long\""
        },
        {
         "metadata": "{}",
         "name": "accommodates",
         "type": "\"long\""
        },
        {
         "metadata": "{}",
         "name": "bathrooms",
         "type": "\"long\""
        },
        {
         "metadata": "{}",
         "name": "bathrooms_text",
         "type": "\"long\""
        },
        {
         "metadata": "{}",
         "name": "bedrooms",
         "type": "\"long\""
        },
        {
         "metadata": "{}",
         "name": "beds",
         "type": "\"long\""
        },
        {
         "metadata": "{}",
         "name": "amenities",
         "type": "\"long\""
        },
        {
         "metadata": "{}",
         "name": "price",
         "type": "\"long\""
        },
        {
         "metadata": "{}",
         "name": "minimum_nights",
         "type": "\"long\""
        },
        {
         "metadata": "{}",
         "name": "maximum_nights",
         "type": "\"long\""
        },
        {
         "metadata": "{}",
         "name": "minimum_minimum_nights",
         "type": "\"long\""
        },
        {
         "metadata": "{}",
         "name": "maximum_minimum_nights",
         "type": "\"long\""
        },
        {
         "metadata": "{}",
         "name": "minimum_maximum_nights",
         "type": "\"long\""
        },
        {
         "metadata": "{}",
         "name": "maximum_maximum_nights",
         "type": "\"long\""
        },
        {
         "metadata": "{}",
         "name": "minimum_nights_avg_ntm",
         "type": "\"long\""
        },
        {
         "metadata": "{}",
         "name": "maximum_nights_avg_ntm",
         "type": "\"long\""
        },
        {
         "metadata": "{}",
         "name": "calendar_updated",
         "type": "\"long\""
        },
        {
         "metadata": "{}",
         "name": "has_availability",
         "type": "\"long\""
        },
        {
         "metadata": "{}",
         "name": "availability_30",
         "type": "\"long\""
        },
        {
         "metadata": "{}",
         "name": "availability_60",
         "type": "\"long\""
        },
        {
         "metadata": "{}",
         "name": "availability_90",
         "type": "\"long\""
        },
        {
         "metadata": "{}",
         "name": "availability_365",
         "type": "\"long\""
        },
        {
         "metadata": "{}",
         "name": "calendar_last_scraped",
         "type": "\"long\""
        },
        {
         "metadata": "{}",
         "name": "number_of_reviews",
         "type": "\"long\""
        },
        {
         "metadata": "{}",
         "name": "number_of_reviews_ltm",
         "type": "\"long\""
        },
        {
         "metadata": "{}",
         "name": "number_of_reviews_l30d",
         "type": "\"long\""
        },
        {
         "metadata": "{}",
         "name": "first_review",
         "type": "\"long\""
        },
        {
         "metadata": "{}",
         "name": "last_review",
         "type": "\"long\""
        },
        {
         "metadata": "{}",
         "name": "review_scores_rating",
         "type": "\"long\""
        },
        {
         "metadata": "{}",
         "name": "review_scores_accuracy",
         "type": "\"long\""
        },
        {
         "metadata": "{}",
         "name": "review_scores_cleanliness",
         "type": "\"long\""
        },
        {
         "metadata": "{}",
         "name": "review_scores_checkin",
         "type": "\"long\""
        },
        {
         "metadata": "{}",
         "name": "review_scores_communication",
         "type": "\"long\""
        },
        {
         "metadata": "{}",
         "name": "review_scores_location",
         "type": "\"long\""
        },
        {
         "metadata": "{}",
         "name": "review_scores_value",
         "type": "\"long\""
        },
        {
         "metadata": "{}",
         "name": "license",
         "type": "\"long\""
        },
        {
         "metadata": "{}",
         "name": "instant_bookable",
         "type": "\"long\""
        },
        {
         "metadata": "{}",
         "name": "calculated_host_listings_count",
         "type": "\"long\""
        },
        {
         "metadata": "{}",
         "name": "calculated_host_listings_count_entire_homes",
         "type": "\"long\""
        },
        {
         "metadata": "{}",
         "name": "calculated_host_listings_count_private_rooms",
         "type": "\"long\""
        },
        {
         "metadata": "{}",
         "name": "calculated_host_listings_count_shared_rooms",
         "type": "\"long\""
        },
        {
         "metadata": "{}",
         "name": "reviews_per_month",
         "type": "\"long\""
        }
       ],
       "type": "table"
      }
     },
     "output_type": "display_data"
    }
   ],
   "source": [
    "# Contar valores NULL em cada coluna\n",
    "null_counts = df_listings_silver.select([\n",
    "    sum(col(column).isNull().cast(\"int\")).alias(column) for column in df_listings_silver.columns\n",
    "])\n",
    "\n",
    "# Exibir o número de valores NULL em cada coluna\n",
    "display(null_counts)"
   ]
  },
  {
   "cell_type": "code",
   "execution_count": 0,
   "metadata": {
    "application/vnd.databricks.v1+cell": {
     "cellMetadata": {
      "byteLimit": 2048000,
      "rowLimit": 10000
     },
     "inputWidgets": {},
     "nuid": "e6dbf2af-b6b4-47cb-98ae-9811aba59cc1",
     "showTitle": false,
     "tableResultSettingsMap": {},
     "title": ""
    }
   },
   "outputs": [
    {
     "output_type": "display_data",
     "data": {
      "text/html": [
       "<style scoped>\n",
       "  .table-result-container {\n",
       "    max-height: 300px;\n",
       "    overflow: auto;\n",
       "  }\n",
       "  table, th, td {\n",
       "    border: 1px solid black;\n",
       "    border-collapse: collapse;\n",
       "  }\n",
       "  th, td {\n",
       "    padding: 5px;\n",
       "  }\n",
       "  th {\n",
       "    text-align: left;\n",
       "  }\n",
       "</style><div class='table-result-container'><table class='table-result'><thead style='background-color: white'><tr><th>summary</th><th>id</th><th>listing_url</th><th>scrape_id</th><th>last_scraped</th><th>source</th><th>name</th><th>description</th><th>neighborhood_overview</th><th>picture_url</th><th>host_id</th><th>host_url</th><th>host_name</th><th>host_since</th><th>host_location</th><th>host_about</th><th>host_response_time</th><th>host_response_rate</th><th>host_acceptance_rate</th><th>host_is_superhost</th><th>host_thumbnail_url</th><th>host_picture_url</th><th>host_neighbourhood</th><th>host_listings_count</th><th>host_total_listings_count</th><th>host_verifications</th><th>host_has_profile_pic</th><th>host_identity_verified</th><th>neighbourhood</th><th>neighbourhood_cleansed</th><th>neighbourhood_group_cleansed</th><th>latitude</th><th>longitude</th><th>property_type</th><th>room_type</th><th>accommodates</th><th>bathrooms</th><th>bathrooms_text</th><th>bedrooms</th><th>beds</th><th>amenities</th><th>price</th><th>minimum_nights</th><th>maximum_nights</th><th>minimum_minimum_nights</th><th>maximum_minimum_nights</th><th>minimum_maximum_nights</th><th>maximum_maximum_nights</th><th>minimum_nights_avg_ntm</th><th>maximum_nights_avg_ntm</th><th>calendar_updated</th><th>has_availability</th><th>availability_30</th><th>availability_60</th><th>availability_90</th><th>availability_365</th><th>calendar_last_scraped</th><th>number_of_reviews</th><th>number_of_reviews_ltm</th><th>number_of_reviews_l30d</th><th>first_review</th><th>last_review</th><th>review_scores_rating</th><th>review_scores_accuracy</th><th>review_scores_cleanliness</th><th>review_scores_checkin</th><th>review_scores_communication</th><th>review_scores_location</th><th>review_scores_value</th><th>license</th><th>instant_bookable</th><th>calculated_host_listings_count</th><th>calculated_host_listings_count_entire_homes</th><th>calculated_host_listings_count_private_rooms</th><th>calculated_host_listings_count_shared_rooms</th><th>reviews_per_month</th></tr></thead><tbody><tr><td>count</td><td>456</td><td>0</td><td>0</td><td>0</td><td>456</td><td>456</td><td>429</td><td>0</td><td>0</td><td>436</td><td>0</td><td>456</td><td>445</td><td>0</td><td>367</td><td>0</td><td>0</td><td>413</td><td>448</td><td>0</td><td>0</td><td>0</td><td>456</td><td>435</td><td>0</td><td>0</td><td>0</td><td>0</td><td>0</td><td>0</td><td>436</td><td>364</td><td>341</td><td>431</td><td>381</td><td>0</td><td>454</td><td>454</td><td>0</td><td>456</td><td>456</td><td>451</td><td>456</td><td>0</td><td>0</td><td>0</td><td>0</td><td>0</td><td>0</td><td>0</td><td>0</td><td>455</td><td>456</td><td>456</td><td>456</td><td>0</td><td>451</td><td>0</td><td>0</td><td>0</td><td>0</td><td>389</td><td>0</td><td>0</td><td>0</td><td>0</td><td>0</td><td>0</td><td>0</td><td>0</td><td>0</td><td>0</td><td>0</td><td>0</td><td>374</td></tr><tr><td>mean</td><td>4.5993037257854618E17</td><td>null</td><td>null</td><td>null</td><td>null</td><td>111.0</td><td>null</td><td>null</td><td>null</td><td>2.2976194407894737E8</td><td>null</td><td>1.8235115326966292E8</td><td>1.408142872658228E8</td><td>null</td><td>1.5280503586301368E8</td><td>null</td><td>null</td><td>null</td><td>null</td><td>null</td><td>null</td><td>null</td><td>8.40677966101695</td><td>13.457627118644067</td><td>null</td><td>null</td><td>null</td><td>null</td><td>null</td><td>null</td><td>-22.964293820945265</td><td>-43.272780516403124</td><td>-22.964881495749182</td><td>-32.514623704249196</td><td>-18.407304392223185</td><td>null</td><td>-18.987612245653956</td><td>-5.855910514318412</td><td>null</td><td>2.6272189349112427</td><td>82.82675438596492</td><td>2.280141843971631</td><td>275.60103626943004</td><td>null</td><td>null</td><td>null</td><td>null</td><td>null</td><td>null</td><td>null</td><td>null</td><td>27.920289855072465</td><td>62.88732394366197</td><td>107.6923076923077</td><td>234.69736842105263</td><td>null</td><td>46.21699346405229</td><td>null</td><td>null</td><td>null</td><td>null</td><td>100.38690265486723</td><td>null</td><td>null</td><td>null</td><td>null</td><td>null</td><td>null</td><td>null</td><td>null</td><td>null</td><td>null</td><td>null</td><td>null</td><td>123.53205128205124</td></tr><tr><td>stddev</td><td>4.6668820455254515E17</td><td>null</td><td>null</td><td>null</td><td>null</td><td>null</td><td>null</td><td>null</td><td>null</td><td>2.0059575351303396E8</td><td>null</td><td>1.8907309599943373E8</td><td>1.685637988087255E8</td><td>null</td><td>1.6264465261440137E8</td><td>null</td><td>null</td><td>null</td><td>null</td><td>null</td><td>null</td><td>null</td><td>14.604903337803764</td><td>25.340297311309968</td><td>null</td><td>null</td><td>null</td><td>null</td><td>null</td><td>null</td><td>0.037105634294111595</td><td>0.11341959885877816</td><td>0.027690501050981968</td><td>10.134627518684137</td><td>23.146428625200567</td><td>null</td><td>20.082738251213502</td><td>17.529317807538845</td><td>null</td><td>2.049266408956491</td><td>174.03734797859022</td><td>2.850902831542605</td><td>345.0315676967165</td><td>null</td><td>null</td><td>null</td><td>null</td><td>null</td><td>null</td><td>null</td><td>null</td><td>42.4824672455948</td><td>106.63313515008771</td><td>182.53906511353787</td><td>155.1695948690879</td><td>null</td><td>186.34733831959076</td><td>null</td><td>null</td><td>null</td><td>null</td><td>274.4021185917526</td><td>null</td><td>null</td><td>null</td><td>null</td><td>null</td><td>null</td><td>null</td><td>null</td><td>null</td><td>null</td><td>null</td><td>null</td><td>318.26064328279875</td></tr><tr><td>min</td><td>17878</td><td>null</td><td>null</td><td>null</td><td>city scrape</td><td>\"\"\"Conforto e Vista Privilegiada\"\"\"</td><td> no Coração do Bairro\"</td><td>null</td><td>null</td><td>  3 parking lots very close to the building. A park with 155 thousand square meters 3 minutes from the apartment</td><td>null</td><td>  air conditioning</td><td> ( just a few meters away from the famous Fasano Hotel). A modern apartment with designer furniture to enjoy.\"</td><td>null</td><td> accessories) and general services such as barbers</td><td>null</td><td>null</td><td>  para os Mirantes próximos e praia para pescar! Atualmente meu hobby tem sido incrementar meu Fusca 77</td><td>  laundromats</td><td>null</td><td>null</td><td>null</td><td> Apricot Beach and Grumari Beach. Other near sightseeing options are Sanctuary of Our Lady of Fatima</td><td> Casa do Pontal Museum and Roberto Burle Marx Site (tropical plants</td><td>null</td><td>null</td><td>null</td><td>null</td><td>null</td><td>null</td><td>-22.87152</td><td>-43.16884</td><td>-22.897869710495325</td><td>-22.90396</td><td>-43.16666</td><td>null</td><td>-22.90027</td><td>-43.17287</td><td>null</td><td>\"[\"\"Air conditioning\"\"]\"</td><td>0.0</td><td>\"[\"\"55 inch TV with Netflix\"\"</td><td> \"\"40 inch HDTV\"\"</td><td>null</td><td>null</td><td>null</td><td>null</td><td>null</td><td>null</td><td>null</td><td>null</td><td> \"\"42 inch HDTV\"\"</td><td> \"\"32 inch HDTV with Netflix\"\"</td><td> \"\"40 inch TV with standard cable\"\"</td><td> \"\"Air conditioning\"\"</td><td>null</td><td> \"\"43 inch TV with Netflix\"\"</td><td>null</td><td>null</td><td>null</td><td>null</td><td> \"\"40 inch HDTV with Fire TV</td><td>null</td><td>null</td><td>null</td><td>null</td><td>null</td><td>null</td><td>null</td><td>null</td><td>null</td><td>null</td><td>null</td><td>null</td><td> \"\"32 inch HDTV with Apple TV\"\"]\"</td></tr><tr><td>max</td><td>1178574523261742246</td><td>null</td><td>null</td><td>null</td><td>previous scrape</td><td>★ OCEAN VIEW | Balcony |240m²| Billiard | Netflix</td><td>👋 One block from the beach, on Rua Domingos Ferreira, in Copacabana (Posto-4).<br /><br />This cozy living/bedroom apartment is on the 12th floor of a family building, with only four apartments per floor. Located in the back, it receives the pleasant afternoon sun and offers a charming view of the Christ the Redeemer. It has two air-conditioned appliances, two bathrooms (social and suite) and a full kitchen with a cooktop stove, microwave, refrigerator, pressurizer, gas heater and cabinets. 🤩</td><td>null</td><td>null</td><td>the beach is certainly your destination. Choose to enter in front of the building</td><td>null</td><td>laundry.  Easy access to the beautiful beach  . Building with 24hs concierge</td><td>https://www.airbnb.com/users/show/990481</td><td>null</td><td>sou de araruama rio de janeiro, gosto de curtir a vida com minha família, gostaria de ficar na barra da tijuca pq gostamos de um lugar longe da muvuca, somos todos tranquilos</td><td>null</td><td>null</td><td>within an hour</td><td>within an hour</td><td>null</td><td>null</td><td>null</td><td>https://a0.muscache.com/im/users/9234258/profile_pic/1381022483/original.jpg?aki_policy=profile_small</td><td>t</td><td>null</td><td>null</td><td>null</td><td>null</td><td>null</td><td>null</td><td>t</td><td>t</td><td>within an hour</td><td>Vargem Pequena</td><td>Vidigal</td><td>null</td><td>https://a0.muscache.com/im/pictures/user/b58a4d6c-2f68-4ea5-a460-482970557c3d.jpg?aki_policy=profile_small</td><td>https://a0.muscache.com/im/pictures/user/b58a4d6c-2f68-4ea5-a460-482970557c3d.jpg?aki_policy=profile_x_medium</td><td>null</td><td>[]</td><td>939.0</td><td>[]</td><td>t</td><td>null</td><td>null</td><td>null</td><td>null</td><td>null</td><td>null</td><td>null</td><td>null</td><td>7</td><td>t</td><td>90</td><td>94</td><td>null</td><td>t</td><td>null</td><td>null</td><td>null</td><td>null</td><td>t</td><td>null</td><td>null</td><td>null</td><td>null</td><td>null</td><td>null</td><td>null</td><td>null</td><td>null</td><td>null</td><td>null</td><td>null</td><td>t</td></tr></tbody></table></div>"
      ]
     },
     "metadata": {
      "application/vnd.databricks.v1+output": {
       "addedWidgets": {},
       "aggData": [],
       "aggError": "",
       "aggOverflow": false,
       "aggSchema": [],
       "aggSeriesLimitReached": false,
       "aggType": "",
       "arguments": {},
       "columnCustomDisplayInfos": {},
       "data": [
        [
         "count",
         "456",
         "0",
         "0",
         "0",
         "456",
         "456",
         "429",
         "0",
         "0",
         "436",
         "0",
         "456",
         "445",
         "0",
         "367",
         "0",
         "0",
         "413",
         "448",
         "0",
         "0",
         "0",
         "456",
         "435",
         "0",
         "0",
         "0",
         "0",
         "0",
         "0",
         "436",
         "364",
         "341",
         "431",
         "381",
         "0",
         "454",
         "454",
         "0",
         "456",
         "456",
         "451",
         "456",
         "0",
         "0",
         "0",
         "0",
         "0",
         "0",
         "0",
         "0",
         "455",
         "456",
         "456",
         "456",
         "0",
         "451",
         "0",
         "0",
         "0",
         "0",
         "389",
         "0",
         "0",
         "0",
         "0",
         "0",
         "0",
         "0",
         "0",
         "0",
         "0",
         "0",
         "0",
         "374"
        ],
        [
         "mean",
         "4.5993037257854618E17",
         null,
         null,
         null,
         null,
         "111.0",
         null,
         null,
         null,
         "2.2976194407894737E8",
         null,
         "1.8235115326966292E8",
         "1.408142872658228E8",
         null,
         "1.5280503586301368E8",
         null,
         null,
         null,
         null,
         null,
         null,
         null,
         "8.40677966101695",
         "13.457627118644067",
         null,
         null,
         null,
         null,
         null,
         null,
         "-22.964293820945265",
         "-43.272780516403124",
         "-22.964881495749182",
         "-32.514623704249196",
         "-18.407304392223185",
         null,
         "-18.987612245653956",
         "-5.855910514318412",
         null,
         "2.6272189349112427",
         "82.82675438596492",
         "2.280141843971631",
         "275.60103626943004",
         null,
         null,
         null,
         null,
         null,
         null,
         null,
         null,
         "27.920289855072465",
         "62.88732394366197",
         "107.6923076923077",
         "234.69736842105263",
         null,
         "46.21699346405229",
         null,
         null,
         null,
         null,
         "100.38690265486723",
         null,
         null,
         null,
         null,
         null,
         null,
         null,
         null,
         null,
         null,
         null,
         null,
         "123.53205128205124"
        ],
        [
         "stddev",
         "4.6668820455254515E17",
         null,
         null,
         null,
         null,
         null,
         null,
         null,
         null,
         "2.0059575351303396E8",
         null,
         "1.8907309599943373E8",
         "1.685637988087255E8",
         null,
         "1.6264465261440137E8",
         null,
         null,
         null,
         null,
         null,
         null,
         null,
         "14.604903337803764",
         "25.340297311309968",
         null,
         null,
         null,
         null,
         null,
         null,
         "0.037105634294111595",
         "0.11341959885877816",
         "0.027690501050981968",
         "10.134627518684137",
         "23.146428625200567",
         null,
         "20.082738251213502",
         "17.529317807538845",
         null,
         "2.049266408956491",
         "174.03734797859022",
         "2.850902831542605",
         "345.0315676967165",
         null,
         null,
         null,
         null,
         null,
         null,
         null,
         null,
         "42.4824672455948",
         "106.63313515008771",
         "182.53906511353787",
         "155.1695948690879",
         null,
         "186.34733831959076",
         null,
         null,
         null,
         null,
         "274.4021185917526",
         null,
         null,
         null,
         null,
         null,
         null,
         null,
         null,
         null,
         null,
         null,
         null,
         "318.26064328279875"
        ],
        [
         "min",
         "17878",
         null,
         null,
         null,
         "city scrape",
         "\"\"\"Conforto e Vista Privilegiada\"\"\"",
         " no Coração do Bairro\"",
         null,
         null,
         "  3 parking lots very close to the building. A park with 155 thousand square meters 3 minutes from the apartment",
         null,
         "  air conditioning",
         " ( just a few meters away from the famous Fasano Hotel). A modern apartment with designer furniture to enjoy.\"",
         null,
         " accessories) and general services such as barbers",
         null,
         null,
         "  para os Mirantes próximos e praia para pescar! Atualmente meu hobby tem sido incrementar meu Fusca 77",
         "  laundromats",
         null,
         null,
         null,
         " Apricot Beach and Grumari Beach. Other near sightseeing options are Sanctuary of Our Lady of Fatima",
         " Casa do Pontal Museum and Roberto Burle Marx Site (tropical plants",
         null,
         null,
         null,
         null,
         null,
         null,
         "-22.87152",
         "-43.16884",
         "-22.897869710495325",
         "-22.90396",
         "-43.16666",
         null,
         "-22.90027",
         "-43.17287",
         null,
         "\"[\"\"Air conditioning\"\"]\"",
         "0.0",
         "\"[\"\"55 inch TV with Netflix\"\"",
         " \"\"40 inch HDTV\"\"",
         null,
         null,
         null,
         null,
         null,
         null,
         null,
         null,
         " \"\"42 inch HDTV\"\"",
         " \"\"32 inch HDTV with Netflix\"\"",
         " \"\"40 inch TV with standard cable\"\"",
         " \"\"Air conditioning\"\"",
         null,
         " \"\"43 inch TV with Netflix\"\"",
         null,
         null,
         null,
         null,
         " \"\"40 inch HDTV with Fire TV",
         null,
         null,
         null,
         null,
         null,
         null,
         null,
         null,
         null,
         null,
         null,
         null,
         " \"\"32 inch HDTV with Apple TV\"\"]\""
        ],
        [
         "max",
         "1178574523261742246",
         null,
         null,
         null,
         "previous scrape",
         "★ OCEAN VIEW | Balcony |240m²| Billiard | Netflix",
         "👋 One block from the beach, on Rua Domingos Ferreira, in Copacabana (Posto-4).<br /><br />This cozy living/bedroom apartment is on the 12th floor of a family building, with only four apartments per floor. Located in the back, it receives the pleasant afternoon sun and offers a charming view of the Christ the Redeemer. It has two air-conditioned appliances, two bathrooms (social and suite) and a full kitchen with a cooktop stove, microwave, refrigerator, pressurizer, gas heater and cabinets. 🤩",
         null,
         null,
         "the beach is certainly your destination. Choose to enter in front of the building",
         null,
         "laundry.  Easy access to the beautiful beach  . Building with 24hs concierge",
         "https://www.airbnb.com/users/show/990481",
         null,
         "sou de araruama rio de janeiro, gosto de curtir a vida com minha família, gostaria de ficar na barra da tijuca pq gostamos de um lugar longe da muvuca, somos todos tranquilos",
         null,
         null,
         "within an hour",
         "within an hour",
         null,
         null,
         null,
         "https://a0.muscache.com/im/users/9234258/profile_pic/1381022483/original.jpg?aki_policy=profile_small",
         "t",
         null,
         null,
         null,
         null,
         null,
         null,
         "t",
         "t",
         "within an hour",
         "Vargem Pequena",
         "Vidigal",
         null,
         "https://a0.muscache.com/im/pictures/user/b58a4d6c-2f68-4ea5-a460-482970557c3d.jpg?aki_policy=profile_small",
         "https://a0.muscache.com/im/pictures/user/b58a4d6c-2f68-4ea5-a460-482970557c3d.jpg?aki_policy=profile_x_medium",
         null,
         "[]",
         "939.0",
         "[]",
         "t",
         null,
         null,
         null,
         null,
         null,
         null,
         null,
         null,
         "7",
         "t",
         "90",
         "94",
         null,
         "t",
         null,
         null,
         null,
         null,
         "t",
         null,
         null,
         null,
         null,
         null,
         null,
         null,
         null,
         null,
         null,
         null,
         null,
         "t"
        ]
       ],
       "datasetInfos": [],
       "dbfsResultPath": null,
       "isJsonSchema": true,
       "metadata": {},
       "overflow": false,
       "plotOptions": {
        "customPlotOptions": {},
        "displayType": "table",
        "pivotAggregation": null,
        "pivotColumns": null,
        "xColumns": null,
        "yColumns": null
       },
       "removedWidgets": [],
       "schema": [
        {
         "metadata": "{}",
         "name": "summary",
         "type": "\"string\""
        },
        {
         "metadata": "{}",
         "name": "id",
         "type": "\"string\""
        },
        {
         "metadata": "{}",
         "name": "listing_url",
         "type": "\"string\""
        },
        {
         "metadata": "{}",
         "name": "scrape_id",
         "type": "\"string\""
        },
        {
         "metadata": "{}",
         "name": "last_scraped",
         "type": "\"string\""
        },
        {
         "metadata": "{}",
         "name": "source",
         "type": "\"string\""
        },
        {
         "metadata": "{}",
         "name": "name",
         "type": "\"string\""
        },
        {
         "metadata": "{}",
         "name": "description",
         "type": "\"string\""
        },
        {
         "metadata": "{}",
         "name": "neighborhood_overview",
         "type": "\"string\""
        },
        {
         "metadata": "{}",
         "name": "picture_url",
         "type": "\"string\""
        },
        {
         "metadata": "{}",
         "name": "host_id",
         "type": "\"string\""
        },
        {
         "metadata": "{}",
         "name": "host_url",
         "type": "\"string\""
        },
        {
         "metadata": "{}",
         "name": "host_name",
         "type": "\"string\""
        },
        {
         "metadata": "{}",
         "name": "host_since",
         "type": "\"string\""
        },
        {
         "metadata": "{}",
         "name": "host_location",
         "type": "\"string\""
        },
        {
         "metadata": "{}",
         "name": "host_about",
         "type": "\"string\""
        },
        {
         "metadata": "{}",
         "name": "host_response_time",
         "type": "\"string\""
        },
        {
         "metadata": "{}",
         "name": "host_response_rate",
         "type": "\"string\""
        },
        {
         "metadata": "{}",
         "name": "host_acceptance_rate",
         "type": "\"string\""
        },
        {
         "metadata": "{}",
         "name": "host_is_superhost",
         "type": "\"string\""
        },
        {
         "metadata": "{}",
         "name": "host_thumbnail_url",
         "type": "\"string\""
        },
        {
         "metadata": "{}",
         "name": "host_picture_url",
         "type": "\"string\""
        },
        {
         "metadata": "{}",
         "name": "host_neighbourhood",
         "type": "\"string\""
        },
        {
         "metadata": "{}",
         "name": "host_listings_count",
         "type": "\"string\""
        },
        {
         "metadata": "{}",
         "name": "host_total_listings_count",
         "type": "\"string\""
        },
        {
         "metadata": "{}",
         "name": "host_verifications",
         "type": "\"string\""
        },
        {
         "metadata": "{}",
         "name": "host_has_profile_pic",
         "type": "\"string\""
        },
        {
         "metadata": "{}",
         "name": "host_identity_verified",
         "type": "\"string\""
        },
        {
         "metadata": "{}",
         "name": "neighbourhood",
         "type": "\"string\""
        },
        {
         "metadata": "{}",
         "name": "neighbourhood_cleansed",
         "type": "\"string\""
        },
        {
         "metadata": "{}",
         "name": "neighbourhood_group_cleansed",
         "type": "\"string\""
        },
        {
         "metadata": "{}",
         "name": "latitude",
         "type": "\"string\""
        },
        {
         "metadata": "{}",
         "name": "longitude",
         "type": "\"string\""
        },
        {
         "metadata": "{}",
         "name": "property_type",
         "type": "\"string\""
        },
        {
         "metadata": "{}",
         "name": "room_type",
         "type": "\"string\""
        },
        {
         "metadata": "{}",
         "name": "accommodates",
         "type": "\"string\""
        },
        {
         "metadata": "{}",
         "name": "bathrooms",
         "type": "\"string\""
        },
        {
         "metadata": "{}",
         "name": "bathrooms_text",
         "type": "\"string\""
        },
        {
         "metadata": "{}",
         "name": "bedrooms",
         "type": "\"string\""
        },
        {
         "metadata": "{}",
         "name": "beds",
         "type": "\"string\""
        },
        {
         "metadata": "{}",
         "name": "amenities",
         "type": "\"string\""
        },
        {
         "metadata": "{}",
         "name": "price",
         "type": "\"string\""
        },
        {
         "metadata": "{}",
         "name": "minimum_nights",
         "type": "\"string\""
        },
        {
         "metadata": "{}",
         "name": "maximum_nights",
         "type": "\"string\""
        },
        {
         "metadata": "{}",
         "name": "minimum_minimum_nights",
         "type": "\"string\""
        },
        {
         "metadata": "{}",
         "name": "maximum_minimum_nights",
         "type": "\"string\""
        },
        {
         "metadata": "{}",
         "name": "minimum_maximum_nights",
         "type": "\"string\""
        },
        {
         "metadata": "{}",
         "name": "maximum_maximum_nights",
         "type": "\"string\""
        },
        {
         "metadata": "{}",
         "name": "minimum_nights_avg_ntm",
         "type": "\"string\""
        },
        {
         "metadata": "{}",
         "name": "maximum_nights_avg_ntm",
         "type": "\"string\""
        },
        {
         "metadata": "{}",
         "name": "calendar_updated",
         "type": "\"string\""
        },
        {
         "metadata": "{}",
         "name": "has_availability",
         "type": "\"string\""
        },
        {
         "metadata": "{}",
         "name": "availability_30",
         "type": "\"string\""
        },
        {
         "metadata": "{}",
         "name": "availability_60",
         "type": "\"string\""
        },
        {
         "metadata": "{}",
         "name": "availability_90",
         "type": "\"string\""
        },
        {
         "metadata": "{}",
         "name": "availability_365",
         "type": "\"string\""
        },
        {
         "metadata": "{}",
         "name": "calendar_last_scraped",
         "type": "\"string\""
        },
        {
         "metadata": "{}",
         "name": "number_of_reviews",
         "type": "\"string\""
        },
        {
         "metadata": "{}",
         "name": "number_of_reviews_ltm",
         "type": "\"string\""
        },
        {
         "metadata": "{}",
         "name": "number_of_reviews_l30d",
         "type": "\"string\""
        },
        {
         "metadata": "{}",
         "name": "first_review",
         "type": "\"string\""
        },
        {
         "metadata": "{}",
         "name": "last_review",
         "type": "\"string\""
        },
        {
         "metadata": "{}",
         "name": "review_scores_rating",
         "type": "\"string\""
        },
        {
         "metadata": "{}",
         "name": "review_scores_accuracy",
         "type": "\"string\""
        },
        {
         "metadata": "{}",
         "name": "review_scores_cleanliness",
         "type": "\"string\""
        },
        {
         "metadata": "{}",
         "name": "review_scores_checkin",
         "type": "\"string\""
        },
        {
         "metadata": "{}",
         "name": "review_scores_communication",
         "type": "\"string\""
        },
        {
         "metadata": "{}",
         "name": "review_scores_location",
         "type": "\"string\""
        },
        {
         "metadata": "{}",
         "name": "review_scores_value",
         "type": "\"string\""
        },
        {
         "metadata": "{}",
         "name": "license",
         "type": "\"string\""
        },
        {
         "metadata": "{}",
         "name": "instant_bookable",
         "type": "\"string\""
        },
        {
         "metadata": "{}",
         "name": "calculated_host_listings_count",
         "type": "\"string\""
        },
        {
         "metadata": "{}",
         "name": "calculated_host_listings_count_entire_homes",
         "type": "\"string\""
        },
        {
         "metadata": "{}",
         "name": "calculated_host_listings_count_private_rooms",
         "type": "\"string\""
        },
        {
         "metadata": "{}",
         "name": "calculated_host_listings_count_shared_rooms",
         "type": "\"string\""
        },
        {
         "metadata": "{}",
         "name": "reviews_per_month",
         "type": "\"string\""
        }
       ],
       "type": "table"
      }
     },
     "output_type": "display_data"
    }
   ],
   "source": [
    "df_listings_silver.describe().display()"
   ]
  },
  {
   "cell_type": "code",
   "execution_count": 0,
   "metadata": {
    "application/vnd.databricks.v1+cell": {
     "cellMetadata": {
      "byteLimit": 2048000,
      "rowLimit": 10000
     },
     "inputWidgets": {},
     "nuid": "0058fdc2-37ed-421f-be86-3ae3edaa485b",
     "showTitle": false,
     "tableResultSettingsMap": {},
     "title": ""
    }
   },
   "outputs": [
    {
     "output_type": "stream",
     "name": "stdout",
     "output_type": "stream",
     "text": [
      "root\n |-- id: long (nullable = true)\n |-- source: string (nullable = true)\n |-- name: string (nullable = true)\n |-- description: string (nullable = true)\n |-- host_id: string (nullable = true)\n |-- host_name: string (nullable = true)\n |-- host_since: string (nullable = true)\n |-- host_about: string (nullable = true)\n |-- host_acceptance_rate: string (nullable = true)\n |-- host_is_superhost: string (nullable = true)\n |-- host_listings_count: string (nullable = true)\n |-- host_total_listings_count: string (nullable = true)\n |-- latitude: string (nullable = true)\n |-- longitude: string (nullable = true)\n |-- property_type: string (nullable = true)\n |-- room_type: string (nullable = true)\n |-- accommodates: string (nullable = true)\n |-- bathrooms_text: string (nullable = true)\n |-- bedrooms: string (nullable = true)\n |-- amenities: string (nullable = true)\n |-- price: float (nullable = true)\n |-- minimum_nights: string (nullable = true)\n |-- maximum_nights: string (nullable = true)\n |-- availability_30: string (nullable = true)\n |-- availability_60: string (nullable = true)\n |-- availability_90: string (nullable = true)\n |-- availability_365: string (nullable = true)\n |-- number_of_reviews: string (nullable = true)\n |-- review_scores_rating: string (nullable = true)\n\n"
     ]
    }
   ],
   "source": [
    "# Lista de colunas a serem removidas\n",
    "columns_to_drop = [\n",
    "    \"listing_url\", \"scrape_id\", \"last_scraped\", \"neighborhood_overview\", \"picture_url\",\n",
    "    \"host_url\", \"host_location\", \"host_response_time\", \"host_response_rate\", \"host_thumbnail_url\",\n",
    "    \"host_picture_url\", \"host_neighbourhood\", \"host_verifications\", \"host_has_profile_pic\", \n",
    "    \"host_identity_verified\", \"neighbourhood\", \"neighbourhood_cleansed\", \"neighbourhood_group_cleansed\", \n",
    "    \"bathrooms\", \"beds\", \"minimum_minimum_nights\", \"maximum_minimum_nights\", \"minimum_maximum_nights\", \n",
    "    \"maximum_maximum_nights\", \"minimum_nights_avg_ntm\", \"maximum_nights_avg_ntm\", \"calendar_updated\", \n",
    "    \"has_availability\", \"calendar_last_scraped\", \"number_of_reviews_ltm\", \"number_of_reviews_l30d\", \n",
    "    \"first_review\", \"last_review\", \"review_scores_accuracy\", \"review_scores_cleanliness\", \n",
    "    \"review_scores_checkin\", \"review_scores_communication\", \"review_scores_location\", \n",
    "    \"review_scores_value\", \"license\", \"instant_bookable\", \"calculated_host_listings_count\", \n",
    "    \"calculated_host_listings_count_entire_homes\", \"calculated_host_listings_count_private_rooms\", \n",
    "    \"calculated_host_listings_count_shared_rooms\", \"reviews_per_month\"\n",
    "]\n",
    "\n",
    "# Remover as colunas especificadas\n",
    "df_listings_silver = df_listings_silver.drop(*columns_to_drop)\n",
    "\n",
    "# Exibir o esquema atualizado para verificar a remoção das colunas\n",
    "df_listings_silver.printSchema()\n"
   ]
  },
  {
   "cell_type": "code",
   "execution_count": 0,
   "metadata": {
    "application/vnd.databricks.v1+cell": {
     "cellMetadata": {
      "byteLimit": 2048000,
      "rowLimit": 10000
     },
     "inputWidgets": {},
     "nuid": "a34c6ae2-89fb-434b-a0a2-1986e198c8bc",
     "showTitle": false,
     "tableResultSettingsMap": {},
     "title": ""
    }
   },
   "outputs": [
    {
     "output_type": "display_data",
     "data": {
      "text/html": [
       "<style scoped>\n",
       "  .table-result-container {\n",
       "    max-height: 300px;\n",
       "    overflow: auto;\n",
       "  }\n",
       "  table, th, td {\n",
       "    border: 1px solid black;\n",
       "    border-collapse: collapse;\n",
       "  }\n",
       "  th, td {\n",
       "    padding: 5px;\n",
       "  }\n",
       "  th {\n",
       "    text-align: left;\n",
       "  }\n",
       "</style><div class='table-result-container'><table class='table-result'><thead style='background-color: white'><tr><th>id</th><th>source</th><th>name</th><th>description</th><th>host_id</th><th>host_name</th><th>host_since</th><th>host_about</th><th>host_acceptance_rate</th><th>host_is_superhost</th><th>host_listings_count</th><th>host_total_listings_count</th><th>latitude</th><th>longitude</th><th>property_type</th><th>room_type</th><th>accommodates</th><th>bathrooms_text</th><th>bedrooms</th><th>amenities</th><th>price</th><th>minimum_nights</th><th>maximum_nights</th><th>availability_30</th><th>availability_60</th><th>availability_90</th><th>availability_365</th><th>number_of_reviews</th><th>review_scores_rating</th></tr></thead><tbody><tr><td>17878</td><td>city scrape</td><td>Very Nice 2Br in Copacabana w. balcony, fast WiFi</td><td>\"Please note that elevated rates applies for New Years and Carnival. Price depends on length of stay and number of people. Generally I prefer a stay for 1 week or more and a maximum of 5 people (6 at the most). Contact me, and we will discuss. <br />- Bright and sunny<br />- Large balcony (25 square meters) <br />- High speed WiFi (up to 500MB)<br />- Smart TV (you can watch Netflix etc. if you have an account)<br />- 24h doorman<br />- 1 minute to walk to Copacabana Beach<br />- Silent \"\"split\"\" air conditioning<br />- Best spot in Rio\"</td><td>68997</td><td>Matthias</td><td>2010-01-08</td><td>\"I  am a  journalist/writer. Lived  in NYC for 15 years. I  am now based in Rio and published 3 volumes of travel stories on AMAZ0N: \"\"The World Is My Oyster\"\". If you have never been to Rio</td><td> you'll find  29 other travel stories from all around the globe.\"</td><td>within an hour</td><td>https://a0.muscache.com/im/pictures/user/67b13cea-8c11-49c0-a08d-7f42c330676e.jpg?aki_policy=profile_small</td><td>https://a0.muscache.com/im/pictures/user/67b13cea-8c11-49c0-a08d-7f42c330676e.jpg?aki_policy=profile_x_medium</td><td>Rio de Janeiro, Brazil</td><td>Copacabana</td><td>null</td><td>-22.96599</td><td>-43.1794</td><td>Entire home/apt</td><td>5</td><td>1 bath</td><td>2.0</td><td>2</td><td>\"[\"\"Smoking allowed\"\"</td><td> \"\"Hot water\"\"</td><td> \"\"Microwave\"\"</td><td> \"\"Elevator\"\"</td><td> \"\"Luggage dropoff allowed\"\"</td><td> \"\"Bed linens\"\"</td><td> \"\"Oven\"\"</td></tr><tr><td>271975</td><td>city scrape</td><td>Unbelievable Ocean View Apartment</td><td>null</td><td> Vidigal is the place to stay. One of the most spectacular views in Rio is on the trail to the top of \"\"Dois Irmãos\"\"</td><td> ipanema and leblon beach is not as difficult to access as it seems. Staying in the neighborhood of Vidigal you already have access to the trail with a lot more ease and even without a guide</td><td> asked the friendly residents of the community you will see the top with ease.<br />http://trilhadoisirmaos.com.br/<br /><br />Public and beautiful Park in Vidigal:<br />Sitiê<br />http://www.parquesitie.org/<br /><br />Restaurants in Vidigal:<br />Barlacubaco restaurant<br />Av. President João Goulart</td><td>https://a0.muscache.com/pictures/4563200/4ea0f419_original.jpg</td><td>Maria</td><td>2011-11-19</td><td>0%</td><td>0%</td><td>['email', 'phone']</td><td>t</td><td>t</td><td>Rio de Janeiro, Brazil</td><td>Vidigal</td><td>-22.99508</td><td>-43.23604</td><td>Entire home/apt</td><td>4.0</td><td>1.0</td><td>1 bath</td><td> \"\"Wifi\"\"</td><td> \"\"Shampoo\"\"</td><td> \"\"Washer\"\"]\"</td><td>$236.00</td><td>90</td><td>1.0</td></tr><tr><td>285554</td><td>city scrape</td><td>Xenia's Room Casa São Conrado</td><td>Our house is near the beach (400m) (surf, wind surfing, kite surfing, 40 km of bike paths), Tijuca National Park (trails, abseiling, waterfalls, tandem paragliding, cycling), Fashion Mall Shopping (restaurants, boutiques, theater, cinemas), Italian gastronomy kiosk, 15 minutes from Copacabana, Maracanã, Sambódromo, Ipanema by metro, supermarket, discos of Barra da Tijuca (Armando Lombardi Ave.) .... You will just love it!</td><td> the view reaches the entire stretch of shores of the South and West Zone of Rio de Janeiro.<br /><br />At the top of the \"\"Pedra Bonita\"\" is the free flight takeoff ramp. A 20-minute trail takes tourists up to an exceptional viewpoint on the sea shore of São Conrado.<br /><br />The view from the house is breathtaking ... and reaches the tops of the Tijuca National Park covered in subtropical forest (Atlantic Forest)<br /><br />The house is separated from the Gávea Golf Club only by a small mountain creek with clear sound of running water and intense animal life. From the house</td><td>https://a0.muscache.com/pictures/miso/Hosting-285554/original/b2d38625-930b-4537-aa69-0111b1fcfe9a.jpeg</td><td>2163079</td><td>Stanislas</td><td>I am 69 years old, was born in Paris France, lived 20 years in Germany where I founded a family  and worked for various companies of the sector of industrial machinery and in these functions I traveled quite considerably  around the world. I have been spending the last 25 years in Brazil leading the daughter company of an European group and later as an independent salesman representing North American companies. I speak English, French, German, Spanish and Portuguese, enjoy very much contacts and to get the visit of foreign travelers in my house of São Conrado in Rio de Janeiro. I turned a great fan of Brazil and like to chat with my guests about what I know about it, passing on to them the marking cultural places that I visited and my experiences with typical bars, restaurants, museums and beaches of Rio. I bought this big house 21 years ago and transformed it progressively according to my taste to  the comfortable place it is today  and it grew to be my delight and hobby ... I like people to feel at ease there just like I do myself and feel happy when they return home with nice remembrances of their stay ... </td><td>within a few hours</td><td>https://a0.muscache.com/im/users/2163079/profile_pic/1334697434/original.jpg?aki_policy=profile_small</td><td>https://a0.muscache.com/im/users/2163079/profile_pic/1334697434/original.jpg?aki_policy=profile_x_medium</td><td>Rio de Janeiro, Brazil</td><td>São Conrado</td><td>null</td><td>-22.995813369750977</td><td>-43.26896286010742</td><td>Private room</td><td>2</td><td>1 private bath</td><td>1.0</td><td>1</td><td>\"[\"\"Essentials\"\"</td><td> \"\"Drying rack for clothing\"\"</td><td> \"\"Kitchen\"\"</td><td> \"\"Consul stainless steel stove\"\"</td><td> \"\"Dishes and silverware\"\"</td><td> \"\"Clothing storage: wardrobe\"\"</td><td> \"\"Microwave\"\"</td></tr><tr><td>109747</td><td>city scrape</td><td>Ipanema WOW!  for 6+2</td><td>NOTE: you can check in at anytime but is mandatory to let me know in advance the exactly time you will arrive, otherwise you will not be able to go to the apartment until the check in lady arrives and it can take a long time if not agreed before. <br /><br />The View from the apartment's balcony of the Two Brother's Mount is the Ipanema Beach's true symbol.<br />Don't Miss the Ocean view and The Christ Redeemer from your own home in Rio.<br />The pool belong to the condo But is shared with few people.</td><td> and the huge parade performers is a spectacular sight and You'll also be able to enjoy Samba music from your balcony.<br /><br />Anything you may need is just very few minutes outside the building.<br />You don't need to walk more than 2 minutes to:<br />- Supermarket<br />-Change your money<br />-good</td><td>https://a0.muscache.com/pictures/8533153/975dba31_original.jpg</td><td>554897</td><td>Jane</td><td>null</td><td>within an hour</td><td>https://a0.muscache.com/im/pictures/user/User-554897/original/9641e0e9-3205-49ac-85f0-7d703e059951.jpeg?aki_policy=profile_small</td><td>https://a0.muscache.com/im/pictures/user/User-554897/original/9641e0e9-3205-49ac-85f0-7d703e059951.jpeg?aki_policy=profile_x_medium</td><td>Rio, Rio de Janeiro, Brazil</td><td>Ipanema</td><td>null</td><td>-22.98697</td><td>-43.19751</td><td>Entire home/apt</td><td>8</td><td>3 baths</td><td>4.0</td><td>5</td><td>\"[\"\"Beach essentials\"\"</td><td> \"\"City skyline view\"\"</td><td> \"\"Cleaning products\"\"</td><td> \"\"Free washer \\u2013 In unit\"\"</td><td> \"\"Outdoor shower\"\"</td><td> \"\"Heating - split type ductless system\"\"</td><td> \"\"40 inch HDTV with Fire TV</td></tr><tr><td>130234</td><td>city scrape</td><td>excellent studio apartment</td><td>My space is good for couples, individual adventures, business travelers and families (with kids).</td><td>641519</td><td>Osvaldo</td><td>2011-05-30</td><td>ESTE APARTAMENTO NÃO ESTÁ MAS DISPONÍVEL PARA LOCAÇÃO DESDE A PANDEMIA. NÃO ACEITO RESERVAS.</td><td>100%</td><td>f</td><td>1</td><td>1</td><td>-22.97575</td><td>-43.18877</td><td>Entire rental unit</td><td>Entire home/apt</td><td>1</td><td>0 baths</td><td>0</td><td>\"[\"\"Host greets you\"\"]\"</td><td>180.0</td><td>3</td><td>720</td><td>0</td><td>0</td><td>0</td><td>0</td><td>1</td><td>5.0</td></tr><tr><td>577253</td><td>city scrape</td><td>COPACABANA - GREAT LOCATION</td><td>Location, security and mobility! Metro and all means of transport outside the building. Spacious apartment, extremely clean and with great view. Beach, restaurants, bars, coffee shops, banks and pharmacy within walking distance. It will be a pleasure to welcome you!</td><td> a term used for those born in Rio de Janeiro</td><td>https://a0.muscache.com/pictures/09c44346-bb17-4e55-a65b-9a148263b71a.jpg</td><td>2838933</td><td>Guilherme</td><td>Sou Professor de Educação Física. Gosto de esportes em geral, cinema, viajar e conhecer novas pessoas e culturas.</td><td>within an hour</td><td>https://a0.muscache.com/im/users/2838933/profile_pic/1341546068/original.jpg?aki_policy=profile_small</td><td>https://a0.muscache.com/im/users/2838933/profile_pic/1341546068/original.jpg?aki_policy=profile_x_medium</td><td>Rio de Janeiro, Brazil</td><td>Copacabana</td><td>null</td><td>-22.96626</td><td>-43.17985</td><td>Private room</td><td>2</td><td>2 shared baths</td><td>1.0</td><td>1</td><td>\"[\"\"Essentials\"\"</td><td> \"\"First aid kit\"\"</td><td> \"\"Hot water\"\"</td><td> \"\"Microwave\"\"</td><td> \"\"Elevator\"\"</td><td> \"\"Coffee maker\"\"</td><td> \"\"Hair dryer\"\"</td></tr><tr><td>589234</td><td>city scrape</td><td>ipanema 22 with queen bed internet</td><td>null</td><td>4307081</td><td>Nereu A</td><td>2012-12-02</td><td>30 anos de experiencia na area de turismo, idiomas ingles, espanhol e portugues</td><td>9%</td><td>t</td><td>56</td><td>86</td><td>-22.98322</td><td>-43.20498</td><td>Private room in rental unit</td><td>Private room</td><td>1</td><td>1 bath</td><td>1</td><td>[]</td><td>552.0</td><td>1</td><td>1125</td><td>30</td><td>60</td><td>90</td><td>365</td><td>2</td><td>5.0</td></tr><tr><td>628044</td><td>city scrape</td><td>Best apartament Copacabana (Leme)</td><td>Good location! Green View.</td><td>1884906</td><td>Hugo</td><td>2012-03-08</td><td>\"I love to meet travelers who are passing through Rio de Janeiro. Carioca, born and grow up  in the \"\"Cidade Maravilhosa\"\". Nature is my second home. Adventurer</td><td>within an hour</td><td>100%</td><td>https://a0.muscache.com/im/users/1884906/profile_pic/1392603508/original.jpg?aki_policy=profile_x_medium</td><td>Leme</td><td>Leme</td><td>null</td><td>-22.96245</td><td>-43.17088</td><td>Entire rental unit</td><td>2</td><td>1.0</td><td>1</td><td>1.0</td><td>\"[\"\"Essentials\"\"</td><td> \"\"Window AC unit\"\"</td><td> \"\"Hot water\"\"</td><td> \"\"Lockbox\"\"</td><td> \"\"Microwave\"\"</td><td> \"\"Garden view\"\"</td><td> \"\"Coffee maker\"\"</td><td> \"\"Self check-in\"\"</td></tr><tr><td>669012</td><td>city scrape</td><td>COPA 53 close to the beach, studio</td><td>null</td><td>4307081</td><td>Nereu A</td><td>2012-12-02</td><td>30 anos de experiencia na area de turismo, idiomas ingles, espanhol e portugues</td><td>9%</td><td>t</td><td>56</td><td>86</td><td>-22.97436</td><td>-43.18951</td><td>Entire rental unit</td><td>Entire home/apt</td><td>2</td><td>1 bath</td><td>1</td><td>[]</td><td>442.0</td><td>3</td><td>1125</td><td>30</td><td>60</td><td>90</td><td>365</td><td>0</td><td>null</td></tr><tr><td>676781</td><td>city scrape</td><td>A sculptor's house</td><td>\"English will follow in \"\"Space Description\"\"<br /><br />Very quiet artist's house on quiet and safe street</td><td> there is a beautiful backyard with a banana tree</td><td> barbecue and views of Corcovado. Calm</td><td> clean environment. A truly artist's house where you can relax and discover a beautiful area of the city.\"</td><td>https://a0.muscache.com/pictures/d0db1816-32cf-4ba1-b73c-b82cee462377.jpg</td><td>Edgar</td><td>2012-03-02</td><td>N/A</td><td>56%</td><td>['email', 'phone']</td><td>t</td><td>t</td><td>Rio de Janeiro, Brazil</td><td>Rocinha</td><td>-22.9861</td><td>-43.24224</td><td>Entire home/apt</td><td>7.0</td><td>3.0</td><td>3 baths</td><td> \"\"TV\"\"</td><td> \"\"Private pool\"\"</td><td> \"\"Hot water\"\"</td><td> \"\"Pool view\"\"</td><td> \"\"Mountain view\"\"</td><td> \"\"Hair dryer\"\"</td></tr><tr><td>676983</td><td>city scrape</td><td>Penthouse ipanema</td><td>null</td><td>4307081</td><td>Nereu A</td><td>2012-12-02</td><td>30 anos de experiencia na area de turismo, idiomas ingles, espanhol e portugues</td><td>9%</td><td>t</td><td>56</td><td>86</td><td>-22.98399</td><td>-43.20804</td><td>Entire rental unit</td><td>Entire home/apt</td><td>3</td><td>null</td><td>1</td><td>[]</td><td>387.0</td><td>1</td><td>1125</td><td>30</td><td>60</td><td>86</td><td>354</td><td>12</td><td>4.75</td></tr><tr><td>896752</td><td>city scrape</td><td>bulhoes 204 near ipanema, metro</td><td>null</td><td>4307081</td><td>Nereu A</td><td>2012-12-02</td><td>30 anos de experiencia na area de turismo, idiomas ingles, espanhol e portugues</td><td>9%</td><td>t</td><td>56</td><td>86</td><td>-22.9836</td><td>-43.1923</td><td>Entire rental unit</td><td>Entire home/apt</td><td>2</td><td>1 bath</td><td>1</td><td>\"[\"\"TV with standard cable\"\"]\"</td><td>773.0</td><td>5</td><td>1125</td><td>30</td><td>60</td><td>90</td><td>365</td><td>0</td><td>null</td></tr><tr><td>925802</td><td>city scrape</td><td>Downtown, Maracanã  and Carnival</td><td>The double bed room is still available for the World Cup, so  I have got two rooms but only one ad. It's cozy and close to the Bus Terminal, to Santos Dumont Airport and to the city center....it is possible to come and go o Maracanã walking. </td><td> close to the Polic\"</td><td>4981026</td><td>https://www.airbnb.com/users/show/4981026</td><td>2013-02-05</td><td>within an hour</td><td>100%</td><td>https://a0.muscache.com/im/pictures/user/9ff38fca-8b4b-4a71-8951-08c410b0f49a.jpg?aki_policy=profile_x_medium</td><td>Praça da Bandeira</td><td>Praça da Bandeira</td><td>null</td><td>-22.91247</td><td>-43.21582</td><td>Private room in rental unit</td><td>2</td><td>1.5</td><td>1</td><td>2.0</td><td>\"[\"\"Essentials\"\"</td><td> \"\"Window AC unit\"\"</td><td> \"\"Cleaning products\"\"</td><td> \"\"Outdoor shower\"\"</td><td> \"\"Toaster\"\"</td><td> \"\"Drying rack for clothing\"\"</td><td> \"\"Dishes and silverware\"\"</td><td> \"\"Window guards\"\"</td></tr><tr><td>1012156</td><td>city scrape</td><td>suite santa clara</td><td>null</td><td>4307081</td><td>Nereu A</td><td>2012-12-02</td><td>30 anos de experiencia na area de turismo, idiomas ingles, espanhol e portugues</td><td>9%</td><td>t</td><td>56</td><td>86</td><td>-22.96969</td><td>-43.18847</td><td>Private room in hostel</td><td>Private room</td><td>2</td><td>null</td><td>1</td><td>[]</td><td>442.0</td><td>1</td><td>1125</td><td>30</td><td>60</td><td>90</td><td>365</td><td>0</td><td>null</td></tr><tr><td>1118497</td><td>city scrape</td><td>Cozy Studio at copacabana beach</td><td>\"Beautiful studio in the best point of Copacabana, two blocks from the beach and 5 minutes from Ipanema. Close to wide commerce. Easy access to public transportation and a few minutes from the subway. Family building with 24-hour concierge.<br /><br />Modern Studio equipped with self-check-in, air conditioning, 32 \"\"LCD TV</td><td> WiFi. Comfortable and extremely quiet apartment</td><td> which guarantees an excellent night's rest.<br /><br />American kitchen  with basic utensils.\"</td><td>Known as COPANEMA, this charming region differs from the others due to the proximity between the neighborhoods of Copacabana and Ipanema.<br /><br />Copacabana beach is about 250m from the building door. Ipanema's beach, on the other hand, you arrive after a gentle 700m walk ( 6 min ).<br /><br />The Subway is 500m from the studio.  Located in Praça General Osório  surrounded by bars and restaurants. <br /><br />Supermercados, restaurants, bank branches, pharmacies and laundries are easily found near the studio.</td><td>6138630</td><td>2013-04-28</td><td>Rio de Janeiro, Brazil</td><td>100%</td><td>t</td><td>t</td><td>t</td><td>Rio de Janeiro, Brazil</td><td>Copacabana</td><td>null</td><td>-43.19047</td><td>Entire rental unit</td><td>3</td><td>1.0</td><td>1 bath</td><td>1</td><td> \"\"Kitchen\"\"</td><td> \"\"Dishes and silverware\"\"</td><td> \"\"Mini fridge\"\"</td><td> \"\"First aid kit\"\"</td><td> \"\"Hot water\"\"</td><td> \"\"Smart lock\"\"</td></tr></tbody></table></div>"
      ]
     },
     "metadata": {
      "application/vnd.databricks.v1+output": {
       "addedWidgets": {},
       "aggData": [],
       "aggError": "",
       "aggOverflow": false,
       "aggSchema": [],
       "aggSeriesLimitReached": false,
       "aggType": "",
       "arguments": {},
       "columnCustomDisplayInfos": {},
       "data": [
        [
         17878,
         "city scrape",
         "Very Nice 2Br in Copacabana w. balcony, fast WiFi",
         "\"Please note that elevated rates applies for New Years and Carnival. Price depends on length of stay and number of people. Generally I prefer a stay for 1 week or more and a maximum of 5 people (6 at the most). Contact me, and we will discuss. <br />- Bright and sunny<br />- Large balcony (25 square meters) <br />- High speed WiFi (up to 500MB)<br />- Smart TV (you can watch Netflix etc. if you have an account)<br />- 24h doorman<br />- 1 minute to walk to Copacabana Beach<br />- Silent \"\"split\"\" air conditioning<br />- Best spot in Rio\"",
         "68997",
         "Matthias",
         "2010-01-08",
         "\"I  am a  journalist/writer. Lived  in NYC for 15 years. I  am now based in Rio and published 3 volumes of travel stories on AMAZ0N: \"\"The World Is My Oyster\"\". If you have never been to Rio",
         " you'll find  29 other travel stories from all around the globe.\"",
         "within an hour",
         "https://a0.muscache.com/im/pictures/user/67b13cea-8c11-49c0-a08d-7f42c330676e.jpg?aki_policy=profile_small",
         "https://a0.muscache.com/im/pictures/user/67b13cea-8c11-49c0-a08d-7f42c330676e.jpg?aki_policy=profile_x_medium",
         "Rio de Janeiro, Brazil",
         "Copacabana",
         null,
         "-22.96599",
         "-43.1794",
         "Entire home/apt",
         "5",
         "1 bath",
         2.0,
         "2",
         "\"[\"\"Smoking allowed\"\"",
         " \"\"Hot water\"\"",
         " \"\"Microwave\"\"",
         " \"\"Elevator\"\"",
         " \"\"Luggage dropoff allowed\"\"",
         " \"\"Bed linens\"\"",
         " \"\"Oven\"\""
        ],
        [
         271975,
         "city scrape",
         "Unbelievable Ocean View Apartment",
         null,
         " Vidigal is the place to stay. One of the most spectacular views in Rio is on the trail to the top of \"\"Dois Irmãos\"\"",
         " ipanema and leblon beach is not as difficult to access as it seems. Staying in the neighborhood of Vidigal you already have access to the trail with a lot more ease and even without a guide",
         " asked the friendly residents of the community you will see the top with ease.<br />http://trilhadoisirmaos.com.br/<br /><br />Public and beautiful Park in Vidigal:<br />Sitiê<br />http://www.parquesitie.org/<br /><br />Restaurants in Vidigal:<br />Barlacubaco restaurant<br />Av. President João Goulart",
         "https://a0.muscache.com/pictures/4563200/4ea0f419_original.jpg",
         "Maria",
         "2011-11-19",
         "0%",
         "0%",
         "['email', 'phone']",
         "t",
         "t",
         "Rio de Janeiro, Brazil",
         "Vidigal",
         "-22.99508",
         "-43.23604",
         "Entire home/apt",
         4.0,
         "1.0",
         "1 bath",
         " \"\"Wifi\"\"",
         " \"\"Shampoo\"\"",
         " \"\"Washer\"\"]\"",
         "$236.00",
         "90",
         "1.0"
        ],
        [
         285554,
         "city scrape",
         "Xenia's Room Casa São Conrado",
         "Our house is near the beach (400m) (surf, wind surfing, kite surfing, 40 km of bike paths), Tijuca National Park (trails, abseiling, waterfalls, tandem paragliding, cycling), Fashion Mall Shopping (restaurants, boutiques, theater, cinemas), Italian gastronomy kiosk, 15 minutes from Copacabana, Maracanã, Sambódromo, Ipanema by metro, supermarket, discos of Barra da Tijuca (Armando Lombardi Ave.) .... You will just love it!",
         " the view reaches the entire stretch of shores of the South and West Zone of Rio de Janeiro.<br /><br />At the top of the \"\"Pedra Bonita\"\" is the free flight takeoff ramp. A 20-minute trail takes tourists up to an exceptional viewpoint on the sea shore of São Conrado.<br /><br />The view from the house is breathtaking ... and reaches the tops of the Tijuca National Park covered in subtropical forest (Atlantic Forest)<br /><br />The house is separated from the Gávea Golf Club only by a small mountain creek with clear sound of running water and intense animal life. From the house",
         "https://a0.muscache.com/pictures/miso/Hosting-285554/original/b2d38625-930b-4537-aa69-0111b1fcfe9a.jpeg",
         "2163079",
         "Stanislas",
         "I am 69 years old, was born in Paris France, lived 20 years in Germany where I founded a family  and worked for various companies of the sector of industrial machinery and in these functions I traveled quite considerably  around the world. I have been spending the last 25 years in Brazil leading the daughter company of an European group and later as an independent salesman representing North American companies. I speak English, French, German, Spanish and Portuguese, enjoy very much contacts and to get the visit of foreign travelers in my house of São Conrado in Rio de Janeiro. I turned a great fan of Brazil and like to chat with my guests about what I know about it, passing on to them the marking cultural places that I visited and my experiences with typical bars, restaurants, museums and beaches of Rio. I bought this big house 21 years ago and transformed it progressively according to my taste to  the comfortable place it is today  and it grew to be my delight and hobby ... I like people to feel at ease there just like I do myself and feel happy when they return home with nice remembrances of their stay ... ",
         "within a few hours",
         "https://a0.muscache.com/im/users/2163079/profile_pic/1334697434/original.jpg?aki_policy=profile_small",
         "https://a0.muscache.com/im/users/2163079/profile_pic/1334697434/original.jpg?aki_policy=profile_x_medium",
         "Rio de Janeiro, Brazil",
         "São Conrado",
         null,
         "-22.995813369750977",
         "-43.26896286010742",
         "Private room",
         "2",
         "1 private bath",
         1.0,
         "1",
         "\"[\"\"Essentials\"\"",
         " \"\"Drying rack for clothing\"\"",
         " \"\"Kitchen\"\"",
         " \"\"Consul stainless steel stove\"\"",
         " \"\"Dishes and silverware\"\"",
         " \"\"Clothing storage: wardrobe\"\"",
         " \"\"Microwave\"\""
        ],
        [
         109747,
         "city scrape",
         "Ipanema WOW!  for 6+2",
         "NOTE: you can check in at anytime but is mandatory to let me know in advance the exactly time you will arrive, otherwise you will not be able to go to the apartment until the check in lady arrives and it can take a long time if not agreed before. <br /><br />The View from the apartment's balcony of the Two Brother's Mount is the Ipanema Beach's true symbol.<br />Don't Miss the Ocean view and The Christ Redeemer from your own home in Rio.<br />The pool belong to the condo But is shared with few people.",
         " and the huge parade performers is a spectacular sight and You'll also be able to enjoy Samba music from your balcony.<br /><br />Anything you may need is just very few minutes outside the building.<br />You don't need to walk more than 2 minutes to:<br />- Supermarket<br />-Change your money<br />-good",
         "https://a0.muscache.com/pictures/8533153/975dba31_original.jpg",
         "554897",
         "Jane",
         null,
         "within an hour",
         "https://a0.muscache.com/im/pictures/user/User-554897/original/9641e0e9-3205-49ac-85f0-7d703e059951.jpeg?aki_policy=profile_small",
         "https://a0.muscache.com/im/pictures/user/User-554897/original/9641e0e9-3205-49ac-85f0-7d703e059951.jpeg?aki_policy=profile_x_medium",
         "Rio, Rio de Janeiro, Brazil",
         "Ipanema",
         null,
         "-22.98697",
         "-43.19751",
         "Entire home/apt",
         "8",
         "3 baths",
         4.0,
         "5",
         "\"[\"\"Beach essentials\"\"",
         " \"\"City skyline view\"\"",
         " \"\"Cleaning products\"\"",
         " \"\"Free washer \\u2013 In unit\"\"",
         " \"\"Outdoor shower\"\"",
         " \"\"Heating - split type ductless system\"\"",
         " \"\"40 inch HDTV with Fire TV"
        ],
        [
         130234,
         "city scrape",
         "excellent studio apartment",
         "My space is good for couples, individual adventures, business travelers and families (with kids).",
         "641519",
         "Osvaldo",
         "2011-05-30",
         "ESTE APARTAMENTO NÃO ESTÁ MAS DISPONÍVEL PARA LOCAÇÃO DESDE A PANDEMIA. NÃO ACEITO RESERVAS.",
         "100%",
         "f",
         "1",
         "1",
         "-22.97575",
         "-43.18877",
         "Entire rental unit",
         "Entire home/apt",
         "1",
         "0 baths",
         "0",
         "\"[\"\"Host greets you\"\"]\"",
         180.0,
         "3",
         "720",
         "0",
         "0",
         "0",
         "0",
         "1",
         "5.0"
        ],
        [
         577253,
         "city scrape",
         "COPACABANA - GREAT LOCATION",
         "Location, security and mobility! Metro and all means of transport outside the building. Spacious apartment, extremely clean and with great view. Beach, restaurants, bars, coffee shops, banks and pharmacy within walking distance. It will be a pleasure to welcome you!",
         " a term used for those born in Rio de Janeiro",
         "https://a0.muscache.com/pictures/09c44346-bb17-4e55-a65b-9a148263b71a.jpg",
         "2838933",
         "Guilherme",
         "Sou Professor de Educação Física. Gosto de esportes em geral, cinema, viajar e conhecer novas pessoas e culturas.",
         "within an hour",
         "https://a0.muscache.com/im/users/2838933/profile_pic/1341546068/original.jpg?aki_policy=profile_small",
         "https://a0.muscache.com/im/users/2838933/profile_pic/1341546068/original.jpg?aki_policy=profile_x_medium",
         "Rio de Janeiro, Brazil",
         "Copacabana",
         null,
         "-22.96626",
         "-43.17985",
         "Private room",
         "2",
         "2 shared baths",
         1.0,
         "1",
         "\"[\"\"Essentials\"\"",
         " \"\"First aid kit\"\"",
         " \"\"Hot water\"\"",
         " \"\"Microwave\"\"",
         " \"\"Elevator\"\"",
         " \"\"Coffee maker\"\"",
         " \"\"Hair dryer\"\""
        ],
        [
         589234,
         "city scrape",
         "ipanema 22 with queen bed internet",
         null,
         "4307081",
         "Nereu A",
         "2012-12-02",
         "30 anos de experiencia na area de turismo, idiomas ingles, espanhol e portugues",
         "9%",
         "t",
         "56",
         "86",
         "-22.98322",
         "-43.20498",
         "Private room in rental unit",
         "Private room",
         "1",
         "1 bath",
         "1",
         "[]",
         552.0,
         "1",
         "1125",
         "30",
         "60",
         "90",
         "365",
         "2",
         "5.0"
        ],
        [
         628044,
         "city scrape",
         "Best apartament Copacabana (Leme)",
         "Good location! Green View.",
         "1884906",
         "Hugo",
         "2012-03-08",
         "\"I love to meet travelers who are passing through Rio de Janeiro. Carioca, born and grow up  in the \"\"Cidade Maravilhosa\"\". Nature is my second home. Adventurer",
         "within an hour",
         "100%",
         "https://a0.muscache.com/im/users/1884906/profile_pic/1392603508/original.jpg?aki_policy=profile_x_medium",
         "Leme",
         "Leme",
         null,
         "-22.96245",
         "-43.17088",
         "Entire rental unit",
         "2",
         "1.0",
         "1",
         1.0,
         "\"[\"\"Essentials\"\"",
         " \"\"Window AC unit\"\"",
         " \"\"Hot water\"\"",
         " \"\"Lockbox\"\"",
         " \"\"Microwave\"\"",
         " \"\"Garden view\"\"",
         " \"\"Coffee maker\"\"",
         " \"\"Self check-in\"\""
        ],
        [
         669012,
         "city scrape",
         "COPA 53 close to the beach, studio",
         null,
         "4307081",
         "Nereu A",
         "2012-12-02",
         "30 anos de experiencia na area de turismo, idiomas ingles, espanhol e portugues",
         "9%",
         "t",
         "56",
         "86",
         "-22.97436",
         "-43.18951",
         "Entire rental unit",
         "Entire home/apt",
         "2",
         "1 bath",
         "1",
         "[]",
         442.0,
         "3",
         "1125",
         "30",
         "60",
         "90",
         "365",
         "0",
         null
        ],
        [
         676781,
         "city scrape",
         "A sculptor's house",
         "\"English will follow in \"\"Space Description\"\"<br /><br />Very quiet artist's house on quiet and safe street",
         " there is a beautiful backyard with a banana tree",
         " barbecue and views of Corcovado. Calm",
         " clean environment. A truly artist's house where you can relax and discover a beautiful area of the city.\"",
         "https://a0.muscache.com/pictures/d0db1816-32cf-4ba1-b73c-b82cee462377.jpg",
         "Edgar",
         "2012-03-02",
         "N/A",
         "56%",
         "['email', 'phone']",
         "t",
         "t",
         "Rio de Janeiro, Brazil",
         "Rocinha",
         "-22.9861",
         "-43.24224",
         "Entire home/apt",
         7.0,
         "3.0",
         "3 baths",
         " \"\"TV\"\"",
         " \"\"Private pool\"\"",
         " \"\"Hot water\"\"",
         " \"\"Pool view\"\"",
         " \"\"Mountain view\"\"",
         " \"\"Hair dryer\"\""
        ],
        [
         676983,
         "city scrape",
         "Penthouse ipanema",
         null,
         "4307081",
         "Nereu A",
         "2012-12-02",
         "30 anos de experiencia na area de turismo, idiomas ingles, espanhol e portugues",
         "9%",
         "t",
         "56",
         "86",
         "-22.98399",
         "-43.20804",
         "Entire rental unit",
         "Entire home/apt",
         "3",
         null,
         "1",
         "[]",
         387.0,
         "1",
         "1125",
         "30",
         "60",
         "86",
         "354",
         "12",
         "4.75"
        ],
        [
         896752,
         "city scrape",
         "bulhoes 204 near ipanema, metro",
         null,
         "4307081",
         "Nereu A",
         "2012-12-02",
         "30 anos de experiencia na area de turismo, idiomas ingles, espanhol e portugues",
         "9%",
         "t",
         "56",
         "86",
         "-22.9836",
         "-43.1923",
         "Entire rental unit",
         "Entire home/apt",
         "2",
         "1 bath",
         "1",
         "\"[\"\"TV with standard cable\"\"]\"",
         773.0,
         "5",
         "1125",
         "30",
         "60",
         "90",
         "365",
         "0",
         null
        ],
        [
         925802,
         "city scrape",
         "Downtown, Maracanã  and Carnival",
         "The double bed room is still available for the World Cup, so  I have got two rooms but only one ad. It's cozy and close to the Bus Terminal, to Santos Dumont Airport and to the city center....it is possible to come and go o Maracanã walking. ",
         " close to the Polic\"",
         "4981026",
         "https://www.airbnb.com/users/show/4981026",
         "2013-02-05",
         "within an hour",
         "100%",
         "https://a0.muscache.com/im/pictures/user/9ff38fca-8b4b-4a71-8951-08c410b0f49a.jpg?aki_policy=profile_x_medium",
         "Praça da Bandeira",
         "Praça da Bandeira",
         null,
         "-22.91247",
         "-43.21582",
         "Private room in rental unit",
         "2",
         "1.5",
         "1",
         2.0,
         "\"[\"\"Essentials\"\"",
         " \"\"Window AC unit\"\"",
         " \"\"Cleaning products\"\"",
         " \"\"Outdoor shower\"\"",
         " \"\"Toaster\"\"",
         " \"\"Drying rack for clothing\"\"",
         " \"\"Dishes and silverware\"\"",
         " \"\"Window guards\"\""
        ],
        [
         1012156,
         "city scrape",
         "suite santa clara",
         null,
         "4307081",
         "Nereu A",
         "2012-12-02",
         "30 anos de experiencia na area de turismo, idiomas ingles, espanhol e portugues",
         "9%",
         "t",
         "56",
         "86",
         "-22.96969",
         "-43.18847",
         "Private room in hostel",
         "Private room",
         "2",
         null,
         "1",
         "[]",
         442.0,
         "1",
         "1125",
         "30",
         "60",
         "90",
         "365",
         "0",
         null
        ],
        [
         1118497,
         "city scrape",
         "Cozy Studio at copacabana beach",
         "\"Beautiful studio in the best point of Copacabana, two blocks from the beach and 5 minutes from Ipanema. Close to wide commerce. Easy access to public transportation and a few minutes from the subway. Family building with 24-hour concierge.<br /><br />Modern Studio equipped with self-check-in, air conditioning, 32 \"\"LCD TV",
         " WiFi. Comfortable and extremely quiet apartment",
         " which guarantees an excellent night's rest.<br /><br />American kitchen  with basic utensils.\"",
         "Known as COPANEMA, this charming region differs from the others due to the proximity between the neighborhoods of Copacabana and Ipanema.<br /><br />Copacabana beach is about 250m from the building door. Ipanema's beach, on the other hand, you arrive after a gentle 700m walk ( 6 min ).<br /><br />The Subway is 500m from the studio.  Located in Praça General Osório  surrounded by bars and restaurants. <br /><br />Supermercados, restaurants, bank branches, pharmacies and laundries are easily found near the studio.",
         "6138630",
         "2013-04-28",
         "Rio de Janeiro, Brazil",
         "100%",
         "t",
         "t",
         "t",
         "Rio de Janeiro, Brazil",
         "Copacabana",
         null,
         "-43.19047",
         "Entire rental unit",
         "3",
         1.0,
         "1 bath",
         "1",
         " \"\"Kitchen\"\"",
         " \"\"Dishes and silverware\"\"",
         " \"\"Mini fridge\"\"",
         " \"\"First aid kit\"\"",
         " \"\"Hot water\"\"",
         " \"\"Smart lock\"\""
        ]
       ],
       "datasetInfos": [],
       "dbfsResultPath": null,
       "isJsonSchema": true,
       "metadata": {},
       "overflow": false,
       "plotOptions": {
        "customPlotOptions": {},
        "displayType": "table",
        "pivotAggregation": null,
        "pivotColumns": null,
        "xColumns": null,
        "yColumns": null
       },
       "removedWidgets": [],
       "schema": [
        {
         "metadata": "{}",
         "name": "id",
         "type": "\"long\""
        },
        {
         "metadata": "{}",
         "name": "source",
         "type": "\"string\""
        },
        {
         "metadata": "{}",
         "name": "name",
         "type": "\"string\""
        },
        {
         "metadata": "{}",
         "name": "description",
         "type": "\"string\""
        },
        {
         "metadata": "{}",
         "name": "host_id",
         "type": "\"string\""
        },
        {
         "metadata": "{}",
         "name": "host_name",
         "type": "\"string\""
        },
        {
         "metadata": "{}",
         "name": "host_since",
         "type": "\"string\""
        },
        {
         "metadata": "{}",
         "name": "host_about",
         "type": "\"string\""
        },
        {
         "metadata": "{}",
         "name": "host_acceptance_rate",
         "type": "\"string\""
        },
        {
         "metadata": "{}",
         "name": "host_is_superhost",
         "type": "\"string\""
        },
        {
         "metadata": "{}",
         "name": "host_listings_count",
         "type": "\"string\""
        },
        {
         "metadata": "{}",
         "name": "host_total_listings_count",
         "type": "\"string\""
        },
        {
         "metadata": "{}",
         "name": "latitude",
         "type": "\"string\""
        },
        {
         "metadata": "{}",
         "name": "longitude",
         "type": "\"string\""
        },
        {
         "metadata": "{}",
         "name": "property_type",
         "type": "\"string\""
        },
        {
         "metadata": "{}",
         "name": "room_type",
         "type": "\"string\""
        },
        {
         "metadata": "{}",
         "name": "accommodates",
         "type": "\"string\""
        },
        {
         "metadata": "{}",
         "name": "bathrooms_text",
         "type": "\"string\""
        },
        {
         "metadata": "{}",
         "name": "bedrooms",
         "type": "\"string\""
        },
        {
         "metadata": "{}",
         "name": "amenities",
         "type": "\"string\""
        },
        {
         "metadata": "{}",
         "name": "price",
         "type": "\"float\""
        },
        {
         "metadata": "{}",
         "name": "minimum_nights",
         "type": "\"string\""
        },
        {
         "metadata": "{}",
         "name": "maximum_nights",
         "type": "\"string\""
        },
        {
         "metadata": "{}",
         "name": "availability_30",
         "type": "\"string\""
        },
        {
         "metadata": "{}",
         "name": "availability_60",
         "type": "\"string\""
        },
        {
         "metadata": "{}",
         "name": "availability_90",
         "type": "\"string\""
        },
        {
         "metadata": "{}",
         "name": "availability_365",
         "type": "\"string\""
        },
        {
         "metadata": "{}",
         "name": "number_of_reviews",
         "type": "\"string\""
        },
        {
         "metadata": "{}",
         "name": "review_scores_rating",
         "type": "\"string\""
        }
       ],
       "type": "table"
      }
     },
     "output_type": "display_data"
    }
   ],
   "source": [
    "df_listings_silver.limit(15).display()"
   ]
  },
  {
   "cell_type": "code",
   "execution_count": 0,
   "metadata": {
    "application/vnd.databricks.v1+cell": {
     "cellMetadata": {
      "byteLimit": 2048000,
      "rowLimit": 10000
     },
     "inputWidgets": {},
     "nuid": "d6b13f02-7bcb-43c7-9429-8c6d460fcf78",
     "showTitle": false,
     "tableResultSettingsMap": {},
     "title": ""
    }
   },
   "outputs": [],
   "source": [
    "# Filtrar linhas onde host_id contém caracteres que não são dígitos\n",
    "df_listings_silver = df_listings_silver.filter(df_listings_silver.host_id.rlike(\"^[0-9]+$\"))"
   ]
  },
  {
   "cell_type": "code",
   "execution_count": 0,
   "metadata": {
    "application/vnd.databricks.v1+cell": {
     "cellMetadata": {
      "byteLimit": 2048000,
      "rowLimit": 10000
     },
     "inputWidgets": {},
     "nuid": "d886f8a2-0734-4ca4-a566-314afd9376a7",
     "showTitle": false,
     "tableResultSettingsMap": {},
     "title": ""
    }
   },
   "outputs": [
    {
     "output_type": "display_data",
     "data": {
      "text/html": [
       "<style scoped>\n",
       "  .table-result-container {\n",
       "    max-height: 300px;\n",
       "    overflow: auto;\n",
       "  }\n",
       "  table, th, td {\n",
       "    border: 1px solid black;\n",
       "    border-collapse: collapse;\n",
       "  }\n",
       "  th, td {\n",
       "    padding: 5px;\n",
       "  }\n",
       "  th {\n",
       "    text-align: left;\n",
       "  }\n",
       "</style><div class='table-result-container'><table class='table-result'><thead style='background-color: white'><tr><th>id</th><th>source</th><th>name</th><th>description</th><th>host_id</th><th>host_name</th><th>host_since</th><th>host_about</th><th>host_acceptance_rate</th><th>host_is_superhost</th><th>host_listings_count</th><th>host_total_listings_count</th><th>latitude</th><th>longitude</th><th>property_type</th><th>room_type</th><th>accommodates</th><th>bathrooms_text</th><th>bedrooms</th><th>amenities</th><th>price</th><th>minimum_nights</th><th>maximum_nights</th><th>availability_30</th><th>availability_60</th><th>availability_90</th><th>availability_365</th><th>number_of_reviews</th><th>review_scores_rating</th></tr></thead><tbody><tr><td>17878</td><td>city scrape</td><td>Very Nice 2Br in Copacabana w. balcony, fast WiFi</td><td>\"Please note that elevated rates applies for New Years and Carnival. Price depends on length of stay and number of people. Generally I prefer a stay for 1 week or more and a maximum of 5 people (6 at the most). Contact me, and we will discuss. <br />- Bright and sunny<br />- Large balcony (25 square meters) <br />- High speed WiFi (up to 500MB)<br />- Smart TV (you can watch Netflix etc. if you have an account)<br />- 24h doorman<br />- 1 minute to walk to Copacabana Beach<br />- Silent \"\"split\"\" air conditioning<br />- Best spot in Rio\"</td><td>68997</td><td>Matthias</td><td>2010-01-08</td><td>\"I  am a  journalist/writer. Lived  in NYC for 15 years. I  am now based in Rio and published 3 volumes of travel stories on AMAZ0N: \"\"The World Is My Oyster\"\". If you have never been to Rio</td><td> you'll find  29 other travel stories from all around the globe.\"</td><td>within an hour</td><td>https://a0.muscache.com/im/pictures/user/67b13cea-8c11-49c0-a08d-7f42c330676e.jpg?aki_policy=profile_small</td><td>https://a0.muscache.com/im/pictures/user/67b13cea-8c11-49c0-a08d-7f42c330676e.jpg?aki_policy=profile_x_medium</td><td>Rio de Janeiro, Brazil</td><td>Copacabana</td><td>null</td><td>-22.96599</td><td>-43.1794</td><td>Entire home/apt</td><td>5</td><td>1 bath</td><td>2.0</td><td>2</td><td>\"[\"\"Smoking allowed\"\"</td><td> \"\"Hot water\"\"</td><td> \"\"Microwave\"\"</td><td> \"\"Elevator\"\"</td><td> \"\"Luggage dropoff allowed\"\"</td><td> \"\"Bed linens\"\"</td><td> \"\"Oven\"\"</td></tr><tr><td>130234</td><td>city scrape</td><td>excellent studio apartment</td><td>My space is good for couples, individual adventures, business travelers and families (with kids).</td><td>641519</td><td>Osvaldo</td><td>2011-05-30</td><td>ESTE APARTAMENTO NÃO ESTÁ MAS DISPONÍVEL PARA LOCAÇÃO DESDE A PANDEMIA. NÃO ACEITO RESERVAS.</td><td>100%</td><td>f</td><td>1</td><td>1</td><td>-22.97575</td><td>-43.18877</td><td>Entire rental unit</td><td>Entire home/apt</td><td>1</td><td>0 baths</td><td>0</td><td>\"[\"\"Host greets you\"\"]\"</td><td>180.0</td><td>3</td><td>720</td><td>0</td><td>0</td><td>0</td><td>0</td><td>1</td><td>5.0</td></tr><tr><td>589234</td><td>city scrape</td><td>ipanema 22 with queen bed internet</td><td>null</td><td>4307081</td><td>Nereu A</td><td>2012-12-02</td><td>30 anos de experiencia na area de turismo, idiomas ingles, espanhol e portugues</td><td>9%</td><td>t</td><td>56</td><td>86</td><td>-22.98322</td><td>-43.20498</td><td>Private room in rental unit</td><td>Private room</td><td>1</td><td>1 bath</td><td>1</td><td>[]</td><td>552.0</td><td>1</td><td>1125</td><td>30</td><td>60</td><td>90</td><td>365</td><td>2</td><td>5.0</td></tr><tr><td>628044</td><td>city scrape</td><td>Best apartament Copacabana (Leme)</td><td>Good location! Green View.</td><td>1884906</td><td>Hugo</td><td>2012-03-08</td><td>\"I love to meet travelers who are passing through Rio de Janeiro. Carioca, born and grow up  in the \"\"Cidade Maravilhosa\"\". Nature is my second home. Adventurer</td><td>within an hour</td><td>100%</td><td>https://a0.muscache.com/im/users/1884906/profile_pic/1392603508/original.jpg?aki_policy=profile_x_medium</td><td>Leme</td><td>Leme</td><td>null</td><td>-22.96245</td><td>-43.17088</td><td>Entire rental unit</td><td>2</td><td>1.0</td><td>1</td><td>1.0</td><td>\"[\"\"Essentials\"\"</td><td> \"\"Window AC unit\"\"</td><td> \"\"Hot water\"\"</td><td> \"\"Lockbox\"\"</td><td> \"\"Microwave\"\"</td><td> \"\"Garden view\"\"</td><td> \"\"Coffee maker\"\"</td><td> \"\"Self check-in\"\"</td></tr><tr><td>669012</td><td>city scrape</td><td>COPA 53 close to the beach, studio</td><td>null</td><td>4307081</td><td>Nereu A</td><td>2012-12-02</td><td>30 anos de experiencia na area de turismo, idiomas ingles, espanhol e portugues</td><td>9%</td><td>t</td><td>56</td><td>86</td><td>-22.97436</td><td>-43.18951</td><td>Entire rental unit</td><td>Entire home/apt</td><td>2</td><td>1 bath</td><td>1</td><td>[]</td><td>442.0</td><td>3</td><td>1125</td><td>30</td><td>60</td><td>90</td><td>365</td><td>0</td><td>null</td></tr><tr><td>676983</td><td>city scrape</td><td>Penthouse ipanema</td><td>null</td><td>4307081</td><td>Nereu A</td><td>2012-12-02</td><td>30 anos de experiencia na area de turismo, idiomas ingles, espanhol e portugues</td><td>9%</td><td>t</td><td>56</td><td>86</td><td>-22.98399</td><td>-43.20804</td><td>Entire rental unit</td><td>Entire home/apt</td><td>3</td><td>null</td><td>1</td><td>[]</td><td>387.0</td><td>1</td><td>1125</td><td>30</td><td>60</td><td>86</td><td>354</td><td>12</td><td>4.75</td></tr><tr><td>896752</td><td>city scrape</td><td>bulhoes 204 near ipanema, metro</td><td>null</td><td>4307081</td><td>Nereu A</td><td>2012-12-02</td><td>30 anos de experiencia na area de turismo, idiomas ingles, espanhol e portugues</td><td>9%</td><td>t</td><td>56</td><td>86</td><td>-22.9836</td><td>-43.1923</td><td>Entire rental unit</td><td>Entire home/apt</td><td>2</td><td>1 bath</td><td>1</td><td>\"[\"\"TV with standard cable\"\"]\"</td><td>773.0</td><td>5</td><td>1125</td><td>30</td><td>60</td><td>90</td><td>365</td><td>0</td><td>null</td></tr><tr><td>1012156</td><td>city scrape</td><td>suite santa clara</td><td>null</td><td>4307081</td><td>Nereu A</td><td>2012-12-02</td><td>30 anos de experiencia na area de turismo, idiomas ingles, espanhol e portugues</td><td>9%</td><td>t</td><td>56</td><td>86</td><td>-22.96969</td><td>-43.18847</td><td>Private room in hostel</td><td>Private room</td><td>2</td><td>null</td><td>1</td><td>[]</td><td>442.0</td><td>1</td><td>1125</td><td>30</td><td>60</td><td>90</td><td>365</td><td>0</td><td>null</td></tr><tr><td>2330025</td><td>city scrape</td><td>wonderful view in Leblon</td><td>One-bedroom apartment, comfortable with a wonderful view to the sea. Fully equipped for four, possibly five, the best of Leblon. <br />Air conditioning in rooms, cable TV and wi fi. Close to Shopping and to sophisticated and trendy bars and restaurants. </td><td>8479954</td><td>Naira Beatriz</td><td>2013-08-27</td><td>null</td><td>9%</td><td>f</td><td>4</td><td>10</td><td>-22.98425</td><td>-43.21614</td><td>Entire rental unit</td><td>Entire home/apt</td><td>4</td><td>1 bath</td><td>1</td><td>[]</td><td>414.0</td><td>1</td><td>1125</td><td>30</td><td>60</td><td>88</td><td>363</td><td>0</td><td>null</td></tr><tr><td>2473019</td><td>city scrape</td><td>Excellent Leblon Rio Next To Beach</td><td>null</td><td>12647926</td><td>Cabral</td><td>2014-02-27</td><td>\"I am a Ph.D in Computer Sciences by the University of Paris VI (\"\"Université Pierre et Marie Curie\"\"</td><td> and currently I am an full professor with the \"\"Universidade Federal do Rio de Janeiro\"\"</td><td> UFRJ</td><td>67%</td><td>f</td><td>t</td><td>t</td><td>Rio, Rio de Janeiro, Brazil</td><td>Leblon</td><td>null</td><td>-43.22326</td><td>Entire condo</td><td>9</td><td>3.0</td><td>3 baths</td><td>3</td><td> \"\"Cleaning products\"\"</td><td> \"\"Coffee maker: drip coffee maker\"\"</td><td> \"\"Toaster\"\"</td><td> \"\"Drying rack for clothing\"\"</td><td> \"\"Refrigerator\"\"</td><td> \"\"First aid kit\"\"</td></tr><tr><td>2604279</td><td>city scrape</td><td>Alugo apto para copa / rent a flat</td><td>duplex living room, toilet, kitchen, 2 suites , sea view, 2 balconies, leisure area, swimming pool , sauna . restaurant, shopping mall next door. close to the best beaches of Rio de Janeiro surf and family  Prainha, direct bus to the maracanã . Housekeeper.</td><td>13338035</td><td>Cynthia</td><td>2014-03-20</td><td>null</td><td>N/A</td><td>f</td><td>1</td><td>2</td><td>-23.02245</td><td>-43.48829</td><td>Entire rental unit</td><td>Entire home/apt</td><td>6</td><td>3.5 baths</td><td>2</td><td>[]</td><td>800.0</td><td>7</td><td>30</td><td>30</td><td>60</td><td>90</td><td>365</td><td>0</td><td>null</td></tr><tr><td>2825740</td><td>city scrape</td><td>Apto para até 5 pessoas no Maracanã</td><td>Excellent 2 qts with complete facilities. Quiet building and very well located. Nearby metro, bus stop from all parts of RJ, vast commerce in the surroundings, restaurants, next to Maracanã. Furnished apartment.</td><td>13044752</td><td>Guilherme</td><td>2014-03-12</td><td>null</td><td>N/A</td><td>f</td><td>1</td><td>2</td><td>-22.91296</td><td>-43.20159</td><td>Entire rental unit</td><td>Entire home/apt</td><td>5</td><td>2 baths</td><td>2</td><td>[]</td><td>300.0</td><td>10</td><td>1125</td><td>30</td><td>60</td><td>90</td><td>365</td><td>0</td><td>null</td></tr><tr><td>2830938</td><td>city scrape</td><td>APT PARA A COPA DO MUNDO - RJ</td><td>APT with 2 rooms, 1 bathroom, 1 kitchen , nice place, beautiful view facing to forest, parking for a car, 40 min to Maracanã, next to the Barra´s beach <br /><br />Services - Amenities<br /><br />delivery for all  ( super market - taxi - drugstore - food - loundry )</td><td>2454477</td><td>Joselia</td><td>2012-05-24</td><td>Amigavel, mistress!</td><td>N/A</td><td>f</td><td>1</td><td>2</td><td>-22.97695</td><td>-43.32794</td><td>Entire rental unit</td><td>Entire home/apt</td><td>4</td><td>1 bath</td><td>2</td><td>[]</td><td>829.0</td><td>7</td><td>90</td><td>30</td><td>60</td><td>90</td><td>365</td><td>0</td><td>null</td></tr><tr><td>3027794</td><td>city scrape</td><td>Apartamento charmoso no Maracanã</td><td>Its a big, cozy appartment, quiet and safe neighborhood. Also some restaurants around. <br />Its really close to the metro and to maracanã stadium, about 10min walking. <br />Tips and advices of how to be carioca (brazilians own way) are our courtesy for you</td><td>14242270</td><td>Gus</td><td>2014-04-13</td><td>Love to travel, cook and meet people from different countries. Graduated in law and sport addicted.</td><td>N/A</td><td>f</td><td>1</td><td>2</td><td>-22.90943</td><td>-43.2427</td><td>Entire condo</td><td>Entire home/apt</td><td>8</td><td>2 baths</td><td>4</td><td>[]</td><td>354.0</td><td>10</td><td>180</td><td>29</td><td>59</td><td>89</td><td>364</td><td>0</td><td>null</td></tr><tr><td>3931867</td><td>city scrape</td><td>Cozy flat in Copacabana</td><td>Located one block away from Copacabana beach, friendly and lively area, close to all amenities (bus, metro, shops, pharmacies, restaurants). A quiet apartment, functional, completely renovated, in a secure building with concierge 24h.</td><td>20370177</td><td>Sylvie</td><td>2014-08-21</td><td>\"Olá, meu nome é Sylvie e moro no Rio há 11 anos. Aguardo você na \"\"Cidade Maravilhosa\"\"</td><td> uma estadia extraordinária !\"</td><td>within a few hours</td><td>https://a0.muscache.com/im/users/20370177/profile_pic/1408657430/original.jpg?aki_policy=profile_small</td><td>https://a0.muscache.com/im/users/20370177/profile_pic/1408657430/original.jpg?aki_policy=profile_x_medium</td><td>Rio de Janeiro, Brazil</td><td>Copacabana</td><td>null</td><td>-22.96354</td><td>-43.17404</td><td>Entire home/apt</td><td>2</td><td>1 bath</td><td>1.0</td><td>1</td><td>\"[\"\"Smoking allowed\"\"</td><td> \"\"Beach access \\u2013 Beachfront\"\"</td><td> \"\"Hot water\"\"</td><td> \"\"Microwave\"\"</td><td> \"\"Elevator\"\"</td><td> \"\"Coffee maker\"\"</td><td> \"\"Oven\"\"</td></tr></tbody></table></div>"
      ]
     },
     "metadata": {
      "application/vnd.databricks.v1+output": {
       "addedWidgets": {},
       "aggData": [],
       "aggError": "",
       "aggOverflow": false,
       "aggSchema": [],
       "aggSeriesLimitReached": false,
       "aggType": "",
       "arguments": {},
       "columnCustomDisplayInfos": {},
       "data": [
        [
         17878,
         "city scrape",
         "Very Nice 2Br in Copacabana w. balcony, fast WiFi",
         "\"Please note that elevated rates applies for New Years and Carnival. Price depends on length of stay and number of people. Generally I prefer a stay for 1 week or more and a maximum of 5 people (6 at the most). Contact me, and we will discuss. <br />- Bright and sunny<br />- Large balcony (25 square meters) <br />- High speed WiFi (up to 500MB)<br />- Smart TV (you can watch Netflix etc. if you have an account)<br />- 24h doorman<br />- 1 minute to walk to Copacabana Beach<br />- Silent \"\"split\"\" air conditioning<br />- Best spot in Rio\"",
         "68997",
         "Matthias",
         "2010-01-08",
         "\"I  am a  journalist/writer. Lived  in NYC for 15 years. I  am now based in Rio and published 3 volumes of travel stories on AMAZ0N: \"\"The World Is My Oyster\"\". If you have never been to Rio",
         " you'll find  29 other travel stories from all around the globe.\"",
         "within an hour",
         "https://a0.muscache.com/im/pictures/user/67b13cea-8c11-49c0-a08d-7f42c330676e.jpg?aki_policy=profile_small",
         "https://a0.muscache.com/im/pictures/user/67b13cea-8c11-49c0-a08d-7f42c330676e.jpg?aki_policy=profile_x_medium",
         "Rio de Janeiro, Brazil",
         "Copacabana",
         null,
         "-22.96599",
         "-43.1794",
         "Entire home/apt",
         "5",
         "1 bath",
         2.0,
         "2",
         "\"[\"\"Smoking allowed\"\"",
         " \"\"Hot water\"\"",
         " \"\"Microwave\"\"",
         " \"\"Elevator\"\"",
         " \"\"Luggage dropoff allowed\"\"",
         " \"\"Bed linens\"\"",
         " \"\"Oven\"\""
        ],
        [
         130234,
         "city scrape",
         "excellent studio apartment",
         "My space is good for couples, individual adventures, business travelers and families (with kids).",
         "641519",
         "Osvaldo",
         "2011-05-30",
         "ESTE APARTAMENTO NÃO ESTÁ MAS DISPONÍVEL PARA LOCAÇÃO DESDE A PANDEMIA. NÃO ACEITO RESERVAS.",
         "100%",
         "f",
         "1",
         "1",
         "-22.97575",
         "-43.18877",
         "Entire rental unit",
         "Entire home/apt",
         "1",
         "0 baths",
         "0",
         "\"[\"\"Host greets you\"\"]\"",
         180.0,
         "3",
         "720",
         "0",
         "0",
         "0",
         "0",
         "1",
         "5.0"
        ],
        [
         589234,
         "city scrape",
         "ipanema 22 with queen bed internet",
         null,
         "4307081",
         "Nereu A",
         "2012-12-02",
         "30 anos de experiencia na area de turismo, idiomas ingles, espanhol e portugues",
         "9%",
         "t",
         "56",
         "86",
         "-22.98322",
         "-43.20498",
         "Private room in rental unit",
         "Private room",
         "1",
         "1 bath",
         "1",
         "[]",
         552.0,
         "1",
         "1125",
         "30",
         "60",
         "90",
         "365",
         "2",
         "5.0"
        ],
        [
         628044,
         "city scrape",
         "Best apartament Copacabana (Leme)",
         "Good location! Green View.",
         "1884906",
         "Hugo",
         "2012-03-08",
         "\"I love to meet travelers who are passing through Rio de Janeiro. Carioca, born and grow up  in the \"\"Cidade Maravilhosa\"\". Nature is my second home. Adventurer",
         "within an hour",
         "100%",
         "https://a0.muscache.com/im/users/1884906/profile_pic/1392603508/original.jpg?aki_policy=profile_x_medium",
         "Leme",
         "Leme",
         null,
         "-22.96245",
         "-43.17088",
         "Entire rental unit",
         "2",
         "1.0",
         "1",
         1.0,
         "\"[\"\"Essentials\"\"",
         " \"\"Window AC unit\"\"",
         " \"\"Hot water\"\"",
         " \"\"Lockbox\"\"",
         " \"\"Microwave\"\"",
         " \"\"Garden view\"\"",
         " \"\"Coffee maker\"\"",
         " \"\"Self check-in\"\""
        ],
        [
         669012,
         "city scrape",
         "COPA 53 close to the beach, studio",
         null,
         "4307081",
         "Nereu A",
         "2012-12-02",
         "30 anos de experiencia na area de turismo, idiomas ingles, espanhol e portugues",
         "9%",
         "t",
         "56",
         "86",
         "-22.97436",
         "-43.18951",
         "Entire rental unit",
         "Entire home/apt",
         "2",
         "1 bath",
         "1",
         "[]",
         442.0,
         "3",
         "1125",
         "30",
         "60",
         "90",
         "365",
         "0",
         null
        ],
        [
         676983,
         "city scrape",
         "Penthouse ipanema",
         null,
         "4307081",
         "Nereu A",
         "2012-12-02",
         "30 anos de experiencia na area de turismo, idiomas ingles, espanhol e portugues",
         "9%",
         "t",
         "56",
         "86",
         "-22.98399",
         "-43.20804",
         "Entire rental unit",
         "Entire home/apt",
         "3",
         null,
         "1",
         "[]",
         387.0,
         "1",
         "1125",
         "30",
         "60",
         "86",
         "354",
         "12",
         "4.75"
        ],
        [
         896752,
         "city scrape",
         "bulhoes 204 near ipanema, metro",
         null,
         "4307081",
         "Nereu A",
         "2012-12-02",
         "30 anos de experiencia na area de turismo, idiomas ingles, espanhol e portugues",
         "9%",
         "t",
         "56",
         "86",
         "-22.9836",
         "-43.1923",
         "Entire rental unit",
         "Entire home/apt",
         "2",
         "1 bath",
         "1",
         "\"[\"\"TV with standard cable\"\"]\"",
         773.0,
         "5",
         "1125",
         "30",
         "60",
         "90",
         "365",
         "0",
         null
        ],
        [
         1012156,
         "city scrape",
         "suite santa clara",
         null,
         "4307081",
         "Nereu A",
         "2012-12-02",
         "30 anos de experiencia na area de turismo, idiomas ingles, espanhol e portugues",
         "9%",
         "t",
         "56",
         "86",
         "-22.96969",
         "-43.18847",
         "Private room in hostel",
         "Private room",
         "2",
         null,
         "1",
         "[]",
         442.0,
         "1",
         "1125",
         "30",
         "60",
         "90",
         "365",
         "0",
         null
        ],
        [
         2330025,
         "city scrape",
         "wonderful view in Leblon",
         "One-bedroom apartment, comfortable with a wonderful view to the sea. Fully equipped for four, possibly five, the best of Leblon. <br />Air conditioning in rooms, cable TV and wi fi. Close to Shopping and to sophisticated and trendy bars and restaurants. ",
         "8479954",
         "Naira Beatriz",
         "2013-08-27",
         null,
         "9%",
         "f",
         "4",
         "10",
         "-22.98425",
         "-43.21614",
         "Entire rental unit",
         "Entire home/apt",
         "4",
         "1 bath",
         "1",
         "[]",
         414.0,
         "1",
         "1125",
         "30",
         "60",
         "88",
         "363",
         "0",
         null
        ],
        [
         2473019,
         "city scrape",
         "Excellent Leblon Rio Next To Beach",
         null,
         "12647926",
         "Cabral",
         "2014-02-27",
         "\"I am a Ph.D in Computer Sciences by the University of Paris VI (\"\"Université Pierre et Marie Curie\"\"",
         " and currently I am an full professor with the \"\"Universidade Federal do Rio de Janeiro\"\"",
         " UFRJ",
         "67%",
         "f",
         "t",
         "t",
         "Rio, Rio de Janeiro, Brazil",
         "Leblon",
         null,
         "-43.22326",
         "Entire condo",
         "9",
         3.0,
         "3 baths",
         "3",
         " \"\"Cleaning products\"\"",
         " \"\"Coffee maker: drip coffee maker\"\"",
         " \"\"Toaster\"\"",
         " \"\"Drying rack for clothing\"\"",
         " \"\"Refrigerator\"\"",
         " \"\"First aid kit\"\""
        ],
        [
         2604279,
         "city scrape",
         "Alugo apto para copa / rent a flat",
         "duplex living room, toilet, kitchen, 2 suites , sea view, 2 balconies, leisure area, swimming pool , sauna . restaurant, shopping mall next door. close to the best beaches of Rio de Janeiro surf and family  Prainha, direct bus to the maracanã . Housekeeper.",
         "13338035",
         "Cynthia",
         "2014-03-20",
         null,
         "N/A",
         "f",
         "1",
         "2",
         "-23.02245",
         "-43.48829",
         "Entire rental unit",
         "Entire home/apt",
         "6",
         "3.5 baths",
         "2",
         "[]",
         800.0,
         "7",
         "30",
         "30",
         "60",
         "90",
         "365",
         "0",
         null
        ],
        [
         2825740,
         "city scrape",
         "Apto para até 5 pessoas no Maracanã",
         "Excellent 2 qts with complete facilities. Quiet building and very well located. Nearby metro, bus stop from all parts of RJ, vast commerce in the surroundings, restaurants, next to Maracanã. Furnished apartment.",
         "13044752",
         "Guilherme",
         "2014-03-12",
         null,
         "N/A",
         "f",
         "1",
         "2",
         "-22.91296",
         "-43.20159",
         "Entire rental unit",
         "Entire home/apt",
         "5",
         "2 baths",
         "2",
         "[]",
         300.0,
         "10",
         "1125",
         "30",
         "60",
         "90",
         "365",
         "0",
         null
        ],
        [
         2830938,
         "city scrape",
         "APT PARA A COPA DO MUNDO - RJ",
         "APT with 2 rooms, 1 bathroom, 1 kitchen , nice place, beautiful view facing to forest, parking for a car, 40 min to Maracanã, next to the Barra´s beach <br /><br />Services - Amenities<br /><br />delivery for all  ( super market - taxi - drugstore - food - loundry )",
         "2454477",
         "Joselia",
         "2012-05-24",
         "Amigavel, mistress!",
         "N/A",
         "f",
         "1",
         "2",
         "-22.97695",
         "-43.32794",
         "Entire rental unit",
         "Entire home/apt",
         "4",
         "1 bath",
         "2",
         "[]",
         829.0,
         "7",
         "90",
         "30",
         "60",
         "90",
         "365",
         "0",
         null
        ],
        [
         3027794,
         "city scrape",
         "Apartamento charmoso no Maracanã",
         "Its a big, cozy appartment, quiet and safe neighborhood. Also some restaurants around. <br />Its really close to the metro and to maracanã stadium, about 10min walking. <br />Tips and advices of how to be carioca (brazilians own way) are our courtesy for you",
         "14242270",
         "Gus",
         "2014-04-13",
         "Love to travel, cook and meet people from different countries. Graduated in law and sport addicted.",
         "N/A",
         "f",
         "1",
         "2",
         "-22.90943",
         "-43.2427",
         "Entire condo",
         "Entire home/apt",
         "8",
         "2 baths",
         "4",
         "[]",
         354.0,
         "10",
         "180",
         "29",
         "59",
         "89",
         "364",
         "0",
         null
        ],
        [
         3931867,
         "city scrape",
         "Cozy flat in Copacabana",
         "Located one block away from Copacabana beach, friendly and lively area, close to all amenities (bus, metro, shops, pharmacies, restaurants). A quiet apartment, functional, completely renovated, in a secure building with concierge 24h.",
         "20370177",
         "Sylvie",
         "2014-08-21",
         "\"Olá, meu nome é Sylvie e moro no Rio há 11 anos. Aguardo você na \"\"Cidade Maravilhosa\"\"",
         " uma estadia extraordinária !\"",
         "within a few hours",
         "https://a0.muscache.com/im/users/20370177/profile_pic/1408657430/original.jpg?aki_policy=profile_small",
         "https://a0.muscache.com/im/users/20370177/profile_pic/1408657430/original.jpg?aki_policy=profile_x_medium",
         "Rio de Janeiro, Brazil",
         "Copacabana",
         null,
         "-22.96354",
         "-43.17404",
         "Entire home/apt",
         "2",
         "1 bath",
         1.0,
         "1",
         "\"[\"\"Smoking allowed\"\"",
         " \"\"Beach access \\u2013 Beachfront\"\"",
         " \"\"Hot water\"\"",
         " \"\"Microwave\"\"",
         " \"\"Elevator\"\"",
         " \"\"Coffee maker\"\"",
         " \"\"Oven\"\""
        ]
       ],
       "datasetInfos": [],
       "dbfsResultPath": null,
       "isJsonSchema": true,
       "metadata": {},
       "overflow": false,
       "plotOptions": {
        "customPlotOptions": {},
        "displayType": "table",
        "pivotAggregation": null,
        "pivotColumns": null,
        "xColumns": null,
        "yColumns": null
       },
       "removedWidgets": [],
       "schema": [
        {
         "metadata": "{}",
         "name": "id",
         "type": "\"long\""
        },
        {
         "metadata": "{}",
         "name": "source",
         "type": "\"string\""
        },
        {
         "metadata": "{}",
         "name": "name",
         "type": "\"string\""
        },
        {
         "metadata": "{}",
         "name": "description",
         "type": "\"string\""
        },
        {
         "metadata": "{}",
         "name": "host_id",
         "type": "\"string\""
        },
        {
         "metadata": "{}",
         "name": "host_name",
         "type": "\"string\""
        },
        {
         "metadata": "{}",
         "name": "host_since",
         "type": "\"string\""
        },
        {
         "metadata": "{}",
         "name": "host_about",
         "type": "\"string\""
        },
        {
         "metadata": "{}",
         "name": "host_acceptance_rate",
         "type": "\"string\""
        },
        {
         "metadata": "{}",
         "name": "host_is_superhost",
         "type": "\"string\""
        },
        {
         "metadata": "{}",
         "name": "host_listings_count",
         "type": "\"string\""
        },
        {
         "metadata": "{}",
         "name": "host_total_listings_count",
         "type": "\"string\""
        },
        {
         "metadata": "{}",
         "name": "latitude",
         "type": "\"string\""
        },
        {
         "metadata": "{}",
         "name": "longitude",
         "type": "\"string\""
        },
        {
         "metadata": "{}",
         "name": "property_type",
         "type": "\"string\""
        },
        {
         "metadata": "{}",
         "name": "room_type",
         "type": "\"string\""
        },
        {
         "metadata": "{}",
         "name": "accommodates",
         "type": "\"string\""
        },
        {
         "metadata": "{}",
         "name": "bathrooms_text",
         "type": "\"string\""
        },
        {
         "metadata": "{}",
         "name": "bedrooms",
         "type": "\"string\""
        },
        {
         "metadata": "{}",
         "name": "amenities",
         "type": "\"string\""
        },
        {
         "metadata": "{}",
         "name": "price",
         "type": "\"float\""
        },
        {
         "metadata": "{}",
         "name": "minimum_nights",
         "type": "\"string\""
        },
        {
         "metadata": "{}",
         "name": "maximum_nights",
         "type": "\"string\""
        },
        {
         "metadata": "{}",
         "name": "availability_30",
         "type": "\"string\""
        },
        {
         "metadata": "{}",
         "name": "availability_60",
         "type": "\"string\""
        },
        {
         "metadata": "{}",
         "name": "availability_90",
         "type": "\"string\""
        },
        {
         "metadata": "{}",
         "name": "availability_365",
         "type": "\"string\""
        },
        {
         "metadata": "{}",
         "name": "number_of_reviews",
         "type": "\"string\""
        },
        {
         "metadata": "{}",
         "name": "review_scores_rating",
         "type": "\"string\""
        }
       ],
       "type": "table"
      }
     },
     "output_type": "display_data"
    }
   ],
   "source": [
    "df_listings_silver.limit(15).display()"
   ]
  },
  {
   "cell_type": "code",
   "execution_count": 0,
   "metadata": {
    "application/vnd.databricks.v1+cell": {
     "cellMetadata": {
      "byteLimit": 2048000,
      "rowLimit": 10000
     },
     "inputWidgets": {},
     "nuid": "2e6d3396-8cb8-4325-8b34-9c004838db50",
     "showTitle": false,
     "tableResultSettingsMap": {},
     "title": ""
    }
   },
   "outputs": [
    {
     "output_type": "execute_result",
     "data": {
      "text/plain": [
       "152"
      ]
     },
     "execution_count": 240,
     "metadata": {},
     "output_type": "execute_result"
    }
   ],
   "source": [
    "df_listings_silver.count()"
   ]
  },
  {
   "cell_type": "code",
   "execution_count": 0,
   "metadata": {
    "application/vnd.databricks.v1+cell": {
     "cellMetadata": {
      "byteLimit": 2048000,
      "rowLimit": 10000
     },
     "inputWidgets": {},
     "nuid": "9686cb80-8034-4c9d-87bc-fa12ad3dba7e",
     "showTitle": false,
     "tableResultSettingsMap": {},
     "title": ""
    }
   },
   "outputs": [
    {
     "output_type": "display_data",
     "data": {
      "text/html": [
       "<style scoped>\n",
       "  .table-result-container {\n",
       "    max-height: 300px;\n",
       "    overflow: auto;\n",
       "  }\n",
       "  table, th, td {\n",
       "    border: 1px solid black;\n",
       "    border-collapse: collapse;\n",
       "  }\n",
       "  th, td {\n",
       "    padding: 5px;\n",
       "  }\n",
       "  th {\n",
       "    text-align: left;\n",
       "  }\n",
       "</style><div class='table-result-container'><table class='table-result'><thead style='background-color: white'><tr><th>id</th><th>source</th><th>name</th><th>description</th><th>host_id</th><th>host_name</th><th>host_since</th><th>host_about</th><th>host_acceptance_rate</th><th>host_is_superhost</th><th>host_listings_count</th><th>host_total_listings_count</th><th>latitude</th><th>longitude</th><th>property_type</th><th>room_type</th><th>accommodates</th><th>bathrooms_text</th><th>bedrooms</th><th>amenities</th><th>price</th><th>minimum_nights</th><th>maximum_nights</th><th>availability_30</th><th>availability_60</th><th>availability_90</th><th>availability_365</th><th>number_of_reviews</th><th>review_scores_rating</th></tr></thead><tbody><tr><td>0</td><td>0</td><td>0</td><td>25</td><td>0</td><td>0</td><td>0</td><td>89</td><td>0</td><td>1</td><td>0</td><td>0</td><td>4</td><td>2</td><td>25</td><td>4</td><td>5</td><td>2</td><td>2</td><td>0</td><td>0</td><td>1</td><td>0</td><td>0</td><td>0</td><td>0</td><td>0</td><td>1</td><td>63</td></tr></tbody></table></div>"
      ]
     },
     "metadata": {
      "application/vnd.databricks.v1+output": {
       "addedWidgets": {},
       "aggData": [],
       "aggError": "",
       "aggOverflow": false,
       "aggSchema": [],
       "aggSeriesLimitReached": false,
       "aggType": "",
       "arguments": {},
       "columnCustomDisplayInfos": {},
       "data": [
        [
         0,
         0,
         0,
         25,
         0,
         0,
         0,
         89,
         0,
         1,
         0,
         0,
         4,
         2,
         25,
         4,
         5,
         2,
         2,
         0,
         0,
         1,
         0,
         0,
         0,
         0,
         0,
         1,
         63
        ]
       ],
       "datasetInfos": [],
       "dbfsResultPath": null,
       "isJsonSchema": true,
       "metadata": {},
       "overflow": false,
       "plotOptions": {
        "customPlotOptions": {},
        "displayType": "table",
        "pivotAggregation": null,
        "pivotColumns": null,
        "xColumns": null,
        "yColumns": null
       },
       "removedWidgets": [],
       "schema": [
        {
         "metadata": "{}",
         "name": "id",
         "type": "\"long\""
        },
        {
         "metadata": "{}",
         "name": "source",
         "type": "\"long\""
        },
        {
         "metadata": "{}",
         "name": "name",
         "type": "\"long\""
        },
        {
         "metadata": "{}",
         "name": "description",
         "type": "\"long\""
        },
        {
         "metadata": "{}",
         "name": "host_id",
         "type": "\"long\""
        },
        {
         "metadata": "{}",
         "name": "host_name",
         "type": "\"long\""
        },
        {
         "metadata": "{}",
         "name": "host_since",
         "type": "\"long\""
        },
        {
         "metadata": "{}",
         "name": "host_about",
         "type": "\"long\""
        },
        {
         "metadata": "{}",
         "name": "host_acceptance_rate",
         "type": "\"long\""
        },
        {
         "metadata": "{}",
         "name": "host_is_superhost",
         "type": "\"long\""
        },
        {
         "metadata": "{}",
         "name": "host_listings_count",
         "type": "\"long\""
        },
        {
         "metadata": "{}",
         "name": "host_total_listings_count",
         "type": "\"long\""
        },
        {
         "metadata": "{}",
         "name": "latitude",
         "type": "\"long\""
        },
        {
         "metadata": "{}",
         "name": "longitude",
         "type": "\"long\""
        },
        {
         "metadata": "{}",
         "name": "property_type",
         "type": "\"long\""
        },
        {
         "metadata": "{}",
         "name": "room_type",
         "type": "\"long\""
        },
        {
         "metadata": "{}",
         "name": "accommodates",
         "type": "\"long\""
        },
        {
         "metadata": "{}",
         "name": "bathrooms_text",
         "type": "\"long\""
        },
        {
         "metadata": "{}",
         "name": "bedrooms",
         "type": "\"long\""
        },
        {
         "metadata": "{}",
         "name": "amenities",
         "type": "\"long\""
        },
        {
         "metadata": "{}",
         "name": "price",
         "type": "\"long\""
        },
        {
         "metadata": "{}",
         "name": "minimum_nights",
         "type": "\"long\""
        },
        {
         "metadata": "{}",
         "name": "maximum_nights",
         "type": "\"long\""
        },
        {
         "metadata": "{}",
         "name": "availability_30",
         "type": "\"long\""
        },
        {
         "metadata": "{}",
         "name": "availability_60",
         "type": "\"long\""
        },
        {
         "metadata": "{}",
         "name": "availability_90",
         "type": "\"long\""
        },
        {
         "metadata": "{}",
         "name": "availability_365",
         "type": "\"long\""
        },
        {
         "metadata": "{}",
         "name": "number_of_reviews",
         "type": "\"long\""
        },
        {
         "metadata": "{}",
         "name": "review_scores_rating",
         "type": "\"long\""
        }
       ],
       "type": "table"
      }
     },
     "output_type": "display_data"
    }
   ],
   "source": [
    "# Contar valores NULL em cada coluna\n",
    "null_counts = df_listings_silver.select([\n",
    "    sum(col(column).isNull().cast(\"int\")).alias(column) for column in df_listings_silver.columns\n",
    "])\n",
    "\n",
    "# Exibir o número de valores NULL em cada coluna\n",
    "display(null_counts)"
   ]
  },
  {
   "cell_type": "code",
   "execution_count": 0,
   "metadata": {
    "application/vnd.databricks.v1+cell": {
     "cellMetadata": {
      "byteLimit": 2048000,
      "rowLimit": 10000
     },
     "inputWidgets": {},
     "nuid": "03958acd-d4c9-45d3-b8d6-26c4b474d851",
     "showTitle": false,
     "tableResultSettingsMap": {},
     "title": ""
    }
   },
   "outputs": [],
   "source": [
    "# Converter a coluna `host_since` para o tipo DateType\n",
    "df_listings_silver = df_listings_silver.withColumn(\"host_since\", to_date(\"host_since\", \"yyyy-MM-dd\"))"
   ]
  },
  {
   "cell_type": "code",
   "execution_count": 0,
   "metadata": {
    "application/vnd.databricks.v1+cell": {
     "cellMetadata": {
      "byteLimit": 2048000,
      "rowLimit": 10000
     },
     "inputWidgets": {},
     "nuid": "ae0d9888-d2d9-4424-9cae-f6782fdca5de",
     "showTitle": false,
     "tableResultSettingsMap": {},
     "title": ""
    }
   },
   "outputs": [],
   "source": [
    "# Converter a coluna `host_is_superhost` para booleano\n",
    "df_listings_silver = df_listings_silver.withColumn(\n",
    "    \"host_is_superhost\", \n",
    "    when(col(\"host_is_superhost\") == \"t\", True).otherwise(False)\n",
    ")"
   ]
  },
  {
   "cell_type": "code",
   "execution_count": 0,
   "metadata": {
    "application/vnd.databricks.v1+cell": {
     "cellMetadata": {
      "byteLimit": 2048000,
      "rowLimit": 10000
     },
     "inputWidgets": {},
     "nuid": "dc06b2a4-0d05-41fb-9314-dbcd17266ff9",
     "showTitle": false,
     "tableResultSettingsMap": {},
     "title": ""
    }
   },
   "outputs": [
    {
     "output_type": "display_data",
     "data": {
      "text/html": [
       "<style scoped>\n",
       "  .table-result-container {\n",
       "    max-height: 300px;\n",
       "    overflow: auto;\n",
       "  }\n",
       "  table, th, td {\n",
       "    border: 1px solid black;\n",
       "    border-collapse: collapse;\n",
       "  }\n",
       "  th, td {\n",
       "    padding: 5px;\n",
       "  }\n",
       "  th {\n",
       "    text-align: left;\n",
       "  }\n",
       "</style><div class='table-result-container'><table class='table-result'><thead style='background-color: white'><tr><th>host_total_listings_count</th></tr></thead><tbody><tr><td>https://a0.muscache.com/im/pictures/user/67b13cea-8c11-49c0-a08d-7f42c330676e.jpg?aki_policy=profile_x_medium</td></tr><tr><td>7</td></tr><tr><td>11</td></tr><tr><td>Leme</td></tr><tr><td>3</td></tr><tr><td>8</td></tr><tr><td>28</td></tr><tr><td>f</td></tr><tr><td>5</td></tr><tr><td>Leblon</td></tr><tr><td>100%</td></tr><tr><td>17</td></tr><tr><td>26</td></tr><tr><td>6</td></tr><tr><td>55</td></tr><tr><td>https://a0.muscache.com/im/pictures/user/User-520013672/original/e39c996a-038f-467e-bdd4-c4f464107744.png?aki_policy=profile_x_medium</td></tr><tr><td>86</td></tr><tr><td>https://a0.muscache.com/im/pictures/user/5f327d3b-f2b3-4fc1-96bc-7582db7ebc32.jpg?aki_policy=profile_x_medium</td></tr><tr><td>33</td></tr><tr><td>N/A</td></tr><tr><td>32</td></tr><tr><td>152</td></tr><tr><td>1</td></tr><tr><td>10</td></tr><tr><td>4</td></tr><tr><td>21</td></tr><tr><td>t</td></tr><tr><td>74</td></tr><tr><td>2</td></tr><tr><td>https://a0.muscache.com/im/users/20370177/profile_pic/1408657430/original.jpg?aki_policy=profile_x_medium</td></tr></tbody></table></div>"
      ]
     },
     "metadata": {
      "application/vnd.databricks.v1+output": {
       "addedWidgets": {},
       "aggData": [],
       "aggError": "",
       "aggOverflow": false,
       "aggSchema": [],
       "aggSeriesLimitReached": false,
       "aggType": "",
       "arguments": {},
       "columnCustomDisplayInfos": {},
       "data": [
        [
         "https://a0.muscache.com/im/pictures/user/67b13cea-8c11-49c0-a08d-7f42c330676e.jpg?aki_policy=profile_x_medium"
        ],
        [
         "7"
        ],
        [
         "11"
        ],
        [
         "Leme"
        ],
        [
         "3"
        ],
        [
         "8"
        ],
        [
         "28"
        ],
        [
         "f"
        ],
        [
         "5"
        ],
        [
         "Leblon"
        ],
        [
         "100%"
        ],
        [
         "17"
        ],
        [
         "26"
        ],
        [
         "6"
        ],
        [
         "55"
        ],
        [
         "https://a0.muscache.com/im/pictures/user/User-520013672/original/e39c996a-038f-467e-bdd4-c4f464107744.png?aki_policy=profile_x_medium"
        ],
        [
         "86"
        ],
        [
         "https://a0.muscache.com/im/pictures/user/5f327d3b-f2b3-4fc1-96bc-7582db7ebc32.jpg?aki_policy=profile_x_medium"
        ],
        [
         "33"
        ],
        [
         "N/A"
        ],
        [
         "32"
        ],
        [
         "152"
        ],
        [
         "1"
        ],
        [
         "10"
        ],
        [
         "4"
        ],
        [
         "21"
        ],
        [
         "t"
        ],
        [
         "74"
        ],
        [
         "2"
        ],
        [
         "https://a0.muscache.com/im/users/20370177/profile_pic/1408657430/original.jpg?aki_policy=profile_x_medium"
        ]
       ],
       "datasetInfos": [],
       "dbfsResultPath": null,
       "isJsonSchema": true,
       "metadata": {},
       "overflow": false,
       "plotOptions": {
        "customPlotOptions": {},
        "displayType": "table",
        "pivotAggregation": null,
        "pivotColumns": null,
        "xColumns": null,
        "yColumns": null
       },
       "removedWidgets": [],
       "schema": [
        {
         "metadata": "{}",
         "name": "host_total_listings_count",
         "type": "\"string\""
        }
       ],
       "type": "table"
      }
     },
     "output_type": "display_data"
    }
   ],
   "source": [
    "# Selecionar e exibir valores distintos da coluna `host_total_listings_count`\n",
    "distinct_host_is_superhost = df_listings_silver.select(\"host_total_listings_count\").distinct()\n",
    "\n",
    "# Exibir os valores distintos usando display\n",
    "display(distinct_host_is_superhost)"
   ]
  },
  {
   "cell_type": "code",
   "execution_count": 0,
   "metadata": {
    "application/vnd.databricks.v1+cell": {
     "cellMetadata": {
      "byteLimit": 2048000,
      "rowLimit": 10000
     },
     "inputWidgets": {},
     "nuid": "9eedb37c-deb4-4f91-beff-00388a867744",
     "showTitle": false,
     "tableResultSettingsMap": {},
     "title": ""
    }
   },
   "outputs": [
    {
     "output_type": "display_data",
     "data": {
      "text/html": [
       "<style scoped>\n",
       "  .table-result-container {\n",
       "    max-height: 300px;\n",
       "    overflow: auto;\n",
       "  }\n",
       "  table, th, td {\n",
       "    border: 1px solid black;\n",
       "    border-collapse: collapse;\n",
       "  }\n",
       "  th, td {\n",
       "    padding: 5px;\n",
       "  }\n",
       "  th {\n",
       "    text-align: left;\n",
       "  }\n",
       "</style><div class='table-result-container'><table class='table-result'><thead style='background-color: white'><tr><th>id</th><th>source</th><th>name</th><th>description</th><th>host_id</th><th>host_name</th><th>host_since</th><th>host_about</th><th>host_acceptance_rate</th><th>host_is_superhost</th><th>host_listings_count</th><th>host_total_listings_count</th><th>latitude</th><th>longitude</th><th>property_type</th><th>room_type</th><th>accommodates</th><th>bathrooms_text</th><th>bedrooms</th><th>amenities</th><th>price</th><th>minimum_nights</th><th>maximum_nights</th><th>availability_30</th><th>availability_60</th><th>availability_90</th><th>availability_365</th><th>number_of_reviews</th><th>review_scores_rating</th></tr></thead><tbody><tr><td>0</td><td>0</td><td>0</td><td>25</td><td>0</td><td>0</td><td>0</td><td>89</td><td>0</td><td>0</td><td>0</td><td>0</td><td>4</td><td>2</td><td>25</td><td>4</td><td>5</td><td>2</td><td>2</td><td>0</td><td>0</td><td>1</td><td>0</td><td>0</td><td>0</td><td>0</td><td>0</td><td>1</td><td>63</td></tr></tbody></table></div>"
      ]
     },
     "metadata": {
      "application/vnd.databricks.v1+output": {
       "addedWidgets": {},
       "aggData": [],
       "aggError": "",
       "aggOverflow": false,
       "aggSchema": [],
       "aggSeriesLimitReached": false,
       "aggType": "",
       "arguments": {},
       "columnCustomDisplayInfos": {},
       "data": [
        [
         0,
         0,
         0,
         25,
         0,
         0,
         0,
         89,
         0,
         0,
         0,
         0,
         4,
         2,
         25,
         4,
         5,
         2,
         2,
         0,
         0,
         1,
         0,
         0,
         0,
         0,
         0,
         1,
         63
        ]
       ],
       "datasetInfos": [],
       "dbfsResultPath": null,
       "isJsonSchema": true,
       "metadata": {},
       "overflow": false,
       "plotOptions": {
        "customPlotOptions": {},
        "displayType": "table",
        "pivotAggregation": null,
        "pivotColumns": null,
        "xColumns": null,
        "yColumns": null
       },
       "removedWidgets": [],
       "schema": [
        {
         "metadata": "{}",
         "name": "id",
         "type": "\"long\""
        },
        {
         "metadata": "{}",
         "name": "source",
         "type": "\"long\""
        },
        {
         "metadata": "{}",
         "name": "name",
         "type": "\"long\""
        },
        {
         "metadata": "{}",
         "name": "description",
         "type": "\"long\""
        },
        {
         "metadata": "{}",
         "name": "host_id",
         "type": "\"long\""
        },
        {
         "metadata": "{}",
         "name": "host_name",
         "type": "\"long\""
        },
        {
         "metadata": "{}",
         "name": "host_since",
         "type": "\"long\""
        },
        {
         "metadata": "{}",
         "name": "host_about",
         "type": "\"long\""
        },
        {
         "metadata": "{}",
         "name": "host_acceptance_rate",
         "type": "\"long\""
        },
        {
         "metadata": "{}",
         "name": "host_is_superhost",
         "type": "\"long\""
        },
        {
         "metadata": "{}",
         "name": "host_listings_count",
         "type": "\"long\""
        },
        {
         "metadata": "{}",
         "name": "host_total_listings_count",
         "type": "\"long\""
        },
        {
         "metadata": "{}",
         "name": "latitude",
         "type": "\"long\""
        },
        {
         "metadata": "{}",
         "name": "longitude",
         "type": "\"long\""
        },
        {
         "metadata": "{}",
         "name": "property_type",
         "type": "\"long\""
        },
        {
         "metadata": "{}",
         "name": "room_type",
         "type": "\"long\""
        },
        {
         "metadata": "{}",
         "name": "accommodates",
         "type": "\"long\""
        },
        {
         "metadata": "{}",
         "name": "bathrooms_text",
         "type": "\"long\""
        },
        {
         "metadata": "{}",
         "name": "bedrooms",
         "type": "\"long\""
        },
        {
         "metadata": "{}",
         "name": "amenities",
         "type": "\"long\""
        },
        {
         "metadata": "{}",
         "name": "price",
         "type": "\"long\""
        },
        {
         "metadata": "{}",
         "name": "minimum_nights",
         "type": "\"long\""
        },
        {
         "metadata": "{}",
         "name": "maximum_nights",
         "type": "\"long\""
        },
        {
         "metadata": "{}",
         "name": "availability_30",
         "type": "\"long\""
        },
        {
         "metadata": "{}",
         "name": "availability_60",
         "type": "\"long\""
        },
        {
         "metadata": "{}",
         "name": "availability_90",
         "type": "\"long\""
        },
        {
         "metadata": "{}",
         "name": "availability_365",
         "type": "\"long\""
        },
        {
         "metadata": "{}",
         "name": "number_of_reviews",
         "type": "\"long\""
        },
        {
         "metadata": "{}",
         "name": "review_scores_rating",
         "type": "\"long\""
        }
       ],
       "type": "table"
      }
     },
     "output_type": "display_data"
    }
   ],
   "source": [
    "# Contar valores NULL em cada coluna\n",
    "null_counts = df_listings_silver.select([\n",
    "    sum(col(column).isNull().cast(\"int\")).alias(column) for column in df_listings_silver.columns\n",
    "])\n",
    "\n",
    "# Exibir o número de valores NULL em cada coluna\n",
    "display(null_counts)"
   ]
  },
  {
   "cell_type": "code",
   "execution_count": 0,
   "metadata": {
    "application/vnd.databricks.v1+cell": {
     "cellMetadata": {
      "byteLimit": 2048000,
      "rowLimit": 10000
     },
     "inputWidgets": {},
     "nuid": "60a304b0-3298-4d72-ac41-24b6a84a1a26",
     "showTitle": false,
     "tableResultSettingsMap": {},
     "title": ""
    }
   },
   "outputs": [
    {
     "output_type": "display_data",
     "data": {
      "text/html": [
       "<style scoped>\n",
       "  .table-result-container {\n",
       "    max-height: 300px;\n",
       "    overflow: auto;\n",
       "  }\n",
       "  table, th, td {\n",
       "    border: 1px solid black;\n",
       "    border-collapse: collapse;\n",
       "  }\n",
       "  th, td {\n",
       "    padding: 5px;\n",
       "  }\n",
       "  th {\n",
       "    text-align: left;\n",
       "  }\n",
       "</style><div class='table-result-container'><table class='table-result'><thead style='background-color: white'><tr><th>host_total_listings_count</th></tr></thead><tbody><tr><td>7</td></tr><tr><td>11</td></tr><tr><td>3</td></tr><tr><td>8</td></tr><tr><td>28</td></tr><tr><td>5</td></tr><tr><td>17</td></tr><tr><td>26</td></tr><tr><td>6</td></tr><tr><td>55</td></tr><tr><td>86</td></tr><tr><td>33</td></tr><tr><td>32</td></tr><tr><td>152</td></tr><tr><td>1</td></tr><tr><td>10</td></tr><tr><td>4</td></tr><tr><td>21</td></tr><tr><td>74</td></tr><tr><td>2</td></tr></tbody></table></div>"
      ]
     },
     "metadata": {
      "application/vnd.databricks.v1+output": {
       "addedWidgets": {},
       "aggData": [],
       "aggError": "",
       "aggOverflow": false,
       "aggSchema": [],
       "aggSeriesLimitReached": false,
       "aggType": "",
       "arguments": {},
       "columnCustomDisplayInfos": {},
       "data": [
        [
         "7"
        ],
        [
         "11"
        ],
        [
         "3"
        ],
        [
         "8"
        ],
        [
         "28"
        ],
        [
         "5"
        ],
        [
         "17"
        ],
        [
         "26"
        ],
        [
         "6"
        ],
        [
         "55"
        ],
        [
         "86"
        ],
        [
         "33"
        ],
        [
         "32"
        ],
        [
         "152"
        ],
        [
         "1"
        ],
        [
         "10"
        ],
        [
         "4"
        ],
        [
         "21"
        ],
        [
         "74"
        ],
        [
         "2"
        ]
       ],
       "datasetInfos": [],
       "dbfsResultPath": null,
       "isJsonSchema": true,
       "metadata": {},
       "overflow": false,
       "plotOptions": {
        "customPlotOptions": {},
        "displayType": "table",
        "pivotAggregation": null,
        "pivotColumns": null,
        "xColumns": null,
        "yColumns": null
       },
       "removedWidgets": [],
       "schema": [
        {
         "metadata": "{}",
         "name": "host_total_listings_count",
         "type": "\"string\""
        }
       ],
       "type": "table"
      }
     },
     "output_type": "display_data"
    }
   ],
   "source": [
    "# Filtrar linhas onde host_id contém caracteres que não são dígitos\n",
    "df_listings_silver = df_listings_silver.filter(df_listings_silver.host_total_listings_count.rlike(\"^[0-9]+$\"))\n",
    "\n",
    "# Selecionar e exibir valores distintos da coluna `host_total_listings_count`\n",
    "distinct_host_is_superhost = df_listings_silver.select(\"host_total_listings_count\").distinct()\n",
    "\n",
    "# Exibir os valores distintos usando display\n",
    "display(distinct_host_is_superhost)"
   ]
  },
  {
   "cell_type": "code",
   "execution_count": 0,
   "metadata": {
    "application/vnd.databricks.v1+cell": {
     "cellMetadata": {
      "byteLimit": 2048000,
      "rowLimit": 10000
     },
     "inputWidgets": {},
     "nuid": "5a60cc63-47be-4e4e-9334-43326ed3e84e",
     "showTitle": false,
     "tableResultSettingsMap": {},
     "title": ""
    }
   },
   "outputs": [
    {
     "output_type": "stream",
     "name": "stdout",
     "output_type": "stream",
     "text": [
      "root\n |-- id: long (nullable = true)\n |-- source: string (nullable = true)\n |-- name: string (nullable = true)\n |-- description: string (nullable = true)\n |-- host_id: string (nullable = true)\n |-- host_name: string (nullable = true)\n |-- host_since: date (nullable = true)\n |-- host_about: string (nullable = true)\n |-- host_acceptance_rate: string (nullable = true)\n |-- host_is_superhost: boolean (nullable = false)\n |-- host_listings_count: string (nullable = true)\n |-- host_total_listings_count: string (nullable = true)\n |-- latitude: string (nullable = true)\n |-- longitude: string (nullable = true)\n |-- property_type: string (nullable = true)\n |-- room_type: string (nullable = true)\n |-- accommodates: string (nullable = true)\n |-- bathrooms_text: string (nullable = true)\n |-- bedrooms: string (nullable = true)\n |-- amenities: string (nullable = true)\n |-- price: float (nullable = true)\n |-- minimum_nights: string (nullable = true)\n |-- maximum_nights: string (nullable = true)\n |-- availability_30: string (nullable = true)\n |-- availability_60: string (nullable = true)\n |-- availability_90: string (nullable = true)\n |-- availability_365: string (nullable = true)\n |-- number_of_reviews: string (nullable = true)\n |-- review_scores_rating: string (nullable = true)\n\n"
     ]
    }
   ],
   "source": [
    "df_listings_silver.printSchema()"
   ]
  },
  {
   "cell_type": "code",
   "execution_count": 0,
   "metadata": {
    "application/vnd.databricks.v1+cell": {
     "cellMetadata": {
      "byteLimit": 2048000,
      "rowLimit": 10000
     },
     "inputWidgets": {},
     "nuid": "98ed1e96-0688-42a3-82aa-59001c94d5e0",
     "showTitle": false,
     "tableResultSettingsMap": {},
     "title": ""
    }
   },
   "outputs": [],
   "source": [
    "# Nao executar este codigo\n",
    "\n",
    "# Converter as colunas host_total_listings_count e host_listings_count para o tipo Integer\n",
    "df_listings_silver = df_listings_silver \\\n",
    "    .withColumn(\"host_total_listings_count\", df_listings_silver[\"host_total_listings_count\"].cast(IntegerType())) \\\n",
    "    .withColumn(\"host_listings_count\", df_listings_silver[\"host_listings_count\"].cast(IntegerType()))"
   ]
  },
  {
   "cell_type": "code",
   "execution_count": 0,
   "metadata": {
    "application/vnd.databricks.v1+cell": {
     "cellMetadata": {
      "byteLimit": 2048000,
      "rowLimit": 10000
     },
     "inputWidgets": {},
     "nuid": "ea830a74-8d32-4a19-b031-b128ff359c6f",
     "showTitle": false,
     "tableResultSettingsMap": {},
     "title": ""
    }
   },
   "outputs": [
    {
     "output_type": "display_data",
     "data": {
      "text/html": [
       "<style scoped>\n",
       "  .table-result-container {\n",
       "    max-height: 300px;\n",
       "    overflow: auto;\n",
       "  }\n",
       "  table, th, td {\n",
       "    border: 1px solid black;\n",
       "    border-collapse: collapse;\n",
       "  }\n",
       "  th, td {\n",
       "    padding: 5px;\n",
       "  }\n",
       "  th {\n",
       "    text-align: left;\n",
       "  }\n",
       "</style><div class='table-result-container'><table class='table-result'><thead style='background-color: white'><tr><th>id</th><th>source</th><th>name</th><th>description</th><th>host_id</th><th>host_name</th><th>host_since</th><th>host_about</th><th>host_acceptance_rate</th><th>host_is_superhost</th><th>host_listings_count</th><th>host_total_listings_count</th><th>latitude</th><th>longitude</th><th>property_type</th><th>room_type</th><th>accommodates</th><th>bathrooms_text</th><th>bedrooms</th><th>amenities</th><th>price</th><th>minimum_nights</th><th>maximum_nights</th><th>availability_30</th><th>availability_60</th><th>availability_90</th><th>availability_365</th><th>number_of_reviews</th><th>review_scores_rating</th></tr></thead><tbody><tr><td>130234</td><td>city scrape</td><td>excellent studio apartment</td><td>My space is good for couples, individual adventures, business travelers and families (with kids).</td><td>641519</td><td>Osvaldo</td><td>2011-05-30</td><td>ESTE APARTAMENTO NÃO ESTÁ MAS DISPONÍVEL PARA LOCAÇÃO DESDE A PANDEMIA. NÃO ACEITO RESERVAS.</td><td>100%</td><td>false</td><td>1</td><td>1</td><td>-22.97575</td><td>-43.18877</td><td>Entire rental unit</td><td>Entire home/apt</td><td>1</td><td>0 baths</td><td>0</td><td>\"[\"\"Host greets you\"\"]\"</td><td>180.0</td><td>3</td><td>720</td><td>0</td><td>0</td><td>0</td><td>0</td><td>1</td><td>5.0</td></tr><tr><td>589234</td><td>city scrape</td><td>ipanema 22 with queen bed internet</td><td>null</td><td>4307081</td><td>Nereu A</td><td>2012-12-02</td><td>30 anos de experiencia na area de turismo, idiomas ingles, espanhol e portugues</td><td>9%</td><td>true</td><td>56</td><td>86</td><td>-22.98322</td><td>-43.20498</td><td>Private room in rental unit</td><td>Private room</td><td>1</td><td>1 bath</td><td>1</td><td>[]</td><td>552.0</td><td>1</td><td>1125</td><td>30</td><td>60</td><td>90</td><td>365</td><td>2</td><td>5.0</td></tr><tr><td>669012</td><td>city scrape</td><td>COPA 53 close to the beach, studio</td><td>null</td><td>4307081</td><td>Nereu A</td><td>2012-12-02</td><td>30 anos de experiencia na area de turismo, idiomas ingles, espanhol e portugues</td><td>9%</td><td>true</td><td>56</td><td>86</td><td>-22.97436</td><td>-43.18951</td><td>Entire rental unit</td><td>Entire home/apt</td><td>2</td><td>1 bath</td><td>1</td><td>[]</td><td>442.0</td><td>3</td><td>1125</td><td>30</td><td>60</td><td>90</td><td>365</td><td>0</td><td>null</td></tr><tr><td>676983</td><td>city scrape</td><td>Penthouse ipanema</td><td>null</td><td>4307081</td><td>Nereu A</td><td>2012-12-02</td><td>30 anos de experiencia na area de turismo, idiomas ingles, espanhol e portugues</td><td>9%</td><td>true</td><td>56</td><td>86</td><td>-22.98399</td><td>-43.20804</td><td>Entire rental unit</td><td>Entire home/apt</td><td>3</td><td>null</td><td>1</td><td>[]</td><td>387.0</td><td>1</td><td>1125</td><td>30</td><td>60</td><td>86</td><td>354</td><td>12</td><td>4.75</td></tr><tr><td>896752</td><td>city scrape</td><td>bulhoes 204 near ipanema, metro</td><td>null</td><td>4307081</td><td>Nereu A</td><td>2012-12-02</td><td>30 anos de experiencia na area de turismo, idiomas ingles, espanhol e portugues</td><td>9%</td><td>true</td><td>56</td><td>86</td><td>-22.9836</td><td>-43.1923</td><td>Entire rental unit</td><td>Entire home/apt</td><td>2</td><td>1 bath</td><td>1</td><td>\"[\"\"TV with standard cable\"\"]\"</td><td>773.0</td><td>5</td><td>1125</td><td>30</td><td>60</td><td>90</td><td>365</td><td>0</td><td>null</td></tr><tr><td>1012156</td><td>city scrape</td><td>suite santa clara</td><td>null</td><td>4307081</td><td>Nereu A</td><td>2012-12-02</td><td>30 anos de experiencia na area de turismo, idiomas ingles, espanhol e portugues</td><td>9%</td><td>true</td><td>56</td><td>86</td><td>-22.96969</td><td>-43.18847</td><td>Private room in hostel</td><td>Private room</td><td>2</td><td>null</td><td>1</td><td>[]</td><td>442.0</td><td>1</td><td>1125</td><td>30</td><td>60</td><td>90</td><td>365</td><td>0</td><td>null</td></tr><tr><td>2330025</td><td>city scrape</td><td>wonderful view in Leblon</td><td>One-bedroom apartment, comfortable with a wonderful view to the sea. Fully equipped for four, possibly five, the best of Leblon. <br />Air conditioning in rooms, cable TV and wi fi. Close to Shopping and to sophisticated and trendy bars and restaurants. </td><td>8479954</td><td>Naira Beatriz</td><td>2013-08-27</td><td>null</td><td>9%</td><td>false</td><td>4</td><td>10</td><td>-22.98425</td><td>-43.21614</td><td>Entire rental unit</td><td>Entire home/apt</td><td>4</td><td>1 bath</td><td>1</td><td>[]</td><td>414.0</td><td>1</td><td>1125</td><td>30</td><td>60</td><td>88</td><td>363</td><td>0</td><td>null</td></tr><tr><td>2604279</td><td>city scrape</td><td>Alugo apto para copa / rent a flat</td><td>duplex living room, toilet, kitchen, 2 suites , sea view, 2 balconies, leisure area, swimming pool , sauna . restaurant, shopping mall next door. close to the best beaches of Rio de Janeiro surf and family  Prainha, direct bus to the maracanã . Housekeeper.</td><td>13338035</td><td>Cynthia</td><td>2014-03-20</td><td>null</td><td>N/A</td><td>false</td><td>1</td><td>2</td><td>-23.02245</td><td>-43.48829</td><td>Entire rental unit</td><td>Entire home/apt</td><td>6</td><td>3.5 baths</td><td>2</td><td>[]</td><td>800.0</td><td>7</td><td>30</td><td>30</td><td>60</td><td>90</td><td>365</td><td>0</td><td>null</td></tr><tr><td>2825740</td><td>city scrape</td><td>Apto para até 5 pessoas no Maracanã</td><td>Excellent 2 qts with complete facilities. Quiet building and very well located. Nearby metro, bus stop from all parts of RJ, vast commerce in the surroundings, restaurants, next to Maracanã. Furnished apartment.</td><td>13044752</td><td>Guilherme</td><td>2014-03-12</td><td>null</td><td>N/A</td><td>false</td><td>1</td><td>2</td><td>-22.91296</td><td>-43.20159</td><td>Entire rental unit</td><td>Entire home/apt</td><td>5</td><td>2 baths</td><td>2</td><td>[]</td><td>300.0</td><td>10</td><td>1125</td><td>30</td><td>60</td><td>90</td><td>365</td><td>0</td><td>null</td></tr><tr><td>2830938</td><td>city scrape</td><td>APT PARA A COPA DO MUNDO - RJ</td><td>APT with 2 rooms, 1 bathroom, 1 kitchen , nice place, beautiful view facing to forest, parking for a car, 40 min to Maracanã, next to the Barra´s beach <br /><br />Services - Amenities<br /><br />delivery for all  ( super market - taxi - drugstore - food - loundry )</td><td>2454477</td><td>Joselia</td><td>2012-05-24</td><td>Amigavel, mistress!</td><td>N/A</td><td>false</td><td>1</td><td>2</td><td>-22.97695</td><td>-43.32794</td><td>Entire rental unit</td><td>Entire home/apt</td><td>4</td><td>1 bath</td><td>2</td><td>[]</td><td>829.0</td><td>7</td><td>90</td><td>30</td><td>60</td><td>90</td><td>365</td><td>0</td><td>null</td></tr><tr><td>3027794</td><td>city scrape</td><td>Apartamento charmoso no Maracanã</td><td>Its a big, cozy appartment, quiet and safe neighborhood. Also some restaurants around. <br />Its really close to the metro and to maracanã stadium, about 10min walking. <br />Tips and advices of how to be carioca (brazilians own way) are our courtesy for you</td><td>14242270</td><td>Gus</td><td>2014-04-13</td><td>Love to travel, cook and meet people from different countries. Graduated in law and sport addicted.</td><td>N/A</td><td>false</td><td>1</td><td>2</td><td>-22.90943</td><td>-43.2427</td><td>Entire condo</td><td>Entire home/apt</td><td>8</td><td>2 baths</td><td>4</td><td>[]</td><td>354.0</td><td>10</td><td>180</td><td>29</td><td>59</td><td>89</td><td>364</td><td>0</td><td>null</td></tr><tr><td>6226336</td><td>city scrape</td><td>Quarto em Copacabana pra Morar!</td><td>null</td><td>10364397</td><td>Auciomar</td><td>2013-12-01</td><td>null</td><td>N/A</td><td>false</td><td>1</td><td>1</td><td>-22.90787</td><td>-43.17318</td><td>Private room in home</td><td>Private room</td><td>1</td><td>1 bath</td><td>1</td><td>\"[\"\"Lock on bedroom door\"\"]\"</td><td>376.0</td><td>15</td><td>365</td><td>24</td><td>54</td><td>84</td><td>263</td><td>0</td><td>null</td></tr><tr><td>9332721</td><td>city scrape</td><td>condo joaquim 510</td><td>null</td><td>4307081</td><td>Nereu A</td><td>2012-12-02</td><td>30 anos de experiencia na area de turismo, idiomas ingles, espanhol e portugues</td><td>9%</td><td>true</td><td>56</td><td>86</td><td>-22.9876</td><td>-43.19556</td><td>Entire rental unit</td><td>Entire home/apt</td><td>6</td><td>1 bath</td><td>1</td><td>[]</td><td>939.0</td><td>1</td><td>1125</td><td>30</td><td>60</td><td>90</td><td>365</td><td>6</td><td>4.83</td></tr><tr><td>10097705</td><td>city scrape</td><td>condo antopar</td><td>cool...wifi, cable, 2 double beds<br />near metro station<br />low season rate</td><td>4307081</td><td>Nereu A</td><td>2012-12-02</td><td>30 anos de experiencia na area de turismo, idiomas ingles, espanhol e portugues</td><td>9%</td><td>true</td><td>56</td><td>86</td><td>-22.98444</td><td>-43.19493</td><td>Entire rental unit</td><td>Entire home/apt</td><td>4</td><td>1 bath</td><td>2</td><td>[]</td><td>718.0</td><td>1</td><td>1125</td><td>30</td><td>60</td><td>90</td><td>365</td><td>3</td><td>4.33</td></tr><tr><td>11478823</td><td>city scrape</td><td>Casa aconchegante para olimpíadas</td><td>House with 2 bedrooms, 2 bathrooms, kitchen and service area and 2 balconies, close to Av Brazil and Olympic park of Deodoro, with the possibility of renting a car, structure to accommodate up to 8 people.  10 minutes from Deodoro and 30 minutes from Barra</td><td>60407393</td><td>Thiago</td><td>2016-02-25</td><td>null</td><td>N/A</td><td>false</td><td>1</td><td>1</td><td>-22.87152</td><td>-43.51926</td><td>Entire home</td><td>Entire home/apt</td><td>6</td><td>2 baths</td><td>2</td><td>[]</td><td>600.0</td><td>1</td><td>1125</td><td>30</td><td>60</td><td>90</td><td>365</td><td>0</td><td>null</td></tr></tbody></table></div>"
      ]
     },
     "metadata": {
      "application/vnd.databricks.v1+output": {
       "addedWidgets": {},
       "aggData": [],
       "aggError": "",
       "aggOverflow": false,
       "aggSchema": [],
       "aggSeriesLimitReached": false,
       "aggType": "",
       "arguments": {},
       "columnCustomDisplayInfos": {},
       "data": [
        [
         130234,
         "city scrape",
         "excellent studio apartment",
         "My space is good for couples, individual adventures, business travelers and families (with kids).",
         "641519",
         "Osvaldo",
         "2011-05-30",
         "ESTE APARTAMENTO NÃO ESTÁ MAS DISPONÍVEL PARA LOCAÇÃO DESDE A PANDEMIA. NÃO ACEITO RESERVAS.",
         "100%",
         false,
         1,
         1,
         "-22.97575",
         "-43.18877",
         "Entire rental unit",
         "Entire home/apt",
         "1",
         "0 baths",
         "0",
         "\"[\"\"Host greets you\"\"]\"",
         180.0,
         "3",
         "720",
         "0",
         "0",
         "0",
         "0",
         "1",
         "5.0"
        ],
        [
         589234,
         "city scrape",
         "ipanema 22 with queen bed internet",
         null,
         "4307081",
         "Nereu A",
         "2012-12-02",
         "30 anos de experiencia na area de turismo, idiomas ingles, espanhol e portugues",
         "9%",
         true,
         56,
         86,
         "-22.98322",
         "-43.20498",
         "Private room in rental unit",
         "Private room",
         "1",
         "1 bath",
         "1",
         "[]",
         552.0,
         "1",
         "1125",
         "30",
         "60",
         "90",
         "365",
         "2",
         "5.0"
        ],
        [
         669012,
         "city scrape",
         "COPA 53 close to the beach, studio",
         null,
         "4307081",
         "Nereu A",
         "2012-12-02",
         "30 anos de experiencia na area de turismo, idiomas ingles, espanhol e portugues",
         "9%",
         true,
         56,
         86,
         "-22.97436",
         "-43.18951",
         "Entire rental unit",
         "Entire home/apt",
         "2",
         "1 bath",
         "1",
         "[]",
         442.0,
         "3",
         "1125",
         "30",
         "60",
         "90",
         "365",
         "0",
         null
        ],
        [
         676983,
         "city scrape",
         "Penthouse ipanema",
         null,
         "4307081",
         "Nereu A",
         "2012-12-02",
         "30 anos de experiencia na area de turismo, idiomas ingles, espanhol e portugues",
         "9%",
         true,
         56,
         86,
         "-22.98399",
         "-43.20804",
         "Entire rental unit",
         "Entire home/apt",
         "3",
         null,
         "1",
         "[]",
         387.0,
         "1",
         "1125",
         "30",
         "60",
         "86",
         "354",
         "12",
         "4.75"
        ],
        [
         896752,
         "city scrape",
         "bulhoes 204 near ipanema, metro",
         null,
         "4307081",
         "Nereu A",
         "2012-12-02",
         "30 anos de experiencia na area de turismo, idiomas ingles, espanhol e portugues",
         "9%",
         true,
         56,
         86,
         "-22.9836",
         "-43.1923",
         "Entire rental unit",
         "Entire home/apt",
         "2",
         "1 bath",
         "1",
         "\"[\"\"TV with standard cable\"\"]\"",
         773.0,
         "5",
         "1125",
         "30",
         "60",
         "90",
         "365",
         "0",
         null
        ],
        [
         1012156,
         "city scrape",
         "suite santa clara",
         null,
         "4307081",
         "Nereu A",
         "2012-12-02",
         "30 anos de experiencia na area de turismo, idiomas ingles, espanhol e portugues",
         "9%",
         true,
         56,
         86,
         "-22.96969",
         "-43.18847",
         "Private room in hostel",
         "Private room",
         "2",
         null,
         "1",
         "[]",
         442.0,
         "1",
         "1125",
         "30",
         "60",
         "90",
         "365",
         "0",
         null
        ],
        [
         2330025,
         "city scrape",
         "wonderful view in Leblon",
         "One-bedroom apartment, comfortable with a wonderful view to the sea. Fully equipped for four, possibly five, the best of Leblon. <br />Air conditioning in rooms, cable TV and wi fi. Close to Shopping and to sophisticated and trendy bars and restaurants. ",
         "8479954",
         "Naira Beatriz",
         "2013-08-27",
         null,
         "9%",
         false,
         4,
         10,
         "-22.98425",
         "-43.21614",
         "Entire rental unit",
         "Entire home/apt",
         "4",
         "1 bath",
         "1",
         "[]",
         414.0,
         "1",
         "1125",
         "30",
         "60",
         "88",
         "363",
         "0",
         null
        ],
        [
         2604279,
         "city scrape",
         "Alugo apto para copa / rent a flat",
         "duplex living room, toilet, kitchen, 2 suites , sea view, 2 balconies, leisure area, swimming pool , sauna . restaurant, shopping mall next door. close to the best beaches of Rio de Janeiro surf and family  Prainha, direct bus to the maracanã . Housekeeper.",
         "13338035",
         "Cynthia",
         "2014-03-20",
         null,
         "N/A",
         false,
         1,
         2,
         "-23.02245",
         "-43.48829",
         "Entire rental unit",
         "Entire home/apt",
         "6",
         "3.5 baths",
         "2",
         "[]",
         800.0,
         "7",
         "30",
         "30",
         "60",
         "90",
         "365",
         "0",
         null
        ],
        [
         2825740,
         "city scrape",
         "Apto para até 5 pessoas no Maracanã",
         "Excellent 2 qts with complete facilities. Quiet building and very well located. Nearby metro, bus stop from all parts of RJ, vast commerce in the surroundings, restaurants, next to Maracanã. Furnished apartment.",
         "13044752",
         "Guilherme",
         "2014-03-12",
         null,
         "N/A",
         false,
         1,
         2,
         "-22.91296",
         "-43.20159",
         "Entire rental unit",
         "Entire home/apt",
         "5",
         "2 baths",
         "2",
         "[]",
         300.0,
         "10",
         "1125",
         "30",
         "60",
         "90",
         "365",
         "0",
         null
        ],
        [
         2830938,
         "city scrape",
         "APT PARA A COPA DO MUNDO - RJ",
         "APT with 2 rooms, 1 bathroom, 1 kitchen , nice place, beautiful view facing to forest, parking for a car, 40 min to Maracanã, next to the Barra´s beach <br /><br />Services - Amenities<br /><br />delivery for all  ( super market - taxi - drugstore - food - loundry )",
         "2454477",
         "Joselia",
         "2012-05-24",
         "Amigavel, mistress!",
         "N/A",
         false,
         1,
         2,
         "-22.97695",
         "-43.32794",
         "Entire rental unit",
         "Entire home/apt",
         "4",
         "1 bath",
         "2",
         "[]",
         829.0,
         "7",
         "90",
         "30",
         "60",
         "90",
         "365",
         "0",
         null
        ],
        [
         3027794,
         "city scrape",
         "Apartamento charmoso no Maracanã",
         "Its a big, cozy appartment, quiet and safe neighborhood. Also some restaurants around. <br />Its really close to the metro and to maracanã stadium, about 10min walking. <br />Tips and advices of how to be carioca (brazilians own way) are our courtesy for you",
         "14242270",
         "Gus",
         "2014-04-13",
         "Love to travel, cook and meet people from different countries. Graduated in law and sport addicted.",
         "N/A",
         false,
         1,
         2,
         "-22.90943",
         "-43.2427",
         "Entire condo",
         "Entire home/apt",
         "8",
         "2 baths",
         "4",
         "[]",
         354.0,
         "10",
         "180",
         "29",
         "59",
         "89",
         "364",
         "0",
         null
        ],
        [
         6226336,
         "city scrape",
         "Quarto em Copacabana pra Morar!",
         null,
         "10364397",
         "Auciomar",
         "2013-12-01",
         null,
         "N/A",
         false,
         1,
         1,
         "-22.90787",
         "-43.17318",
         "Private room in home",
         "Private room",
         "1",
         "1 bath",
         "1",
         "\"[\"\"Lock on bedroom door\"\"]\"",
         376.0,
         "15",
         "365",
         "24",
         "54",
         "84",
         "263",
         "0",
         null
        ],
        [
         9332721,
         "city scrape",
         "condo joaquim 510",
         null,
         "4307081",
         "Nereu A",
         "2012-12-02",
         "30 anos de experiencia na area de turismo, idiomas ingles, espanhol e portugues",
         "9%",
         true,
         56,
         86,
         "-22.9876",
         "-43.19556",
         "Entire rental unit",
         "Entire home/apt",
         "6",
         "1 bath",
         "1",
         "[]",
         939.0,
         "1",
         "1125",
         "30",
         "60",
         "90",
         "365",
         "6",
         "4.83"
        ],
        [
         10097705,
         "city scrape",
         "condo antopar",
         "cool...wifi, cable, 2 double beds<br />near metro station<br />low season rate",
         "4307081",
         "Nereu A",
         "2012-12-02",
         "30 anos de experiencia na area de turismo, idiomas ingles, espanhol e portugues",
         "9%",
         true,
         56,
         86,
         "-22.98444",
         "-43.19493",
         "Entire rental unit",
         "Entire home/apt",
         "4",
         "1 bath",
         "2",
         "[]",
         718.0,
         "1",
         "1125",
         "30",
         "60",
         "90",
         "365",
         "3",
         "4.33"
        ],
        [
         11478823,
         "city scrape",
         "Casa aconchegante para olimpíadas",
         "House with 2 bedrooms, 2 bathrooms, kitchen and service area and 2 balconies, close to Av Brazil and Olympic park of Deodoro, with the possibility of renting a car, structure to accommodate up to 8 people.  10 minutes from Deodoro and 30 minutes from Barra",
         "60407393",
         "Thiago",
         "2016-02-25",
         null,
         "N/A",
         false,
         1,
         1,
         "-22.87152",
         "-43.51926",
         "Entire home",
         "Entire home/apt",
         "6",
         "2 baths",
         "2",
         "[]",
         600.0,
         "1",
         "1125",
         "30",
         "60",
         "90",
         "365",
         "0",
         null
        ]
       ],
       "datasetInfos": [],
       "dbfsResultPath": null,
       "isJsonSchema": true,
       "metadata": {},
       "overflow": false,
       "plotOptions": {
        "customPlotOptions": {},
        "displayType": "table",
        "pivotAggregation": null,
        "pivotColumns": null,
        "xColumns": null,
        "yColumns": null
       },
       "removedWidgets": [],
       "schema": [
        {
         "metadata": "{}",
         "name": "id",
         "type": "\"long\""
        },
        {
         "metadata": "{}",
         "name": "source",
         "type": "\"string\""
        },
        {
         "metadata": "{}",
         "name": "name",
         "type": "\"string\""
        },
        {
         "metadata": "{}",
         "name": "description",
         "type": "\"string\""
        },
        {
         "metadata": "{}",
         "name": "host_id",
         "type": "\"string\""
        },
        {
         "metadata": "{}",
         "name": "host_name",
         "type": "\"string\""
        },
        {
         "metadata": "{}",
         "name": "host_since",
         "type": "\"date\""
        },
        {
         "metadata": "{}",
         "name": "host_about",
         "type": "\"string\""
        },
        {
         "metadata": "{}",
         "name": "host_acceptance_rate",
         "type": "\"string\""
        },
        {
         "metadata": "{}",
         "name": "host_is_superhost",
         "type": "\"boolean\""
        },
        {
         "metadata": "{}",
         "name": "host_listings_count",
         "type": "\"integer\""
        },
        {
         "metadata": "{}",
         "name": "host_total_listings_count",
         "type": "\"integer\""
        },
        {
         "metadata": "{}",
         "name": "latitude",
         "type": "\"string\""
        },
        {
         "metadata": "{}",
         "name": "longitude",
         "type": "\"string\""
        },
        {
         "metadata": "{}",
         "name": "property_type",
         "type": "\"string\""
        },
        {
         "metadata": "{}",
         "name": "room_type",
         "type": "\"string\""
        },
        {
         "metadata": "{}",
         "name": "accommodates",
         "type": "\"string\""
        },
        {
         "metadata": "{}",
         "name": "bathrooms_text",
         "type": "\"string\""
        },
        {
         "metadata": "{}",
         "name": "bedrooms",
         "type": "\"string\""
        },
        {
         "metadata": "{}",
         "name": "amenities",
         "type": "\"string\""
        },
        {
         "metadata": "{}",
         "name": "price",
         "type": "\"float\""
        },
        {
         "metadata": "{}",
         "name": "minimum_nights",
         "type": "\"string\""
        },
        {
         "metadata": "{}",
         "name": "maximum_nights",
         "type": "\"string\""
        },
        {
         "metadata": "{}",
         "name": "availability_30",
         "type": "\"string\""
        },
        {
         "metadata": "{}",
         "name": "availability_60",
         "type": "\"string\""
        },
        {
         "metadata": "{}",
         "name": "availability_90",
         "type": "\"string\""
        },
        {
         "metadata": "{}",
         "name": "availability_365",
         "type": "\"string\""
        },
        {
         "metadata": "{}",
         "name": "number_of_reviews",
         "type": "\"string\""
        },
        {
         "metadata": "{}",
         "name": "review_scores_rating",
         "type": "\"string\""
        }
       ],
       "type": "table"
      }
     },
     "output_type": "display_data"
    }
   ],
   "source": [
    "df_listings_silver.limit(15).display()"
   ]
  },
  {
   "cell_type": "code",
   "execution_count": 0,
   "metadata": {
    "application/vnd.databricks.v1+cell": {
     "cellMetadata": {
      "byteLimit": 2048000,
      "rowLimit": 10000
     },
     "inputWidgets": {},
     "nuid": "02f57bc5-166a-4df2-9c05-e066eabbf998",
     "showTitle": false,
     "tableResultSettingsMap": {},
     "title": ""
    }
   },
   "outputs": [
    {
     "output_type": "display_data",
     "data": {
      "text/html": [
       "<style scoped>\n",
       "  .table-result-container {\n",
       "    max-height: 300px;\n",
       "    overflow: auto;\n",
       "  }\n",
       "  table, th, td {\n",
       "    border: 1px solid black;\n",
       "    border-collapse: collapse;\n",
       "  }\n",
       "  th, td {\n",
       "    padding: 5px;\n",
       "  }\n",
       "  th {\n",
       "    text-align: left;\n",
       "  }\n",
       "</style><div class='table-result-container'><table class='table-result'><thead style='background-color: white'><tr><th>id</th><th>source</th><th>name</th><th>description</th><th>host_id</th><th>host_name</th><th>host_since</th><th>host_about</th><th>host_acceptance_rate</th><th>host_is_superhost</th><th>host_listings_count</th><th>host_total_listings_count</th><th>latitude</th><th>longitude</th><th>property_type</th><th>room_type</th><th>accommodates</th><th>bathrooms_text</th><th>bedrooms</th><th>amenities</th><th>price</th><th>minimum_nights</th><th>maximum_nights</th><th>availability_30</th><th>availability_60</th><th>availability_90</th><th>availability_365</th><th>number_of_reviews</th><th>review_scores_rating</th></tr></thead><tbody><tr><td>0</td><td>0</td><td>0</td><td>24</td><td>0</td><td>0</td><td>0</td><td>89</td><td>0</td><td>0</td><td>0</td><td>0</td><td>0</td><td>0</td><td>0</td><td>0</td><td>0</td><td>2</td><td>2</td><td>0</td><td>0</td><td>0</td><td>0</td><td>0</td><td>0</td><td>0</td><td>0</td><td>0</td><td>63</td></tr></tbody></table></div>"
      ]
     },
     "metadata": {
      "application/vnd.databricks.v1+output": {
       "addedWidgets": {},
       "aggData": [],
       "aggError": "",
       "aggOverflow": false,
       "aggSchema": [],
       "aggSeriesLimitReached": false,
       "aggType": "",
       "arguments": {},
       "columnCustomDisplayInfos": {},
       "data": [
        [
         0,
         0,
         0,
         24,
         0,
         0,
         0,
         89,
         0,
         0,
         0,
         0,
         0,
         0,
         0,
         0,
         0,
         2,
         2,
         0,
         0,
         0,
         0,
         0,
         0,
         0,
         0,
         0,
         63
        ]
       ],
       "datasetInfos": [],
       "dbfsResultPath": null,
       "isJsonSchema": true,
       "metadata": {},
       "overflow": false,
       "plotOptions": {
        "customPlotOptions": {},
        "displayType": "table",
        "pivotAggregation": null,
        "pivotColumns": null,
        "xColumns": null,
        "yColumns": null
       },
       "removedWidgets": [],
       "schema": [
        {
         "metadata": "{}",
         "name": "id",
         "type": "\"long\""
        },
        {
         "metadata": "{}",
         "name": "source",
         "type": "\"long\""
        },
        {
         "metadata": "{}",
         "name": "name",
         "type": "\"long\""
        },
        {
         "metadata": "{}",
         "name": "description",
         "type": "\"long\""
        },
        {
         "metadata": "{}",
         "name": "host_id",
         "type": "\"long\""
        },
        {
         "metadata": "{}",
         "name": "host_name",
         "type": "\"long\""
        },
        {
         "metadata": "{}",
         "name": "host_since",
         "type": "\"long\""
        },
        {
         "metadata": "{}",
         "name": "host_about",
         "type": "\"long\""
        },
        {
         "metadata": "{}",
         "name": "host_acceptance_rate",
         "type": "\"long\""
        },
        {
         "metadata": "{}",
         "name": "host_is_superhost",
         "type": "\"long\""
        },
        {
         "metadata": "{}",
         "name": "host_listings_count",
         "type": "\"long\""
        },
        {
         "metadata": "{}",
         "name": "host_total_listings_count",
         "type": "\"long\""
        },
        {
         "metadata": "{}",
         "name": "latitude",
         "type": "\"long\""
        },
        {
         "metadata": "{}",
         "name": "longitude",
         "type": "\"long\""
        },
        {
         "metadata": "{}",
         "name": "property_type",
         "type": "\"long\""
        },
        {
         "metadata": "{}",
         "name": "room_type",
         "type": "\"long\""
        },
        {
         "metadata": "{}",
         "name": "accommodates",
         "type": "\"long\""
        },
        {
         "metadata": "{}",
         "name": "bathrooms_text",
         "type": "\"long\""
        },
        {
         "metadata": "{}",
         "name": "bedrooms",
         "type": "\"long\""
        },
        {
         "metadata": "{}",
         "name": "amenities",
         "type": "\"long\""
        },
        {
         "metadata": "{}",
         "name": "price",
         "type": "\"long\""
        },
        {
         "metadata": "{}",
         "name": "minimum_nights",
         "type": "\"long\""
        },
        {
         "metadata": "{}",
         "name": "maximum_nights",
         "type": "\"long\""
        },
        {
         "metadata": "{}",
         "name": "availability_30",
         "type": "\"long\""
        },
        {
         "metadata": "{}",
         "name": "availability_60",
         "type": "\"long\""
        },
        {
         "metadata": "{}",
         "name": "availability_90",
         "type": "\"long\""
        },
        {
         "metadata": "{}",
         "name": "availability_365",
         "type": "\"long\""
        },
        {
         "metadata": "{}",
         "name": "number_of_reviews",
         "type": "\"long\""
        },
        {
         "metadata": "{}",
         "name": "review_scores_rating",
         "type": "\"long\""
        }
       ],
       "type": "table"
      }
     },
     "output_type": "display_data"
    }
   ],
   "source": [
    "# Contar valores NULL em cada coluna\n",
    "null_counts = df_listings_silver.select([\n",
    "    sum(col(column).isNull().cast(\"int\")).alias(column) for column in df_listings_silver.columns\n",
    "])\n",
    "\n",
    "# Exibir o número de valores NULL em cada coluna\n",
    "display(null_counts)"
   ]
  },
  {
   "cell_type": "code",
   "execution_count": 0,
   "metadata": {
    "application/vnd.databricks.v1+cell": {
     "cellMetadata": {
      "byteLimit": 2048000,
      "rowLimit": 10000
     },
     "inputWidgets": {},
     "nuid": "e762d318-63db-4e9d-8846-2b526880a875",
     "showTitle": false,
     "tableResultSettingsMap": {},
     "title": ""
    }
   },
   "outputs": [
    {
     "output_type": "stream",
     "name": "stdout",
     "output_type": "stream",
     "text": [
      "root\n |-- id: long (nullable = true)\n |-- source: string (nullable = true)\n |-- name: string (nullable = true)\n |-- description: string (nullable = true)\n |-- host_id: string (nullable = true)\n |-- host_name: string (nullable = true)\n |-- host_since: date (nullable = true)\n |-- host_about: string (nullable = true)\n |-- host_acceptance_rate: string (nullable = true)\n |-- host_is_superhost: boolean (nullable = false)\n |-- host_listings_count: integer (nullable = true)\n |-- host_total_listings_count: integer (nullable = true)\n |-- latitude: string (nullable = true)\n |-- longitude: string (nullable = true)\n |-- property_type: string (nullable = true)\n |-- room_type: string (nullable = true)\n |-- accommodates: string (nullable = true)\n |-- bathrooms_text: string (nullable = true)\n |-- bedrooms: string (nullable = true)\n |-- amenities: string (nullable = true)\n |-- price: float (nullable = true)\n |-- minimum_nights: string (nullable = true)\n |-- maximum_nights: string (nullable = true)\n |-- availability_30: string (nullable = true)\n |-- availability_60: string (nullable = true)\n |-- availability_90: string (nullable = true)\n |-- availability_365: string (nullable = true)\n |-- number_of_reviews: string (nullable = true)\n |-- review_scores_rating: string (nullable = true)\n\n"
     ]
    }
   ],
   "source": [
    "df_listings_silver.printSchema()"
   ]
  },
  {
   "cell_type": "code",
   "execution_count": 0,
   "metadata": {
    "application/vnd.databricks.v1+cell": {
     "cellMetadata": {
      "byteLimit": 2048000,
      "rowLimit": 10000
     },
     "inputWidgets": {},
     "nuid": "722d6d16-ce6a-4ca5-98f4-08930f97463f",
     "showTitle": false,
     "tableResultSettingsMap": {},
     "title": ""
    }
   },
   "outputs": [],
   "source": [
    "# Converter latitude e longitude para DoubleType\n",
    "df_listings_silver = df_listings_silver.withColumn(\"latitude\", col(\"latitude\").cast(DoubleType()))\n",
    "df_listings_silver = df_listings_silver.withColumn(\"longitude\", col(\"longitude\").cast(DoubleType()))"
   ]
  },
  {
   "cell_type": "code",
   "execution_count": 0,
   "metadata": {
    "application/vnd.databricks.v1+cell": {
     "cellMetadata": {
      "byteLimit": 2048000,
      "rowLimit": 10000
     },
     "inputWidgets": {},
     "nuid": "b3a133c7-e546-4305-9d24-1818ffb8358d",
     "showTitle": false,
     "tableResultSettingsMap": {},
     "title": ""
    }
   },
   "outputs": [
    {
     "output_type": "display_data",
     "data": {
      "text/html": [
       "<style scoped>\n",
       "  .table-result-container {\n",
       "    max-height: 300px;\n",
       "    overflow: auto;\n",
       "  }\n",
       "  table, th, td {\n",
       "    border: 1px solid black;\n",
       "    border-collapse: collapse;\n",
       "  }\n",
       "  th, td {\n",
       "    padding: 5px;\n",
       "  }\n",
       "  th {\n",
       "    text-align: left;\n",
       "  }\n",
       "</style><div class='table-result-container'><table class='table-result'><thead style='background-color: white'><tr><th>id</th><th>source</th><th>name</th><th>description</th><th>host_id</th><th>host_name</th><th>host_since</th><th>host_about</th><th>host_acceptance_rate</th><th>host_is_superhost</th><th>host_listings_count</th><th>host_total_listings_count</th><th>latitude</th><th>longitude</th><th>property_type</th><th>room_type</th><th>accommodates</th><th>bathrooms_text</th><th>bedrooms</th><th>amenities</th><th>price</th><th>minimum_nights</th><th>maximum_nights</th><th>availability_30</th><th>availability_60</th><th>availability_90</th><th>availability_365</th><th>number_of_reviews</th><th>review_scores_rating</th></tr></thead><tbody><tr><td>130234</td><td>city scrape</td><td>excellent studio apartment</td><td>My space is good for couples, individual adventures, business travelers and families (with kids).</td><td>641519</td><td>Osvaldo</td><td>2011-05-30</td><td>ESTE APARTAMENTO NÃO ESTÁ MAS DISPONÍVEL PARA LOCAÇÃO DESDE A PANDEMIA. NÃO ACEITO RESERVAS.</td><td>100%</td><td>false</td><td>1</td><td>1</td><td>-22.97575</td><td>-43.18877</td><td>Entire rental unit</td><td>Entire home/apt</td><td>1</td><td>0 baths</td><td>0</td><td>\"[\"\"Host greets you\"\"]\"</td><td>180.0</td><td>3</td><td>720</td><td>0</td><td>0</td><td>0</td><td>0</td><td>1</td><td>5.0</td></tr><tr><td>589234</td><td>city scrape</td><td>ipanema 22 with queen bed internet</td><td>null</td><td>4307081</td><td>Nereu A</td><td>2012-12-02</td><td>30 anos de experiencia na area de turismo, idiomas ingles, espanhol e portugues</td><td>9%</td><td>true</td><td>56</td><td>86</td><td>-22.98322</td><td>-43.20498</td><td>Private room in rental unit</td><td>Private room</td><td>1</td><td>1 bath</td><td>1</td><td>[]</td><td>552.0</td><td>1</td><td>1125</td><td>30</td><td>60</td><td>90</td><td>365</td><td>2</td><td>5.0</td></tr><tr><td>669012</td><td>city scrape</td><td>COPA 53 close to the beach, studio</td><td>null</td><td>4307081</td><td>Nereu A</td><td>2012-12-02</td><td>30 anos de experiencia na area de turismo, idiomas ingles, espanhol e portugues</td><td>9%</td><td>true</td><td>56</td><td>86</td><td>-22.97436</td><td>-43.18951</td><td>Entire rental unit</td><td>Entire home/apt</td><td>2</td><td>1 bath</td><td>1</td><td>[]</td><td>442.0</td><td>3</td><td>1125</td><td>30</td><td>60</td><td>90</td><td>365</td><td>0</td><td>null</td></tr><tr><td>676983</td><td>city scrape</td><td>Penthouse ipanema</td><td>null</td><td>4307081</td><td>Nereu A</td><td>2012-12-02</td><td>30 anos de experiencia na area de turismo, idiomas ingles, espanhol e portugues</td><td>9%</td><td>true</td><td>56</td><td>86</td><td>-22.98399</td><td>-43.20804</td><td>Entire rental unit</td><td>Entire home/apt</td><td>3</td><td>null</td><td>1</td><td>[]</td><td>387.0</td><td>1</td><td>1125</td><td>30</td><td>60</td><td>86</td><td>354</td><td>12</td><td>4.75</td></tr><tr><td>896752</td><td>city scrape</td><td>bulhoes 204 near ipanema, metro</td><td>null</td><td>4307081</td><td>Nereu A</td><td>2012-12-02</td><td>30 anos de experiencia na area de turismo, idiomas ingles, espanhol e portugues</td><td>9%</td><td>true</td><td>56</td><td>86</td><td>-22.9836</td><td>-43.1923</td><td>Entire rental unit</td><td>Entire home/apt</td><td>2</td><td>1 bath</td><td>1</td><td>\"[\"\"TV with standard cable\"\"]\"</td><td>773.0</td><td>5</td><td>1125</td><td>30</td><td>60</td><td>90</td><td>365</td><td>0</td><td>null</td></tr><tr><td>1012156</td><td>city scrape</td><td>suite santa clara</td><td>null</td><td>4307081</td><td>Nereu A</td><td>2012-12-02</td><td>30 anos de experiencia na area de turismo, idiomas ingles, espanhol e portugues</td><td>9%</td><td>true</td><td>56</td><td>86</td><td>-22.96969</td><td>-43.18847</td><td>Private room in hostel</td><td>Private room</td><td>2</td><td>null</td><td>1</td><td>[]</td><td>442.0</td><td>1</td><td>1125</td><td>30</td><td>60</td><td>90</td><td>365</td><td>0</td><td>null</td></tr><tr><td>2330025</td><td>city scrape</td><td>wonderful view in Leblon</td><td>One-bedroom apartment, comfortable with a wonderful view to the sea. Fully equipped for four, possibly five, the best of Leblon. <br />Air conditioning in rooms, cable TV and wi fi. Close to Shopping and to sophisticated and trendy bars and restaurants. </td><td>8479954</td><td>Naira Beatriz</td><td>2013-08-27</td><td>null</td><td>9%</td><td>false</td><td>4</td><td>10</td><td>-22.98425</td><td>-43.21614</td><td>Entire rental unit</td><td>Entire home/apt</td><td>4</td><td>1 bath</td><td>1</td><td>[]</td><td>414.0</td><td>1</td><td>1125</td><td>30</td><td>60</td><td>88</td><td>363</td><td>0</td><td>null</td></tr><tr><td>2604279</td><td>city scrape</td><td>Alugo apto para copa / rent a flat</td><td>duplex living room, toilet, kitchen, 2 suites , sea view, 2 balconies, leisure area, swimming pool , sauna . restaurant, shopping mall next door. close to the best beaches of Rio de Janeiro surf and family  Prainha, direct bus to the maracanã . Housekeeper.</td><td>13338035</td><td>Cynthia</td><td>2014-03-20</td><td>null</td><td>N/A</td><td>false</td><td>1</td><td>2</td><td>-23.02245</td><td>-43.48829</td><td>Entire rental unit</td><td>Entire home/apt</td><td>6</td><td>3.5 baths</td><td>2</td><td>[]</td><td>800.0</td><td>7</td><td>30</td><td>30</td><td>60</td><td>90</td><td>365</td><td>0</td><td>null</td></tr><tr><td>2825740</td><td>city scrape</td><td>Apto para até 5 pessoas no Maracanã</td><td>Excellent 2 qts with complete facilities. Quiet building and very well located. Nearby metro, bus stop from all parts of RJ, vast commerce in the surroundings, restaurants, next to Maracanã. Furnished apartment.</td><td>13044752</td><td>Guilherme</td><td>2014-03-12</td><td>null</td><td>N/A</td><td>false</td><td>1</td><td>2</td><td>-22.91296</td><td>-43.20159</td><td>Entire rental unit</td><td>Entire home/apt</td><td>5</td><td>2 baths</td><td>2</td><td>[]</td><td>300.0</td><td>10</td><td>1125</td><td>30</td><td>60</td><td>90</td><td>365</td><td>0</td><td>null</td></tr><tr><td>2830938</td><td>city scrape</td><td>APT PARA A COPA DO MUNDO - RJ</td><td>APT with 2 rooms, 1 bathroom, 1 kitchen , nice place, beautiful view facing to forest, parking for a car, 40 min to Maracanã, next to the Barra´s beach <br /><br />Services - Amenities<br /><br />delivery for all  ( super market - taxi - drugstore - food - loundry )</td><td>2454477</td><td>Joselia</td><td>2012-05-24</td><td>Amigavel, mistress!</td><td>N/A</td><td>false</td><td>1</td><td>2</td><td>-22.97695</td><td>-43.32794</td><td>Entire rental unit</td><td>Entire home/apt</td><td>4</td><td>1 bath</td><td>2</td><td>[]</td><td>829.0</td><td>7</td><td>90</td><td>30</td><td>60</td><td>90</td><td>365</td><td>0</td><td>null</td></tr><tr><td>3027794</td><td>city scrape</td><td>Apartamento charmoso no Maracanã</td><td>Its a big, cozy appartment, quiet and safe neighborhood. Also some restaurants around. <br />Its really close to the metro and to maracanã stadium, about 10min walking. <br />Tips and advices of how to be carioca (brazilians own way) are our courtesy for you</td><td>14242270</td><td>Gus</td><td>2014-04-13</td><td>Love to travel, cook and meet people from different countries. Graduated in law and sport addicted.</td><td>N/A</td><td>false</td><td>1</td><td>2</td><td>-22.90943</td><td>-43.2427</td><td>Entire condo</td><td>Entire home/apt</td><td>8</td><td>2 baths</td><td>4</td><td>[]</td><td>354.0</td><td>10</td><td>180</td><td>29</td><td>59</td><td>89</td><td>364</td><td>0</td><td>null</td></tr><tr><td>6226336</td><td>city scrape</td><td>Quarto em Copacabana pra Morar!</td><td>null</td><td>10364397</td><td>Auciomar</td><td>2013-12-01</td><td>null</td><td>N/A</td><td>false</td><td>1</td><td>1</td><td>-22.90787</td><td>-43.17318</td><td>Private room in home</td><td>Private room</td><td>1</td><td>1 bath</td><td>1</td><td>\"[\"\"Lock on bedroom door\"\"]\"</td><td>376.0</td><td>15</td><td>365</td><td>24</td><td>54</td><td>84</td><td>263</td><td>0</td><td>null</td></tr><tr><td>9332721</td><td>city scrape</td><td>condo joaquim 510</td><td>null</td><td>4307081</td><td>Nereu A</td><td>2012-12-02</td><td>30 anos de experiencia na area de turismo, idiomas ingles, espanhol e portugues</td><td>9%</td><td>true</td><td>56</td><td>86</td><td>-22.9876</td><td>-43.19556</td><td>Entire rental unit</td><td>Entire home/apt</td><td>6</td><td>1 bath</td><td>1</td><td>[]</td><td>939.0</td><td>1</td><td>1125</td><td>30</td><td>60</td><td>90</td><td>365</td><td>6</td><td>4.83</td></tr><tr><td>10097705</td><td>city scrape</td><td>condo antopar</td><td>cool...wifi, cable, 2 double beds<br />near metro station<br />low season rate</td><td>4307081</td><td>Nereu A</td><td>2012-12-02</td><td>30 anos de experiencia na area de turismo, idiomas ingles, espanhol e portugues</td><td>9%</td><td>true</td><td>56</td><td>86</td><td>-22.98444</td><td>-43.19493</td><td>Entire rental unit</td><td>Entire home/apt</td><td>4</td><td>1 bath</td><td>2</td><td>[]</td><td>718.0</td><td>1</td><td>1125</td><td>30</td><td>60</td><td>90</td><td>365</td><td>3</td><td>4.33</td></tr><tr><td>11478823</td><td>city scrape</td><td>Casa aconchegante para olimpíadas</td><td>House with 2 bedrooms, 2 bathrooms, kitchen and service area and 2 balconies, close to Av Brazil and Olympic park of Deodoro, with the possibility of renting a car, structure to accommodate up to 8 people.  10 minutes from Deodoro and 30 minutes from Barra</td><td>60407393</td><td>Thiago</td><td>2016-02-25</td><td>null</td><td>N/A</td><td>false</td><td>1</td><td>1</td><td>-22.87152</td><td>-43.51926</td><td>Entire home</td><td>Entire home/apt</td><td>6</td><td>2 baths</td><td>2</td><td>[]</td><td>600.0</td><td>1</td><td>1125</td><td>30</td><td>60</td><td>90</td><td>365</td><td>0</td><td>null</td></tr></tbody></table></div>"
      ]
     },
     "metadata": {
      "application/vnd.databricks.v1+output": {
       "addedWidgets": {},
       "aggData": [],
       "aggError": "",
       "aggOverflow": false,
       "aggSchema": [],
       "aggSeriesLimitReached": false,
       "aggType": "",
       "arguments": {},
       "columnCustomDisplayInfos": {},
       "data": [
        [
         130234,
         "city scrape",
         "excellent studio apartment",
         "My space is good for couples, individual adventures, business travelers and families (with kids).",
         "641519",
         "Osvaldo",
         "2011-05-30",
         "ESTE APARTAMENTO NÃO ESTÁ MAS DISPONÍVEL PARA LOCAÇÃO DESDE A PANDEMIA. NÃO ACEITO RESERVAS.",
         "100%",
         false,
         1,
         1,
         -22.97575,
         -43.18877,
         "Entire rental unit",
         "Entire home/apt",
         "1",
         "0 baths",
         "0",
         "\"[\"\"Host greets you\"\"]\"",
         180.0,
         "3",
         "720",
         "0",
         "0",
         "0",
         "0",
         "1",
         "5.0"
        ],
        [
         589234,
         "city scrape",
         "ipanema 22 with queen bed internet",
         null,
         "4307081",
         "Nereu A",
         "2012-12-02",
         "30 anos de experiencia na area de turismo, idiomas ingles, espanhol e portugues",
         "9%",
         true,
         56,
         86,
         -22.98322,
         -43.20498,
         "Private room in rental unit",
         "Private room",
         "1",
         "1 bath",
         "1",
         "[]",
         552.0,
         "1",
         "1125",
         "30",
         "60",
         "90",
         "365",
         "2",
         "5.0"
        ],
        [
         669012,
         "city scrape",
         "COPA 53 close to the beach, studio",
         null,
         "4307081",
         "Nereu A",
         "2012-12-02",
         "30 anos de experiencia na area de turismo, idiomas ingles, espanhol e portugues",
         "9%",
         true,
         56,
         86,
         -22.97436,
         -43.18951,
         "Entire rental unit",
         "Entire home/apt",
         "2",
         "1 bath",
         "1",
         "[]",
         442.0,
         "3",
         "1125",
         "30",
         "60",
         "90",
         "365",
         "0",
         null
        ],
        [
         676983,
         "city scrape",
         "Penthouse ipanema",
         null,
         "4307081",
         "Nereu A",
         "2012-12-02",
         "30 anos de experiencia na area de turismo, idiomas ingles, espanhol e portugues",
         "9%",
         true,
         56,
         86,
         -22.98399,
         -43.20804,
         "Entire rental unit",
         "Entire home/apt",
         "3",
         null,
         "1",
         "[]",
         387.0,
         "1",
         "1125",
         "30",
         "60",
         "86",
         "354",
         "12",
         "4.75"
        ],
        [
         896752,
         "city scrape",
         "bulhoes 204 near ipanema, metro",
         null,
         "4307081",
         "Nereu A",
         "2012-12-02",
         "30 anos de experiencia na area de turismo, idiomas ingles, espanhol e portugues",
         "9%",
         true,
         56,
         86,
         -22.9836,
         -43.1923,
         "Entire rental unit",
         "Entire home/apt",
         "2",
         "1 bath",
         "1",
         "\"[\"\"TV with standard cable\"\"]\"",
         773.0,
         "5",
         "1125",
         "30",
         "60",
         "90",
         "365",
         "0",
         null
        ],
        [
         1012156,
         "city scrape",
         "suite santa clara",
         null,
         "4307081",
         "Nereu A",
         "2012-12-02",
         "30 anos de experiencia na area de turismo, idiomas ingles, espanhol e portugues",
         "9%",
         true,
         56,
         86,
         -22.96969,
         -43.18847,
         "Private room in hostel",
         "Private room",
         "2",
         null,
         "1",
         "[]",
         442.0,
         "1",
         "1125",
         "30",
         "60",
         "90",
         "365",
         "0",
         null
        ],
        [
         2330025,
         "city scrape",
         "wonderful view in Leblon",
         "One-bedroom apartment, comfortable with a wonderful view to the sea. Fully equipped for four, possibly five, the best of Leblon. <br />Air conditioning in rooms, cable TV and wi fi. Close to Shopping and to sophisticated and trendy bars and restaurants. ",
         "8479954",
         "Naira Beatriz",
         "2013-08-27",
         null,
         "9%",
         false,
         4,
         10,
         -22.98425,
         -43.21614,
         "Entire rental unit",
         "Entire home/apt",
         "4",
         "1 bath",
         "1",
         "[]",
         414.0,
         "1",
         "1125",
         "30",
         "60",
         "88",
         "363",
         "0",
         null
        ],
        [
         2604279,
         "city scrape",
         "Alugo apto para copa / rent a flat",
         "duplex living room, toilet, kitchen, 2 suites , sea view, 2 balconies, leisure area, swimming pool , sauna . restaurant, shopping mall next door. close to the best beaches of Rio de Janeiro surf and family  Prainha, direct bus to the maracanã . Housekeeper.",
         "13338035",
         "Cynthia",
         "2014-03-20",
         null,
         "N/A",
         false,
         1,
         2,
         -23.02245,
         -43.48829,
         "Entire rental unit",
         "Entire home/apt",
         "6",
         "3.5 baths",
         "2",
         "[]",
         800.0,
         "7",
         "30",
         "30",
         "60",
         "90",
         "365",
         "0",
         null
        ],
        [
         2825740,
         "city scrape",
         "Apto para até 5 pessoas no Maracanã",
         "Excellent 2 qts with complete facilities. Quiet building and very well located. Nearby metro, bus stop from all parts of RJ, vast commerce in the surroundings, restaurants, next to Maracanã. Furnished apartment.",
         "13044752",
         "Guilherme",
         "2014-03-12",
         null,
         "N/A",
         false,
         1,
         2,
         -22.91296,
         -43.20159,
         "Entire rental unit",
         "Entire home/apt",
         "5",
         "2 baths",
         "2",
         "[]",
         300.0,
         "10",
         "1125",
         "30",
         "60",
         "90",
         "365",
         "0",
         null
        ],
        [
         2830938,
         "city scrape",
         "APT PARA A COPA DO MUNDO - RJ",
         "APT with 2 rooms, 1 bathroom, 1 kitchen , nice place, beautiful view facing to forest, parking for a car, 40 min to Maracanã, next to the Barra´s beach <br /><br />Services - Amenities<br /><br />delivery for all  ( super market - taxi - drugstore - food - loundry )",
         "2454477",
         "Joselia",
         "2012-05-24",
         "Amigavel, mistress!",
         "N/A",
         false,
         1,
         2,
         -22.97695,
         -43.32794,
         "Entire rental unit",
         "Entire home/apt",
         "4",
         "1 bath",
         "2",
         "[]",
         829.0,
         "7",
         "90",
         "30",
         "60",
         "90",
         "365",
         "0",
         null
        ],
        [
         3027794,
         "city scrape",
         "Apartamento charmoso no Maracanã",
         "Its a big, cozy appartment, quiet and safe neighborhood. Also some restaurants around. <br />Its really close to the metro and to maracanã stadium, about 10min walking. <br />Tips and advices of how to be carioca (brazilians own way) are our courtesy for you",
         "14242270",
         "Gus",
         "2014-04-13",
         "Love to travel, cook and meet people from different countries. Graduated in law and sport addicted.",
         "N/A",
         false,
         1,
         2,
         -22.90943,
         -43.2427,
         "Entire condo",
         "Entire home/apt",
         "8",
         "2 baths",
         "4",
         "[]",
         354.0,
         "10",
         "180",
         "29",
         "59",
         "89",
         "364",
         "0",
         null
        ],
        [
         6226336,
         "city scrape",
         "Quarto em Copacabana pra Morar!",
         null,
         "10364397",
         "Auciomar",
         "2013-12-01",
         null,
         "N/A",
         false,
         1,
         1,
         -22.90787,
         -43.17318,
         "Private room in home",
         "Private room",
         "1",
         "1 bath",
         "1",
         "\"[\"\"Lock on bedroom door\"\"]\"",
         376.0,
         "15",
         "365",
         "24",
         "54",
         "84",
         "263",
         "0",
         null
        ],
        [
         9332721,
         "city scrape",
         "condo joaquim 510",
         null,
         "4307081",
         "Nereu A",
         "2012-12-02",
         "30 anos de experiencia na area de turismo, idiomas ingles, espanhol e portugues",
         "9%",
         true,
         56,
         86,
         -22.9876,
         -43.19556,
         "Entire rental unit",
         "Entire home/apt",
         "6",
         "1 bath",
         "1",
         "[]",
         939.0,
         "1",
         "1125",
         "30",
         "60",
         "90",
         "365",
         "6",
         "4.83"
        ],
        [
         10097705,
         "city scrape",
         "condo antopar",
         "cool...wifi, cable, 2 double beds<br />near metro station<br />low season rate",
         "4307081",
         "Nereu A",
         "2012-12-02",
         "30 anos de experiencia na area de turismo, idiomas ingles, espanhol e portugues",
         "9%",
         true,
         56,
         86,
         -22.98444,
         -43.19493,
         "Entire rental unit",
         "Entire home/apt",
         "4",
         "1 bath",
         "2",
         "[]",
         718.0,
         "1",
         "1125",
         "30",
         "60",
         "90",
         "365",
         "3",
         "4.33"
        ],
        [
         11478823,
         "city scrape",
         "Casa aconchegante para olimpíadas",
         "House with 2 bedrooms, 2 bathrooms, kitchen and service area and 2 balconies, close to Av Brazil and Olympic park of Deodoro, with the possibility of renting a car, structure to accommodate up to 8 people.  10 minutes from Deodoro and 30 minutes from Barra",
         "60407393",
         "Thiago",
         "2016-02-25",
         null,
         "N/A",
         false,
         1,
         1,
         -22.87152,
         -43.51926,
         "Entire home",
         "Entire home/apt",
         "6",
         "2 baths",
         "2",
         "[]",
         600.0,
         "1",
         "1125",
         "30",
         "60",
         "90",
         "365",
         "0",
         null
        ]
       ],
       "datasetInfos": [],
       "dbfsResultPath": null,
       "isJsonSchema": true,
       "metadata": {},
       "overflow": false,
       "plotOptions": {
        "customPlotOptions": {},
        "displayType": "table",
        "pivotAggregation": null,
        "pivotColumns": null,
        "xColumns": null,
        "yColumns": null
       },
       "removedWidgets": [],
       "schema": [
        {
         "metadata": "{}",
         "name": "id",
         "type": "\"long\""
        },
        {
         "metadata": "{}",
         "name": "source",
         "type": "\"string\""
        },
        {
         "metadata": "{}",
         "name": "name",
         "type": "\"string\""
        },
        {
         "metadata": "{}",
         "name": "description",
         "type": "\"string\""
        },
        {
         "metadata": "{}",
         "name": "host_id",
         "type": "\"string\""
        },
        {
         "metadata": "{}",
         "name": "host_name",
         "type": "\"string\""
        },
        {
         "metadata": "{}",
         "name": "host_since",
         "type": "\"date\""
        },
        {
         "metadata": "{}",
         "name": "host_about",
         "type": "\"string\""
        },
        {
         "metadata": "{}",
         "name": "host_acceptance_rate",
         "type": "\"string\""
        },
        {
         "metadata": "{}",
         "name": "host_is_superhost",
         "type": "\"boolean\""
        },
        {
         "metadata": "{}",
         "name": "host_listings_count",
         "type": "\"integer\""
        },
        {
         "metadata": "{}",
         "name": "host_total_listings_count",
         "type": "\"integer\""
        },
        {
         "metadata": "{}",
         "name": "latitude",
         "type": "\"double\""
        },
        {
         "metadata": "{}",
         "name": "longitude",
         "type": "\"double\""
        },
        {
         "metadata": "{}",
         "name": "property_type",
         "type": "\"string\""
        },
        {
         "metadata": "{}",
         "name": "room_type",
         "type": "\"string\""
        },
        {
         "metadata": "{}",
         "name": "accommodates",
         "type": "\"string\""
        },
        {
         "metadata": "{}",
         "name": "bathrooms_text",
         "type": "\"string\""
        },
        {
         "metadata": "{}",
         "name": "bedrooms",
         "type": "\"string\""
        },
        {
         "metadata": "{}",
         "name": "amenities",
         "type": "\"string\""
        },
        {
         "metadata": "{}",
         "name": "price",
         "type": "\"float\""
        },
        {
         "metadata": "{}",
         "name": "minimum_nights",
         "type": "\"string\""
        },
        {
         "metadata": "{}",
         "name": "maximum_nights",
         "type": "\"string\""
        },
        {
         "metadata": "{}",
         "name": "availability_30",
         "type": "\"string\""
        },
        {
         "metadata": "{}",
         "name": "availability_60",
         "type": "\"string\""
        },
        {
         "metadata": "{}",
         "name": "availability_90",
         "type": "\"string\""
        },
        {
         "metadata": "{}",
         "name": "availability_365",
         "type": "\"string\""
        },
        {
         "metadata": "{}",
         "name": "number_of_reviews",
         "type": "\"string\""
        },
        {
         "metadata": "{}",
         "name": "review_scores_rating",
         "type": "\"string\""
        }
       ],
       "type": "table"
      }
     },
     "output_type": "display_data"
    }
   ],
   "source": [
    "df_listings_silver.limit(15).display()"
   ]
  },
  {
   "cell_type": "code",
   "execution_count": 0,
   "metadata": {
    "application/vnd.databricks.v1+cell": {
     "cellMetadata": {
      "byteLimit": 2048000,
      "rowLimit": 10000
     },
     "inputWidgets": {},
     "nuid": "32b5498f-5c5c-47f9-a463-fe097aabf560",
     "showTitle": false,
     "tableResultSettingsMap": {},
     "title": ""
    }
   },
   "outputs": [],
   "source": [
    "# Converter a coluna `accommodates` para o tipo IntegerType\n",
    "df_listings_silver = df_listings_silver.withColumn(\"accommodates\", col(\"accommodates\").cast(IntegerType()))\n",
    "\n",
    "# Converter a coluna `accommodates` para o tipo IntegerType\n",
    "df_listings_silver = df_listings_silver.withColumn(\"bedrooms\", col(\"bedrooms\").cast(IntegerType()))\n",
    "\n"
   ]
  },
  {
   "cell_type": "code",
   "execution_count": 0,
   "metadata": {
    "application/vnd.databricks.v1+cell": {
     "cellMetadata": {
      "byteLimit": 2048000,
      "rowLimit": 10000
     },
     "inputWidgets": {},
     "nuid": "68fc8109-4a09-4d3a-ae6d-ad42fc1e15da",
     "showTitle": false,
     "tableResultSettingsMap": {},
     "title": ""
    }
   },
   "outputs": [],
   "source": [
    "# Salvar os arquivos Delta na Camada Silver\n",
    "silver_path_reviews = \"/FileStore/tables/airbnb_rj/silver/reviews.delta\"\n",
    "silver_path_calendar = \"/FileStore/tables/airbnb_rj/silver/calendar.delta\"\n",
    "silver_path_listings = \"/FileStore/tables/airbnb_rj/silver/listings.delta\"\n",
    "\n",
    "# Salvar o DataFrame df_reviews_silver em formato Delta\n",
    "df_reviews_silver.write.format(\"delta\").mode(\"overwrite\").save(silver_path_reviews)\n",
    "\n",
    "# Salvar o DataFrame df_calendar_silver em formato Delta\n",
    "df_calendar_silver.write.format(\"delta\").mode(\"overwrite\").save(silver_path_calendar)\n",
    "\n",
    "# Salvar o DataFrame df_listings_silver em formato Delta\n",
    "df_listings_silver.write.format(\"delta\").mode(\"overwrite\").save(silver_path_listings)"
   ]
  }
 ],
 "metadata": {
  "application/vnd.databricks.v1+notebook": {
   "dashboards": [],
   "environmentMetadata": null,
   "language": "python",
   "notebookMetadata": {
    "pythonIndentUnit": 2
   },
   "notebookName": "Ingestao_Silver_Airbnb",
   "widgets": {}
  }
 },
 "nbformat": 4,
 "nbformat_minor": 0
}
